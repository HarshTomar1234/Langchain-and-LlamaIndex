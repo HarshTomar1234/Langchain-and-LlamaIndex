{
  "nbformat": 4,
  "nbformat_minor": 0,
  "metadata": {
    "colab": {
      "provenance": []
    },
    "kernelspec": {
      "name": "python3",
      "display_name": "Python 3"
    },
    "language_info": {
      "name": "python"
    }
  },
  "cells": [
    {
      "cell_type": "code",
      "execution_count": null,
      "metadata": {
        "id": "RRYSu48huSUW",
        "colab": {
          "base_uri": "https://localhost:8080/"
        },
        "outputId": "ebd8f6ef-50f7-4d4d-8cfa-a8b4f0d1417d"
      },
      "outputs": [
        {
          "output_type": "stream",
          "name": "stdout",
          "text": [
            "\u001b[2K     \u001b[90m━━━━━━━━━━━━━━━━━━━━━━━━━━━━━━━━━━━━━━━━\u001b[0m \u001b[32m974.6/974.6 kB\u001b[0m \u001b[31m5.1 MB/s\u001b[0m eta \u001b[36m0:00:00\u001b[0m\n",
            "\u001b[2K     \u001b[90m━━━━━━━━━━━━━━━━━━━━━━━━━━━━━━━━━━━━━━━━\u001b[0m \u001b[32m1.1/1.1 MB\u001b[0m \u001b[31m22.7 MB/s\u001b[0m eta \u001b[36m0:00:00\u001b[0m\n",
            "\u001b[2K     \u001b[90m━━━━━━━━━━━━━━━━━━━━━━━━━━━━━━━━━━━━━━━━\u001b[0m \u001b[32m315.6/315.6 kB\u001b[0m \u001b[31m18.6 MB/s\u001b[0m eta \u001b[36m0:00:00\u001b[0m\n",
            "\u001b[2K     \u001b[90m━━━━━━━━━━━━━━━━━━━━━━━━━━━━━━━━━━━━━━━━\u001b[0m \u001b[32m125.2/125.2 kB\u001b[0m \u001b[31m8.3 MB/s\u001b[0m eta \u001b[36m0:00:00\u001b[0m\n",
            "\u001b[2K     \u001b[90m━━━━━━━━━━━━━━━━━━━━━━━━━━━━━━━━━━━━━━━━\u001b[0m \u001b[32m2.7/2.7 MB\u001b[0m \u001b[31m40.2 MB/s\u001b[0m eta \u001b[36m0:00:00\u001b[0m\n",
            "\u001b[2K     \u001b[90m━━━━━━━━━━━━━━━━━━━━━━━━━━━━━━━━━━━━━━━━\u001b[0m \u001b[32m145.0/145.0 kB\u001b[0m \u001b[31m5.5 MB/s\u001b[0m eta \u001b[36m0:00:00\u001b[0m\n",
            "\u001b[?25h"
          ]
        }
      ],
      "source": [
        "!pip -q install langchain tiktoken duckduckgo-search"
      ]
    },
    {
      "cell_type": "code",
      "source": [
        "import os\n",
        "\n",
        "os.environ[\"OPENAI_API_KEY\"] = \"\""
      ],
      "metadata": {
        "id": "dNA4TsHpu6OM"
      },
      "execution_count": null,
      "outputs": []
    },
    {
      "cell_type": "code",
      "source": [
        "!pip show langchain"
      ],
      "metadata": {
        "id": "J-KFB7J_u_3L",
        "colab": {
          "base_uri": "https://localhost:8080/"
        },
        "outputId": "fa43e268-fa12-44a0-d0ca-f6b4358bdff6"
      },
      "execution_count": null,
      "outputs": [
        {
          "output_type": "stream",
          "name": "stdout",
          "text": [
            "Name: langchain\n",
            "Version: 0.2.5\n",
            "Summary: Building applications with LLMs through composability\n",
            "Home-page: https://github.com/langchain-ai/langchain\n",
            "Author: \n",
            "Author-email: \n",
            "License: MIT\n",
            "Location: /usr/local/lib/python3.10/dist-packages\n",
            "Requires: aiohttp, async-timeout, langchain-core, langchain-text-splitters, langsmith, numpy, pydantic, PyYAML, requests, SQLAlchemy, tenacity\n",
            "Required-by: \n"
          ]
        }
      ]
    },
    {
      "cell_type": "markdown",
      "source": [
        "## Custom Agents with Custom Search\n",
        "\n",
        "\n"
      ],
      "metadata": {
        "id": "HqwsGJDhvAQ5"
      }
    },
    {
      "cell_type": "code",
      "source": [
        "!pip install langchain_community"
      ],
      "metadata": {
        "colab": {
          "base_uri": "https://localhost:8080/"
        },
        "id": "Y6DMfF9olo23",
        "outputId": "ca7e824d-8850-4413-b883-bb06a04678b2"
      },
      "execution_count": null,
      "outputs": [
        {
          "output_type": "stream",
          "name": "stdout",
          "text": [
            "Collecting langchain_community\n",
            "  Downloading langchain_community-0.2.5-py3-none-any.whl (2.2 MB)\n",
            "\u001b[2K     \u001b[90m━━━━━━━━━━━━━━━━━━━━━━━━━━━━━━━━━━━━━━━━\u001b[0m \u001b[32m2.2/2.2 MB\u001b[0m \u001b[31m8.0 MB/s\u001b[0m eta \u001b[36m0:00:00\u001b[0m\n",
            "\u001b[?25hRequirement already satisfied: PyYAML>=5.3 in /usr/local/lib/python3.10/dist-packages (from langchain_community) (6.0.1)\n",
            "Requirement already satisfied: SQLAlchemy<3,>=1.4 in /usr/local/lib/python3.10/dist-packages (from langchain_community) (2.0.30)\n",
            "Requirement already satisfied: aiohttp<4.0.0,>=3.8.3 in /usr/local/lib/python3.10/dist-packages (from langchain_community) (3.9.5)\n",
            "Collecting dataclasses-json<0.7,>=0.5.7 (from langchain_community)\n",
            "  Downloading dataclasses_json-0.6.7-py3-none-any.whl (28 kB)\n",
            "Requirement already satisfied: langchain<0.3.0,>=0.2.5 in /usr/local/lib/python3.10/dist-packages (from langchain_community) (0.2.5)\n",
            "Requirement already satisfied: langchain-core<0.3.0,>=0.2.7 in /usr/local/lib/python3.10/dist-packages (from langchain_community) (0.2.7)\n",
            "Requirement already satisfied: langsmith<0.2.0,>=0.1.0 in /usr/local/lib/python3.10/dist-packages (from langchain_community) (0.1.77)\n",
            "Requirement already satisfied: numpy<2,>=1 in /usr/local/lib/python3.10/dist-packages (from langchain_community) (1.25.2)\n",
            "Requirement already satisfied: requests<3,>=2 in /usr/local/lib/python3.10/dist-packages (from langchain_community) (2.31.0)\n",
            "Requirement already satisfied: tenacity<9.0.0,>=8.1.0 in /usr/local/lib/python3.10/dist-packages (from langchain_community) (8.3.0)\n",
            "Requirement already satisfied: aiosignal>=1.1.2 in /usr/local/lib/python3.10/dist-packages (from aiohttp<4.0.0,>=3.8.3->langchain_community) (1.3.1)\n",
            "Requirement already satisfied: attrs>=17.3.0 in /usr/local/lib/python3.10/dist-packages (from aiohttp<4.0.0,>=3.8.3->langchain_community) (23.2.0)\n",
            "Requirement already satisfied: frozenlist>=1.1.1 in /usr/local/lib/python3.10/dist-packages (from aiohttp<4.0.0,>=3.8.3->langchain_community) (1.4.1)\n",
            "Requirement already satisfied: multidict<7.0,>=4.5 in /usr/local/lib/python3.10/dist-packages (from aiohttp<4.0.0,>=3.8.3->langchain_community) (6.0.5)\n",
            "Requirement already satisfied: yarl<2.0,>=1.0 in /usr/local/lib/python3.10/dist-packages (from aiohttp<4.0.0,>=3.8.3->langchain_community) (1.9.4)\n",
            "Requirement already satisfied: async-timeout<5.0,>=4.0 in /usr/local/lib/python3.10/dist-packages (from aiohttp<4.0.0,>=3.8.3->langchain_community) (4.0.3)\n",
            "Collecting marshmallow<4.0.0,>=3.18.0 (from dataclasses-json<0.7,>=0.5.7->langchain_community)\n",
            "  Downloading marshmallow-3.21.3-py3-none-any.whl (49 kB)\n",
            "\u001b[2K     \u001b[90m━━━━━━━━━━━━━━━━━━━━━━━━━━━━━━━━━━━━━━━━\u001b[0m \u001b[32m49.2/49.2 kB\u001b[0m \u001b[31m5.6 MB/s\u001b[0m eta \u001b[36m0:00:00\u001b[0m\n",
            "\u001b[?25hCollecting typing-inspect<1,>=0.4.0 (from dataclasses-json<0.7,>=0.5.7->langchain_community)\n",
            "  Downloading typing_inspect-0.9.0-py3-none-any.whl (8.8 kB)\n",
            "Requirement already satisfied: langchain-text-splitters<0.3.0,>=0.2.0 in /usr/local/lib/python3.10/dist-packages (from langchain<0.3.0,>=0.2.5->langchain_community) (0.2.1)\n",
            "Requirement already satisfied: pydantic<3,>=1 in /usr/local/lib/python3.10/dist-packages (from langchain<0.3.0,>=0.2.5->langchain_community) (2.7.3)\n",
            "Requirement already satisfied: jsonpatch<2.0,>=1.33 in /usr/local/lib/python3.10/dist-packages (from langchain-core<0.3.0,>=0.2.7->langchain_community) (1.33)\n",
            "Requirement already satisfied: packaging<25,>=23.2 in /usr/local/lib/python3.10/dist-packages (from langchain-core<0.3.0,>=0.2.7->langchain_community) (24.1)\n",
            "Requirement already satisfied: orjson<4.0.0,>=3.9.14 in /usr/local/lib/python3.10/dist-packages (from langsmith<0.2.0,>=0.1.0->langchain_community) (3.10.5)\n",
            "Requirement already satisfied: charset-normalizer<4,>=2 in /usr/local/lib/python3.10/dist-packages (from requests<3,>=2->langchain_community) (3.3.2)\n",
            "Requirement already satisfied: idna<4,>=2.5 in /usr/local/lib/python3.10/dist-packages (from requests<3,>=2->langchain_community) (3.7)\n",
            "Requirement already satisfied: urllib3<3,>=1.21.1 in /usr/local/lib/python3.10/dist-packages (from requests<3,>=2->langchain_community) (2.0.7)\n",
            "Requirement already satisfied: certifi>=2017.4.17 in /usr/local/lib/python3.10/dist-packages (from requests<3,>=2->langchain_community) (2024.6.2)\n",
            "Requirement already satisfied: typing-extensions>=4.6.0 in /usr/local/lib/python3.10/dist-packages (from SQLAlchemy<3,>=1.4->langchain_community) (4.12.2)\n",
            "Requirement already satisfied: greenlet!=0.4.17 in /usr/local/lib/python3.10/dist-packages (from SQLAlchemy<3,>=1.4->langchain_community) (3.0.3)\n",
            "Requirement already satisfied: jsonpointer>=1.9 in /usr/local/lib/python3.10/dist-packages (from jsonpatch<2.0,>=1.33->langchain-core<0.3.0,>=0.2.7->langchain_community) (3.0.0)\n",
            "Requirement already satisfied: annotated-types>=0.4.0 in /usr/local/lib/python3.10/dist-packages (from pydantic<3,>=1->langchain<0.3.0,>=0.2.5->langchain_community) (0.7.0)\n",
            "Requirement already satisfied: pydantic-core==2.18.4 in /usr/local/lib/python3.10/dist-packages (from pydantic<3,>=1->langchain<0.3.0,>=0.2.5->langchain_community) (2.18.4)\n",
            "Collecting mypy-extensions>=0.3.0 (from typing-inspect<1,>=0.4.0->dataclasses-json<0.7,>=0.5.7->langchain_community)\n",
            "  Downloading mypy_extensions-1.0.0-py3-none-any.whl (4.7 kB)\n",
            "Installing collected packages: mypy-extensions, marshmallow, typing-inspect, dataclasses-json, langchain_community\n",
            "Successfully installed dataclasses-json-0.6.7 langchain_community-0.2.5 marshmallow-3.21.3 mypy-extensions-1.0.0 typing-inspect-0.9.0\n"
          ]
        }
      ]
    },
    {
      "cell_type": "code",
      "source": [
        "from langchain.agents import Tool, AgentExecutor, LLMSingleActionAgent, AgentOutputParser\n",
        "from langchain.prompts import StringPromptTemplate\n",
        "\n",
        "from langchain import OpenAI, LLMChain\n",
        "from langchain.tools import DuckDuckGoSearchRun\n",
        "\n",
        "from typing import List, Union\n",
        "from langchain.schema import AgentAction, AgentFinish\n",
        "import re\n",
        "import langchain"
      ],
      "metadata": {
        "id": "nBKP5V4Aifx6"
      },
      "execution_count": null,
      "outputs": []
    },
    {
      "cell_type": "markdown",
      "source": [
        "# DuckDuckGoSearchRun\n",
        "\n",
        "`DuckDuckGoSearchRun` is a class in the Langchain library that allows you to run a search query on DuckDuckGo, a popular search engine, and retrieve the search results.\n",
        "\n",
        "Here's an overview of the `DuckDuckGoSearchRun` class:\n",
        "\n",
        "**Initialization**\n",
        "\n",
        "To use the `DuckDuckGoSearchRun` class, you need to initialize it with a search query. You can do this by creating an instance of the class and passing the search query as an argument.\n",
        "\n",
        "Example:\n",
        "```\n",
        "from langchain.search import DuckDuckGoSearchRun\n",
        "\n",
        "search_query = \"Langchain tutorial\"\n",
        "search_run = DuckDuckGoSearchRun(search_query)\n",
        "```\n",
        "**Running the Search**\n",
        "\n",
        "Once you have initialized the `DuckDuckGoSearchRun` instance, you can run the search by calling the `run` method. This method will send the search query to DuckDuckGo and retrieve the search results.\n",
        "\n",
        "Example:\n",
        "```\n",
        "search_results = search_run.run()\n",
        "```\n",
        "**Search Results**\n",
        "\n",
        "The `run` method returns a `SearchResults` object, which contains the search results. The `SearchResults` object has several attributes, including:\n",
        "\n",
        "* `results`: A list of search results, where each result is a dictionary containing the title, URL, and snippet of the result.\n",
        "* `total_results`: The total number of search results.\n",
        "* `search_query`: The original search query.\n",
        "\n",
        "Example:\n",
        "```\n",
        "print(search_results.results)  # Print the search results\n",
        "print(search_results.total_results)  # Print the total number of search results\n",
        "print(search_results.search_query)  # Print the original search query\n",
        "```\n",
        "**Configuration**\n",
        "\n",
        "You can configure the `DuckDuckGoSearchRun` instance by passing additional arguments to the constructor. For example, you can specify the number of results to retrieve, the language of the search results, and more.\n",
        "\n",
        "Example:\n",
        "```\n",
        "search_run = DuckDuckGoSearchRun(search_query, num_results=10, language=\"en\")\n",
        "```\n",
        "**Benefits**\n",
        "\n",
        "Using the `DuckDuckGoSearchRun` class provides several benefits, including:\n",
        "\n",
        "* **Easy search integration**: The class provides a simple way to integrate DuckDuckGo search into your application.\n",
        "* **Flexible configuration**: You can configure the search query, number of results, language, and more to suit your needs.\n",
        "* **Search result parsing**: The class parses the search results into a convenient format, making it easy to work with the results.\n",
        "\n",
        "Overall, the `DuckDuckGoSearchRun` class is a useful tool for anyone who needs to run search queries on DuckDuckGo and retrieve the search results."
      ],
      "metadata": {
        "id": "0r1niJ7kmMcL"
      }
    },
    {
      "cell_type": "markdown",
      "source": [
        "## Setup Tools"
      ],
      "metadata": {
        "id": "5TTimfydoIM7"
      }
    },
    {
      "cell_type": "code",
      "source": [
        "# Define which tools the agent can use to answer user queries\n",
        "search = DuckDuckGoSearchRun()\n",
        "\n",
        "tools = [\n",
        "    Tool(\n",
        "        name = \"Search\",\n",
        "        func=search.run,\n",
        "        description=\"useful for when you need to answer questions about current events\"\n",
        "    )\n",
        "]"
      ],
      "metadata": {
        "id": "TfGnKlPun_S_"
      },
      "execution_count": null,
      "outputs": []
    },
    {
      "cell_type": "code",
      "source": [
        "obj = search.run(\"How can I treat a sprained ankle?\")\n",
        "type(obj)"
      ],
      "metadata": {
        "colab": {
          "base_uri": "https://localhost:8080/"
        },
        "id": "kBSNwtsktM7u",
        "outputId": "e9374523-87e3-4c43-ff46-97c0937a9bb2"
      },
      "execution_count": null,
      "outputs": [
        {
          "output_type": "execute_result",
          "data": {
            "text/plain": [
              "str"
            ]
          },
          "metadata": {},
          "execution_count": 7
        }
      ]
    },
    {
      "cell_type": "code",
      "source": [
        "obj"
      ],
      "metadata": {
        "colab": {
          "base_uri": "https://localhost:8080/",
          "height": 123
        },
        "id": "Mftlhq6-td0n",
        "outputId": "52f733dc-e26d-484e-b08a-32f239991c33"
      },
      "execution_count": null,
      "outputs": [
        {
          "output_type": "execute_result",
          "data": {
            "text/plain": [
              "'Sprained ankle vs. broken ankle. While a sprained ankle involves torn or stretched ligaments, a broken ankle means that at least one of the bones in your ankle is broken. Symptoms of a sprain and ... Avoid any activity that causes pain in the ankle. Rest your ankle, and minimize walking for the rest of the day. Ice. Apply ice to the sore part of your ankle, typically for 15 minutes on and then 15 minutes off, as much as possible for the rest of the day. Continue with 15 minutes of icing three times a day until the pain and swelling subside. Without proper treatment and rehabilitation, a severely injured ankle may not heal well and could lose its range of motion and stability, resulting in recurrent sprains and more downtime in the future. Anatomy of an ankle sprain. The most common type of ankle sprain is an inversion injury, or lateral ankle sprain. Sprains can range from minor to severe. Your doctor likely will put your sprain at one of three \"grades\" based on the amount of damage: Grade 1: Your ankle will probably feel sore and may be ... Recovery time for a sprained foot depends on the injury\\'s severity and the damaged structures. General time frames are: Grade 1: One to three weeks. Grade 2: Three to six weeks. Grade 3: Several months. Foot ligament sprains that are severe enough to require surgery can take six months to a year to fully recover.'"
            ],
            "application/vnd.google.colaboratory.intrinsic+json": {
              "type": "string"
            }
          },
          "metadata": {},
          "execution_count": 8
        }
      ]
    },
    {
      "cell_type": "code",
      "source": [
        "search.run(\"site:webmd.com How can I treat a sprained ankle?\")"
      ],
      "metadata": {
        "colab": {
          "base_uri": "https://localhost:8080/",
          "height": 122
        },
        "id": "WlCcoLLMtp3P",
        "outputId": "15ae7b16-8296-4ddf-a4d8-b14900167101"
      },
      "execution_count": null,
      "outputs": [
        {
          "output_type": "execute_result",
          "data": {
            "text/plain": [
              "'Sprained ankle vs. broken ankle. While a sprained ankle involves torn or stretched ligaments, a broken ankle means that at least one of the bones in your ankle is broken. Symptoms of a sprain and ... Sprains can range from minor to severe. Your doctor likely will put your sprain at one of three \"grades\" based on the amount of damage: Grade 1: Your ankle will probably feel sore and may be ... The RICE method is a simple self-care technique that aims to reduce swelling, ease pain, and speed up healing. Rest, ice, compression, and elevation of a sprain or strain are part of the RICE ... The most common type of sprain is a sprained ankle. About 25,000 people sprain an ankle every day. ... Most people with mild sprains and strains can treat these injuries at home by following ... Achilles tendonitis. Achilles tendonitis is an overuse injury that causes inflammation of the tough band of tissue that attaches your calf muscles to your heel bone. To treat it: Rest your foot ...'"
            ],
            "application/vnd.google.colaboratory.intrinsic+json": {
              "type": "string"
            }
          },
          "metadata": {},
          "execution_count": 9
        }
      ]
    },
    {
      "cell_type": "code",
      "source": [
        "search.run(\"site:webmd.com How can I treat a Malaria?\")"
      ],
      "metadata": {
        "colab": {
          "base_uri": "https://localhost:8080/",
          "height": 122
        },
        "id": "OsKDJc2SmmAU",
        "outputId": "d39cd163-5bcd-4db2-ad9e-13be155bc1da"
      },
      "execution_count": null,
      "outputs": [
        {
          "output_type": "execute_result",
          "data": {
            "text/plain": [
              "'Malaria is a serious disease that causes high fever, chills, and flu-like symptoms that can be life-threatening if not treated quickly. You can get malaria when you visit different parts of the ... Several species of plasmodium can cause malaria in humans, including: Plasmodium falciparum (P. falciparum). This is the species that causes the most severe form of malaria. P. falciparum can ... Malaria is spread by anopheles mosquitoes and can be life-threatening. Symptoms, which usually start 10 to 15 days after a bite from an infected mosquito, include high fever, chills, nausea or ... Malaria symptoms are similar to those of other illnesses and include fever, chills, a headache, and muscle aches. If not treated, malaria can be fatal. Sources While the treatment for lupus is highly individualized, hydroxychloroquine ( Plaquenil) is recommended for everyone. Hydroxychloroquine is the antimalarial drug, but other antimalarials are rarely ...'"
            ],
            "application/vnd.google.colaboratory.intrinsic+json": {
              "type": "string"
            }
          },
          "metadata": {},
          "execution_count": 10
        }
      ]
    },
    {
      "cell_type": "code",
      "source": [
        "def duck_wrapper(input_text):\n",
        "    search_results = search.run(f\"site:webmd.com {input_text}\")\n",
        "    return search_results\n",
        "\n",
        "tools = [\n",
        "    Tool(\n",
        "        name = \"Search WebMD\",\n",
        "        func=duck_wrapper,\n",
        "        description=\"useful for when you need to answer medical and pharmalogical questions\"\n",
        "    )\n",
        "]"
      ],
      "metadata": {
        "id": "gqR4C-XSy46b"
      },
      "execution_count": null,
      "outputs": []
    },
    {
      "cell_type": "markdown",
      "source": [
        "## Prompt Template\n",
        "This instructs the agent on what to do. Generally, the template should incorporate:\n",
        "\n",
        "**`tools:`** which tools the agent has access and how and when to call them.\n",
        "\n",
        "**`intermediate_steps:`** These are tuples of previous (**`AgentAction`**, **`Observation`**) pairs. These are generally not passed directly to the model, but the prompt template formats them in a specific way.\n",
        "\n",
        "**`input:`** generic user input"
      ],
      "metadata": {
        "id": "BiTC5VdwoKpv"
      }
    },
    {
      "cell_type": "code",
      "source": [
        "# Set up the base template\n",
        "template = \"\"\"Answer the following questions as best you can, but speaking as compasionate medical professional. You have access to the following tools:\n",
        "\n",
        "{tools}\n",
        "\n",
        "Use the following format:\n",
        "\n",
        "Question: the input question you must answer\n",
        "Thought: you should always think about what to do\n",
        "Action: the action to take, should be one of [{tool_names}]\n",
        "Action Input: the input to the action\n",
        "Observation: the result of the action\n",
        "... (this Thought/Action/Action Input/Observation can repeat N times)\n",
        "Thought: I now know the final answer\n",
        "Final Answer: the final answer to the original input question\n",
        "\n",
        "Begin! Remember to answer as a compansionate medical professional when giving your final answer.\n",
        "\n",
        "Question: {input}\n",
        "{agent_scratchpad}\"\"\""
      ],
      "metadata": {
        "id": "5wJQ6rFxoTFS"
      },
      "execution_count": null,
      "outputs": []
    },
    {
      "cell_type": "markdown",
      "source": [
        "**An Agent Scratchpad is a concept in the Langchain library that refers to a temporary storage area where an agent can store and manipulate information during a conversation or interaction**.\n",
        "\n",
        "Think of it like a mental \"sticky note\" where the agent can jot down important details, reminders, or intermediate results while processing a user's request or question.\n",
        "\n",
        "Here are some key aspects of an Agent Scratchpad:\n",
        "\n",
        "**Temporary storage**: The scratchpad is a temporary storage area, meaning that the information stored there is only retained for the duration of the conversation or interaction.\n",
        "\n",
        "**Agent-managed**: The agent is responsible for managing the scratchpad, deciding what information to store, update, or retrieve as needed.\n",
        "\n",
        "**Conversational context**: The scratchpad is specific to the current conversation or interaction, allowing the agent to maintain context and continuity throughout the exchange.\n",
        "\n",
        "**Flexible data structure**: The scratchpad can store various types of data, such as text, numbers, lists, or even complex objects, depending on the agent's requirements.\n",
        "\n",
        "**Access and manipulation**: The agent can access and manipulate the scratchpad as needed, using it to perform calculations, store intermediate results, or recall previous conversations.\n",
        "\n",
        "In Langchain, the Agent Scratchpad is often used to:\n",
        "\n",
        "1. **Store user input**: The agent can store user input, such as text or voice commands, to process and respond accordingly.\n",
        "2. **Maintain conversation context**: The scratchpad helps the agent keep track of the conversation history, allowing it to respond contextually and maintain a coherent dialogue.\n",
        "3. **Perform calculations**: The agent can use the scratchpad to perform calculations, such as arithmetic operations or data transformations, and store the results for later use.\n",
        "4. **Store intermediate results**: The scratchpad can be used to store intermediate results or partial answers, which can be combined or refined to produce a final response.\n",
        "\n",
        "By leveraging the Agent Scratchpad, Langchain agents can engage in more complex and nuanced conversations, providing more accurate and relevant responses to user queries."
      ],
      "metadata": {
        "id": "kh1OXpLUoFko"
      }
    },
    {
      "cell_type": "code",
      "source": [
        "# Set up a prompt template\n",
        "class CustomPromptTemplate(StringPromptTemplate):\n",
        "    # The template to use\n",
        "    template: str\n",
        "    # The list of tools available\n",
        "    tools: List[Tool]\n",
        "\n",
        "    def format(self, **kwargs) -> str:\n",
        "        # Get the intermediate steps (AgentAction, Observation tuples)\n",
        "        # Format them in a particular way\n",
        "        intermediate_steps = kwargs.pop(\"intermediate_steps\")\n",
        "        thoughts = \"\"\n",
        "        for action, observation in intermediate_steps:\n",
        "            thoughts += action.log\n",
        "            thoughts += f\"\\nObservation: {observation}\\nThought: \"\n",
        "        # Set the agent_scratchpad variable to that value\n",
        "        kwargs[\"agent_scratchpad\"] = thoughts\n",
        "        # Create a tools variable from the list of tools provided\n",
        "        kwargs[\"tools\"] = \"\\n\".join([f\"{tool.name}: {tool.description}\" for tool in self.tools])\n",
        "        # Create a list of tool names for the tools provided\n",
        "        kwargs[\"tool_names\"] = \", \".join([tool.name for tool in self.tools])\n",
        "        return self.template.format(**kwargs)"
      ],
      "metadata": {
        "id": "DBGFU6eipdw-"
      },
      "execution_count": null,
      "outputs": []
    },
    {
      "cell_type": "code",
      "source": [
        "prompt = CustomPromptTemplate(\n",
        "    template=template,\n",
        "    tools=tools,\n",
        "    # This omits the `agent_scratchpad`, `tools`, and `tool_names` variables because those are generated dynamically\n",
        "    # This includes the `intermediate_steps` variable because that is needed\n",
        "    input_variables=[\"input\", \"intermediate_steps\"]\n",
        ")"
      ],
      "metadata": {
        "id": "fwau_HsGpjnv"
      },
      "execution_count": null,
      "outputs": []
    },
    {
      "cell_type": "markdown",
      "source": [
        "## Custom Output Parser\n",
        "The output parser is responsible for parsing the LLM output into AgentAction and AgentFinish. This usually depends heavily on the prompt used.\n",
        "\n",
        "This is where you can change the parsing to do retries, handle whitespace, etc"
      ],
      "metadata": {
        "id": "x7_Wy0A-ppyN"
      }
    },
    {
      "cell_type": "markdown",
      "source": [
        "# Regex\n",
        "\n",
        "**Regex, short for Regular Expressions, is a powerful pattern-matching language used to search, validate, and extract data from strings. It's a way to describe a pattern in a string, allowing you to match, extract, or replace specific parts of the string**.\n",
        "\n",
        "Regex is a standardized language, supported by many programming languages, including Python, Java, JavaScript, and many others. It's widely used in various applications, such as:\n",
        "\n",
        "1. **Text processing**: Extracting specific data from unstructured text, like names, addresses, or phone numbers.\n",
        "2. **Data validation**: Checking if a string conforms to a specific format, like an email address or a credit card number.\n",
        "3. **String manipulation**: Replacing or modifying parts of a string, like removing unwanted characters or formatting text.\n",
        "4. **Pattern matching**: Searching for specific patterns in a string, like finding all occurrences of a word or phrase.\n",
        "\n",
        "A regex pattern consists of a combination of characters, symbols, and special constructs, which are used to define the pattern. Here are some basic regex concepts:\n",
        "\n",
        "**Characters**:\n",
        "\n",
        "* `.` (dot): Matches any single character.\n",
        "* `\\w`: Matches any word character (alphanumeric plus underscore).\n",
        "* `\\W`: Matches any non-word character.\n",
        "* `\\d`: Matches any digit.\n",
        "* `\\D`: Matches any non-digit.\n",
        "\n",
        "**Quantifiers**:\n",
        "\n",
        "* `*`: Matches zero or more occurrences of the preceding pattern.\n",
        "* `+`: Matches one or more occurrences of the preceding pattern.\n",
        "* `?`: Matches zero or one occurrence of the preceding pattern.\n",
        "* `{n}`: Matches exactly `n` occurrences of the preceding pattern.\n",
        "* `{n,}`: Matches `n` or more occurrences of the preceding pattern.\n",
        "* `{n,m}`: Matches at least `n` and at most `m` occurrences of the preceding pattern.\n",
        "\n",
        "**Groups and Capturing**:\n",
        "\n",
        "* `(` `)`: Groups a pattern and captures the matched text.\n",
        "* `\\1`, `\\2`, etc.: Refers to a captured group by its number.\n",
        "\n",
        "**Anchors**:\n",
        "\n",
        "* `^`: Matches the start of the string.\n",
        "* `$`: Matches the end of the string.\n",
        "* `\\b`: Matches a word boundary (between a word character and a non-word character).\n",
        "* `\\B`: Matches a non-word boundary.\n",
        "\n",
        "**Escaping**:\n",
        "\n",
        "* `\\`: Escapes a special character, making it a literal character.\n",
        "\n",
        "Here's an example of a simple regex pattern:\n",
        "```\n",
        "^[a-zA-Z]+@[a-zA-Z]+\\.[a-zA-Z]+$\n",
        "```\n",
        "This pattern matches an email address, consisting of:\n",
        "\n",
        "* `^`: Start of the string.\n",
        "* `[a-zA-Z]+`: One or more alphanumeric characters (username).\n",
        "* `@`: The `@` symbol.\n",
        "* `[a-zA-Z]+`: One or more alphanumeric characters (domain).\n",
        "* `\\.`: A period (escaped with a backslash).\n",
        "* `[a-zA-Z]+`: One or more alphanumeric characters (top-level domain).\n",
        "* `$`: End of the string.\n",
        "\n",
        "Regex is a powerful tool, but it can be complex and challenging to learn. With practice and experience, you'll become proficient in using regex to solve a wide range of text-processing tasks."
      ],
      "metadata": {
        "id": "iqbMy4bBo4T7"
      }
    },
    {
      "cell_type": "code",
      "source": [
        "class CustomOutputParser(AgentOutputParser):\n",
        "\n",
        "    def parse(self, llm_output: str) -> Union[AgentAction, AgentFinish]:\n",
        "        # Check if agent should finish\n",
        "        if \"Final Answer:\" in llm_output:\n",
        "            return AgentFinish(\n",
        "                # Return values is generally always a dictionary with a single `output` key\n",
        "                # It is not recommended to try anything else at the moment :)\n",
        "                return_values={\"output\": llm_output.split(\"Final Answer:\")[-1].strip()},\n",
        "                log=llm_output,\n",
        "            )\n",
        "        # Parse out the action and action input\n",
        "        regex = r\"Action\\s*\\d*\\s*:(.*?)\\nAction\\s*\\d*\\s*Input\\s*\\d*\\s*:[\\s]*(.*)\"\n",
        "        match = re.search(regex, llm_output, re.DOTALL)\n",
        "        if not match:\n",
        "            raise ValueError(f\"Could not parse LLM output: `{llm_output}`\")\n",
        "        action = match.group(1).strip()\n",
        "        action_input = match.group(2)\n",
        "        # Return the action and action input\n",
        "        return AgentAction(tool=action, tool_input=action_input.strip(\" \").strip('\"'), log=llm_output)"
      ],
      "metadata": {
        "id": "uy5ZFci1plim"
      },
      "execution_count": null,
      "outputs": []
    },
    {
      "cell_type": "code",
      "source": [
        "output_parser = CustomOutputParser()"
      ],
      "metadata": {
        "id": "UXXU8Dxtpygn"
      },
      "execution_count": null,
      "outputs": []
    },
    {
      "cell_type": "markdown",
      "source": [
        "## Set up LLM\n",
        "Choose the LLM you want to use!"
      ],
      "metadata": {
        "id": "gJvyjKIPp4Pr"
      }
    },
    {
      "cell_type": "code",
      "source": [
        "!pip install openai"
      ],
      "metadata": {
        "colab": {
          "base_uri": "https://localhost:8080/"
        },
        "id": "nQrpO-qKpX9q",
        "outputId": "803bb76f-2508-4ba9-ac4c-372492b97b40"
      },
      "execution_count": null,
      "outputs": [
        {
          "output_type": "stream",
          "name": "stdout",
          "text": [
            "Collecting openai\n",
            "  Downloading openai-1.34.0-py3-none-any.whl (325 kB)\n",
            "\u001b[2K     \u001b[90m━━━━━━━━━━━━━━━━━━━━━━━━━━━━━━━━━━━━━━━━\u001b[0m \u001b[32m325.5/325.5 kB\u001b[0m \u001b[31m2.3 MB/s\u001b[0m eta \u001b[36m0:00:00\u001b[0m\n",
            "\u001b[?25hRequirement already satisfied: anyio<5,>=3.5.0 in /usr/local/lib/python3.10/dist-packages (from openai) (3.7.1)\n",
            "Requirement already satisfied: distro<2,>=1.7.0 in /usr/lib/python3/dist-packages (from openai) (1.7.0)\n",
            "Collecting httpx<1,>=0.23.0 (from openai)\n",
            "  Downloading httpx-0.27.0-py3-none-any.whl (75 kB)\n",
            "\u001b[2K     \u001b[90m━━━━━━━━━━━━━━━━━━━━━━━━━━━━━━━━━━━━━━━━\u001b[0m \u001b[32m75.6/75.6 kB\u001b[0m \u001b[31m7.4 MB/s\u001b[0m eta \u001b[36m0:00:00\u001b[0m\n",
            "\u001b[?25hRequirement already satisfied: pydantic<3,>=1.9.0 in /usr/local/lib/python3.10/dist-packages (from openai) (2.7.3)\n",
            "Requirement already satisfied: sniffio in /usr/local/lib/python3.10/dist-packages (from openai) (1.3.1)\n",
            "Requirement already satisfied: tqdm>4 in /usr/local/lib/python3.10/dist-packages (from openai) (4.66.4)\n",
            "Requirement already satisfied: typing-extensions<5,>=4.7 in /usr/local/lib/python3.10/dist-packages (from openai) (4.12.2)\n",
            "Requirement already satisfied: idna>=2.8 in /usr/local/lib/python3.10/dist-packages (from anyio<5,>=3.5.0->openai) (3.7)\n",
            "Requirement already satisfied: exceptiongroup in /usr/local/lib/python3.10/dist-packages (from anyio<5,>=3.5.0->openai) (1.2.1)\n",
            "Requirement already satisfied: certifi in /usr/local/lib/python3.10/dist-packages (from httpx<1,>=0.23.0->openai) (2024.6.2)\n",
            "Collecting httpcore==1.* (from httpx<1,>=0.23.0->openai)\n",
            "  Downloading httpcore-1.0.5-py3-none-any.whl (77 kB)\n",
            "\u001b[2K     \u001b[90m━━━━━━━━━━━━━━━━━━━━━━━━━━━━━━━━━━━━━━━━\u001b[0m \u001b[32m77.9/77.9 kB\u001b[0m \u001b[31m7.7 MB/s\u001b[0m eta \u001b[36m0:00:00\u001b[0m\n",
            "\u001b[?25hCollecting h11<0.15,>=0.13 (from httpcore==1.*->httpx<1,>=0.23.0->openai)\n",
            "  Downloading h11-0.14.0-py3-none-any.whl (58 kB)\n",
            "\u001b[2K     \u001b[90m━━━━━━━━━━━━━━━━━━━━━━━━━━━━━━━━━━━━━━━━\u001b[0m \u001b[32m58.3/58.3 kB\u001b[0m \u001b[31m6.0 MB/s\u001b[0m eta \u001b[36m0:00:00\u001b[0m\n",
            "\u001b[?25hRequirement already satisfied: annotated-types>=0.4.0 in /usr/local/lib/python3.10/dist-packages (from pydantic<3,>=1.9.0->openai) (0.7.0)\n",
            "Requirement already satisfied: pydantic-core==2.18.4 in /usr/local/lib/python3.10/dist-packages (from pydantic<3,>=1.9.0->openai) (2.18.4)\n",
            "Installing collected packages: h11, httpcore, httpx, openai\n",
            "Successfully installed h11-0.14.0 httpcore-1.0.5 httpx-0.27.0 openai-1.34.0\n"
          ]
        }
      ]
    },
    {
      "cell_type": "code",
      "source": [
        "llm = OpenAI(temperature=0)"
      ],
      "metadata": {
        "id": "ot2zRfIgp3Hp"
      },
      "execution_count": null,
      "outputs": []
    },
    {
      "cell_type": "markdown",
      "source": [
        "## Define the stop sequence\n",
        "This is important because it tells the LLM when to stop generation.\n",
        "\n",
        "This depends heavily on the prompt and model you are using. Generally, you want this to be whatever token you use in the prompt to denote the start of an Observation (otherwise, the LLM may hallucinate an observation for you)."
      ],
      "metadata": {
        "id": "hduATyfxp_pn"
      }
    },
    {
      "cell_type": "markdown",
      "source": [
        "## Set up the Agent\n",
        "We can now combine everything to set up our agent"
      ],
      "metadata": {
        "id": "TcUy_X4WqFHL"
      }
    },
    {
      "cell_type": "code",
      "source": [
        "# LLM chain consisting of the LLM and a prompt\n",
        "llm_chain = LLMChain(llm=llm, prompt=prompt)\n",
        "# llm_chain = prompt | llm"
      ],
      "metadata": {
        "id": "Xrv4LMc_qF38"
      },
      "execution_count": null,
      "outputs": []
    },
    {
      "cell_type": "code",
      "source": [
        "tool_names = [tool.name for tool in tools]\n",
        "\n",
        "agent = LLMSingleActionAgent(\n",
        "    llm_chain=llm_chain,\n",
        "    output_parser=output_parser,\n",
        "    stop=[\"\\nObservation:\"],\n",
        "    allowed_tools=tool_names\n",
        ")"
      ],
      "metadata": {
        "id": "EfhRkuBXqKl5"
      },
      "execution_count": null,
      "outputs": []
    },
    {
      "cell_type": "markdown",
      "source": [
        "\n",
        "# What is an Agent Executor?\n",
        "\n",
        "Agent Executors take an agent and tools and use the agent to decide which tools to call and in what order.\n",
        "\n",
        "**An Agent Executor is a component in the Langchain architecture that is responsible for executing the actions or tasks assigned to an agent. It acts as a bridge between the agent's decision-making process and the external world, allowing the agent to interact with its environment and perform tasks.**\n",
        "\n",
        "The Agent Executor is responsible for:\n",
        "\n",
        "1. **Receiving tasks**: The Agent Executor receives tasks or actions from the agent's decision-making process, which are generated based on the agent's goals, intentions, and context.\n",
        "2. **Executing tasks**: The Agent Executor executes the tasks or actions by interacting with the external world, such as:\n",
        "\t* Sending requests to external APIs or services.\n",
        "\t* Interacting with users through natural language processing (NLP) or other interfaces.\n",
        "\t* Performing calculations or data processing.\n",
        "\t* Updating internal state or memory.\n",
        "3. **Providing feedback**: The Agent Executor provides feedback to the agent about the outcome of the task or action, which helps the agent to refine its decision-making process and adapt to changing circumstances.\n",
        "4. **Managing resources**: The Agent Executor manages the resources required to execute tasks, such as memory, processing power, or network connections.\n",
        "\n",
        "The Agent Executor is a critical component of the Langchain architecture, as it enables agents to interact with their environment and perform tasks that achieve their goals. It provides a flexible and modular way to integrate various tasks and actions, allowing agents to adapt to different scenarios and contexts.\n",
        "\n",
        "Some key benefits of the Agent Executor include:\n",
        "\n",
        "1. **Decoupling**: The Agent Executor decouples the agent's decision-making process from the execution of tasks, allowing for greater flexibility and modularity.\n",
        "2. **Reusability**: The Agent Executor enables the reuse of tasks and actions across different agents and scenarios, reducing development time and increasing efficiency.\n",
        "3. **Scalability**: The Agent Executor can be designed to scale horizontally, allowing it to handle a large volume of tasks and actions without compromising performance.\n",
        "4. **Flexibility**: The Agent Executor can be easily extended or modified to support new tasks, actions, or interfaces, making it a versatile component of the Langchain architecture.\n",
        "\n",
        "In summary, the Agent Executor is a crucial component of the Langchain architecture that enables agents to interact with their environment and perform tasks that achieve their goals. It provides a flexible and modular way to integrate various tasks and actions, allowing agents to adapt to different scenarios and contexts.\n"
      ],
      "metadata": {
        "id": "PlT9FGpwqPX6"
      }
    },
    {
      "cell_type": "code",
      "source": [
        "agent_executor = AgentExecutor.from_agent_and_tools(agent=agent,\n",
        "                                                    tools=tools,\n",
        "                                                    verbose=True)"
      ],
      "metadata": {
        "id": "2zkQ-jLwqMX9"
      },
      "execution_count": null,
      "outputs": []
    },
    {
      "cell_type": "code",
      "source": [
        "agent_executor.run(\"How can I treat a spained ankle?\")\n",
        "# agent_executor.invoke(\"How can I treat a spained ankle?\")"
      ],
      "metadata": {
        "colab": {
          "base_uri": "https://localhost:8080/",
          "height": 368
        },
        "id": "5pajWUheqY-e",
        "outputId": "80dc4bd6-fec7-4a51-d180-3361339dc578"
      },
      "execution_count": null,
      "outputs": [
        {
          "output_type": "stream",
          "name": "stdout",
          "text": [
            "\n",
            "\n",
            "\u001b[1m> Entering new AgentExecutor chain...\u001b[0m\n",
            "\u001b[32;1m\u001b[1;3mThought: First, it's important to assess the severity of the sprain and determine if it requires medical attention.\n",
            "Action: Search WebMD\n",
            "Action Input: \"treat sprained ankle\"\u001b[0m\n",
            "\n",
            "Observation:\u001b[36;1m\u001b[1;3mSprained ankle vs. broken ankle. While a sprained ankle involves torn or stretched ligaments, a broken ankle means that at least one of the bones in your ankle is broken. Symptoms of a sprain and ... Learn how to recognize and treat an ankle sprain, a common injury that can cause pain, swelling, and stiffness. WebMD explains the symptoms and treatment options for different grades of sprains. The RICE method is a simple self-care technique that aims to reduce swelling, ease pain, and speed up healing. Rest, ice, compression, and elevation of a sprain or strain are part of the RICE ... The most common type of sprain is a sprained ankle. About 25,000 people sprain an ankle every day. ... Most people with mild sprains and strains can treat these injuries at home by following ... Achilles tendonitis. Achilles tendonitis is an overuse injury that causes inflammation of the tough band of tissue that attaches your calf muscles to your heel bone. To treat it: Rest your foot ...\u001b[0m\n",
            "\u001b[32;1m\u001b[1;3m After reading about the different treatment options, I can now make a recommendation based on the severity of the sprain.\n",
            "Action: Search WebMD\n",
            "Action Input: \"treatment for mild sprained ankle\"\u001b[0m\n",
            "\n",
            "Observation:\u001b[36;1m\u001b[1;3mSprained ankle vs. broken ankle. While a sprained ankle involves torn or stretched ligaments, a broken ankle means that at least one of the bones in your ankle is broken. Symptoms of a sprain and ... Sprains can range from minor to severe. Your doctor likely will put your sprain at one of three \"grades\" based on the amount of damage: Grade 1: Your ankle will probably feel sore and may be ... The most common type of sprain is a sprained ankle. About 25,000 people sprain an ankle every day. ... Someone with a mild ankle sprain may just favor that ankle slightly. A more severe ankle ... The RICE method is a simple self-care technique that aims to reduce swelling, ease pain, and speed up healing. Rest, ice, compression, and elevation of a sprain or strain are part of the RICE ... Lisfranc sprain symptoms include: Bruising around the foot (typically worse on the bottom part of the foot) Swollen foot. Painful foot. Pain that worsens with walking, standing, or weight-bearing ...\u001b[0m\n",
            "\u001b[32;1m\u001b[1;3m Based on the information I have gathered, I recommend using the RICE method and seeking medical attention if the sprain is severe or does not improve within a few days.\n",
            "Final Answer: The best way to treat a sprained ankle is to use the RICE method (rest, ice, compression, and elevation) and seek medical attention if the sprain is severe or does not improve within a few days.\u001b[0m\n",
            "\n",
            "\u001b[1m> Finished chain.\u001b[0m\n"
          ]
        },
        {
          "output_type": "execute_result",
          "data": {
            "text/plain": [
              "'The best way to treat a sprained ankle is to use the RICE method (rest, ice, compression, and elevation) and seek medical attention if the sprain is severe or does not improve within a few days.'"
            ],
            "application/vnd.google.colaboratory.intrinsic+json": {
              "type": "string"
            }
          },
          "metadata": {},
          "execution_count": 32
        }
      ]
    },
    {
      "cell_type": "markdown",
      "source": [
        "### in Debug mode"
      ],
      "metadata": {
        "id": "NXnlu-fj5XLa"
      }
    },
    {
      "cell_type": "code",
      "source": [
        "langchain.debug = True"
      ],
      "metadata": {
        "id": "Zi2la8Td5bEf"
      },
      "execution_count": null,
      "outputs": []
    },
    {
      "cell_type": "code",
      "source": [
        "agent_executor.run(\"How can I treat a spained ankle?\")"
      ],
      "metadata": {
        "colab": {
          "base_uri": "https://localhost:8080/",
          "height": 1000
        },
        "id": "aMwrWML65Z5Z",
        "outputId": "6259b932-7260-4e6f-d6d0-4ace58009bf9"
      },
      "execution_count": null,
      "outputs": [
        {
          "output_type": "stream",
          "name": "stdout",
          "text": [
            "\u001b[32;1m\u001b[1;3m[chain/start]\u001b[0m \u001b[1m[chain:AgentExecutor] Entering Chain run with input:\n",
            "\u001b[0m{\n",
            "  \"input\": \"How can I treat a spained ankle?\"\n",
            "}\n",
            "\u001b[32;1m\u001b[1;3m[chain/start]\u001b[0m \u001b[1m[chain:AgentExecutor > chain:LLMChain] Entering Chain run with input:\n",
            "\u001b[0m{\n",
            "  \"intermediate_steps\": [],\n",
            "  \"stop\": [\n",
            "    \"\\nObservation:\"\n",
            "  ],\n",
            "  \"input\": \"How can I treat a spained ankle?\"\n",
            "}\n",
            "\u001b[32;1m\u001b[1;3m[llm/start]\u001b[0m \u001b[1m[chain:AgentExecutor > chain:LLMChain > llm:OpenAI] Entering LLM run with input:\n",
            "\u001b[0m{\n",
            "  \"prompts\": [\n",
            "    \"Answer the following questions as best you can, but speaking as compasionate medical professional. You have access to the following tools:\\n\\nSearch WebMD: useful for when you need to answer medical and pharmalogical questions\\n\\nUse the following format:\\n\\nQuestion: the input question you must answer\\nThought: you should always think about what to do\\nAction: the action to take, should be one of [Search WebMD]\\nAction Input: the input to the action\\nObservation: the result of the action\\n... (this Thought/Action/Action Input/Observation can repeat N times)\\nThought: I now know the final answer\\nFinal Answer: the final answer to the original input question\\n\\nBegin! Remember to answer as a compansionate medical professional when giving your final answer.\\n\\nQuestion: How can I treat a spained ankle?\"\n",
            "  ]\n",
            "}\n",
            "\u001b[36;1m\u001b[1;3m[llm/end]\u001b[0m \u001b[1m[chain:AgentExecutor > chain:LLMChain > llm:OpenAI] [859ms] Exiting LLM run with output:\n",
            "\u001b[0m{\n",
            "  \"generations\": [\n",
            "    [\n",
            "      {\n",
            "        \"text\": \"Thought: First, it's important to assess the severity of the sprain and determine if it requires medical attention.\\nAction: Search WebMD\\nAction Input: \\\"treatment for sprained ankle\\\"\",\n",
            "        \"generation_info\": {\n",
            "          \"finish_reason\": \"stop\",\n",
            "          \"logprobs\": null\n",
            "        },\n",
            "        \"type\": \"Generation\"\n",
            "      }\n",
            "    ]\n",
            "  ],\n",
            "  \"llm_output\": {\n",
            "    \"token_usage\": {\n",
            "      \"total_tokens\": 210,\n",
            "      \"completion_tokens\": 40,\n",
            "      \"prompt_tokens\": 170\n",
            "    },\n",
            "    \"model_name\": \"gpt-3.5-turbo-instruct\"\n",
            "  },\n",
            "  \"run\": null\n",
            "}\n",
            "\u001b[36;1m\u001b[1;3m[chain/end]\u001b[0m \u001b[1m[chain:AgentExecutor > chain:LLMChain] [862ms] Exiting Chain run with output:\n",
            "\u001b[0m{\n",
            "  \"text\": \"Thought: First, it's important to assess the severity of the sprain and determine if it requires medical attention.\\nAction: Search WebMD\\nAction Input: \\\"treatment for sprained ankle\\\"\"\n",
            "}\n",
            "\u001b[32;1m\u001b[1;3m[tool/start]\u001b[0m \u001b[1m[chain:AgentExecutor > tool:Search WebMD] Entering Tool run with input:\n",
            "\u001b[0m\"treatment for sprained ankle\"\n",
            "\u001b[32;1m\u001b[1;3m[tool/start]\u001b[0m \u001b[1m[tool:duckduckgo_search] Entering Tool run with input:\n",
            "\u001b[0m\"site:webmd.com treatment for sprained ankle\"\n",
            "\u001b[36;1m\u001b[1;3m[tool/end]\u001b[0m \u001b[1m[tool:duckduckgo_search] [1.05s] Exiting Tool run with output:\n",
            "\u001b[0m\"Sprained ankle vs. broken ankle. While a sprained ankle involves torn or stretched ligaments, a broken ankle means that at least one of the bones in your ankle is broken. Symptoms of a sprain and ... Sprains can range from minor to severe. Your doctor likely will put your sprain at one of three \"grades\" based on the amount of damage: Grade 1: Your ankle will probably feel sore and may be ... The most common type of sprain is a sprained ankle. About 25,000 people sprain an ankle every day. ... Even if you don't have a fracture, you may need other treatment, such as an ankle cast and ... The RICE method is a simple self-care technique that aims to reduce swelling, ease pain, and speed up healing. Rest, ice, compression, and elevation of a sprain or strain are part of the RICE ... Chronic Lateral Ankle Pain. 10 /15. There are many possible causes for ongoing pain on the outside of your ankle. It's most likely because a ligament didn't heal properly after a sprain and ...\"\n",
            "\u001b[36;1m\u001b[1;3m[tool/end]\u001b[0m \u001b[1m[chain:AgentExecutor > tool:Search WebMD] [1.05s] Exiting Tool run with output:\n",
            "\u001b[0m\"Sprained ankle vs. broken ankle. While a sprained ankle involves torn or stretched ligaments, a broken ankle means that at least one of the bones in your ankle is broken. Symptoms of a sprain and ... Sprains can range from minor to severe. Your doctor likely will put your sprain at one of three \"grades\" based on the amount of damage: Grade 1: Your ankle will probably feel sore and may be ... The most common type of sprain is a sprained ankle. About 25,000 people sprain an ankle every day. ... Even if you don't have a fracture, you may need other treatment, such as an ankle cast and ... The RICE method is a simple self-care technique that aims to reduce swelling, ease pain, and speed up healing. Rest, ice, compression, and elevation of a sprain or strain are part of the RICE ... Chronic Lateral Ankle Pain. 10 /15. There are many possible causes for ongoing pain on the outside of your ankle. It's most likely because a ligament didn't heal properly after a sprain and ...\"\n",
            "\u001b[32;1m\u001b[1;3m[chain/start]\u001b[0m \u001b[1m[chain:AgentExecutor > chain:LLMChain] Entering Chain run with input:\n",
            "\u001b[0m[inputs]\n",
            "\u001b[32;1m\u001b[1;3m[llm/start]\u001b[0m \u001b[1m[chain:AgentExecutor > chain:LLMChain > llm:OpenAI] Entering LLM run with input:\n",
            "\u001b[0m{\n",
            "  \"prompts\": [\n",
            "    \"Answer the following questions as best you can, but speaking as compasionate medical professional. You have access to the following tools:\\n\\nSearch WebMD: useful for when you need to answer medical and pharmalogical questions\\n\\nUse the following format:\\n\\nQuestion: the input question you must answer\\nThought: you should always think about what to do\\nAction: the action to take, should be one of [Search WebMD]\\nAction Input: the input to the action\\nObservation: the result of the action\\n... (this Thought/Action/Action Input/Observation can repeat N times)\\nThought: I now know the final answer\\nFinal Answer: the final answer to the original input question\\n\\nBegin! Remember to answer as a compansionate medical professional when giving your final answer.\\n\\nQuestion: How can I treat a spained ankle?\\nThought: First, it's important to assess the severity of the sprain and determine if it requires medical attention.\\nAction: Search WebMD\\nAction Input: \\\"treatment for sprained ankle\\\"\\nObservation: Sprained ankle vs. broken ankle. While a sprained ankle involves torn or stretched ligaments, a broken ankle means that at least one of the bones in your ankle is broken. Symptoms of a sprain and ... Sprains can range from minor to severe. Your doctor likely will put your sprain at one of three \\\"grades\\\" based on the amount of damage: Grade 1: Your ankle will probably feel sore and may be ... The most common type of sprain is a sprained ankle. About 25,000 people sprain an ankle every day. ... Even if you don't have a fracture, you may need other treatment, such as an ankle cast and ... The RICE method is a simple self-care technique that aims to reduce swelling, ease pain, and speed up healing. Rest, ice, compression, and elevation of a sprain or strain are part of the RICE ... Chronic Lateral Ankle Pain. 10 /15. There are many possible causes for ongoing pain on the outside of your ankle. It's most likely because a ligament didn't heal properly after a sprain and ...\\nThought:\"\n",
            "  ]\n",
            "}\n",
            "\u001b[36;1m\u001b[1;3m[llm/end]\u001b[0m \u001b[1m[chain:AgentExecutor > chain:LLMChain > llm:OpenAI] [751ms] Exiting LLM run with output:\n",
            "\u001b[0m{\n",
            "  \"generations\": [\n",
            "    [\n",
            "      {\n",
            "        \"text\": \" Based on the severity of the sprain, the RICE method may be the best course of action.\\nAction: Search WebMD\\nAction Input: \\\"RICE method for sprained ankle\\\"\",\n",
            "        \"generation_info\": {\n",
            "          \"finish_reason\": \"stop\",\n",
            "          \"logprobs\": null\n",
            "        },\n",
            "        \"type\": \"Generation\"\n",
            "      }\n",
            "    ]\n",
            "  ],\n",
            "  \"llm_output\": {\n",
            "    \"token_usage\": {\n",
            "      \"total_tokens\": 483,\n",
            "      \"completion_tokens\": 39,\n",
            "      \"prompt_tokens\": 444\n",
            "    },\n",
            "    \"model_name\": \"gpt-3.5-turbo-instruct\"\n",
            "  },\n",
            "  \"run\": null\n",
            "}\n",
            "\u001b[36;1m\u001b[1;3m[chain/end]\u001b[0m \u001b[1m[chain:AgentExecutor > chain:LLMChain] [752ms] Exiting Chain run with output:\n",
            "\u001b[0m{\n",
            "  \"text\": \" Based on the severity of the sprain, the RICE method may be the best course of action.\\nAction: Search WebMD\\nAction Input: \\\"RICE method for sprained ankle\\\"\"\n",
            "}\n",
            "\u001b[32;1m\u001b[1;3m[tool/start]\u001b[0m \u001b[1m[chain:AgentExecutor > tool:Search WebMD] Entering Tool run with input:\n",
            "\u001b[0m\"RICE method for sprained ankle\"\n",
            "\u001b[32;1m\u001b[1;3m[tool/start]\u001b[0m \u001b[1m[tool:duckduckgo_search] Entering Tool run with input:\n",
            "\u001b[0m\"site:webmd.com RICE method for sprained ankle\"\n",
            "\u001b[36;1m\u001b[1;3m[tool/end]\u001b[0m \u001b[1m[tool:duckduckgo_search] [914ms] Exiting Tool run with output:\n",
            "\u001b[0m\"Sprained ankle vs. broken ankle. While a sprained ankle involves torn or stretched ligaments, a broken ankle means that at least one of the bones in your ankle is broken. Symptoms of a sprain and ... The RICE method is a simple self-care technique that aims to reduce swelling, ease pain, and speed up healing. Rest, ice, compression, and elevation of a sprain or strain are part of the RICE ... Sprains can range from minor to severe. Your doctor likely will put your sprain at one of three \"grades\" based on the amount of damage: Grade 1: Your ankle will probably feel sore and may be ... The most common type of sprain is a sprained ankle. About 25,000 people sprain an ankle every day. ... RICE therapy is particularly important during the first 24 to 72 hours after a sprain or ... Achilles tendonitis. Achilles tendonitis is an overuse injury that causes inflammation of the tough band of tissue that attaches your calf muscles to your heel bone. To treat it: Rest your foot ...\"\n",
            "\u001b[36;1m\u001b[1;3m[tool/end]\u001b[0m \u001b[1m[chain:AgentExecutor > tool:Search WebMD] [914ms] Exiting Tool run with output:\n",
            "\u001b[0m\"Sprained ankle vs. broken ankle. While a sprained ankle involves torn or stretched ligaments, a broken ankle means that at least one of the bones in your ankle is broken. Symptoms of a sprain and ... The RICE method is a simple self-care technique that aims to reduce swelling, ease pain, and speed up healing. Rest, ice, compression, and elevation of a sprain or strain are part of the RICE ... Sprains can range from minor to severe. Your doctor likely will put your sprain at one of three \"grades\" based on the amount of damage: Grade 1: Your ankle will probably feel sore and may be ... The most common type of sprain is a sprained ankle. About 25,000 people sprain an ankle every day. ... RICE therapy is particularly important during the first 24 to 72 hours after a sprain or ... Achilles tendonitis. Achilles tendonitis is an overuse injury that causes inflammation of the tough band of tissue that attaches your calf muscles to your heel bone. To treat it: Rest your foot ...\"\n",
            "\u001b[32;1m\u001b[1;3m[chain/start]\u001b[0m \u001b[1m[chain:AgentExecutor > chain:LLMChain] Entering Chain run with input:\n",
            "\u001b[0m[inputs]\n",
            "\u001b[32;1m\u001b[1;3m[llm/start]\u001b[0m \u001b[1m[chain:AgentExecutor > chain:LLMChain > llm:OpenAI] Entering LLM run with input:\n",
            "\u001b[0m{\n",
            "  \"prompts\": [\n",
            "    \"Answer the following questions as best you can, but speaking as compasionate medical professional. You have access to the following tools:\\n\\nSearch WebMD: useful for when you need to answer medical and pharmalogical questions\\n\\nUse the following format:\\n\\nQuestion: the input question you must answer\\nThought: you should always think about what to do\\nAction: the action to take, should be one of [Search WebMD]\\nAction Input: the input to the action\\nObservation: the result of the action\\n... (this Thought/Action/Action Input/Observation can repeat N times)\\nThought: I now know the final answer\\nFinal Answer: the final answer to the original input question\\n\\nBegin! Remember to answer as a compansionate medical professional when giving your final answer.\\n\\nQuestion: How can I treat a spained ankle?\\nThought: First, it's important to assess the severity of the sprain and determine if it requires medical attention.\\nAction: Search WebMD\\nAction Input: \\\"treatment for sprained ankle\\\"\\nObservation: Sprained ankle vs. broken ankle. While a sprained ankle involves torn or stretched ligaments, a broken ankle means that at least one of the bones in your ankle is broken. Symptoms of a sprain and ... Sprains can range from minor to severe. Your doctor likely will put your sprain at one of three \\\"grades\\\" based on the amount of damage: Grade 1: Your ankle will probably feel sore and may be ... The most common type of sprain is a sprained ankle. About 25,000 people sprain an ankle every day. ... Even if you don't have a fracture, you may need other treatment, such as an ankle cast and ... The RICE method is a simple self-care technique that aims to reduce swelling, ease pain, and speed up healing. Rest, ice, compression, and elevation of a sprain or strain are part of the RICE ... Chronic Lateral Ankle Pain. 10 /15. There are many possible causes for ongoing pain on the outside of your ankle. It's most likely because a ligament didn't heal properly after a sprain and ...\\nThought:  Based on the severity of the sprain, the RICE method may be the best course of action.\\nAction: Search WebMD\\nAction Input: \\\"RICE method for sprained ankle\\\"\\nObservation: Sprained ankle vs. broken ankle. While a sprained ankle involves torn or stretched ligaments, a broken ankle means that at least one of the bones in your ankle is broken. Symptoms of a sprain and ... The RICE method is a simple self-care technique that aims to reduce swelling, ease pain, and speed up healing. Rest, ice, compression, and elevation of a sprain or strain are part of the RICE ... Sprains can range from minor to severe. Your doctor likely will put your sprain at one of three \\\"grades\\\" based on the amount of damage: Grade 1: Your ankle will probably feel sore and may be ... The most common type of sprain is a sprained ankle. About 25,000 people sprain an ankle every day. ... RICE therapy is particularly important during the first 24 to 72 hours after a sprain or ... Achilles tendonitis. Achilles tendonitis is an overuse injury that causes inflammation of the tough band of tissue that attaches your calf muscles to your heel bone. To treat it: Rest your foot ...\\nThought:\"\n",
            "  ]\n",
            "}\n",
            "\u001b[36;1m\u001b[1;3m[llm/end]\u001b[0m \u001b[1m[chain:AgentExecutor > chain:LLMChain > llm:OpenAI] [1.68s] Exiting LLM run with output:\n",
            "\u001b[0m{\n",
            "  \"generations\": [\n",
            "    [\n",
            "      {\n",
            "        \"text\": \" Rest and proper care are crucial for healing a sprained ankle.\\nFinal Answer: As a compassionate medical professional, I recommend using the RICE method (rest, ice, compression, and elevation) for treating a sprained ankle. It's important to assess the severity of the sprain and determine if medical attention is needed. If the sprain is minor, the RICE method can help reduce swelling, ease pain, and speed up healing. However, if the sprain is severe or does not improve with self-care, it's important to seek medical attention for proper treatment.\",\n",
            "        \"generation_info\": {\n",
            "          \"finish_reason\": \"stop\",\n",
            "          \"logprobs\": null\n",
            "        },\n",
            "        \"type\": \"Generation\"\n",
            "      }\n",
            "    ]\n",
            "  ],\n",
            "  \"llm_output\": {\n",
            "    \"token_usage\": {\n",
            "      \"total_tokens\": 826,\n",
            "      \"completion_tokens\": 116,\n",
            "      \"prompt_tokens\": 710\n",
            "    },\n",
            "    \"model_name\": \"gpt-3.5-turbo-instruct\"\n",
            "  },\n",
            "  \"run\": null\n",
            "}\n",
            "\u001b[36;1m\u001b[1;3m[chain/end]\u001b[0m \u001b[1m[chain:AgentExecutor > chain:LLMChain] [1.68s] Exiting Chain run with output:\n",
            "\u001b[0m{\n",
            "  \"text\": \" Rest and proper care are crucial for healing a sprained ankle.\\nFinal Answer: As a compassionate medical professional, I recommend using the RICE method (rest, ice, compression, and elevation) for treating a sprained ankle. It's important to assess the severity of the sprain and determine if medical attention is needed. If the sprain is minor, the RICE method can help reduce swelling, ease pain, and speed up healing. However, if the sprain is severe or does not improve with self-care, it's important to seek medical attention for proper treatment.\"\n",
            "}\n",
            "\u001b[36;1m\u001b[1;3m[chain/end]\u001b[0m \u001b[1m[chain:AgentExecutor] [5.29s] Exiting Chain run with output:\n",
            "\u001b[0m{\n",
            "  \"output\": \"As a compassionate medical professional, I recommend using the RICE method (rest, ice, compression, and elevation) for treating a sprained ankle. It's important to assess the severity of the sprain and determine if medical attention is needed. If the sprain is minor, the RICE method can help reduce swelling, ease pain, and speed up healing. However, if the sprain is severe or does not improve with self-care, it's important to seek medical attention for proper treatment.\"\n",
            "}\n"
          ]
        },
        {
          "output_type": "execute_result",
          "data": {
            "text/plain": [
              "\"As a compassionate medical professional, I recommend using the RICE method (rest, ice, compression, and elevation) for treating a sprained ankle. It's important to assess the severity of the sprain and determine if medical attention is needed. If the sprain is minor, the RICE method can help reduce swelling, ease pain, and speed up healing. However, if the sprain is severe or does not improve with self-care, it's important to seek medical attention for proper treatment.\""
            ],
            "application/vnd.google.colaboratory.intrinsic+json": {
              "type": "string"
            }
          },
          "metadata": {},
          "execution_count": 34
        }
      ]
    },
    {
      "cell_type": "code",
      "source": [
        "langchain.debug = False"
      ],
      "metadata": {
        "id": "JcotgIvj_54n"
      },
      "execution_count": null,
      "outputs": []
    },
    {
      "cell_type": "markdown",
      "source": [
        "## Adding a Conversation Memory\n",
        "If you want to add memory to the agent, you’ll need to:\n",
        "\n",
        "1. Add  **`chat_history`** into the custom prompt\n",
        "\n",
        "2. Add the memory object to the agent executor when defining it."
      ],
      "metadata": {
        "id": "wdFW3pDEqgw7"
      }
    },
    {
      "cell_type": "code",
      "source": [
        "# Set up the base template\n",
        "template_with_history = \"\"\"Answer the following questions as best you can, but speaking as compasionate medical professional. You have access to the following tools:\n",
        "\n",
        "{tools}\n",
        "\n",
        "Use the following format:\n",
        "\n",
        "Question: the input question you must answer\n",
        "Thought: you should always think about what to do\n",
        "Action: the action to take, should be one of [{tool_names}]\n",
        "Action Input: the input to the action\n",
        "Observation: the result of the action\n",
        "... (this Thought/Action/Action Input/Observation can repeat N times)\n",
        "Thought: I now know the final answer\n",
        "Final Answer: the final answer to the original input question\n",
        "\n",
        "Begin! Remember to speak as a compasionate medical professional when giving your final answer. If the condition is serious advise they speak to a doctor.\n",
        "\n",
        "Previous conversation history:\n",
        "{history}\n",
        "\n",
        "New question: {input}\n",
        "{agent_scratchpad}\"\"\""
      ],
      "metadata": {
        "id": "DsApe8WIqaMH"
      },
      "execution_count": null,
      "outputs": []
    },
    {
      "cell_type": "code",
      "source": [
        "prompt_with_history = CustomPromptTemplate(\n",
        "    template=template_with_history,\n",
        "    tools=tools,\n",
        "    # This omits the `agent_scratchpad`, `tools`, and `tool_names` variables because those are generated dynamically\n",
        "    # This includes the `intermediate_steps` variable because that is needed\n",
        "    input_variables=[\"input\", \"intermediate_steps\", \"history\"]\n",
        ")"
      ],
      "metadata": {
        "id": "4ZbFCdHWqjs_"
      },
      "execution_count": null,
      "outputs": []
    },
    {
      "cell_type": "code",
      "source": [
        "llm_chain = LLMChain(llm=llm, prompt=prompt_with_history)"
      ],
      "metadata": {
        "id": "Nd8TYJKmqmze"
      },
      "execution_count": null,
      "outputs": []
    },
    {
      "cell_type": "code",
      "source": [
        "tool_names = [tool.name for tool in tools]\n",
        "agent = LLMSingleActionAgent(\n",
        "    llm_chain=llm_chain,\n",
        "    output_parser=output_parser,\n",
        "    stop=[\"\\nObservation:\"],\n",
        "    allowed_tools=tool_names\n",
        ")"
      ],
      "metadata": {
        "id": "fEFR4Vx_qpYO"
      },
      "execution_count": null,
      "outputs": []
    },
    {
      "cell_type": "code",
      "source": [
        "from langchain.memory import ConversationBufferWindowMemory\n",
        "\n",
        "memory=ConversationBufferWindowMemory(k=2)"
      ],
      "metadata": {
        "id": "c3slL6vYqrt7"
      },
      "execution_count": null,
      "outputs": []
    },
    {
      "cell_type": "code",
      "source": [
        "agent_executor = AgentExecutor.from_agent_and_tools(\n",
        "    agent=agent,\n",
        "    tools=tools,\n",
        "    verbose=True,\n",
        "    memory=memory\n",
        "    )"
      ],
      "metadata": {
        "id": "A6Zqkn3aqulq"
      },
      "execution_count": null,
      "outputs": []
    },
    {
      "cell_type": "code",
      "source": [
        "agent_executor.run(\"How can I treat a sprained ankle?\")"
      ],
      "metadata": {
        "colab": {
          "base_uri": "https://localhost:8080/",
          "height": 559
        },
        "id": "JySasF_8q5Ie",
        "outputId": "d4c1d2b8-0438-4817-86bc-08a23460fd46"
      },
      "execution_count": null,
      "outputs": [
        {
          "output_type": "stream",
          "name": "stdout",
          "text": [
            "\n",
            "\n",
            "\u001b[1m> Entering new AgentExecutor chain...\u001b[0m\n",
            "\u001b[32;1m\u001b[1;3mThought: A sprained ankle can be painful and limit mobility, so it's important to treat it properly.\n",
            "Action: Search WebMD\n",
            "Action Input: \"treat sprained ankle\"\u001b[0m\n",
            "\n",
            "Observation:\u001b[36;1m\u001b[1;3mSprained ankle vs. broken ankle. While a sprained ankle involves torn or stretched ligaments, a broken ankle means that at least one of the bones in your ankle is broken. Symptoms of a sprain and ... Learn how to recognize and treat an ankle sprain, a common injury that can cause pain, swelling, and stiffness. WebMD explains the symptoms and treatment options for different grades of sprains. The RICE method is a simple self-care technique that aims to reduce swelling, ease pain, and speed up healing. Rest, ice, compression, and elevation of a sprain or strain are part of the RICE ... The most common type of sprain is a sprained ankle. About 25,000 people sprain an ankle every day. ... Most people with mild sprains and strains can treat these injuries at home by following ... Achilles tendonitis. Achilles tendonitis is an overuse injury that causes inflammation of the tough band of tissue that attaches your calf muscles to your heel bone. To treat it: Rest your foot ...\u001b[0m\n",
            "\u001b[32;1m\u001b[1;3m It's important to understand the difference between a sprained ankle and a broken ankle, as well as the different treatment options available.\n",
            "Action: Search WebMD\n",
            "Action Input: \"sprained ankle vs broken ankle\"\u001b[0m\n",
            "\n",
            "Observation:\u001b[36;1m\u001b[1;3mSprained ankle vs. broken ankle. While a sprained ankle involves torn or stretched ligaments, a broken ankle means that at least one of the bones in your ankle is broken. Symptoms of a sprain and ... Sprains can range from minor to severe. Your doctor likely will put your sprain at one of three \"grades\" based on the amount of damage: Grade 1: Your ankle will probably feel sore and may be ... Chronic Lateral Ankle Pain. 10 /15. There are many possible causes for ongoing pain on the outside of your ankle. It's most likely because a ligament didn't heal properly after a sprain and ... The most common type of sprain is a sprained ankle. About 25,000 people sprain an ankle every day. Think of a runner who goes over a curb and catches their foot, twisting the ankle; or a baseball ... Other bones in the foot sometimes break when you twist or sprain an ankle. Most bones break suddenly because of an accident. Occasionally, small cracks can form in bones over a longer period of ...\u001b[0m\n",
            "\u001b[32;1m\u001b[1;3m It's important to understand the different grades of sprains and the potential for chronic pain if a sprain is not properly treated.\n",
            "Action: Search WebMD\n",
            "Action Input: \"grades of sprains\"\u001b[0m\n",
            "\n",
            "Observation:\u001b[36;1m\u001b[1;3mLearn how to recognize and treat an ankle sprain, a common injury that can cause pain, swelling, and stiffness. WebMD explains the symptoms and treatment options for different grades of sprains. Sprained ankle vs. broken ankle. While a sprained ankle involves torn or stretched ligaments, a broken ankle means that at least one of the bones in your ankle is broken. Symptoms of a sprain and ... Sprains usually happen when a person falls, twists, or is hit in a way that forces the body out of its normal position. The most common type of sprain is a sprained ankle . About 25,000 people ... Sprains are usually divided into three grades: Grade I: Pain with minor damage to the ligament; Grade II: Pain, more severe ligament damage, a feeling of looseness to the joint, and some loss of ... MCL tear vs. sprain. An injury to your knee ligament is called a tear or sprain. The term sprain is used when a ligament is stretched or torn. ... Grade 1 is a mild tear. Less than 10% of the ...\u001b[0m\n",
            "\u001b[32;1m\u001b[1;3m It's important to understand the different treatment options for sprains based on the severity of the injury.\n",
            "Action: Search WebMD\n",
            "Action Input: \"treatment options for sprains\"\u001b[0m\n",
            "\n",
            "Observation:\u001b[36;1m\u001b[1;3mSprains usually happen when a person falls, twists, or is hit in a way that forces the body out of its normal position. The most common type of sprain is a sprained ankle . About 25,000 people ... Sprained ankle vs. broken ankle. While a sprained ankle involves torn or stretched ligaments, a broken ankle means that at least one of the bones in your ankle is broken. Symptoms of a sprain and ... Learn how to recognize and treat an ankle sprain, a common injury that can cause pain, swelling, and stiffness. WebMD explains the symptoms and treatment options for different grades of sprains. A grade 2 (moderate) MCL tear usually heals in 4-6 weeks with treatment. A grade 3 (severe) MCL tear usually takes 6 weeks or longer to heal with treatment. If you have surgery, it can take more time. RICE is a simple, at-home treatment for sprains and strains. Learn how rest, ice, elevation, and compression can help you reduce pain and recover more quickly.\u001b[0m\n",
            "\u001b[32;1m\u001b[1;3m The RICE method is a simple and effective way to treat sprains and strains at home.\n",
            "Final Answer: The best way to treat a sprained ankle is to follow the RICE method - rest, ice, compression, and elevation. It's important to understand the difference between a sprained ankle and a broken ankle, as well as the different grades of sprains and the potential for chronic pain if a sprain is not properly treated. If the pain persists or becomes severe, it's important to speak to a doctor for further evaluation and treatment.\u001b[0m\n",
            "\n",
            "\u001b[1m> Finished chain.\u001b[0m\n"
          ]
        },
        {
          "output_type": "execute_result",
          "data": {
            "text/plain": [
              "\"The best way to treat a sprained ankle is to follow the RICE method - rest, ice, compression, and elevation. It's important to understand the difference between a sprained ankle and a broken ankle, as well as the different grades of sprains and the potential for chronic pain if a sprain is not properly treated. If the pain persists or becomes severe, it's important to speak to a doctor for further evaluation and treatment.\""
            ],
            "application/vnd.google.colaboratory.intrinsic+json": {
              "type": "string"
            }
          },
          "metadata": {},
          "execution_count": 49
        }
      ]
    },
    {
      "cell_type": "code",
      "source": [
        "agent_executor.run(\"What meds could I take?\")"
      ],
      "metadata": {
        "id": "WeL0rnKPtE1E"
      },
      "execution_count": null,
      "outputs": []
    },
    {
      "cell_type": "code",
      "source": [
        "agent_executor.run(\"How long will it take to heal?\")"
      ],
      "metadata": {
        "id": "YvLD_1Ek1kmU"
      },
      "execution_count": null,
      "outputs": []
    }
  ]
}