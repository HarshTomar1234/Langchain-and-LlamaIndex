{
 "cells": [
  {
   "cell_type": "code",
   "execution_count": 17,
   "metadata": {
    "executionInfo": {
     "elapsed": 20802,
     "status": "ok",
     "timestamp": 1718371942324,
     "user": {
      "displayName": "Harsh Tomar",
      "userId": "07306423374395310283"
     },
     "user_tz": -330
    },
    "id": "RRYSu48huSUW"
   },
   "outputs": [],
   "source": [
    "!pip -q install langchain openai google-search-results tiktoken\n",
    "!pip -q install kor markdownify"
   ]
  },
  {
   "cell_type": "code",
   "execution_count": 16,
   "metadata": {
    "colab": {
     "base_uri": "https://localhost:8080/"
    },
    "executionInfo": {
     "elapsed": 11726,
     "status": "ok",
     "timestamp": 1718371921525,
     "user": {
      "displayName": "Harsh Tomar",
      "userId": "07306423374395310283"
     },
     "user_tz": -330
    },
    "id": "u8Wu1Wer7Z-T",
    "outputId": "2146dd07-c47d-43c1-c56e-79a2ebc77b83"
   },
   "outputs": [
    {
     "name": "stdout",
     "output_type": "stream",
     "text": [
      "Requirement already satisfied: pandas==1.5.3 in /usr/local/lib/python3.10/dist-packages (1.5.3)\n",
      "Requirement already satisfied: python-dateutil>=2.8.1 in /usr/local/lib/python3.10/dist-packages (from pandas==1.5.3) (2.8.2)\n",
      "Requirement already satisfied: pytz>=2020.1 in /usr/local/lib/python3.10/dist-packages (from pandas==1.5.3) (2023.4)\n",
      "Requirement already satisfied: numpy>=1.21.0 in /usr/local/lib/python3.10/dist-packages (from pandas==1.5.3) (1.25.2)\n",
      "Requirement already satisfied: six>=1.5 in /usr/local/lib/python3.10/dist-packages (from python-dateutil>=2.8.1->pandas==1.5.3) (1.16.0)\n"
     ]
    }
   ],
   "source": [
    "!pip install  pandas==1.5.3"
   ]
  },
  {
   "cell_type": "code",
   "execution_count": 18,
   "metadata": {
    "colab": {
     "base_uri": "https://localhost:8080/"
    },
    "executionInfo": {
     "elapsed": 11069,
     "status": "ok",
     "timestamp": 1718371953347,
     "user": {
      "displayName": "Harsh Tomar",
      "userId": "07306423374395310283"
     },
     "user_tz": -330
    },
    "id": "8dNsYHYs7kIk",
    "outputId": "68bc4a16-581e-4bea-bdac-0869dbc38e74"
   },
   "outputs": [
    {
     "name": "stdout",
     "output_type": "stream",
     "text": [
      "Name: pandas\n",
      "Version: 1.5.3\n",
      "Summary: Powerful data structures for data analysis, time series, and statistics\n",
      "Home-page: https://pandas.pydata.org\n",
      "Author: The Pandas Development Team\n",
      "Author-email: pandas-dev@python.org\n",
      "License: BSD-3-Clause\n",
      "Location: /usr/local/lib/python3.10/dist-packages\n",
      "Requires: numpy, python-dateutil, pytz\n",
      "Required-by: altair, arviz, bigframes, bokeh, bqplot, cmdstanpy, cudf-cu12, cufflinks, datascience, db-dtypes, dopamine_rl, fastai, geemap, geopandas, google-colab, gspread-dataframe, holoviews, ibis-framework, kor, mizani, mlxtend, pandas-datareader, pandas-gbq, panel, plotnine, prophet, pymc, seaborn, sklearn-pandas, statsmodels, vega-datasets, xarray, yfinance\n"
     ]
    }
   ],
   "source": [
    "!pip show pandas"
   ]
  },
  {
   "cell_type": "markdown",
   "metadata": {
    "id": "hkK5C4KB64H0"
   },
   "source": [
    "**Markdownify is also available as a Python package that can be installed using pip. It supports various options such as stripping tags, converting tags, and wrapping text. You can use it to convert HTML to Markdown and vice versa.**"
   ]
  },
  {
   "cell_type": "code",
   "execution_count": null,
   "metadata": {
    "executionInfo": {
     "elapsed": 33,
     "status": "ok",
     "timestamp": 1718371953347,
     "user": {
      "displayName": "Harsh Tomar",
      "userId": "07306423374395310283"
     },
     "user_tz": -330
    },
    "id": "dNA4TsHpu6OM"
   },
   "outputs": [],
   "source": [
    "import os\n",
    "\n",
    "os.environ[\"OPENAI_API_KEY\"] = \"your-api-key\""
   ]
  },
  {
   "cell_type": "code",
   "execution_count": 20,
   "metadata": {
    "colab": {
     "base_uri": "https://localhost:8080/"
    },
    "executionInfo": {
     "elapsed": 6165,
     "status": "ok",
     "timestamp": 1718372092899,
     "user": {
      "displayName": "Harsh Tomar",
      "userId": "07306423374395310283"
     },
     "user_tz": -330
    },
    "id": "J-KFB7J_u_3L",
    "outputId": "40d87f6a-a837-4235-c1d3-085668cb4b9b"
   },
   "outputs": [
    {
     "name": "stdout",
     "output_type": "stream",
     "text": [
      "Name: langchain\n",
      "Version: 0.2.4\n",
      "Summary: Building applications with LLMs through composability\n",
      "Home-page: https://github.com/langchain-ai/langchain\n",
      "Author: \n",
      "Author-email: \n",
      "License: MIT\n",
      "Location: /usr/local/lib/python3.10/dist-packages\n",
      "Requires: aiohttp, async-timeout, langchain-core, langchain-text-splitters, langsmith, numpy, pydantic, PyYAML, requests, SQLAlchemy, tenacity\n",
      "Required-by: kor\n"
     ]
    }
   ],
   "source": [
    "!pip show langchain"
   ]
  },
  {
   "cell_type": "markdown",
   "metadata": {
    "id": "4g4MiT_ZBiNk"
   },
   "source": [
    "# Kor\n",
    "\n",
    "**Kor is a library in the LangChain field that helps to extract structured data from text using Large Language Models (LLMs)**. It is designed to work with various LLMs, including OpenAI models, and provides a flexible and customizable way to extract data from text.\n",
    "\n",
    "### Key Features\n",
    "\n",
    "1. **Schema-based Extraction**: Kor allows users to specify a schema for the data they want to extract, which helps the LLM to understand what data to extract and how to structure it.\n",
    "2. **Example-based Training**: Kor uses examples to train the LLM, which improves the accuracy and efficiency of the extraction process.\n",
    "3. **Support for Various LLMs**: Kor is designed to work with various LLMs, including OpenAI models, and provides a flexible and customizable way to extract data from text.\n",
    "4. **Parsing Approach**: Kor uses a parsing approach to extract data from text, which involves providing a schema and examples to the LLM and then parsing the output to extract the desired data.\n",
    "\n",
    "### Use Cases\n",
    "\n",
    "1. **Information Extraction**: Kor can be used for information extraction tasks such as extracting personal information, extracting data from text files, and extracting data from conversations.\n",
    "2. **Market Research**: Kor can be used for market research tasks such as extracting data from text files, extracting data from conversations, and extracting data from product reviews.\n",
    "3. **Named Entity Recognition**: Kor can be used for named entity recognition tasks such as extracting names, locations, and organizations from text.\n",
    "\n",
    "### Benefits\n",
    "\n",
    "1. **Easy to Use**: Kor is easy to use and provides a flexible and customizable way to extract data from text.\n",
    "2. **Accurate Results**: Kor provides accurate results by using a schema-based approach and example-based training.\n",
    "3. **Support for Various LLMs**: Kor supports various LLMs, including OpenAI models, which provides a flexible and customizable way to extract data from text.\n",
    "\n",
    "### Limitations\n",
    "\n",
    "1. **Limited to LLMs**: Kor is limited to working with LLMs and may not work with other types of models.\n",
    "2. **Requires Schema and Examples**: Kor requires a schema and examples to be provided, which can be time-consuming and require significant effort.\n",
    "3. **May Not Work for All Text**: Kor may not work for all types of text, especially those with complex structures or ambiguous meanings.\n",
    "\n",
    "### Comparison to Other Libraries\n",
    "\n",
    "1. **LangChain**: Kor is similar to LangChain in that it provides a flexible and customizable way to extract data from text using LLMs. However, Kor is more focused on schema-based extraction and example-based training.\n",
    "2. **OpenAI**: Kor is similar to OpenAI in that it provides a way to extract data from text using LLMs. However, Kor is more focused on schema-based extraction and example-based training, while OpenAI provides a more general-purpose API for text processing.\n",
    "\n",
    "### Conclusion\n",
    "\n",
    "Kor is a powerful library in the LangChain field that provides a flexible and customizable way to extract structured data from text using LLMs. It is easy to use, provides accurate results, and supports various LLMs. However, it may have limitations such as requiring a schema and examples, and may not work for all types of text."
   ]
  },
  {
   "cell_type": "markdown",
   "metadata": {
    "id": "9M-CROtIBixD"
   },
   "source": [
    "## Kor Basics\n",
    "\n",
    "The basic workflow is the following:\n",
    "\n",
    "1. Load the document\n",
    "2. Clean up the document (optional)\n",
    "3. Split the document into chunks\n",
    "4. Define a schema for extraction\n",
    "5. Extract from every chunk of text"
   ]
  },
  {
   "cell_type": "markdown",
   "metadata": {
    "id": "xwEtlxHx-CD5"
   },
   "source": [
    "In the Kor library, **a schema is a structured definition of the data that should be extracted from text using Large Language Models (LLMs). It specifies the fields and their types, along with descriptions and examples, to help the LLM understand what data to extract and how to structure it**.\n",
    "\n",
    "### Key Components\n",
    "\n",
    "1. **Fields**: A schema in Kor consists of fields, which are the individual pieces of data that should be extracted. Each field has a unique identifier, a description, and a type (e.g., Text, Number, Bool, or Selection).\n",
    "2. **Descriptions**: Descriptions are used to provide context and clarify the purpose of each field. This helps the LLM understand the nuances of the extraction task and handle tricky scenarios more effectively.\n",
    "3. **Examples**: Examples are provided to illustrate how the data should be extracted and structured. These examples help the LLM learn how to handle different scenarios and improve the accuracy of the extraction process.\n",
    "4. **Types**: Kor supports various data types, including Object, Text, Number, Bool, and Selection. These types determine how the data should be structured and processed.\n",
    "\n",
    "### Benefits\n",
    "\n",
    "1. **Improved Accuracy**: By providing a schema with descriptions and examples, Kor helps the LLM understand the extraction task better, leading to more accurate results.\n",
    "2. **Flexibility**: Kor's schema-based approach allows for flexibility in defining the structure and types of the extracted data, making it suitable for various use cases.\n",
    "3. **Ease of Use**: Kor's schema definition is easy to use and understand, even for complex data extraction tasks.\n",
    "\n",
    "### Integration with LangChain\n",
    "\n",
    "Kor is built on top of the LangChain framework, which provides a flexible and customizable way to extract structured data from text using LLMs. Kor's schema-based approach integrates seamlessly with LangChain, enabling users to leverage the power of LLMs for data extraction tasks."
   ]
  },
  {
   "cell_type": "code",
   "execution_count": 22,
   "metadata": {
    "colab": {
     "base_uri": "https://localhost:8080/"
    },
    "executionInfo": {
     "elapsed": 10290,
     "status": "ok",
     "timestamp": 1718372374315,
     "user": {
      "displayName": "Harsh Tomar",
      "userId": "07306423374395310283"
     },
     "user_tz": -330
    },
    "id": "m6baT0Zl-SaR",
    "outputId": "1aef56ab-a8c3-4186-9cc6-540ce11504fe"
   },
   "outputs": [
    {
     "name": "stdout",
     "output_type": "stream",
     "text": [
      "Collecting langchain_community\n",
      "  Downloading langchain_community-0.2.4-py3-none-any.whl (2.2 MB)\n",
      "\u001b[2K     \u001b[90m━━━━━━━━━━━━━━━━━━━━━━━━━━━━━━━━━━━━━━━━\u001b[0m \u001b[32m2.2/2.2 MB\u001b[0m \u001b[31m20.2 MB/s\u001b[0m eta \u001b[36m0:00:00\u001b[0m\n",
      "\u001b[?25hRequirement already satisfied: PyYAML>=5.3 in /usr/local/lib/python3.10/dist-packages (from langchain_community) (6.0.1)\n",
      "Requirement already satisfied: SQLAlchemy<3,>=1.4 in /usr/local/lib/python3.10/dist-packages (from langchain_community) (2.0.30)\n",
      "Requirement already satisfied: aiohttp<4.0.0,>=3.8.3 in /usr/local/lib/python3.10/dist-packages (from langchain_community) (3.9.5)\n",
      "Collecting dataclasses-json<0.7,>=0.5.7 (from langchain_community)\n",
      "  Downloading dataclasses_json-0.6.7-py3-none-any.whl (28 kB)\n",
      "Requirement already satisfied: langchain<0.3.0,>=0.2.0 in /usr/local/lib/python3.10/dist-packages (from langchain_community) (0.2.4)\n",
      "Requirement already satisfied: langchain-core<0.3.0,>=0.2.0 in /usr/local/lib/python3.10/dist-packages (from langchain_community) (0.2.6)\n",
      "Requirement already satisfied: langsmith<0.2.0,>=0.1.0 in /usr/local/lib/python3.10/dist-packages (from langchain_community) (0.1.77)\n",
      "Requirement already satisfied: numpy<2,>=1 in /usr/local/lib/python3.10/dist-packages (from langchain_community) (1.25.2)\n",
      "Requirement already satisfied: requests<3,>=2 in /usr/local/lib/python3.10/dist-packages (from langchain_community) (2.31.0)\n",
      "Requirement already satisfied: tenacity<9.0.0,>=8.1.0 in /usr/local/lib/python3.10/dist-packages (from langchain_community) (8.3.0)\n",
      "Requirement already satisfied: aiosignal>=1.1.2 in /usr/local/lib/python3.10/dist-packages (from aiohttp<4.0.0,>=3.8.3->langchain_community) (1.3.1)\n",
      "Requirement already satisfied: attrs>=17.3.0 in /usr/local/lib/python3.10/dist-packages (from aiohttp<4.0.0,>=3.8.3->langchain_community) (23.2.0)\n",
      "Requirement already satisfied: frozenlist>=1.1.1 in /usr/local/lib/python3.10/dist-packages (from aiohttp<4.0.0,>=3.8.3->langchain_community) (1.4.1)\n",
      "Requirement already satisfied: multidict<7.0,>=4.5 in /usr/local/lib/python3.10/dist-packages (from aiohttp<4.0.0,>=3.8.3->langchain_community) (6.0.5)\n",
      "Requirement already satisfied: yarl<2.0,>=1.0 in /usr/local/lib/python3.10/dist-packages (from aiohttp<4.0.0,>=3.8.3->langchain_community) (1.9.4)\n",
      "Requirement already satisfied: async-timeout<5.0,>=4.0 in /usr/local/lib/python3.10/dist-packages (from aiohttp<4.0.0,>=3.8.3->langchain_community) (4.0.3)\n",
      "Collecting marshmallow<4.0.0,>=3.18.0 (from dataclasses-json<0.7,>=0.5.7->langchain_community)\n",
      "  Downloading marshmallow-3.21.3-py3-none-any.whl (49 kB)\n",
      "\u001b[2K     \u001b[90m━━━━━━━━━━━━━━━━━━━━━━━━━━━━━━━━━━━━━━━━\u001b[0m \u001b[32m49.2/49.2 kB\u001b[0m \u001b[31m7.5 MB/s\u001b[0m eta \u001b[36m0:00:00\u001b[0m\n",
      "\u001b[?25hCollecting typing-inspect<1,>=0.4.0 (from dataclasses-json<0.7,>=0.5.7->langchain_community)\n",
      "  Downloading typing_inspect-0.9.0-py3-none-any.whl (8.8 kB)\n",
      "Requirement already satisfied: langchain-text-splitters<0.3.0,>=0.2.0 in /usr/local/lib/python3.10/dist-packages (from langchain<0.3.0,>=0.2.0->langchain_community) (0.2.1)\n",
      "Requirement already satisfied: pydantic<3,>=1 in /usr/local/lib/python3.10/dist-packages (from langchain<0.3.0,>=0.2.0->langchain_community) (2.7.3)\n",
      "Requirement already satisfied: jsonpatch<2.0,>=1.33 in /usr/local/lib/python3.10/dist-packages (from langchain-core<0.3.0,>=0.2.0->langchain_community) (1.33)\n",
      "Requirement already satisfied: packaging<25,>=23.2 in /usr/local/lib/python3.10/dist-packages (from langchain-core<0.3.0,>=0.2.0->langchain_community) (24.1)\n",
      "Requirement already satisfied: orjson<4.0.0,>=3.9.14 in /usr/local/lib/python3.10/dist-packages (from langsmith<0.2.0,>=0.1.0->langchain_community) (3.10.5)\n",
      "Requirement already satisfied: charset-normalizer<4,>=2 in /usr/local/lib/python3.10/dist-packages (from requests<3,>=2->langchain_community) (3.3.2)\n",
      "Requirement already satisfied: idna<4,>=2.5 in /usr/local/lib/python3.10/dist-packages (from requests<3,>=2->langchain_community) (3.7)\n",
      "Requirement already satisfied: urllib3<3,>=1.21.1 in /usr/local/lib/python3.10/dist-packages (from requests<3,>=2->langchain_community) (2.0.7)\n",
      "Requirement already satisfied: certifi>=2017.4.17 in /usr/local/lib/python3.10/dist-packages (from requests<3,>=2->langchain_community) (2024.6.2)\n",
      "Requirement already satisfied: typing-extensions>=4.6.0 in /usr/local/lib/python3.10/dist-packages (from SQLAlchemy<3,>=1.4->langchain_community) (4.12.2)\n",
      "Requirement already satisfied: greenlet!=0.4.17 in /usr/local/lib/python3.10/dist-packages (from SQLAlchemy<3,>=1.4->langchain_community) (3.0.3)\n",
      "Requirement already satisfied: jsonpointer>=1.9 in /usr/local/lib/python3.10/dist-packages (from jsonpatch<2.0,>=1.33->langchain-core<0.3.0,>=0.2.0->langchain_community) (3.0.0)\n",
      "Requirement already satisfied: annotated-types>=0.4.0 in /usr/local/lib/python3.10/dist-packages (from pydantic<3,>=1->langchain<0.3.0,>=0.2.0->langchain_community) (0.7.0)\n",
      "Requirement already satisfied: pydantic-core==2.18.4 in /usr/local/lib/python3.10/dist-packages (from pydantic<3,>=1->langchain<0.3.0,>=0.2.0->langchain_community) (2.18.4)\n",
      "Collecting mypy-extensions>=0.3.0 (from typing-inspect<1,>=0.4.0->dataclasses-json<0.7,>=0.5.7->langchain_community)\n",
      "  Downloading mypy_extensions-1.0.0-py3-none-any.whl (4.7 kB)\n",
      "Installing collected packages: mypy-extensions, marshmallow, typing-inspect, dataclasses-json, langchain_community\n",
      "Successfully installed dataclasses-json-0.6.7 langchain_community-0.2.4 marshmallow-3.21.3 mypy-extensions-1.0.0 typing-inspect-0.9.0\n"
     ]
    }
   ],
   "source": [
    "!pip install langchain_community"
   ]
  },
  {
   "cell_type": "code",
   "execution_count": 23,
   "metadata": {
    "executionInfo": {
     "elapsed": 943,
     "status": "ok",
     "timestamp": 1718372375232,
     "user": {
      "displayName": "Harsh Tomar",
      "userId": "07306423374395310283"
     },
     "user_tz": -330
    },
    "id": "Kk3c8z0PBgeI"
   },
   "outputs": [],
   "source": [
    "from typing import List, Optional\n",
    "\n",
    "from langchain.callbacks import get_openai_callback\n",
    "from langchain.chat_models import ChatOpenAI\n",
    "\n",
    "from kor.extraction import create_extraction_chain\n",
    "from kor.nodes import Object, Text, Number\n",
    "\n",
    "import pandas as pd\n",
    "from pydantic import BaseModel, Field, validator\n",
    "from kor import extract_from_documents, from_pydantic, create_extraction_chain\n",
    "\n",
    "\n",
    "from langchain.schema import Document\n",
    "from langchain.text_splitter import RecursiveCharacterTextSplitter\n"
   ]
  },
  {
   "cell_type": "markdown",
   "metadata": {
    "id": "TfxIzJa1Dqkk"
   },
   "source": [
    "# Pydantic\n",
    "\n",
    "Pydantic is a Python library used for data validation and parsing. It allows you to define models with strict type hints and runtime validation. Here's a breakdown of the components you've imported:\n",
    "\n",
    "1. **BaseModel**: This is the base class for creating Pydantic models. Models are classes that inherit from `BaseModel` and define fields as annotated attributes. They are used to define the structure and constraints of data.\n",
    "\n",
    "2. **Field**: This is used to specify additional metadata for fields in a model. It can be used to define aliases, default values, and validation constraints.\n",
    "\n",
    "3. **validator**: This is a decorator used to define custom validators for fields in a model. Validators are functions that check if the value of a field meets certain conditions and raise a `ValidationError` if it does not.\n",
    "\n",
    "Here's a simple example of how you might use these components:\n",
    "\n",
    "```python\n",
    "from pydantic import BaseModel, Field, validator\n",
    "\n",
    "class User(BaseModel):\n",
    "    name: str\n",
    "    age: int\n",
    "\n",
    "    @validator('age')\n",
    "    def age_must_be_positive(cls, v):\n",
    "        if v <= 0:\n",
    "            raise ValueError('Age must be positive')\n",
    "        return v\n",
    "\n",
    "# Example usage:\n",
    "user = User(name='John Doe', age=30)\n",
    "print(user)  # Output: User(name='John Doe', age=30)\n",
    "\n",
    "# Validation error:\n",
    "try:\n",
    "    user = User(name='Jane Doe', age=-5)\n",
    "except ValueError as e:\n",
    "    print(e)  # Output: Age must be positive\n",
    "```\n",
    "\n",
    "In this example, the `User` model has two fields: `name` and `age`. The `age_must_be_positive` validator ensures that the `age` field must be a positive integer. If you try to create a `User` instance with a non-positive age, a `ValueError` is raised."
   ]
  },
  {
   "cell_type": "markdown",
   "metadata": {
    "id": "YS4EH2Yb-1lt"
   },
   "source": [
    "# Node Types\n",
    "\n",
    "In Kor, nodes are the building blocks of an extraction chain. Each node type has a specific purpose:\n",
    "\n",
    "* **Object**: Extracts a complex object with multiple fields.\n",
    "\n",
    "* **Text**: Extracts a single text value.\n",
    "\n",
    "* **Number**: Extracts a single numeric value.\n",
    "\n",
    "These **node types can be combined to create more complex extraction chains** that can extract structured data from text.\n",
    "\n",
    "The extraction chain in Kor is a sequence of nodes that define how to extract structured data from text using Large Language Models (LLMs). It consists of several components:\n",
    "\n",
    "1. **Schema Definition**: The schema defines the structure of the data to be extracted, including the fields and their types.\n",
    "2. **Extraction Examples**: Examples are provided to help the LLM understand how to extract the data.\n",
    "3. **LLM Instantiation**: The LLM is instantiated with the specified model and parameters.\n",
    "4. **Chain Creation**: The extraction chain is created using the schema and LLM.\n",
    "5. **Data Extraction**: The data is extracted from the input text using the extraction chain.\n",
    "\n",
    "Here is an example of how to create an extraction chain:\n",
    "```python\n",
    "from kor.extraction import create_extraction_chain\n",
    "from kor.nodes import Object, Text, Number\n",
    "\n",
    "schema = Object(\n",
    "    id=\"person\",\n",
    "    description=\"Personal information\",\n",
    "    attributes=[\n",
    "        Text(\n",
    "            id=\"first_name\",\n",
    "            description=\"The first name of a person\",\n",
    "            examples=[\n",
    "                (\"Alice and Bob are friends\", [{\"first_name\": \"Alice\"}, {\"first_name\": \"Bob\"}]\n",
    "            ]\n",
    "        ),\n",
    "        Number(\n",
    "            id=\"age\",\n",
    "            description=\"The age of a person\",\n",
    "            examples=[\n",
    "                (\"Alice is 25 years old\", {\"age\": 25})\n",
    "            ]\n",
    "        )\n",
    "    ]\n",
    ")\n",
    "\n",
    "llm = ChatOpenAI(\n",
    "    model_name=\"gpt-3.5-turbo\",\n",
    "    temperature=0,\n",
    "    max_tokens=2000\n",
    ")\n",
    "\n",
    "chain = create_extraction_chain(llm, schema)\n",
    "```\n",
    "\n",
    "The extraction chain can then be used to extract data from text:\n",
    "```python\n",
    "chain.run(\"My name is Bobby. My brother's name is Joe.\")\n",
    "```\n",
    "\n",
    "The output will be a structured data object with the extracted information:\n",
    "```python\n",
    "{'person': [{'first_name': 'Bobby', 'age': None}, {'first_name': 'Joe', 'age': None}]}\n",
    "```\n",
    "\n",
    "The extraction chain can also handle more complex schemas and extract data from text:\n",
    "```python\n",
    "schema = Object(\n",
    "    id=\"invoice\",\n",
    "    description=\"Invoice information\",\n",
    "    attributes=[\n",
    "        Text(\n",
    "            id=\"invoice_number\",\n",
    "            description=\"The invoice number\",\n",
    "            examples=[\n",
    "                (\"Invoice number: 1234\", {\"invoice_number\": \"1234\"})\n",
    "            ]\n",
    "        ),\n",
    "        Number(\n",
    "            id=\"amount\",\n",
    "            description=\"The amount of the invoice\",\n",
    "            examples=[\n",
    "                (\"The invoice amount is $100\", {\"amount\": 100})\n",
    "            ]\n",
    "        )\n",
    "    ]\n",
    ")\n",
    "\n",
    "llm = ChatOpenAI(\n",
    "    model_name=\"gpt-3.5-turbo\",\n",
    "    temperature=0,\n",
    "    max_tokens=2000\n",
    ")\n",
    "\n",
    "chain = create_extraction_chain(llm, schema)\n",
    "```\n",
    "\n",
    "The extraction chain can then be used to extract data from text:\n",
    "```python\n",
    "chain.run(\"Invoice number: 1234. The invoice amount is $100.\")\n",
    "```\n",
    "\n",
    "The output will be a structured data object with the extracted information:\n",
    "```python\n",
    "{'invoice': {'invoice_number': '1234', 'amount': 100}}\n",
    "```\n",
    "\n",
    "I hope this helps Let me know if you have any further questions."
   ]
  },
  {
   "cell_type": "markdown",
   "metadata": {
    "id": "29nRABvafCEW"
   },
   "source": [
    "## Simple examples"
   ]
  },
  {
   "cell_type": "code",
   "execution_count": null,
   "metadata": {
    "id": "sJiJwJ5UfER6"
   },
   "outputs": [],
   "source": [
    "llm = ChatOpenAI(\n",
    "    model_name=\"gpt-3.5-turbo\",\n",
    "    temperature=0,\n",
    ")"
   ]
  },
  {
   "cell_type": "code",
   "execution_count": null,
   "metadata": {
    "id": "LDXQgLLVfd73"
   },
   "outputs": [],
   "source": [
    "schema = Object(\n",
    "    id=\"personal_info\",\n",
    "    description=\"Personal information about a given person.\",\n",
    "    attributes=[\n",
    "        Text(\n",
    "            id=\"first_name\",\n",
    "            description=\"The first name of the person\",\n",
    "            examples=[(\"John Smith went to the store\", \"John\")],\n",
    "        ),\n",
    "        Text(\n",
    "            id=\"last_name\",\n",
    "            description=\"The last name of the person\",\n",
    "            examples=[(\"John Smith went to the store\", \"Smith\")],\n",
    "        ),\n",
    "        Number(\n",
    "            id=\"age\",\n",
    "            description=\"The age of the person in years.\",\n",
    "            examples=[(\"23 years old\", \"23\"), (\"I turned three on sunday\", \"3\")],\n",
    "        ),\n",
    "    ],\n",
    "    examples=[\n",
    "        (\n",
    "            \"John Smith was 23 years old. He was very tall. He knew Jane Doe. She was 5 years old.\",\n",
    "            [\n",
    "                {\"first_name\": \"John\", \"last_name\": \"Smith\", \"age\": 23},\n",
    "                {\"first_name\": \"Jane\", \"last_name\": \"Doe\", \"age\": 5},\n",
    "            ],\n",
    "        )\n",
    "    ],\n",
    "    many=True,\n",
    ")\n",
    "\n",
    "\n",
    "chain = create_extraction_chain(llm, schema)"
   ]
  },
  {
   "cell_type": "code",
   "execution_count": 26,
   "metadata": {
    "colab": {
     "base_uri": "https://localhost:8080/"
    },
    "executionInfo": {
     "elapsed": 751,
     "status": "ok",
     "timestamp": 1718372853467,
     "user": {
      "displayName": "Harsh Tomar",
      "userId": "07306423374395310283"
     },
     "user_tz": -330
    },
    "id": "sWTguilQfkTM",
    "outputId": "14fddbf2-4174-46f5-e66c-a6cd2f9d773a"
   },
   "outputs": [
    {
     "name": "stdout",
     "output_type": "stream",
     "text": [
      "Your goal is to extract structured information from the user's input that matches the form described below. When extracting information please make sure it matches the type information exactly. Do not add any attributes that do not appear in the schema shown below.\n",
      "\n",
      "```TypeScript\n",
      "\n",
      "personal_info: Array<{ // Personal information about a given person.\n",
      " first_name: string // The first name of the person\n",
      " last_name: string // The last name of the person\n",
      " age: number // The age of the person in years.\n",
      "}>\n",
      "```\n",
      "\n",
      "\n",
      "Please output the extracted information in CSV format in Excel dialect. Please use a | as the delimiter. \n",
      " Do NOT add any clarifying information. Output MUST follow the schema above. Do NOT add any additional columns that do not appear in the schema.\n",
      "\n",
      "\n",
      "\n",
      "Input: John Smith was 23 years old. He was very tall. He knew Jane Doe. She was 5 years old.\n",
      "Output: first_name|last_name|age\n",
      "John|Smith|23\n",
      "Jane|Doe|5\n",
      "\n",
      "Input: John Smith went to the store\n",
      "Output: first_name|last_name|age\n",
      "John||\n",
      "\n",
      "Input: John Smith went to the store\n",
      "Output: first_name|last_name|age\n",
      "|Smith|\n",
      "\n",
      "Input: 23 years old\n",
      "Output: first_name|last_name|age\n",
      "||23\n",
      "\n",
      "Input: I turned three on sunday\n",
      "Output: first_name|last_name|age\n",
      "||3\n",
      "\n",
      "Input: [user input]\n",
      "Output:\n"
     ]
    }
   ],
   "source": [
    "print(chain.prompt.format_prompt(text=\"[user input]\").to_string())"
   ]
  },
  {
   "cell_type": "code",
   "execution_count": 30,
   "metadata": {
    "colab": {
     "base_uri": "https://localhost:8080/"
    },
    "executionInfo": {
     "elapsed": 1599,
     "status": "ok",
     "timestamp": 1718373073581,
     "user": {
      "displayName": "Harsh Tomar",
      "userId": "07306423374395310283"
     },
     "user_tz": -330
    },
    "id": "4PjSryvAfwXE",
    "outputId": "cca72953-de98-4ad7-dcef-f9535d0cbb85"
   },
   "outputs": [
    {
     "data": {
      "text/plain": [
       "{'personal_info': [{'first_name': 'David', 'last_name': 'Jones', 'age': '34'}]}"
      ]
     },
     "execution_count": 30,
     "metadata": {},
     "output_type": "execute_result"
    }
   ],
   "source": [
    "chain.run(text=\"David Jones was 34 years old a long time ago.\")[\"data\"]"
   ]
  },
  {
   "cell_type": "markdown",
   "metadata": {
    "id": "dz9gWTk4TGd0"
   },
   "source": [
    "## Nested Objects and JSON"
   ]
  },
  {
   "cell_type": "code",
   "execution_count": 31,
   "metadata": {
    "executionInfo": {
     "elapsed": 712,
     "status": "ok",
     "timestamp": 1718373825010,
     "user": {
      "displayName": "Harsh Tomar",
      "userId": "07306423374395310283"
     },
     "user_tz": -330
    },
    "id": "LOOSR4DyYX-e"
   },
   "outputs": [],
   "source": [
    "from_address = Object(\n",
    "    id=\"from_address\",\n",
    "    description=\"Person moved away from this address\",\n",
    "    attributes=[\n",
    "        Text(id=\"street\"),\n",
    "        Text(id=\"city\"),\n",
    "        Text(id=\"state\"),\n",
    "        Text(id=\"zipcode\"),\n",
    "        Text(id=\"country\", description=\"A country in the world; e.g., France.\"),\n",
    "    ],\n",
    "    examples=[\n",
    "        (\n",
    "            \"100 Main St, Boston, MA, 23232, USA\",\n",
    "            {\n",
    "                \"street\": \"100 Marlo St\",\n",
    "                \"city\": \"Boston\",\n",
    "                \"state\": \"MA\",\n",
    "                \"zipcode\": \"23232\",\n",
    "                \"country\": \"USA\",\n",
    "            },\n",
    "        )\n",
    "    ],\n",
    ")\n",
    "\n",
    "to_address = from_address.replace(\n",
    "    id=\"to_address\", description=\"Address to which the person is moving\"\n",
    ")\n",
    "\n",
    "schema = Object(\n",
    "    id=\"information\",\n",
    "    attributes=[\n",
    "        Text(\n",
    "            id=\"person_name\",\n",
    "            description=\"The full name of the person or partial name\",\n",
    "            examples=[(\"John Smith was here\", \"John Smith\")],\n",
    "        ),\n",
    "        from_address,\n",
    "        to_address,\n",
    "    ],\n",
    "    many=True,\n",
    ")"
   ]
  },
  {
   "cell_type": "markdown",
   "metadata": {
    "id": "f37I2uk5ezfF"
   },
   "source": [
    "### JSON encoding\n",
    "To use nested objects, at least for now we have to swap to the JSON encoder."
   ]
  },
  {
   "cell_type": "code",
   "execution_count": 32,
   "metadata": {
    "executionInfo": {
     "elapsed": 5,
     "status": "ok",
     "timestamp": 1718373834314,
     "user": {
      "displayName": "Harsh Tomar",
      "userId": "07306423374395310283"
     },
     "user_tz": -330
    },
    "id": "UpcrZoeje1Vs"
   },
   "outputs": [],
   "source": [
    "chain = create_extraction_chain(\n",
    "    llm, schema, encoder_or_encoder_class=\"json\", input_formatter=None\n",
    ")"
   ]
  },
  {
   "cell_type": "code",
   "execution_count": 33,
   "metadata": {
    "colab": {
     "base_uri": "https://localhost:8080/"
    },
    "executionInfo": {
     "elapsed": 718,
     "status": "ok",
     "timestamp": 1718373843124,
     "user": {
      "displayName": "Harsh Tomar",
      "userId": "07306423374395310283"
     },
     "user_tz": -330
    },
    "id": "0-7Pox8hulAX",
    "outputId": "053d2753-59fa-4006-ca5e-df49fda083d3"
   },
   "outputs": [
    {
     "name": "stdout",
     "output_type": "stream",
     "text": [
      "Your goal is to extract structured information from the user's input that matches the form described below. When extracting information please make sure it matches the type information exactly. Do not add any attributes that do not appear in the schema shown below.\n",
      "\n",
      "```TypeScript\n",
      "\n",
      "information: Array<{ // \n",
      " person_name: string // The full name of the person or partial name\n",
      " from_address: { // Person moved away from this address\n",
      "  street: string // \n",
      "  city: string // \n",
      "  state: string // \n",
      "  zipcode: string // \n",
      "  country: string // A country in the world; e.g., France.\n",
      " }\n",
      " to_address: { // Address to which the person is moving\n",
      "  street: string // \n",
      "  city: string // \n",
      "  state: string // \n",
      "  zipcode: string // \n",
      "  country: string // A country in the world; e.g., France.\n",
      " }\n",
      "}>\n",
      "```\n",
      "\n",
      "\n",
      "Please output the extracted information in JSON format. Do not output anything except for the extracted information. Do not add any clarifying information. Do not add any fields that are not in the schema. If the text contains attributes that do not appear in the schema, please ignore them. All output must be in JSON format and follow the schema specified above. Wrap the JSON in <json> tags.\n",
      "\n",
      "\n",
      "\n",
      "Input: John Smith was here\n",
      "Output: <json>{\"information\": [{\"person_name\": \"John Smith\"}]}</json>\n",
      "Input: 100 Main St, Boston, MA, 23232, USA\n",
      "Output: <json>{\"information\": [{\"from_address\": {\"street\": \"100 Marlo St\", \"city\": \"Boston\", \"state\": \"MA\", \"zipcode\": \"23232\", \"country\": \"USA\"}}]}</json>\n",
      "Input: 100 Main St, Boston, MA, 23232, USA\n",
      "Output: <json>{\"information\": [{\"to_address\": {\"street\": \"100 Marlo St\", \"city\": \"Boston\", \"state\": \"MA\", \"zipcode\": \"23232\", \"country\": \"USA\"}}]}</json>\n",
      "Input: [user input]\n",
      "Output:\n"
     ]
    }
   ],
   "source": [
    "print(chain.prompt.format_prompt(text=\"[user input]\").to_string())"
   ]
  },
  {
   "cell_type": "code",
   "execution_count": 35,
   "metadata": {
    "colab": {
     "base_uri": "https://localhost:8080/"
    },
    "executionInfo": {
     "elapsed": 1668,
     "status": "ok",
     "timestamp": 1718373876868,
     "user": {
      "displayName": "Harsh Tomar",
      "userId": "07306423374395310283"
     },
     "user_tz": -330
    },
    "id": "Pa4Jdj89khtD",
    "outputId": "573ec04e-fc3c-43ed-fdf9-3f69258912bb"
   },
   "outputs": [
    {
     "data": {
      "text/plain": [
       "{'information': [{'person_name': 'Alice Doe',\n",
       "   'from_address': {'city': 'New York'}},\n",
       "  {'person_name': 'Bob Smith', 'to_address': {'city': 'New York'}}]}"
      ]
     },
     "execution_count": 35,
     "metadata": {},
     "output_type": "execute_result"
    }
   ],
   "source": [
    "chain.run(\n",
    "    text=\"Alice Doe moved from New York to Boston, MA while Bob Smith did the opposite.\"\n",
    ")[\"data\"]"
   ]
  },
  {
   "cell_type": "markdown",
   "metadata": {
    "id": "jZRRn5mxQPDu"
   },
   "source": [
    "## With Pydantic and validation"
   ]
  },
  {
   "cell_type": "code",
   "execution_count": 37,
   "metadata": {
    "executionInfo": {
     "elapsed": 6151,
     "status": "ok",
     "timestamp": 1718373933555,
     "user": {
      "displayName": "Harsh Tomar",
      "userId": "07306423374395310283"
     },
     "user_tz": -330
    },
    "id": "6s4_vP1DfSd8"
   },
   "outputs": [],
   "source": [
    "!wget -q https://www.dropbox.com/s/gekyuep86zibhl1/conversation-025722052023.txt"
   ]
  },
  {
   "cell_type": "markdown",
   "metadata": {
    "id": "9PX7S0ykCJ9K"
   },
   "source": [
    "#### Load the document"
   ]
  },
  {
   "cell_type": "code",
   "execution_count": 38,
   "metadata": {
    "executionInfo": {
     "elapsed": 893,
     "status": "ok",
     "timestamp": 1718373948082,
     "user": {
      "displayName": "Harsh Tomar",
      "userId": "07306423374395310283"
     },
     "user_tz": -330
    },
    "id": "2EpriZKOhbHl"
   },
   "outputs": [],
   "source": [
    "def load_conversation(filename):\n",
    "\n",
    "    with open(filename, 'r') as f:\n",
    "        conversation = f.read()\n",
    "\n",
    "    return conversation\n"
   ]
  },
  {
   "cell_type": "code",
   "execution_count": 39,
   "metadata": {
    "colab": {
     "base_uri": "https://localhost:8080/"
    },
    "executionInfo": {
     "elapsed": 824,
     "status": "ok",
     "timestamp": 1718373952913,
     "user": {
      "displayName": "Harsh Tomar",
      "userId": "07306423374395310283"
     },
     "user_tz": -330
    },
    "id": "9yJMEUnQt9id",
    "outputId": "2495d1bd-035c-4280-f28c-c5915a40f331"
   },
   "outputs": [
    {
     "data": {
      "text/plain": [
       "9456"
      ]
     },
     "execution_count": 39,
     "metadata": {},
     "output_type": "execute_result"
    }
   ],
   "source": [
    "conversation = load_conversation('/content/conversation-025722052023.txt')\n",
    "\n",
    "len(conversation)"
   ]
  },
  {
   "cell_type": "code",
   "execution_count": 40,
   "metadata": {
    "colab": {
     "base_uri": "https://localhost:8080/",
     "height": 192
    },
    "executionInfo": {
     "elapsed": 17,
     "status": "ok",
     "timestamp": 1718373957635,
     "user": {
      "displayName": "Harsh Tomar",
      "userId": "07306423374395310283"
     },
     "user_tz": -330
    },
    "id": "B7TLMT90rMdo",
    "outputId": "3670571d-08fd-4e44-9001-d434718e1e20"
   },
   "outputs": [
    {
     "data": {
      "application/vnd.google.colaboratory.intrinsic+json": {
       "type": "string"
      },
      "text/plain": [
       "'Food lover 2: Instruction: Please describe your first most unforgettable meal, including the location, ambiance, taste, and any unique experiences.\\nInput: My first most unforgettable meal was at a restaurant called El Celler de Can Roca in Girona, Spain. The ambiance was elegant and modern, and the food was a creative and delicious 18-course tasting menu. One unique experience was when they brought out a dish that was inspired by the smells of the forest.\\n\\nFood lover 1: My response: That sounds amazing! The forest-inspired dish must have been a unique experience. My first most unforgettable meal was at a restaurant called Noma in Copenhagen, Denmark. The location was in an old warehouse by the waterfront, and the ambiance was rustic and cozy. The food was presented in a simple and natural way, with many of the ingredients sourced from the surrounding Nordic region. One of the most memorable dishes was a dessert made with fermented berries and ants, which added a surprising and delicious crunch. Overall, it was a truly unforgettable dining experience that showcased the beauty and flavors of Nordic cuisine. Next question.\\n\\nFood lover 2: Instruction: Please describe your second most unforgettable meal, including the location, ambiance, taste, and any unique experiences.\\nInput: My second most unforgettable meal was at a small family-owned restaurant called La Cava del Tequila in Mexico City. The ambiance was cozy and intimate, with dim lighting and traditional Mexican decor. The food was authentic and flavorful, with a focus on regional specialties. One unique experience was when the owner came to our table and gave us a tequila tasting, explaining the different types and flavors. The standout dish for me was the mole, which had a complex and rich flavor that I had never tasted before.\\n\\nFood lover 1: My response: That sounds like a wonderful experience! My second most unforgettable meal was at a restaurant called Gaggan in Bangkok, Thailand. The location was in a beautiful colonial-style house, and the ambiance was modern and chic. The food was a creative and playful take on Indian cuisine, with each dish presented in a unique and artistic way. One unique experience was when they brought out a dish that was meant to be eaten with your hands, and it was served on a miniature replica of a tree. The standout dish for me was the \"Lick It Up\" course, which was a deconstructed version of a traditional Indian street food dish. Overall, it was an unforgettable dining experience that showcased the creativity and innovation of modern Indian cuisine. Next question.\\n\\nFood lover 2: Instruction: Please describe your third most unforgettable meal, including the location, ambiance, taste, and any unique experiences.\\nInput: My third most unforgettable meal was at a restaurant called Osteria Francescana in Modena, Italy. The location was in a historic building in the heart of the city, and the ambiance was elegant and refined. The food was a modern take on traditional Italian cuisine, with a focus on local and seasonal ingredients. One unique experience was when they brought out a dish that was inspired by the childhood memories of the chef, Massimo Bottura. The standout dish for me was the \"Oops! I Dropped the Lemon Tart,\" which was a deconstructed version of a lemon tart that was presented in a playful and unexpected way. Overall, it was an unforgettable dining experience that showcased the creativity and passion of Italian cuisine.\\n\\nFood lover 1: My response: That\\'s a great choice! My third most unforgettable meal was at a restaurant called Attica in Melbourne, Australia. The location was in a converted warehouse, and the ambiance was modern and minimalist. The food was a creative and innovative take on Australian cuisine, with a focus on native ingredients and flavors. One unique experience was when they brought out a dish that was meant to be eaten with your hands, and it was served on a bed of eucalyptus leaves. The standout dish for me was the \"Potato cooked in the earth it was grown,\" which was a simple yet delicious dish that showcased the natural flavors of the potato. Overall, it was an unforgettable dining experience that showcased the beauty and diversity of Australian cuisine. Next question.\\n\\nFood lover 2: Instruction: Please rate my first meal based on originality, presentation, and overall satisfaction.\\nInput: I would rate your first meal very highly based on originality, presentation, and overall satisfaction. The forest-inspired dish sounds like a unique and creative concept, and the elegant and modern ambiance of the restaurant must have added to the overall experience. The 18-course tasting menu also shows a high level of creativity and attention to detail. Overall, it sounds like a truly unforgettable dining experience.\\n\\nFood lover 1: My response: I completely agree with your assessment. Your first meal sounds like it was a truly unforgettable dining experience, with a high level of originality, presentation, and overall satisfaction. The attention to detail and creativity in the dishes, as well as the elegant and modern ambiance of the restaurant, must have made for a truly memorable experience. I would rate your first meal very highly based on these factors. Next question.\\n\\nFood lover 2: Instruction: Please rate my second meal based on originality, presentation, and overall satisfaction.\\nInput: I would rate your second meal very highly based on originality, presentation, and overall satisfaction. The cozy and intimate ambiance of the restaurant, along with the authentic and flavorful Mexican cuisine, must have made for a truly memorable experience. The tequila tasting and focus on regional specialties also show a high level of attention to detail and passion for the cuisine. Overall, it sounds like a wonderful dining experience.\\n\\nFood lover 1: My response: I completely agree with your assessment. Your second meal sounds like it was a wonderful dining experience, with a high level of originality, presentation, and overall satisfaction. The cozy and intimate ambiance of the restaurant, along with the authentic and flavorful Mexican cuisine, must have made for a truly memorable experience. The tequila tasting and focus on regional specialties also show a high level of attention to detail and passion for the cuisine. I would rate your second meal very highly based on these factors. Next question.\\n\\nFood lover 2: Instruction: Please rate my third meal based on originality, presentation, and overall satisfaction.\\nInput: I would rate your third meal very highly based on originality, presentation, and overall satisfaction. The elegant and refined ambiance of the restaurant, along with the modern take on traditional Italian cuisine, must have made for a truly unforgettable dining experience. The dish inspired by the childhood memories of the chef, as well as the deconstructed lemon tart, show a high level of creativity and attention to detail. Overall, it sounds like a truly exceptional dining experience.\\n\\nFood lover 1: My response: I completely agree with your assessment. Your third meal sounds like it was a truly exceptional dining experience, with a high level of originality, presentation, and overall satisfaction. The elegant and refined ambiance of the restaurant, along with the modern take on traditional Italian cuisine, must have made for a truly unforgettable dining experience. The dish inspired by the childhood memories of the chef, as well as the deconstructed lemon tart, show a high level of creativity and attention to detail. I would rate your third meal very highly based on these factors. Next question.\\n\\nFood lover 2: Instruction: Based on our descriptions and ratings of each other\\'s meals, which meal would you be most interested in trying and why?\\nInput: Based on our descriptions and ratings of each other\\'s meals, I would be most interested in trying your second meal at Noma in Copenhagen, Denmark. The rustic and cozy ambiance of the restaurant, along with the creative and playful take on Nordic cuisine, sounds like a truly unique and memorable dining experience. The dessert made with fermented berries and ants also sounds like a fascinating and delicious dish to try. Overall, I would love to experience the beauty and flavors of Nordic cuisine at Noma.\\n\\nFood lover 1: My response: That\\'s a great choice! Based on our descriptions and ratings of each other\\'s meals, I would be most interested in trying your first meal at Osteria Francescana in Modena, Italy. The elegant and modern ambiance of the restaurant, along with the creative and artistic presentation of the dishes, sounds like a truly unforgettable dining experience. The \"Oops! I Dropped the Lemon Tart\" dessert also sounds like a playful and unexpected dish that would be a delight to try. Overall, I would love to experience the creativity and passion of Italian cuisine at Osteria Francescana.\\n\\nFood lover 2: Instruction: It seems like we both have a great choice in mind. Thank you for sharing your unforgettable meals with me. <TASK_DONE>\\n\\nFood lover 1: My response: You\\'re welcome! It was a pleasure sharing our unforgettable meals with each other. I look forward to collaborating with you on future tasks. <TASK_DONE>\\n\\nFood lover 2: Great! Looking forward to working with you again. <TASK_DONE>\\n\\nFood lover 1: Likewise! Have a great day. <TASK_DONE>\\n\\nFood lover 2: You too! <TASK_DONE>\\n\\nFood lover 1: Thank you! <TASK_DONE>\\n\\n'"
      ]
     },
     "execution_count": 40,
     "metadata": {},
     "output_type": "execute_result"
    }
   ],
   "source": [
    "conversation"
   ]
  },
  {
   "cell_type": "markdown",
   "metadata": {
    "id": "FPcmGiUQiVdX"
   },
   "source": [
    "#### Split the text into docs"
   ]
  },
  {
   "cell_type": "code",
   "execution_count": 41,
   "metadata": {
    "executionInfo": {
     "elapsed": 6,
     "status": "ok",
     "timestamp": 1718373962636,
     "user": {
      "displayName": "Harsh Tomar",
      "userId": "07306423374395310283"
     },
     "user_tz": -330
    },
    "id": "4XKVN0TOHJo3"
   },
   "outputs": [],
   "source": [
    "doc = Document(page_content=conversation)"
   ]
  },
  {
   "cell_type": "code",
   "execution_count": 42,
   "metadata": {
    "executionInfo": {
     "elapsed": 3,
     "status": "ok",
     "timestamp": 1718373965879,
     "user": {
      "displayName": "Harsh Tomar",
      "userId": "07306423374395310283"
     },
     "user_tz": -330
    },
    "id": "A0c_8-qqHAXj"
   },
   "outputs": [],
   "source": [
    "split_docs = RecursiveCharacterTextSplitter().split_documents([doc])"
   ]
  },
  {
   "cell_type": "markdown",
   "metadata": {
    "id": "OubDxc9VCh6n"
   },
   "source": [
    "#### Extract Restaurant Info\n"
   ]
  },
  {
   "cell_type": "code",
   "execution_count": 43,
   "metadata": {
    "executionInfo": {
     "elapsed": 10,
     "status": "ok",
     "timestamp": 1718373970734,
     "user": {
      "displayName": "Harsh Tomar",
      "userId": "07306423374395310283"
     },
     "user_tz": -330
    },
    "id": "S9RZ9RZHCrPU"
   },
   "outputs": [],
   "source": [
    "llm = ChatOpenAI(\n",
    "     model_name=\"gpt-3.5-turbo\",\n",
    "    temperature=0,\n",
    ")"
   ]
  },
  {
   "cell_type": "code",
   "execution_count": null,
   "metadata": {
    "id": "6_Wof-S4EKMr"
   },
   "outputs": [],
   "source": [
    "class Restaurant(BaseModel):\n",
    "    name: str = Field(\n",
    "        description=\"The name of the restaurant\",\n",
    "    )\n",
    "    location: Optional[str] = Field(\n",
    "        description=\"City and or country, the place where the restaurant is\",\n",
    "    )\n",
    "    style: Optional[str] = Field(\n",
    "        description=\"The types of cusine that is served at the restaurant\",\n",
    "    )\n",
    "    top_dish: Optional[str] = Field(\n",
    "        description=\"The top dish that people love the most\",\n",
    "    )\n",
    "\n",
    "    @validator(\"name\")\n",
    "    def name_must_not_be_empty(cls, v):\n",
    "        if not v:\n",
    "            raise ValueError(\"Name must not be empty\")\n",
    "        return v\n",
    "\n",
    "\n"
   ]
  },
  {
   "cell_type": "code",
   "execution_count": 45,
   "metadata": {
    "executionInfo": {
     "elapsed": 862,
     "status": "ok",
     "timestamp": 1718374004729,
     "user": {
      "displayName": "Harsh Tomar",
      "userId": "07306423374395310283"
     },
     "user_tz": -330
    },
    "id": "wKJ6J7Ze0xhs"
   },
   "outputs": [],
   "source": [
    "schema, extraction_validator = from_pydantic(\n",
    "    Restaurant,\n",
    "    description=\"Extract information about restaurants including their name, location, style and dishes.\",\n",
    "    examples=[\n",
    "        (\n",
    "            \"My first fav meal was at a restaurant called Burnt Ends in Singapore.\",\n",
    "            {\"name\": \"Burnt Ends\", \"location\": \"Singapore\"},\n",
    "        )\n",
    "    ],\n",
    "    many=True,\n",
    ")"
   ]
  },
  {
   "cell_type": "code",
   "execution_count": 46,
   "metadata": {
    "executionInfo": {
     "elapsed": 1,
     "status": "ok",
     "timestamp": 1718374009632,
     "user": {
      "displayName": "Harsh Tomar",
      "userId": "07306423374395310283"
     },
     "user_tz": -330
    },
    "id": "TCYXBYvSFYEu"
   },
   "outputs": [],
   "source": [
    "chain = create_extraction_chain(\n",
    "    llm,\n",
    "    schema,\n",
    "    encoder_or_encoder_class=\"csv\",\n",
    "    validator=extraction_validator,\n",
    "    input_formatter=\"triple_quotes\",\n",
    ")"
   ]
  },
  {
   "cell_type": "code",
   "execution_count": 47,
   "metadata": {
    "colab": {
     "base_uri": "https://localhost:8080/"
    },
    "executionInfo": {
     "elapsed": 797,
     "status": "ok",
     "timestamp": 1718374014454,
     "user": {
      "displayName": "Harsh Tomar",
      "userId": "07306423374395310283"
     },
     "user_tz": -330
    },
    "id": "57McFWe6uTnu",
    "outputId": "75ba22dc-ee71-4c97-8d2c-daa3a1296dd4"
   },
   "outputs": [
    {
     "name": "stdout",
     "output_type": "stream",
     "text": [
      "Your goal is to extract structured information from the user's input that matches the form described below. When extracting information please make sure it matches the type information exactly. Do not add any attributes that do not appear in the schema shown below.\n",
      "\n",
      "```TypeScript\n",
      "\n",
      "restaurant: Array<{ // Extract information about restaurants including their name, location, style and dishes.\n",
      " name: string // The name of the restaurant\n",
      " location: string // City and or country, the place where the restaurant is\n",
      " style: string // The types of cusine that is served at the restaurant\n",
      " top_dish: string // The top dish that people love the most\n",
      "}>\n",
      "```\n",
      "\n",
      "\n",
      "Please output the extracted information in CSV format in Excel dialect. Please use a | as the delimiter. \n",
      " Do NOT add any clarifying information. Output MUST follow the schema above. Do NOT add any additional columns that do not appear in the schema.\n",
      "\n",
      "\n",
      "\n",
      "Input: \"\"\"\n",
      "My first fav meal was at a restaurant called Burnt Ends in Singapore.\n",
      "\"\"\"\n",
      "Output: name|location|style|top_dish\n",
      "Burnt Ends|Singapore||\n",
      "\n",
      "Input: \"\"\"\n",
      "[user input]\n",
      "\"\"\"\n",
      "Output:\n"
     ]
    }
   ],
   "source": [
    "print(chain.prompt.format_prompt(text=\"[user input]\").to_string())"
   ]
  },
  {
   "cell_type": "code",
   "execution_count": 49,
   "metadata": {
    "colab": {
     "base_uri": "https://localhost:8080/"
    },
    "executionInfo": {
     "elapsed": 2194,
     "status": "ok",
     "timestamp": 1718374032789,
     "user": {
      "displayName": "Harsh Tomar",
      "userId": "07306423374395310283"
     },
     "user_tz": -330
    },
    "id": "gLdZLuJ1GlgO",
    "outputId": "fa974021-112c-4c24-89b9-ab3e2633e636"
   },
   "outputs": [
    {
     "name": "stdout",
     "output_type": "stream",
     "text": [
      "Total Tokens: 2694\n",
      "Prompt Tokens: 2571\n",
      "Completion Tokens: 123\n",
      "Successful Requests: 3\n",
      "Total Cost (USD): $0.0041025\n"
     ]
    }
   ],
   "source": [
    "with get_openai_callback() as cb:\n",
    "    document_extraction_results = await extract_from_documents(\n",
    "        chain, split_docs, max_concurrency=5, use_uid=False, return_exceptions=True\n",
    "    )\n",
    "    print(f\"Total Tokens: {cb.total_tokens}\")\n",
    "    print(f\"Prompt Tokens: {cb.prompt_tokens}\")\n",
    "    print(f\"Completion Tokens: {cb.completion_tokens}\")\n",
    "    print(f\"Successful Requests: {cb.successful_requests}\")\n",
    "    print(f\"Total Cost (USD): ${cb.total_cost}\")"
   ]
  },
  {
   "cell_type": "code",
   "execution_count": 50,
   "metadata": {
    "colab": {
     "base_uri": "https://localhost:8080/"
    },
    "executionInfo": {
     "elapsed": 698,
     "status": "ok",
     "timestamp": 1718374042309,
     "user": {
      "displayName": "Harsh Tomar",
      "userId": "07306423374395310283"
     },
     "user_tz": -330
    },
    "id": "CCAH5bPUGlj6",
    "outputId": "68ce2439-27c6-4179-b603-964d3b89a3a3"
   },
   "outputs": [
    {
     "data": {
      "text/plain": [
       "[{'uid': '0',\n",
       "  'source_uid': '0',\n",
       "  'data': {'restaurant': [{'name': 'El Celler de Can Roca',\n",
       "     'location': 'Girona, Spain',\n",
       "     'style': '',\n",
       "     'top_dish': ''},\n",
       "    {'name': 'Noma',\n",
       "     'location': 'Copenhagen, Denmark',\n",
       "     'style': '',\n",
       "     'top_dish': ''},\n",
       "    {'name': 'La Cava del Tequila',\n",
       "     'location': 'Mexico City',\n",
       "     'style': '',\n",
       "     'top_dish': ''},\n",
       "    {'name': 'Gaggan',\n",
       "     'location': 'Bangkok, Thailand',\n",
       "     'style': '',\n",
       "     'top_dish': ''},\n",
       "    {'name': 'Osteria Francescana',\n",
       "     'location': 'Modena, Italy',\n",
       "     'style': '',\n",
       "     'top_dish': ''}]},\n",
       "  'raw': 'name|location|style|top_dish\\nEl Celler de Can Roca|Girona, Spain||\\nNoma|Copenhagen, Denmark||\\nLa Cava del Tequila|Mexico City||\\nGaggan|Bangkok, Thailand||\\nOsteria Francescana|Modena, Italy||',\n",
       "  'validated_data': [Restaurant(name='El Celler de Can Roca', location='Girona, Spain', style='', top_dish=''),\n",
       "   Restaurant(name='Noma', location='Copenhagen, Denmark', style='', top_dish=''),\n",
       "   Restaurant(name='La Cava del Tequila', location='Mexico City', style='', top_dish=''),\n",
       "   Restaurant(name='Gaggan', location='Bangkok, Thailand', style='', top_dish=''),\n",
       "   Restaurant(name='Osteria Francescana', location='Modena, Italy', style='', top_dish='')],\n",
       "  'errors': []},\n",
       " {'uid': '1',\n",
       "  'source_uid': '1',\n",
       "  'data': {'restaurant': [{'name': 'Attica',\n",
       "     'location': 'Melbourne, Australia',\n",
       "     'style': 'Australian',\n",
       "     'top_dish': 'Potato cooked in the earth it was grown'}]},\n",
       "  'raw': 'name|location|style|top_dish\\nAttica|Melbourne, Australia|Australian|Potato cooked in the earth it was grown',\n",
       "  'validated_data': [Restaurant(name='Attica', location='Melbourne, Australia', style='Australian', top_dish='Potato cooked in the earth it was grown')],\n",
       "  'errors': []},\n",
       " {'uid': '2',\n",
       "  'source_uid': '2',\n",
       "  'data': {'restaurant': [{'name': 'Noma',\n",
       "     'location': 'Copenhagen, Denmark',\n",
       "     'style': 'Nordic cuisine',\n",
       "     'top_dish': 'dessert made with fermented berries and ants'}]},\n",
       "  'raw': 'name|location|style|top_dish\\nNoma|Copenhagen, Denmark|Nordic cuisine|dessert made with fermented berries and ants',\n",
       "  'validated_data': [Restaurant(name='Noma', location='Copenhagen, Denmark', style='Nordic cuisine', top_dish='dessert made with fermented berries and ants')],\n",
       "  'errors': []}]"
      ]
     },
     "execution_count": 50,
     "metadata": {},
     "output_type": "execute_result"
    }
   ],
   "source": [
    "document_extraction_results"
   ]
  },
  {
   "cell_type": "markdown",
   "metadata": {
    "id": "8cc9_YenLuUS"
   },
   "source": [
    "#### Let's put it in a human readable format"
   ]
  },
  {
   "cell_type": "code",
   "execution_count": 66,
   "metadata": {
    "executionInfo": {
     "elapsed": 640,
     "status": "ok",
     "timestamp": 1718377101909,
     "user": {
      "displayName": "Harsh Tomar",
      "userId": "07306423374395310283"
     },
     "user_tz": -330
    },
    "id": "IGAiZqjvGlm-"
   },
   "outputs": [],
   "source": [
    "import json\n",
    "\n",
    "def extract_restaurant_info(json_data):\n",
    "    for record in json_data:\n",
    "        restaurant_list = record.get('data', {}).get('restaurant', [])\n",
    "        for restaurant in restaurant_list:\n",
    "            name = restaurant.get('name', '')\n",
    "            location = restaurant.get('location', '')\n",
    "            style = restaurant.get('style', '')\n",
    "            top_dish = restaurant.get('top_dish', '')\n",
    "\n",
    "            # If style is not specified, we'll just say \"Cuisine not specified\"\n",
    "            style = style if style else 'Cuisine not specified'\n",
    "\n",
    "            print(f'Restaurant Name: {name}\\nLocation: {location}\\nStyle: {style}\\nTop Dish: {top_dish}\\n')\n",
    "\n"
   ]
  },
  {
   "cell_type": "code",
   "execution_count": 68,
   "metadata": {
    "colab": {
     "base_uri": "https://localhost:8080/"
    },
    "executionInfo": {
     "elapsed": 981,
     "status": "ok",
     "timestamp": 1718377126352,
     "user": {
      "displayName": "Harsh Tomar",
      "userId": "07306423374395310283"
     },
     "user_tz": -330
    },
    "id": "6MUbvaicJL8W",
    "outputId": "f6d3ab34-4cee-4600-bf26-76f750706b82"
   },
   "outputs": [
    {
     "name": "stdout",
     "output_type": "stream",
     "text": [
      "Restaurant Name: El Celler de Can Roca\n",
      "Location: Girona, Spain\n",
      "Style: Creative and delicious 18-course tasting menu\n",
      "Top Dish: Forest-inspired dish\n",
      "\n",
      "Restaurant Name: Noma\n",
      "Location: Copenhagen, Denmark\n",
      "Style: Simple and natural Nordic cuisine\n",
      "Top Dish: Dessert made with fermented berries and ants\n",
      "\n",
      "Restaurant Name: La Cava del Tequila\n",
      "Location: Mexico City\n",
      "Style: Authentic and flavorful regional specialties\n",
      "Top Dish: Mole\n",
      "\n",
      "Restaurant Name: Gaggan\n",
      "Location: Bangkok, Thailand\n",
      "Style: Creative and playful Indian cuisine\n",
      "Top Dish: Lick It Up course\n",
      "\n",
      "Restaurant Name: Osteria Francescana\n",
      "Location: Modena, Italy\n",
      "Style: Modern take on traditional Italian cuisine\n",
      "Top Dish: Oops! I Dropped the Lemon Tart\n",
      "\n",
      "Restaurant Name: Attica\n",
      "Location: Melbourne, Australia\n",
      "Style: Australian\n",
      "Top Dish: Potato cooked in the earth it was grown\n",
      "\n",
      "Restaurant Name: Osteria Francescana\n",
      "Location: Modena, Italy\n",
      "Style: Italian\n",
      "Top Dish: Oops! I Dropped the Lemon Tart\n",
      "\n"
     ]
    }
   ],
   "source": [
    "\n",
    "extract_restaurant_info(document_extraction_results)"
   ]
  },
  {
   "cell_type": "markdown",
   "metadata": {
    "id": "UHWoSa6NLpXe"
   },
   "source": [
    "#### Lets put it in a structured DataFrame"
   ]
  },
  {
   "cell_type": "code",
   "execution_count": 69,
   "metadata": {
    "executionInfo": {
     "elapsed": 767,
     "status": "ok",
     "timestamp": 1718377133184,
     "user": {
      "displayName": "Harsh Tomar",
      "userId": "07306423374395310283"
     },
     "user_tz": -330
    },
    "id": "Xel0E62FJL-u"
   },
   "outputs": [],
   "source": [
    "import pandas as pd\n",
    "\n",
    "def generate_dataframe(json_data):\n",
    "    # Prepare an empty list to store all restaurant data\n",
    "    data = []\n",
    "\n",
    "    for record in json_data:\n",
    "        restaurant_list = record.get('data', {}).get('restaurant', [])\n",
    "        for restaurant in restaurant_list:\n",
    "            # Get details for each restaurant and append it to data\n",
    "            data.append([\n",
    "                restaurant.get('name', ''),\n",
    "                restaurant.get('location', ''),\n",
    "                restaurant.get('style', '') if restaurant.get('style', '') else 'Cuisine not specified',\n",
    "                restaurant.get('top_dish', '')\n",
    "            ])\n",
    "\n",
    "    # Convert the list into a DataFrame\n",
    "    df = pd.DataFrame(data, columns=['Name', 'Location', 'Style', 'Top Dish'])\n",
    "\n",
    "    return df\n",
    "\n",
    "# Usage:\n",
    "df = generate_dataframe(document_extraction_results)\n"
   ]
  },
  {
   "cell_type": "code",
   "execution_count": 70,
   "metadata": {
    "colab": {
     "base_uri": "https://localhost:8080/",
     "height": 373
    },
    "executionInfo": {
     "elapsed": 23,
     "status": "ok",
     "timestamp": 1718377136637,
     "user": {
      "displayName": "Harsh Tomar",
      "userId": "07306423374395310283"
     },
     "user_tz": -330
    },
    "id": "aul5vTtbJMDr",
    "outputId": "a5e402e0-dc71-4d1d-83c7-dd9d7fba470c"
   },
   "outputs": [
    {
     "data": {
      "application/vnd.google.colaboratory.intrinsic+json": {
       "summary": "{\n  \"name\": \"df\",\n  \"rows\": 7,\n  \"fields\": [\n    {\n      \"column\": \"Name\",\n      \"properties\": {\n        \"dtype\": \"string\",\n        \"num_unique_values\": 6,\n        \"samples\": [\n          \"El Celler de Can Roca\",\n          \"Noma\",\n          \"Attica\"\n        ],\n        \"semantic_type\": \"\",\n        \"description\": \"\"\n      }\n    },\n    {\n      \"column\": \"Location\",\n      \"properties\": {\n        \"dtype\": \"string\",\n        \"num_unique_values\": 6,\n        \"samples\": [\n          \"Girona, Spain\",\n          \"Copenhagen, Denmark\",\n          \"Melbourne, Australia\"\n        ],\n        \"semantic_type\": \"\",\n        \"description\": \"\"\n      }\n    },\n    {\n      \"column\": \"Style\",\n      \"properties\": {\n        \"dtype\": \"string\",\n        \"num_unique_values\": 7,\n        \"samples\": [\n          \"Creative and delicious 18-course tasting menu\",\n          \"Simple and natural Nordic cuisine\",\n          \"Australian\"\n        ],\n        \"semantic_type\": \"\",\n        \"description\": \"\"\n      }\n    },\n    {\n      \"column\": \"Top Dish\",\n      \"properties\": {\n        \"dtype\": \"string\",\n        \"num_unique_values\": 6,\n        \"samples\": [\n          \"Forest-inspired dish\",\n          \"Dessert made with fermented berries and ants\",\n          \"Potato cooked in the earth it was grown\"\n        ],\n        \"semantic_type\": \"\",\n        \"description\": \"\"\n      }\n    }\n  ]\n}",
       "type": "dataframe",
       "variable_name": "df"
      },
      "text/html": [
       "\n",
       "  <div id=\"df-df2ae465-cd5c-4834-bb2c-e993e526ea89\" class=\"colab-df-container\">\n",
       "    <div>\n",
       "<style scoped>\n",
       "    .dataframe tbody tr th:only-of-type {\n",
       "        vertical-align: middle;\n",
       "    }\n",
       "\n",
       "    .dataframe tbody tr th {\n",
       "        vertical-align: top;\n",
       "    }\n",
       "\n",
       "    .dataframe thead th {\n",
       "        text-align: right;\n",
       "    }\n",
       "</style>\n",
       "<table border=\"1\" class=\"dataframe\">\n",
       "  <thead>\n",
       "    <tr style=\"text-align: right;\">\n",
       "      <th></th>\n",
       "      <th>Name</th>\n",
       "      <th>Location</th>\n",
       "      <th>Style</th>\n",
       "      <th>Top Dish</th>\n",
       "    </tr>\n",
       "  </thead>\n",
       "  <tbody>\n",
       "    <tr>\n",
       "      <th>0</th>\n",
       "      <td>El Celler de Can Roca</td>\n",
       "      <td>Girona, Spain</td>\n",
       "      <td>Creative and delicious 18-course tasting menu</td>\n",
       "      <td>Forest-inspired dish</td>\n",
       "    </tr>\n",
       "    <tr>\n",
       "      <th>1</th>\n",
       "      <td>Noma</td>\n",
       "      <td>Copenhagen, Denmark</td>\n",
       "      <td>Simple and natural Nordic cuisine</td>\n",
       "      <td>Dessert made with fermented berries and ants</td>\n",
       "    </tr>\n",
       "    <tr>\n",
       "      <th>2</th>\n",
       "      <td>La Cava del Tequila</td>\n",
       "      <td>Mexico City</td>\n",
       "      <td>Authentic and flavorful regional specialties</td>\n",
       "      <td>Mole</td>\n",
       "    </tr>\n",
       "    <tr>\n",
       "      <th>3</th>\n",
       "      <td>Gaggan</td>\n",
       "      <td>Bangkok, Thailand</td>\n",
       "      <td>Creative and playful Indian cuisine</td>\n",
       "      <td>Lick It Up course</td>\n",
       "    </tr>\n",
       "    <tr>\n",
       "      <th>4</th>\n",
       "      <td>Osteria Francescana</td>\n",
       "      <td>Modena, Italy</td>\n",
       "      <td>Modern take on traditional Italian cuisine</td>\n",
       "      <td>Oops! I Dropped the Lemon Tart</td>\n",
       "    </tr>\n",
       "    <tr>\n",
       "      <th>5</th>\n",
       "      <td>Attica</td>\n",
       "      <td>Melbourne, Australia</td>\n",
       "      <td>Australian</td>\n",
       "      <td>Potato cooked in the earth it was grown</td>\n",
       "    </tr>\n",
       "    <tr>\n",
       "      <th>6</th>\n",
       "      <td>Osteria Francescana</td>\n",
       "      <td>Modena, Italy</td>\n",
       "      <td>Italian</td>\n",
       "      <td>Oops! I Dropped the Lemon Tart</td>\n",
       "    </tr>\n",
       "  </tbody>\n",
       "</table>\n",
       "</div>\n",
       "    <div class=\"colab-df-buttons\">\n",
       "\n",
       "  <div class=\"colab-df-container\">\n",
       "    <button class=\"colab-df-convert\" onclick=\"convertToInteractive('df-df2ae465-cd5c-4834-bb2c-e993e526ea89')\"\n",
       "            title=\"Convert this dataframe to an interactive table.\"\n",
       "            style=\"display:none;\">\n",
       "\n",
       "  <svg xmlns=\"http://www.w3.org/2000/svg\" height=\"24px\" viewBox=\"0 -960 960 960\">\n",
       "    <path d=\"M120-120v-720h720v720H120Zm60-500h600v-160H180v160Zm220 220h160v-160H400v160Zm0 220h160v-160H400v160ZM180-400h160v-160H180v160Zm440 0h160v-160H620v160ZM180-180h160v-160H180v160Zm440 0h160v-160H620v160Z\"/>\n",
       "  </svg>\n",
       "    </button>\n",
       "\n",
       "  <style>\n",
       "    .colab-df-container {\n",
       "      display:flex;\n",
       "      gap: 12px;\n",
       "    }\n",
       "\n",
       "    .colab-df-convert {\n",
       "      background-color: #E8F0FE;\n",
       "      border: none;\n",
       "      border-radius: 50%;\n",
       "      cursor: pointer;\n",
       "      display: none;\n",
       "      fill: #1967D2;\n",
       "      height: 32px;\n",
       "      padding: 0 0 0 0;\n",
       "      width: 32px;\n",
       "    }\n",
       "\n",
       "    .colab-df-convert:hover {\n",
       "      background-color: #E2EBFA;\n",
       "      box-shadow: 0px 1px 2px rgba(60, 64, 67, 0.3), 0px 1px 3px 1px rgba(60, 64, 67, 0.15);\n",
       "      fill: #174EA6;\n",
       "    }\n",
       "\n",
       "    .colab-df-buttons div {\n",
       "      margin-bottom: 4px;\n",
       "    }\n",
       "\n",
       "    [theme=dark] .colab-df-convert {\n",
       "      background-color: #3B4455;\n",
       "      fill: #D2E3FC;\n",
       "    }\n",
       "\n",
       "    [theme=dark] .colab-df-convert:hover {\n",
       "      background-color: #434B5C;\n",
       "      box-shadow: 0px 1px 3px 1px rgba(0, 0, 0, 0.15);\n",
       "      filter: drop-shadow(0px 1px 2px rgba(0, 0, 0, 0.3));\n",
       "      fill: #FFFFFF;\n",
       "    }\n",
       "  </style>\n",
       "\n",
       "    <script>\n",
       "      const buttonEl =\n",
       "        document.querySelector('#df-df2ae465-cd5c-4834-bb2c-e993e526ea89 button.colab-df-convert');\n",
       "      buttonEl.style.display =\n",
       "        google.colab.kernel.accessAllowed ? 'block' : 'none';\n",
       "\n",
       "      async function convertToInteractive(key) {\n",
       "        const element = document.querySelector('#df-df2ae465-cd5c-4834-bb2c-e993e526ea89');\n",
       "        const dataTable =\n",
       "          await google.colab.kernel.invokeFunction('convertToInteractive',\n",
       "                                                    [key], {});\n",
       "        if (!dataTable) return;\n",
       "\n",
       "        const docLinkHtml = 'Like what you see? Visit the ' +\n",
       "          '<a target=\"_blank\" href=https://colab.research.google.com/notebooks/data_table.ipynb>data table notebook</a>'\n",
       "          + ' to learn more about interactive tables.';\n",
       "        element.innerHTML = '';\n",
       "        dataTable['output_type'] = 'display_data';\n",
       "        await google.colab.output.renderOutput(dataTable, element);\n",
       "        const docLink = document.createElement('div');\n",
       "        docLink.innerHTML = docLinkHtml;\n",
       "        element.appendChild(docLink);\n",
       "      }\n",
       "    </script>\n",
       "  </div>\n",
       "\n",
       "\n",
       "<div id=\"df-c10c0f8d-af6f-48b3-9cf8-7a98dea76dc4\">\n",
       "  <button class=\"colab-df-quickchart\" onclick=\"quickchart('df-c10c0f8d-af6f-48b3-9cf8-7a98dea76dc4')\"\n",
       "            title=\"Suggest charts\"\n",
       "            style=\"display:none;\">\n",
       "\n",
       "<svg xmlns=\"http://www.w3.org/2000/svg\" height=\"24px\"viewBox=\"0 0 24 24\"\n",
       "     width=\"24px\">\n",
       "    <g>\n",
       "        <path d=\"M19 3H5c-1.1 0-2 .9-2 2v14c0 1.1.9 2 2 2h14c1.1 0 2-.9 2-2V5c0-1.1-.9-2-2-2zM9 17H7v-7h2v7zm4 0h-2V7h2v10zm4 0h-2v-4h2v4z\"/>\n",
       "    </g>\n",
       "</svg>\n",
       "  </button>\n",
       "\n",
       "<style>\n",
       "  .colab-df-quickchart {\n",
       "      --bg-color: #E8F0FE;\n",
       "      --fill-color: #1967D2;\n",
       "      --hover-bg-color: #E2EBFA;\n",
       "      --hover-fill-color: #174EA6;\n",
       "      --disabled-fill-color: #AAA;\n",
       "      --disabled-bg-color: #DDD;\n",
       "  }\n",
       "\n",
       "  [theme=dark] .colab-df-quickchart {\n",
       "      --bg-color: #3B4455;\n",
       "      --fill-color: #D2E3FC;\n",
       "      --hover-bg-color: #434B5C;\n",
       "      --hover-fill-color: #FFFFFF;\n",
       "      --disabled-bg-color: #3B4455;\n",
       "      --disabled-fill-color: #666;\n",
       "  }\n",
       "\n",
       "  .colab-df-quickchart {\n",
       "    background-color: var(--bg-color);\n",
       "    border: none;\n",
       "    border-radius: 50%;\n",
       "    cursor: pointer;\n",
       "    display: none;\n",
       "    fill: var(--fill-color);\n",
       "    height: 32px;\n",
       "    padding: 0;\n",
       "    width: 32px;\n",
       "  }\n",
       "\n",
       "  .colab-df-quickchart:hover {\n",
       "    background-color: var(--hover-bg-color);\n",
       "    box-shadow: 0 1px 2px rgba(60, 64, 67, 0.3), 0 1px 3px 1px rgba(60, 64, 67, 0.15);\n",
       "    fill: var(--button-hover-fill-color);\n",
       "  }\n",
       "\n",
       "  .colab-df-quickchart-complete:disabled,\n",
       "  .colab-df-quickchart-complete:disabled:hover {\n",
       "    background-color: var(--disabled-bg-color);\n",
       "    fill: var(--disabled-fill-color);\n",
       "    box-shadow: none;\n",
       "  }\n",
       "\n",
       "  .colab-df-spinner {\n",
       "    border: 2px solid var(--fill-color);\n",
       "    border-color: transparent;\n",
       "    border-bottom-color: var(--fill-color);\n",
       "    animation:\n",
       "      spin 1s steps(1) infinite;\n",
       "  }\n",
       "\n",
       "  @keyframes spin {\n",
       "    0% {\n",
       "      border-color: transparent;\n",
       "      border-bottom-color: var(--fill-color);\n",
       "      border-left-color: var(--fill-color);\n",
       "    }\n",
       "    20% {\n",
       "      border-color: transparent;\n",
       "      border-left-color: var(--fill-color);\n",
       "      border-top-color: var(--fill-color);\n",
       "    }\n",
       "    30% {\n",
       "      border-color: transparent;\n",
       "      border-left-color: var(--fill-color);\n",
       "      border-top-color: var(--fill-color);\n",
       "      border-right-color: var(--fill-color);\n",
       "    }\n",
       "    40% {\n",
       "      border-color: transparent;\n",
       "      border-right-color: var(--fill-color);\n",
       "      border-top-color: var(--fill-color);\n",
       "    }\n",
       "    60% {\n",
       "      border-color: transparent;\n",
       "      border-right-color: var(--fill-color);\n",
       "    }\n",
       "    80% {\n",
       "      border-color: transparent;\n",
       "      border-right-color: var(--fill-color);\n",
       "      border-bottom-color: var(--fill-color);\n",
       "    }\n",
       "    90% {\n",
       "      border-color: transparent;\n",
       "      border-bottom-color: var(--fill-color);\n",
       "    }\n",
       "  }\n",
       "</style>\n",
       "\n",
       "  <script>\n",
       "    async function quickchart(key) {\n",
       "      const quickchartButtonEl =\n",
       "        document.querySelector('#' + key + ' button');\n",
       "      quickchartButtonEl.disabled = true;  // To prevent multiple clicks.\n",
       "      quickchartButtonEl.classList.add('colab-df-spinner');\n",
       "      try {\n",
       "        const charts = await google.colab.kernel.invokeFunction(\n",
       "            'suggestCharts', [key], {});\n",
       "      } catch (error) {\n",
       "        console.error('Error during call to suggestCharts:', error);\n",
       "      }\n",
       "      quickchartButtonEl.classList.remove('colab-df-spinner');\n",
       "      quickchartButtonEl.classList.add('colab-df-quickchart-complete');\n",
       "    }\n",
       "    (() => {\n",
       "      let quickchartButtonEl =\n",
       "        document.querySelector('#df-c10c0f8d-af6f-48b3-9cf8-7a98dea76dc4 button');\n",
       "      quickchartButtonEl.style.display =\n",
       "        google.colab.kernel.accessAllowed ? 'block' : 'none';\n",
       "    })();\n",
       "  </script>\n",
       "</div>\n",
       "\n",
       "  <div id=\"id_6e6d2bd2-9af9-479e-a477-3e47c2e383a3\">\n",
       "    <style>\n",
       "      .colab-df-generate {\n",
       "        background-color: #E8F0FE;\n",
       "        border: none;\n",
       "        border-radius: 50%;\n",
       "        cursor: pointer;\n",
       "        display: none;\n",
       "        fill: #1967D2;\n",
       "        height: 32px;\n",
       "        padding: 0 0 0 0;\n",
       "        width: 32px;\n",
       "      }\n",
       "\n",
       "      .colab-df-generate:hover {\n",
       "        background-color: #E2EBFA;\n",
       "        box-shadow: 0px 1px 2px rgba(60, 64, 67, 0.3), 0px 1px 3px 1px rgba(60, 64, 67, 0.15);\n",
       "        fill: #174EA6;\n",
       "      }\n",
       "\n",
       "      [theme=dark] .colab-df-generate {\n",
       "        background-color: #3B4455;\n",
       "        fill: #D2E3FC;\n",
       "      }\n",
       "\n",
       "      [theme=dark] .colab-df-generate:hover {\n",
       "        background-color: #434B5C;\n",
       "        box-shadow: 0px 1px 3px 1px rgba(0, 0, 0, 0.15);\n",
       "        filter: drop-shadow(0px 1px 2px rgba(0, 0, 0, 0.3));\n",
       "        fill: #FFFFFF;\n",
       "      }\n",
       "    </style>\n",
       "    <button class=\"colab-df-generate\" onclick=\"generateWithVariable('df')\"\n",
       "            title=\"Generate code using this dataframe.\"\n",
       "            style=\"display:none;\">\n",
       "\n",
       "  <svg xmlns=\"http://www.w3.org/2000/svg\" height=\"24px\"viewBox=\"0 0 24 24\"\n",
       "       width=\"24px\">\n",
       "    <path d=\"M7,19H8.4L18.45,9,17,7.55,7,17.6ZM5,21V16.75L18.45,3.32a2,2,0,0,1,2.83,0l1.4,1.43a1.91,1.91,0,0,1,.58,1.4,1.91,1.91,0,0,1-.58,1.4L9.25,21ZM18.45,9,17,7.55Zm-12,3A5.31,5.31,0,0,0,4.9,8.1,5.31,5.31,0,0,0,1,6.5,5.31,5.31,0,0,0,4.9,4.9,5.31,5.31,0,0,0,6.5,1,5.31,5.31,0,0,0,8.1,4.9,5.31,5.31,0,0,0,12,6.5,5.46,5.46,0,0,0,6.5,12Z\"/>\n",
       "  </svg>\n",
       "    </button>\n",
       "    <script>\n",
       "      (() => {\n",
       "      const buttonEl =\n",
       "        document.querySelector('#id_6e6d2bd2-9af9-479e-a477-3e47c2e383a3 button.colab-df-generate');\n",
       "      buttonEl.style.display =\n",
       "        google.colab.kernel.accessAllowed ? 'block' : 'none';\n",
       "\n",
       "      buttonEl.onclick = () => {\n",
       "        google.colab.notebook.generateWithVariable('df');\n",
       "      }\n",
       "      })();\n",
       "    </script>\n",
       "  </div>\n",
       "\n",
       "    </div>\n",
       "  </div>\n"
      ],
      "text/plain": [
       "                    Name              Location  \\\n",
       "0  El Celler de Can Roca         Girona, Spain   \n",
       "1                   Noma   Copenhagen, Denmark   \n",
       "2    La Cava del Tequila           Mexico City   \n",
       "3                 Gaggan     Bangkok, Thailand   \n",
       "4    Osteria Francescana         Modena, Italy   \n",
       "5                 Attica  Melbourne, Australia   \n",
       "6    Osteria Francescana         Modena, Italy   \n",
       "\n",
       "                                           Style  \\\n",
       "0  Creative and delicious 18-course tasting menu   \n",
       "1              Simple and natural Nordic cuisine   \n",
       "2   Authentic and flavorful regional specialties   \n",
       "3            Creative and playful Indian cuisine   \n",
       "4     Modern take on traditional Italian cuisine   \n",
       "5                                     Australian   \n",
       "6                                        Italian   \n",
       "\n",
       "                                       Top Dish  \n",
       "0                          Forest-inspired dish  \n",
       "1  Dessert made with fermented berries and ants  \n",
       "2                                          Mole  \n",
       "3                             Lick It Up course  \n",
       "4                Oops! I Dropped the Lemon Tart  \n",
       "5       Potato cooked in the earth it was grown  \n",
       "6                Oops! I Dropped the Lemon Tart  "
      ]
     },
     "execution_count": 70,
     "metadata": {},
     "output_type": "execute_result"
    }
   ],
   "source": [
    "df"
   ]
  },
  {
   "cell_type": "code",
   "execution_count": null,
   "metadata": {
    "id": "5Hs--1Y1FBog"
   },
   "outputs": [],
   "source": []
  },
  {
   "cell_type": "code",
   "execution_count": 71,
   "metadata": {
    "executionInfo": {
     "elapsed": 664,
     "status": "ok",
     "timestamp": 1718377183515,
     "user": {
      "displayName": "Harsh Tomar",
      "userId": "07306423374395310283"
     },
     "user_tz": -330
    },
    "id": "cSwBpVV2JMJ2"
   },
   "outputs": [],
   "source": [
    "schema, validator = from_pydantic(Restaurant)"
   ]
  },
  {
   "cell_type": "code",
   "execution_count": 72,
   "metadata": {
    "executionInfo": {
     "elapsed": 2,
     "status": "ok",
     "timestamp": 1718377184456,
     "user": {
      "displayName": "Harsh Tomar",
      "userId": "07306423374395310283"
     },
     "user_tz": -330
    },
    "id": "jOqsDAq34hne"
   },
   "outputs": [],
   "source": [
    "chain = create_extraction_chain(\n",
    "    llm,\n",
    "    schema,\n",
    "    encoder_or_encoder_class=\"csv\",\n",
    "    validator=validator,\n",
    "    input_formatter=\"triple_quotes\",\n",
    ")"
   ]
  },
  {
   "cell_type": "code",
   "execution_count": 73,
   "metadata": {
    "colab": {
     "base_uri": "https://localhost:8080/"
    },
    "executionInfo": {
     "elapsed": 2217,
     "status": "ok",
     "timestamp": 1718377189898,
     "user": {
      "displayName": "Harsh Tomar",
      "userId": "07306423374395310283"
     },
     "user_tz": -330
    },
    "id": "a1Ch17pW4hnq",
    "outputId": "cf6dd4ab-4ffb-49f6-d7ec-e2456ed4ac82"
   },
   "outputs": [
    {
     "name": "stdout",
     "output_type": "stream",
     "text": [
      "Total Tokens: 2595\n",
      "Prompt Tokens: 2406\n",
      "Completion Tokens: 189\n",
      "Successful Requests: 3\n",
      "Total Cost (USD): $0.003987\n"
     ]
    }
   ],
   "source": [
    "with get_openai_callback() as cb:\n",
    "    document_extraction_results = await extract_from_documents(\n",
    "        chain, split_docs, max_concurrency=5, use_uid=False, return_exceptions=True\n",
    "    )\n",
    "    print(f\"Total Tokens: {cb.total_tokens}\")\n",
    "    print(f\"Prompt Tokens: {cb.prompt_tokens}\")\n",
    "    print(f\"Completion Tokens: {cb.completion_tokens}\")\n",
    "    print(f\"Successful Requests: {cb.successful_requests}\")\n",
    "    print(f\"Total Cost (USD): ${cb.total_cost}\")"
   ]
  },
  {
   "cell_type": "code",
   "execution_count": 74,
   "metadata": {
    "colab": {
     "base_uri": "https://localhost:8080/"
    },
    "executionInfo": {
     "elapsed": 700,
     "status": "ok",
     "timestamp": 1718377195012,
     "user": {
      "displayName": "Harsh Tomar",
      "userId": "07306423374395310283"
     },
     "user_tz": -330
    },
    "id": "oHeuZQAj4hnq",
    "outputId": "b73dced5-98cf-4074-da2b-1122321fb5f8"
   },
   "outputs": [
    {
     "data": {
      "text/plain": [
       "[{'uid': '0',\n",
       "  'source_uid': '0',\n",
       "  'data': {'restaurant': [{'name': 'El Celler de Can Roca',\n",
       "     'location': 'Girona, Spain',\n",
       "     'style': 'Creative and delicious 18-course tasting menu',\n",
       "     'top_dish': 'Forest-inspired dish'},\n",
       "    {'name': 'Noma',\n",
       "     'location': 'Copenhagen, Denmark',\n",
       "     'style': 'Simple and natural Nordic cuisine',\n",
       "     'top_dish': 'Dessert made with fermented berries and ants'},\n",
       "    {'name': 'La Cava del Tequila',\n",
       "     'location': 'Mexico City',\n",
       "     'style': 'Authentic and flavorful regional specialties',\n",
       "     'top_dish': 'Mole'},\n",
       "    {'name': 'Gaggan',\n",
       "     'location': 'Bangkok, Thailand',\n",
       "     'style': 'Creative and playful Indian cuisine',\n",
       "     'top_dish': 'Lick It Up course'},\n",
       "    {'name': 'Osteria Francescana',\n",
       "     'location': 'Modena, Italy',\n",
       "     'style': 'Modern take on traditional Italian cuisine',\n",
       "     'top_dish': 'Oops! I Dropped the Lemon Tart'}]},\n",
       "  'raw': 'name|location|style|top_dish\\nEl Celler de Can Roca|Girona, Spain|Creative and delicious 18-course tasting menu|Forest-inspired dish\\nNoma|Copenhagen, Denmark|Simple and natural Nordic cuisine|Dessert made with fermented berries and ants\\nLa Cava del Tequila|Mexico City|Authentic and flavorful regional specialties|Mole\\nGaggan|Bangkok, Thailand|Creative and playful Indian cuisine|Lick It Up course\\nOsteria Francescana|Modena, Italy|Modern take on traditional Italian cuisine|Oops! I Dropped the Lemon Tart',\n",
       "  'validated_data': None,\n",
       "  'errors': [1 validation error for Restaurant\n",
       "     Input should be a valid dictionary or instance of Restaurant [type=model_type, input_value=[{'name': 'El Celler de C...ropped the Lemon Tart'}], input_type=list]\n",
       "       For further information visit https://errors.pydantic.dev/2.7/v/model_type]},\n",
       " {'uid': '1',\n",
       "  'source_uid': '1',\n",
       "  'data': {'restaurant': [{'name': 'Attica',\n",
       "     'location': 'Melbourne, Australia',\n",
       "     'style': 'Australian',\n",
       "     'top_dish': 'Potato cooked in the earth it was grown'}]},\n",
       "  'raw': 'name|location|style|top_dish\\nAttica|Melbourne, Australia|Australian|Potato cooked in the earth it was grown',\n",
       "  'validated_data': None,\n",
       "  'errors': [1 validation error for Restaurant\n",
       "     Input should be a valid dictionary or instance of Restaurant [type=model_type, input_value=[{'name': 'Attica', 'loca...he earth it was grown'}], input_type=list]\n",
       "       For further information visit https://errors.pydantic.dev/2.7/v/model_type]},\n",
       " {'uid': '2',\n",
       "  'source_uid': '2',\n",
       "  'data': {'restaurant': [{'name': 'Osteria Francescana',\n",
       "     'location': 'Modena, Italy',\n",
       "     'style': 'Italian',\n",
       "     'top_dish': 'Oops! I Dropped the Lemon Tart'}]},\n",
       "  'raw': 'name|location|style|top_dish\\nOsteria Francescana|Modena, Italy|Italian|Oops! I Dropped the Lemon Tart',\n",
       "  'validated_data': None,\n",
       "  'errors': [1 validation error for Restaurant\n",
       "     Input should be a valid dictionary or instance of Restaurant [type=model_type, input_value=[{'name': 'Osteria France...ropped the Lemon Tart'}], input_type=list]\n",
       "       For further information visit https://errors.pydantic.dev/2.7/v/model_type]}]"
      ]
     },
     "execution_count": 74,
     "metadata": {},
     "output_type": "execute_result"
    }
   ],
   "source": [
    "document_extraction_results"
   ]
  },
  {
   "cell_type": "code",
   "execution_count": 76,
   "metadata": {
    "colab": {
     "base_uri": "https://localhost:8080/"
    },
    "executionInfo": {
     "elapsed": 725,
     "status": "ok",
     "timestamp": 1718377240685,
     "user": {
      "displayName": "Harsh Tomar",
      "userId": "07306423374395310283"
     },
     "user_tz": -330
    },
    "id": "F6ayES-fJMMR",
    "outputId": "64feb536-180c-4bb8-dd08-d7bd4310560b"
   },
   "outputs": [
    {
     "name": "stdout",
     "output_type": "stream",
     "text": [
      "Restaurant Name: El Celler de Can Roca\n",
      "Location: Girona, Spain\n",
      "Style: Creative and delicious 18-course tasting menu\n",
      "Top Dish: Forest-inspired dish\n",
      "\n",
      "Restaurant Name: Noma\n",
      "Location: Copenhagen, Denmark\n",
      "Style: Simple and natural Nordic cuisine\n",
      "Top Dish: Dessert made with fermented berries and ants\n",
      "\n",
      "Restaurant Name: La Cava del Tequila\n",
      "Location: Mexico City\n",
      "Style: Authentic and flavorful regional specialties\n",
      "Top Dish: Mole\n",
      "\n",
      "Restaurant Name: Gaggan\n",
      "Location: Bangkok, Thailand\n",
      "Style: Creative and playful Indian cuisine\n",
      "Top Dish: Lick It Up course\n",
      "\n",
      "Restaurant Name: Osteria Francescana\n",
      "Location: Modena, Italy\n",
      "Style: Modern take on traditional Italian cuisine\n",
      "Top Dish: Oops! I Dropped the Lemon Tart\n",
      "\n",
      "Restaurant Name: Attica\n",
      "Location: Melbourne, Australia\n",
      "Style: Australian\n",
      "Top Dish: Potato cooked in the earth it was grown\n",
      "\n",
      "Restaurant Name: Osteria Francescana\n",
      "Location: Modena, Italy\n",
      "Style: Italian\n",
      "Top Dish: Oops! I Dropped the Lemon Tart\n",
      "\n"
     ]
    }
   ],
   "source": [
    "\n",
    "extract_restaurant_info(document_extraction_results)"
   ]
  },
  {
   "cell_type": "code",
   "execution_count": null,
   "metadata": {
    "id": "wtpxoHWqrhxM"
   },
   "outputs": [],
   "source": []
  },
  {
   "cell_type": "code",
   "execution_count": null,
   "metadata": {
    "id": "VeyDe3YYrh2l"
   },
   "outputs": [],
   "source": []
  },
  {
   "cell_type": "code",
   "execution_count": null,
   "metadata": {
    "id": "MmRdOHM1rh5z"
   },
   "outputs": [],
   "source": []
  },
  {
   "cell_type": "code",
   "execution_count": null,
   "metadata": {
    "id": "pTBeKTe6rh85"
   },
   "outputs": [],
   "source": []
  },
  {
   "cell_type": "code",
   "execution_count": null,
   "metadata": {
    "id": "vtqjVbnyrh_4"
   },
   "outputs": [],
   "source": []
  },
  {
   "cell_type": "code",
   "execution_count": null,
   "metadata": {
    "id": "M_RqAoNxriB_"
   },
   "outputs": [],
   "source": []
  },
  {
   "cell_type": "code",
   "execution_count": null,
   "metadata": {
    "id": "zY6NmWBari-l"
   },
   "outputs": [],
   "source": []
  },
  {
   "cell_type": "code",
   "execution_count": null,
   "metadata": {
    "id": "iDAgdes_rjBr"
   },
   "outputs": [],
   "source": []
  },
  {
   "cell_type": "code",
   "execution_count": 79,
   "metadata": {
    "executionInfo": {
     "elapsed": 997,
     "status": "ok",
     "timestamp": 1718377513456,
     "user": {
      "displayName": "Harsh Tomar",
      "userId": "07306423374395310283"
     },
     "user_tz": -330
    },
    "id": "W57jeVugrjEF"
   },
   "outputs": [],
   "source": [
    "restaurant_schema = Object(\n",
    "    id=\"restaurant\",\n",
    "    description=(\n",
    "        \"People are talking about restaurants names and dishes as well as qualities of the restaturant\"\n",
    "    ),\n",
    "    attributes=[\n",
    "        Text(\n",
    "            id=\"name\",\n",
    "            description=\"The name of the restaurant\"\n",
    "        )\n",
    "    ],\n",
    "    examples=[(\"We went for a quick bite at McDonalds\",[{\"name\": \"McDonalds\"}]),\n",
    "            (\"I just love the steaks at Mortons\",[{\"name\": \"Mortons\"}]),\n",
    "            (\"We already have a booking at The Eatery so can't goto Mortons\",[{\"name\": \"The Eatery\"},{\"name\": \"Mortons\"}])\n",
    "            ],\n",
    "    many=True,\n",
    ")"
   ]
  },
  {
   "cell_type": "code",
   "execution_count": null,
   "metadata": {
    "id": "qPW-Gfm6rjGY"
   },
   "outputs": [],
   "source": []
  },
  {
   "cell_type": "code",
   "execution_count": 82,
   "metadata": {
    "executionInfo": {
     "elapsed": 708,
     "status": "ok",
     "timestamp": 1718377651531,
     "user": {
      "displayName": "Harsh Tomar",
      "userId": "07306423374395310283"
     },
     "user_tz": -330
    },
    "id": "6oplQu-FDHks"
   },
   "outputs": [],
   "source": [
    "extraction_chain = create_extraction_chain(llm,restaurant_schema)"
   ]
  },
  {
   "cell_type": "code",
   "execution_count": null,
   "metadata": {
    "id": "2xofp61TBghC"
   },
   "outputs": [],
   "source": []
  },
  {
   "cell_type": "code",
   "execution_count": null,
   "metadata": {
    "id": "r5-4Q5vWBgkC"
   },
   "outputs": [],
   "source": []
  },
  {
   "cell_type": "code",
   "execution_count": null,
   "metadata": {
    "id": "jGf3Y_KPBgm2"
   },
   "outputs": [],
   "source": []
  },
  {
   "cell_type": "code",
   "execution_count": null,
   "metadata": {
    "id": "fJioaZxYBgqA"
   },
   "outputs": [],
   "source": []
  },
  {
   "cell_type": "code",
   "execution_count": 86,
   "metadata": {
    "executionInfo": {
     "elapsed": 818,
     "status": "ok",
     "timestamp": 1718377785566,
     "user": {
      "displayName": "Harsh Tomar",
      "userId": "07306423374395310283"
     },
     "user_tz": -330
    },
    "id": "42xbcr_zpr1U"
   },
   "outputs": [],
   "source": [
    "def split_conversation(filename, max_tokens=1024):\n",
    "    \"\"\"\n",
    "    Load a conversation from a file and split it into sections of approximately 2048 tokens.\n",
    "\n",
    "    Parameters:\n",
    "    filename (str): The name of the file to read the conversation from.\n",
    "    max_tokens (int): The maximum number of tokens per section.\n",
    "\n",
    "    Returns:\n",
    "    list: A list of strings, where each string is a section of the conversation.\n",
    "    \"\"\"\n",
    "    with open(filename, 'r') as f:\n",
    "        conversation = f.read()\n",
    "\n",
    "    # Split the conversation into turns\n",
    "    turns = conversation.split(\"\\n\\n\")\n",
    "\n",
    "    sections = []\n",
    "    section = \"\"\n",
    "\n",
    "    for turn in turns:\n",
    "        # If adding the next turn would exceed the maximum number of tokens,\n",
    "        # add the current section to the list and start a new section\n",
    "        if len(section.split()) + len(turn.split()) > max_tokens:\n",
    "            sections.append(section.strip())\n",
    "            section = \"\"\n",
    "\n",
    "        # Add the turn to the current section\n",
    "        section += f\"{turn}\\n\\n\"\n",
    "\n",
    "    # Add the last section to the list\n",
    "    sections.append(section.strip())\n",
    "\n",
    "    return sections\n",
    "\n"
   ]
  },
  {
   "cell_type": "code",
   "execution_count": null,
   "metadata": {
    "id": "-H0Zo6ElBgsr"
   },
   "outputs": [],
   "source": []
  },
  {
   "cell_type": "code",
   "execution_count": null,
   "metadata": {
    "id": "Zy9oZpCgBgvo"
   },
   "outputs": [],
   "source": []
  },
  {
   "cell_type": "code",
   "execution_count": 87,
   "metadata": {
    "executionInfo": {
     "elapsed": 650,
     "status": "ok",
     "timestamp": 1718377792647,
     "user": {
      "displayName": "Harsh Tomar",
      "userId": "07306423374395310283"
     },
     "user_tz": -330
    },
    "id": "LPNKNO_7CrPZ"
   },
   "outputs": [],
   "source": [
    "restaurant_schema = Object(\n",
    "    id=\"restaurant\",\n",
    "    description=(\n",
    "        \"People are talking about restaurants names and dishes as well as qualities of the restaturant\"\n",
    "    ),\n",
    "    attributes=[\n",
    "        Text(\n",
    "            id=\"name\",\n",
    "            description=\"The name of the restaurant\"\n",
    "        )\n",
    "    ],\n",
    "    examples=[(\"We went for a quick bite at McDonalds\",[{\"name\": \"McDonalds\"}]),\n",
    "            (\"I just love the steaks at Mortons\",[{\"name\": \"Mortons\"}]),\n",
    "            (\"We already have a booking at The Eatery so can't goto Mortons\",[{\"name\": \"The Eatery\"},{\"name\": \"Mortons\"}])\n",
    "            ],\n",
    "    many=True,\n",
    ")"
   ]
  },
  {
   "cell_type": "code",
   "execution_count": null,
   "metadata": {
    "id": "j5XOgiPoBgxk"
   },
   "outputs": [],
   "source": []
  },
  {
   "cell_type": "code",
   "execution_count": null,
   "metadata": {
    "id": "Mgq6rHZmBg1R"
   },
   "outputs": [],
   "source": []
  },
  {
   "cell_type": "code",
   "execution_count": null,
   "metadata": {
    "id": "tJRr4rQFBg3c"
   },
   "outputs": [],
   "source": []
  },
  {
   "cell_type": "code",
   "execution_count": null,
   "metadata": {
    "id": "EdrBK20cBg5T"
   },
   "outputs": [],
   "source": []
  },
  {
   "cell_type": "markdown",
   "metadata": {
    "id": "HqwsGJDhvAQ5"
   },
   "source": [
    "### with browsing\n"
   ]
  },
  {
   "cell_type": "code",
   "execution_count": 88,
   "metadata": {
    "executionInfo": {
     "elapsed": 893,
     "status": "ok",
     "timestamp": 1718377797594,
     "user": {
      "displayName": "Harsh Tomar",
      "userId": "07306423374395310283"
     },
     "user_tz": -330
    },
    "id": "lgesD0jrvDyG"
   },
   "outputs": [],
   "source": [
    "# Kor!\n",
    "from kor.extraction import create_extraction_chain\n",
    "from kor.nodes import Object, Text, Number\n",
    "\n",
    "# LangChain Models\n",
    "from langchain.chat_models import ChatOpenAI\n",
    "from langchain.llms import OpenAI\n",
    "\n",
    "# Standard Helpers\n",
    "import pandas as pd\n",
    "import requests\n",
    "import time\n",
    "import json\n",
    "from datetime import datetime\n",
    "\n",
    "# Text Helpers\n",
    "from bs4 import BeautifulSoup\n",
    "from markdownify import markdownify as md\n",
    "\n",
    "# For token counting\n",
    "from langchain.callbacks import get_openai_callback\n",
    "\n",
    "def printOutput(output):\n",
    "    print(json.dumps(output,sort_keys=True, indent=3))"
   ]
  },
  {
   "cell_type": "markdown",
   "metadata": {
    "id": "GIe9SKlwpsup"
   },
   "source": [
    "### Load the text file"
   ]
  },
  {
   "cell_type": "markdown",
   "metadata": {
    "id": "-4r3I0TBuJ6Y"
   },
   "source": [
    "## Prepare the model"
   ]
  },
  {
   "cell_type": "code",
   "execution_count": 89,
   "metadata": {
    "executionInfo": {
     "elapsed": 942,
     "status": "ok",
     "timestamp": 1718377804205,
     "user": {
      "displayName": "Harsh Tomar",
      "userId": "07306423374395310283"
     },
     "user_tz": -330
    },
    "id": "IfCt8bhHNu9u"
   },
   "outputs": [],
   "source": [
    "llm = ChatOpenAI(\n",
    "     model_name=\"gpt-3.5-turbo\",\n",
    "    temperature=0,\n",
    "    # max_tokens=2048,\n",
    ")"
   ]
  },
  {
   "cell_type": "code",
   "execution_count": 90,
   "metadata": {
    "executionInfo": {
     "elapsed": 7,
     "status": "ok",
     "timestamp": 1718377805912,
     "user": {
      "displayName": "Harsh Tomar",
      "userId": "07306423374395310283"
     },
     "user_tz": -330
    },
    "id": "G-O1nZ2Jpfec"
   },
   "outputs": [],
   "source": [
    "restaurant_schema = Object(\n",
    "    id=\"restaurant\",\n",
    "    description=(\n",
    "        \"People are talking about restaurants and dishes as well as qualities of the restaturant\"\n",
    "    ),\n",
    "    attributes=[\n",
    "        Text(\n",
    "            id=\"name\",\n",
    "            description=\"The name of the restaurant\"\n",
    "        )\n",
    "    ],\n",
    "    examples=[(\"We went for a quick bite at McDonalds\",[{\"name\": \"McDonalds\"}]),\n",
    "                      (\"I just love the steaks at Mortons\",[{\"name\": \"Mortons\"}]),\n",
    "                      (\"We already have a booking at The Eatery so can't goto Mortons\",[{\"name\": \"The Eatery\"},{\"name\": \"Mortons\"}])\n",
    "                      ],\n",
    "    many=True,\n",
    ")"
   ]
  },
  {
   "cell_type": "code",
   "execution_count": null,
   "metadata": {
    "id": "Ex0SPwExa6s5"
   },
   "outputs": [],
   "source": [
    "# restaurant_schema = Object(\n",
    "\n",
    "#     id=\"restaurant\",\n",
    "\n",
    "#     # Natural language description about your object\n",
    "#     description=\"Personal information about a person\",\n",
    "\n",
    "#     # Fields you'd like to capture from a piece of text about your object.\n",
    "#     attributes=[\n",
    "#         Text(\n",
    "#             id=\"first_name\",\n",
    "#             description=\"The first name of a person.\",\n",
    "#         )\n",
    "#     ],\n",
    "\n",
    "#     # Examples help go a long way with telling the LLM what you need\n",
    "#     examples=[\n",
    "#         (\"Alice and Bob are friends\", [{\"first_name\": \"Alice\"}, {\"first_name\": \"Bob\"}])\n",
    "#     ]\n",
    "# )"
   ]
  },
  {
   "cell_type": "code",
   "execution_count": 91,
   "metadata": {
    "executionInfo": {
     "elapsed": 653,
     "status": "ok",
     "timestamp": 1718377814275,
     "user": {
      "displayName": "Harsh Tomar",
      "userId": "07306423374395310283"
     },
     "user_tz": -330
    },
    "id": "J2BbC0Q6cSKH"
   },
   "outputs": [],
   "source": [
    "chain = create_extraction_chain(llm, restaurant_schema)"
   ]
  },
  {
   "cell_type": "code",
   "execution_count": null,
   "metadata": {
    "colab": {
     "base_uri": "https://localhost:8080/",
     "height": 174
    },
    "executionInfo": {
     "elapsed": 402,
     "status": "ok",
     "timestamp": 1684733953594,
     "user": {
      "displayName": "Sam Witteveen",
      "userId": "13451642680591748340"
     },
     "user_tz": -480
    },
    "id": "tG8gw5DWyRgj",
    "outputId": "93f878e0-edc6-4c9f-ab92-09741d89645e"
   },
   "outputs": [
    {
     "data": {
      "application/vnd.google.colaboratory.intrinsic+json": {
       "type": "string"
      },
      "text/plain": [
       "'Food lover 2: Instruction: Please describe your first most unforgettable meal, including the location, ambiance, taste, and any unique experiences.\\nInput: My first most unforgettable meal was at a restaurant called El Celler de Can Roca in Girona, Spain. The ambiance was elegant and modern, and the food was a creative and delicious 18-course tasting menu. One unique experience was when they brought out a dish that was inspired by the smells of the forest.\\n\\nFood lover 1: My response: That sounds amazing! The forest-inspired dish must have been a unique experience. My first most unforgettable meal was at a restaurant called Noma in Copenhagen, Denmark. The location was in an old warehouse by the waterfront, and the ambiance was rustic and cozy. The food was presented in a simple and natural way, with many of the ingredients sourced from the surrounding Nordic region. One of the most memorable dishes was a dessert made with fermented berries and ants, which added a surprising and delicious crunch. Overall, it was a truly unforgettable dining experience that showcased the beauty and flavors of Nordic cuisine. Next question.\\n\\nFood lover 2: Instruction: Please describe your second most unforgettable meal, including the location, ambiance, taste, and any unique experiences.\\nInput: My second most unforgettable meal was at a small family-owned restaurant called La Cava del Tequila in Mexico City. The ambiance was cozy and intimate, with dim lighting and traditional Mexican decor. The food was authentic and flavorful, with a focus on regional specialties. One unique experience was when the owner came to our table and gave us a tequila tasting, explaining the different types and flavors. The standout dish for me was the mole, which had a complex and rich flavor that I had never tasted before.\\n\\nFood lover 1: My response: That sounds like a wonderful experience! My second most unforgettable meal was at a restaurant called Gaggan in Bangkok, Thailand. The location was in a beautiful colonial-style house, and the ambiance was modern and chic. The food was a creative and playful take on Indian cuisine, with each dish presented in a unique and artistic way. One unique experience was when they brought out a dish that was meant to be eaten with your hands, and it was served on a miniature replica of a tree. The standout dish for me was the \"Lick It Up\" course, which was a deconstructed version of a traditional Indian street food dish. Overall, it was an unforgettable dining experience that showcased the creativity and innovation of modern Indian cuisine. Next question.\\n\\nFood lover 2: Instruction: Please describe your third most unforgettable meal, including the location, ambiance, taste, and any unique experiences.\\nInput: My third most unforgettable meal was at a restaurant called Osteria Francescana in Modena, Italy. The location was in a historic building in the heart of the city, and the ambiance was elegant and refined. The food was a modern take on traditional Italian cuisine, with a focus on local and seasonal ingredients. One unique experience was when they brought out a dish that was inspired by the childhood memories of the chef, Massimo Bottura. The standout dish for me was the \"Oops! I Dropped the Lemon Tart,\" which was a deconstructed version of a lemon tart that was presented in a playful and unexpected way. Overall, it was an unforgettable dining experience that showcased the creativity and passion of Italian cuisine.\\n\\nFood lover 1: My response: That\\'s a great choice! My third most unforgettable meal was at a restaurant called Attica in Melbourne, Australia. The location was in a converted warehouse, and the ambiance was modern and minimalist. The food was a creative and innovative take on Australian cuisine, with a focus on native ingredients and flavors. One unique experience was when they brought out a dish that was meant to be eaten with your hands, and it was served on a bed of eucalyptus leaves. The standout dish for me was the \"Potato cooked in the earth it was grown,\" which was a simple yet delicious dish that showcased the natural flavors of the potato. Overall, it was an unforgettable dining experience that showcased the beauty and diversity of Australian cuisine. Next question.\\n\\nFood lover 2: Instruction: Please rate my first meal based on originality, presentation, and overall satisfaction.\\nInput: I would rate your first meal very highly based on originality, presentation, and overall satisfaction. The forest-inspired dish sounds like a unique and creative concept, and the elegant and modern ambiance of the restaurant must have added to the overall experience. The 18-course tasting menu also shows a high level of creativity and attention to detail. Overall, it sounds like a truly unforgettable dining experience.\\n\\nFood lover 1: My response: I completely agree with your assessment. Your first meal sounds like it was a truly unforgettable dining experience, with a high level of originality, presentation, and overall satisfaction. The attention to detail and creativity in the dishes, as well as the elegant and modern ambiance of the restaurant, must have made for a truly memorable experience. I would rate your first meal very highly based on these factors. Next question.\\n\\nFood lover 2: Instruction: Please rate my second meal based on originality, presentation, and overall satisfaction.\\nInput: I would rate your second meal very highly based on originality, presentation, and overall satisfaction. The cozy and intimate ambiance of the restaurant, along with the authentic and flavorful Mexican cuisine, must have made for a truly memorable experience. The tequila tasting and focus on regional specialties also show a high level of attention to detail and passion for the cuisine. Overall, it sounds like a wonderful dining experience.'"
      ]
     },
     "execution_count": 41,
     "metadata": {},
     "output_type": "execute_result"
    }
   ],
   "source": [
    "sections[0]"
   ]
  },
  {
   "cell_type": "code",
   "execution_count": null,
   "metadata": {
    "colab": {
     "base_uri": "https://localhost:8080/"
    },
    "executionInfo": {
     "elapsed": 2245,
     "status": "ok",
     "timestamp": 1684751396923,
     "user": {
      "displayName": "Sam Witteveen",
      "userId": "13451642680591748340"
     },
     "user_tz": -480
    },
    "id": "3BjtPl9Va8fW",
    "outputId": "5314b80e-d21c-4542-f2c6-6e8665e1d79f"
   },
   "outputs": [
    {
     "name": "stdout",
     "output_type": "stream",
     "text": [
      "{\n",
      "   \"restaurant\": [\n",
      "      {\n",
      "         \"name\": \"La Cava del Tequila\"\n",
      "      }\n",
      "   ]\n",
      "}\n"
     ]
    }
   ],
   "source": [
    "text = sections[0]\n",
    "output = chain.predict_and_parse(text=(text))[\"data\"]\n",
    "\n",
    "printOutput(output)"
   ]
  },
  {
   "cell_type": "code",
   "execution_count": null,
   "metadata": {
    "colab": {
     "base_uri": "https://localhost:8080/"
    },
    "executionInfo": {
     "elapsed": 3059,
     "status": "ok",
     "timestamp": 1683201830729,
     "user": {
      "displayName": "Sam Witteveen",
      "userId": "13451642680591748340"
     },
     "user_tz": -480
    },
    "id": "VNai9v6Ocx_7",
    "outputId": "16a4e3b7-acb4-4f9b-f2d8-3c9251ff403e"
   },
   "outputs": [
    {
     "name": "stdout",
     "output_type": "stream",
     "text": [
      "{\n",
      "   \"person\": []\n",
      "}\n"
     ]
    }
   ],
   "source": [
    "output = chain.predict_and_parse(text=(\"The dog went to the park\"))[\"data\"]\n",
    "printOutput(output)"
   ]
  },
  {
   "cell_type": "markdown",
   "metadata": {
    "id": "z9KCWGEypyNN"
   },
   "source": [
    "## Multiple Fields"
   ]
  },
  {
   "cell_type": "code",
   "execution_count": null,
   "metadata": {
    "id": "K2rNiJa-8nIj"
   },
   "outputs": [],
   "source": [
    " (\"I had the fresh pasta with cream\", \"fresh pasta with cream\"),\n",
    "        #                 (\"for me the steak frites was a good choice on my diet\",\"steak frites\"),\n",
    "        #                 (\"The grilled octopus was so yummy\",\"grilled octopus\"),\n",
    "        #                 (\"I had to send the fish tacos back as they were raw\",\"fish tacos\"),\n",
    "        #             ],\n",
    "        #     many=True,\n",
    "        # ),\n",
    "    ],\n",
    "    many=True,\n",
    ")"
   ]
  },
  {
   "cell_type": "code",
   "execution_count": null,
   "metadata": {
    "colab": {
     "base_uri": "https://localhost:8080/"
    },
    "executionInfo": {
     "elapsed": 5726,
     "status": "ok",
     "timestamp": 1683203052051,
     "user": {
      "displayName": "Sam Witteveen",
      "userId": "13451642680591748340"
     },
     "user_tz": -480
    },
    "id": "3pfOz3irt9Kd",
    "outputId": "07f05d70-b6b4-4239-dbb5-0a3a86d78af7"
   },
   "outputs": [
    {
     "name": "stdout",
     "output_type": "stream",
     "text": [
      "Total Tokens: 1858\n",
      "Prompt Tokens: 1847\n",
      "Completion Tokens: 11\n",
      "Successful Requests: 1\n",
      "Total Cost (USD): $0.0037159999999999997\n"
     ]
    }
   ],
   "source": [
    "with get_openai_callback() as cb:\n",
    "    result = chain.predict_and_parse(text=text)\n",
    "    print(f\"Total Tokens: {cb.total_tokens}\")\n",
    "    print(f\"Prompt Tokens: {cb.prompt_tokens}\")\n",
    "    print(f\"Completion Tokens: {cb.completion_tokens}\")\n",
    "    print(f\"Successful Requests: {cb.successful_requests}\")\n",
    "    print(f\"Total Cost (USD): ${cb.total_cost}\")"
   ]
  },
  {
   "cell_type": "code",
   "execution_count": null,
   "metadata": {
    "id": "j_L8AHdzuDhO"
   },
   "outputs": [],
   "source": []
  }
 ],
 "metadata": {
  "colab": {
   "provenance": [
    {
     "file_id": "1Hj55qsYgHX9mMC_81BwpjORIEjajxOPp",
     "timestamp": 1718371183090
    },
    {
     "file_id": "1gNTF2-iIi_L-MU0sgxptmu4Ij6GHqSZC",
     "timestamp": 1684841245523
    },
    {
     "file_id": "1DRsY2RxRhkZmTI5sHw6ATgL9MLivrcrX",
     "timestamp": 1684727743759
    },
    {
     "file_id": "1Ku5sUqkXMFZl_7-T6EzY5BTi58Jg4hy5",
     "timestamp": 1683198894649
    },
    {
     "file_id": "1BT_kRFMP27lmwAoWeIhiie0VPs0oqShz",
     "timestamp": 1683164319386
    }
   ]
  },
  "kernelspec": {
   "display_name": "Python 3",
   "name": "python3"
  },
  "language_info": {
   "name": "python"
  }
 },
 "nbformat": 4,
 "nbformat_minor": 0
}
