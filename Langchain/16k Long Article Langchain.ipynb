{
 "cells": [
  {
   "cell_type": "code",
   "execution_count": 1,
   "metadata": {
    "colab": {
     "base_uri": "https://localhost:8080/"
    },
    "executionInfo": {
     "elapsed": 39736,
     "status": "ok",
     "timestamp": 1718829797216,
     "user": {
      "displayName": "Harsh Tomar",
      "userId": "07306423374395310283"
     },
     "user_tz": -330
    },
    "id": "RRYSu48huSUW",
    "outputId": "84889509-19d1-4089-bf26-0c5d8a88ec20"
   },
   "outputs": [
    {
     "name": "stdout",
     "output_type": "stream",
     "text": [
      "\u001b[2K     \u001b[90m━━━━━━━━━━━━━━━━━━━━━━━━━━━━━━━━━━━━━━━━\u001b[0m \u001b[32m974.6/974.6 kB\u001b[0m \u001b[31m10.4 MB/s\u001b[0m eta \u001b[36m0:00:00\u001b[0m\n",
      "\u001b[2K     \u001b[90m━━━━━━━━━━━━━━━━━━━━━━━━━━━━━━━━━━━━━━━━\u001b[0m \u001b[32m326.8/326.8 kB\u001b[0m \u001b[31m13.9 MB/s\u001b[0m eta \u001b[36m0:00:00\u001b[0m\n",
      "\u001b[?25h  Preparing metadata (setup.py) ... \u001b[?25l\u001b[?25hdone\n",
      "\u001b[2K     \u001b[90m━━━━━━━━━━━━━━━━━━━━━━━━━━━━━━━━━━━━━━━━\u001b[0m \u001b[32m1.1/1.1 MB\u001b[0m \u001b[31m22.3 MB/s\u001b[0m eta \u001b[36m0:00:00\u001b[0m\n",
      "\u001b[2K     \u001b[90m━━━━━━━━━━━━━━━━━━━━━━━━━━━━━━━━━━━━━━━━\u001b[0m \u001b[32m173.8/173.8 kB\u001b[0m \u001b[31m9.0 MB/s\u001b[0m eta \u001b[36m0:00:00\u001b[0m\n",
      "\u001b[2K     \u001b[90m━━━━━━━━━━━━━━━━━━━━━━━━━━━━━━━━━━━━━━━━\u001b[0m \u001b[32m321.8/321.8 kB\u001b[0m \u001b[31m18.7 MB/s\u001b[0m eta \u001b[36m0:00:00\u001b[0m\n",
      "\u001b[2K     \u001b[90m━━━━━━━━━━━━━━━━━━━━━━━━━━━━━━━━━━━━━━━━\u001b[0m \u001b[32m125.3/125.3 kB\u001b[0m \u001b[31m14.4 MB/s\u001b[0m eta \u001b[36m0:00:00\u001b[0m\n",
      "\u001b[2K     \u001b[90m━━━━━━━━━━━━━━━━━━━━━━━━━━━━━━━━━━━━━━━━\u001b[0m \u001b[32m75.6/75.6 kB\u001b[0m \u001b[31m6.7 MB/s\u001b[0m eta \u001b[36m0:00:00\u001b[0m\n",
      "\u001b[2K     \u001b[90m━━━━━━━━━━━━━━━━━━━━━━━━━━━━━━━━━━━━━━━━\u001b[0m \u001b[32m139.2/139.2 kB\u001b[0m \u001b[31m15.7 MB/s\u001b[0m eta \u001b[36m0:00:00\u001b[0m\n",
      "\u001b[2K     \u001b[90m━━━━━━━━━━━━━━━━━━━━━━━━━━━━━━━━━━━━━━━━\u001b[0m \u001b[32m3.1/3.1 MB\u001b[0m \u001b[31m35.9 MB/s\u001b[0m eta \u001b[36m0:00:00\u001b[0m\n",
      "\u001b[2K     \u001b[90m━━━━━━━━━━━━━━━━━━━━━━━━━━━━━━━━━━━━━━━━\u001b[0m \u001b[32m12.3/12.3 MB\u001b[0m \u001b[31m72.8 MB/s\u001b[0m eta \u001b[36m0:00:00\u001b[0m\n",
      "\u001b[2K     \u001b[90m━━━━━━━━━━━━━━━━━━━━━━━━━━━━━━━━━━━━━━━━\u001b[0m \u001b[32m82.2/82.2 kB\u001b[0m \u001b[31m10.4 MB/s\u001b[0m eta \u001b[36m0:00:00\u001b[0m\n",
      "\u001b[2K     \u001b[90m━━━━━━━━━━━━━━━━━━━━━━━━━━━━━━━━━━━━━━━━\u001b[0m \u001b[32m77.9/77.9 kB\u001b[0m \u001b[31m10.7 MB/s\u001b[0m eta \u001b[36m0:00:00\u001b[0m\n",
      "\u001b[2K     \u001b[90m━━━━━━━━━━━━━━━━━━━━━━━━━━━━━━━━━━━━━━━━\u001b[0m \u001b[32m58.3/58.3 kB\u001b[0m \u001b[31m8.5 MB/s\u001b[0m eta \u001b[36m0:00:00\u001b[0m\n",
      "\u001b[2K     \u001b[90m━━━━━━━━━━━━━━━━━━━━━━━━━━━━━━━━━━━━━━━━\u001b[0m \u001b[32m145.0/145.0 kB\u001b[0m \u001b[31m15.8 MB/s\u001b[0m eta \u001b[36m0:00:00\u001b[0m\n",
      "\u001b[?25hCollecting arxiv\n",
      "  Downloading arxiv-2.1.0-py3-none-any.whl (11 kB)\n",
      "Collecting PyPDF2\n",
      "  Downloading pypdf2-3.0.1-py3-none-any.whl (232 kB)\n",
      "\u001b[2K     \u001b[90m━━━━━━━━━━━━━━━━━━━━━━━━━━━━━━━━━━━━━━━━\u001b[0m \u001b[32m232.6/232.6 kB\u001b[0m \u001b[31m6.8 MB/s\u001b[0m eta \u001b[36m0:00:00\u001b[0m\n",
      "\u001b[?25hCollecting feedparser==6.0.10 (from arxiv)\n",
      "  Downloading feedparser-6.0.10-py3-none-any.whl (81 kB)\n",
      "\u001b[2K     \u001b[90m━━━━━━━━━━━━━━━━━━━━━━━━━━━━━━━━━━━━━━━━\u001b[0m \u001b[32m81.1/81.1 kB\u001b[0m \u001b[31m7.1 MB/s\u001b[0m eta \u001b[36m0:00:00\u001b[0m\n",
      "\u001b[?25hRequirement already satisfied: requests==2.31.0 in /usr/local/lib/python3.10/dist-packages (from arxiv) (2.31.0)\n",
      "Collecting sgmllib3k (from feedparser==6.0.10->arxiv)\n",
      "  Downloading sgmllib3k-1.0.0.tar.gz (5.8 kB)\n",
      "  Preparing metadata (setup.py) ... \u001b[?25l\u001b[?25hdone\n",
      "Requirement already satisfied: charset-normalizer<4,>=2 in /usr/local/lib/python3.10/dist-packages (from requests==2.31.0->arxiv) (3.3.2)\n",
      "Requirement already satisfied: idna<4,>=2.5 in /usr/local/lib/python3.10/dist-packages (from requests==2.31.0->arxiv) (3.7)\n",
      "Requirement already satisfied: urllib3<3,>=1.21.1 in /usr/local/lib/python3.10/dist-packages (from requests==2.31.0->arxiv) (2.0.7)\n",
      "Requirement already satisfied: certifi>=2017.4.17 in /usr/local/lib/python3.10/dist-packages (from requests==2.31.0->arxiv) (2024.6.2)\n",
      "Building wheels for collected packages: sgmllib3k\n",
      "  Building wheel for sgmllib3k (setup.py) ... \u001b[?25l\u001b[?25hdone\n",
      "  Created wheel for sgmllib3k: filename=sgmllib3k-1.0.0-py3-none-any.whl size=6049 sha256=b56c0add05026fd3034881d7cae5d35ff5e8e726a6bbe0872e513b02dda01798\n",
      "  Stored in directory: /root/.cache/pip/wheels/f0/69/93/a47e9d621be168e9e33c7ce60524393c0b92ae83cf6c6e89c5\n",
      "Successfully built sgmllib3k\n",
      "Installing collected packages: sgmllib3k, PyPDF2, feedparser, arxiv\n",
      "Successfully installed PyPDF2-3.0.1 arxiv-2.1.0 feedparser-6.0.10 sgmllib3k-1.0.0\n"
     ]
    }
   ],
   "source": [
    "!pip -q install langchain huggingface_hub openai google-search-results tiktoken cohere\n",
    "!pip install arxiv PyPDF2"
   ]
  },
  {
   "cell_type": "code",
   "execution_count": null,
   "metadata": {
    "executionInfo": {
     "elapsed": 12,
     "status": "ok",
     "timestamp": 1718829797216,
     "user": {
      "displayName": "Harsh Tomar",
      "userId": "07306423374395310283"
     },
     "user_tz": -330
    },
    "id": "dNA4TsHpu6OM"
   },
   "outputs": [],
   "source": [
    "import os\n",
    "\n",
    "os.environ[\"OPENAI_API_KEY\"] = \"your-openai-api-key\""
   ]
  },
  {
   "cell_type": "code",
   "execution_count": 3,
   "metadata": {
    "colab": {
     "base_uri": "https://localhost:8080/"
    },
    "executionInfo": {
     "elapsed": 11,
     "status": "ok",
     "timestamp": 1718829797216,
     "user": {
      "displayName": "Harsh Tomar",
      "userId": "07306423374395310283"
     },
     "user_tz": -330
    },
    "id": "J-KFB7J_u_3L",
    "outputId": "030921e1-828a-4386-ae20-3aa773615428"
   },
   "outputs": [
    {
     "name": "stdout",
     "output_type": "stream",
     "text": [
      "Name: langchain\n",
      "Version: 0.2.5\n",
      "Summary: Building applications with LLMs through composability\n",
      "Home-page: https://github.com/langchain-ai/langchain\n",
      "Author: \n",
      "Author-email: \n",
      "License: MIT\n",
      "Location: /usr/local/lib/python3.10/dist-packages\n",
      "Requires: aiohttp, async-timeout, langchain-core, langchain-text-splitters, langsmith, numpy, pydantic, PyYAML, requests, SQLAlchemy, tenacity\n",
      "Required-by: \n"
     ]
    }
   ],
   "source": [
    "!pip show langchain"
   ]
  },
  {
   "cell_type": "markdown",
   "metadata": {
    "id": "HqwsGJDhvAQ5"
   },
   "source": [
    "# Simple chain system\n",
    "\n",
    "1. map out the writing task\n",
    "2. write a few paragraphs for each chunk\n"
   ]
  },
  {
   "cell_type": "markdown",
   "metadata": {
    "id": "onqkZ9s5D1eF"
   },
   "source": [
    "## Utils"
   ]
  },
  {
   "cell_type": "code",
   "execution_count": 4,
   "metadata": {
    "executionInfo": {
     "elapsed": 6,
     "status": "ok",
     "timestamp": 1718829797216,
     "user": {
      "displayName": "Harsh Tomar",
      "userId": "07306423374395310283"
     },
     "user_tz": -330
    },
    "id": "GevqPcyhlZPn"
   },
   "outputs": [],
   "source": [
    "# count the tokens utility\n",
    "import tiktoken\n",
    "\n",
    "def num_tokens_from_string(string: str, encoding_name: str) -> int:\n",
    "    \"\"\"Returns the number of tokens in a text string.\"\"\"\n",
    "    # encoding = tiktoken.get_encoding(encoding_name)\n",
    "    encoding = tiktoken.encoding_for_model(\"gpt-3.5-turbo\")\n",
    "    num_tokens = len(encoding.encode(string))\n",
    "    return num_tokens\n",
    "\n",
    "# num_tokens_from_string(text_body, \"gpt-3.5-turbo\")"
   ]
  },
  {
   "cell_type": "code",
   "execution_count": 6,
   "metadata": {
    "executionInfo": {
     "elapsed": 4,
     "status": "ok",
     "timestamp": 1718829798889,
     "user": {
      "displayName": "Harsh Tomar",
      "userId": "07306423374395310283"
     },
     "user_tz": -330
    },
    "id": "Mz0TMHCAW7mk"
   },
   "outputs": [],
   "source": [
    "import textwrap\n",
    "import os\n",
    "\n",
    "def wrap_text(text: str, width: int = 120) -> str:\n",
    "    \"\"\"Wrap text to a specified width.\"\"\"\n",
    "    return '\\n'.join(textwrap.wrap(text, width))\n",
    "\n",
    "def write_string_to_file(filename: str, text: str) -> None:\n",
    "    \"\"\"Write a string to a file.\"\"\"\n",
    "    with open(filename, 'w') as f:\n",
    "        f.write(text)\n",
    "\n",
    "def extract_filename(path_string):\n",
    "    \"\"\"Extract filename without extension from a path string.\"\"\"\n",
    "    base_name = os.path.basename(path_string)  # Get the filename with extension\n",
    "    file_name_without_ext = os.path.splitext(base_name)[0]  # Remove the extension\n",
    "    return file_name_without_ext\n"
   ]
  },
  {
   "cell_type": "markdown",
   "metadata": {
    "id": "WET__9nVK4ER"
   },
   "source": [
    "## LangChain"
   ]
  },
  {
   "cell_type": "code",
   "execution_count": 7,
   "metadata": {
    "colab": {
     "base_uri": "https://localhost:8080/"
    },
    "executionInfo": {
     "elapsed": 12019,
     "status": "ok",
     "timestamp": 1718829817616,
     "user": {
      "displayName": "Harsh Tomar",
      "userId": "07306423374395310283"
     },
     "user_tz": -330
    },
    "id": "1uNTk7mFPSfQ",
    "outputId": "eb9863cf-62de-47c1-daa9-a22f004ee439"
   },
   "outputs": [
    {
     "name": "stdout",
     "output_type": "stream",
     "text": [
      "Collecting langchain_community\n",
      "  Downloading langchain_community-0.2.5-py3-none-any.whl (2.2 MB)\n",
      "\u001b[2K     \u001b[90m━━━━━━━━━━━━━━━━━━━━━━━━━━━━━━━━━━━━━━━━\u001b[0m \u001b[32m2.2/2.2 MB\u001b[0m \u001b[31m14.4 MB/s\u001b[0m eta \u001b[36m0:00:00\u001b[0m\n",
      "\u001b[?25hRequirement already satisfied: PyYAML>=5.3 in /usr/local/lib/python3.10/dist-packages (from langchain_community) (6.0.1)\n",
      "Requirement already satisfied: SQLAlchemy<3,>=1.4 in /usr/local/lib/python3.10/dist-packages (from langchain_community) (2.0.30)\n",
      "Requirement already satisfied: aiohttp<4.0.0,>=3.8.3 in /usr/local/lib/python3.10/dist-packages (from langchain_community) (3.9.5)\n",
      "Collecting dataclasses-json<0.7,>=0.5.7 (from langchain_community)\n",
      "  Downloading dataclasses_json-0.6.7-py3-none-any.whl (28 kB)\n",
      "Requirement already satisfied: langchain<0.3.0,>=0.2.5 in /usr/local/lib/python3.10/dist-packages (from langchain_community) (0.2.5)\n",
      "Requirement already satisfied: langchain-core<0.3.0,>=0.2.7 in /usr/local/lib/python3.10/dist-packages (from langchain_community) (0.2.9)\n",
      "Requirement already satisfied: langsmith<0.2.0,>=0.1.0 in /usr/local/lib/python3.10/dist-packages (from langchain_community) (0.1.80)\n",
      "Requirement already satisfied: numpy<2,>=1 in /usr/local/lib/python3.10/dist-packages (from langchain_community) (1.25.2)\n",
      "Requirement already satisfied: requests<3,>=2 in /usr/local/lib/python3.10/dist-packages (from langchain_community) (2.31.0)\n",
      "Requirement already satisfied: tenacity<9.0.0,>=8.1.0 in /usr/local/lib/python3.10/dist-packages (from langchain_community) (8.3.0)\n",
      "Requirement already satisfied: aiosignal>=1.1.2 in /usr/local/lib/python3.10/dist-packages (from aiohttp<4.0.0,>=3.8.3->langchain_community) (1.3.1)\n",
      "Requirement already satisfied: attrs>=17.3.0 in /usr/local/lib/python3.10/dist-packages (from aiohttp<4.0.0,>=3.8.3->langchain_community) (23.2.0)\n",
      "Requirement already satisfied: frozenlist>=1.1.1 in /usr/local/lib/python3.10/dist-packages (from aiohttp<4.0.0,>=3.8.3->langchain_community) (1.4.1)\n",
      "Requirement already satisfied: multidict<7.0,>=4.5 in /usr/local/lib/python3.10/dist-packages (from aiohttp<4.0.0,>=3.8.3->langchain_community) (6.0.5)\n",
      "Requirement already satisfied: yarl<2.0,>=1.0 in /usr/local/lib/python3.10/dist-packages (from aiohttp<4.0.0,>=3.8.3->langchain_community) (1.9.4)\n",
      "Requirement already satisfied: async-timeout<5.0,>=4.0 in /usr/local/lib/python3.10/dist-packages (from aiohttp<4.0.0,>=3.8.3->langchain_community) (4.0.3)\n",
      "Collecting marshmallow<4.0.0,>=3.18.0 (from dataclasses-json<0.7,>=0.5.7->langchain_community)\n",
      "  Downloading marshmallow-3.21.3-py3-none-any.whl (49 kB)\n",
      "\u001b[2K     \u001b[90m━━━━━━━━━━━━━━━━━━━━━━━━━━━━━━━━━━━━━━━━\u001b[0m \u001b[32m49.2/49.2 kB\u001b[0m \u001b[31m6.6 MB/s\u001b[0m eta \u001b[36m0:00:00\u001b[0m\n",
      "\u001b[?25hCollecting typing-inspect<1,>=0.4.0 (from dataclasses-json<0.7,>=0.5.7->langchain_community)\n",
      "  Downloading typing_inspect-0.9.0-py3-none-any.whl (8.8 kB)\n",
      "Requirement already satisfied: langchain-text-splitters<0.3.0,>=0.2.0 in /usr/local/lib/python3.10/dist-packages (from langchain<0.3.0,>=0.2.5->langchain_community) (0.2.1)\n",
      "Requirement already satisfied: pydantic<3,>=1 in /usr/local/lib/python3.10/dist-packages (from langchain<0.3.0,>=0.2.5->langchain_community) (2.7.3)\n",
      "Requirement already satisfied: jsonpatch<2.0,>=1.33 in /usr/local/lib/python3.10/dist-packages (from langchain-core<0.3.0,>=0.2.7->langchain_community) (1.33)\n",
      "Requirement already satisfied: packaging<25,>=23.2 in /usr/local/lib/python3.10/dist-packages (from langchain-core<0.3.0,>=0.2.7->langchain_community) (24.1)\n",
      "Requirement already satisfied: orjson<4.0.0,>=3.9.14 in /usr/local/lib/python3.10/dist-packages (from langsmith<0.2.0,>=0.1.0->langchain_community) (3.10.5)\n",
      "Requirement already satisfied: charset-normalizer<4,>=2 in /usr/local/lib/python3.10/dist-packages (from requests<3,>=2->langchain_community) (3.3.2)\n",
      "Requirement already satisfied: idna<4,>=2.5 in /usr/local/lib/python3.10/dist-packages (from requests<3,>=2->langchain_community) (3.7)\n",
      "Requirement already satisfied: urllib3<3,>=1.21.1 in /usr/local/lib/python3.10/dist-packages (from requests<3,>=2->langchain_community) (2.0.7)\n",
      "Requirement already satisfied: certifi>=2017.4.17 in /usr/local/lib/python3.10/dist-packages (from requests<3,>=2->langchain_community) (2024.6.2)\n",
      "Requirement already satisfied: typing-extensions>=4.6.0 in /usr/local/lib/python3.10/dist-packages (from SQLAlchemy<3,>=1.4->langchain_community) (4.12.2)\n",
      "Requirement already satisfied: greenlet!=0.4.17 in /usr/local/lib/python3.10/dist-packages (from SQLAlchemy<3,>=1.4->langchain_community) (3.0.3)\n",
      "Requirement already satisfied: jsonpointer>=1.9 in /usr/local/lib/python3.10/dist-packages (from jsonpatch<2.0,>=1.33->langchain-core<0.3.0,>=0.2.7->langchain_community) (3.0.0)\n",
      "Requirement already satisfied: annotated-types>=0.4.0 in /usr/local/lib/python3.10/dist-packages (from pydantic<3,>=1->langchain<0.3.0,>=0.2.5->langchain_community) (0.7.0)\n",
      "Requirement already satisfied: pydantic-core==2.18.4 in /usr/local/lib/python3.10/dist-packages (from pydantic<3,>=1->langchain<0.3.0,>=0.2.5->langchain_community) (2.18.4)\n",
      "Collecting mypy-extensions>=0.3.0 (from typing-inspect<1,>=0.4.0->dataclasses-json<0.7,>=0.5.7->langchain_community)\n",
      "  Downloading mypy_extensions-1.0.0-py3-none-any.whl (4.7 kB)\n",
      "Installing collected packages: mypy-extensions, marshmallow, typing-inspect, dataclasses-json, langchain_community\n",
      "Successfully installed dataclasses-json-0.6.7 langchain_community-0.2.5 marshmallow-3.21.3 mypy-extensions-1.0.0 typing-inspect-0.9.0\n"
     ]
    }
   ],
   "source": [
    "! pip install langchain_community"
   ]
  },
  {
   "cell_type": "code",
   "execution_count": 8,
   "metadata": {
    "executionInfo": {
     "elapsed": 2037,
     "status": "ok",
     "timestamp": 1718829829311,
     "user": {
      "displayName": "Harsh Tomar",
      "userId": "07306423374395310283"
     },
     "user_tz": -330
    },
    "id": "hd8oAWwbPCe-"
   },
   "outputs": [],
   "source": [
    "from langchain.prompts import (\n",
    "    ChatPromptTemplate,\n",
    "    PromptTemplate,\n",
    "    SystemMessagePromptTemplate,\n",
    "    AIMessagePromptTemplate,\n",
    "    HumanMessagePromptTemplate,\n",
    ")\n",
    "from langchain.schema import (\n",
    "    AIMessage,\n",
    "    HumanMessage,\n",
    "    SystemMessage\n",
    ")\n",
    "\n",
    "from langchain.chat_models import ChatOpenAI\n",
    "from langchain.chains import LLMChain\n"
   ]
  },
  {
   "cell_type": "markdown",
   "metadata": {
    "id": "E9yfv1ucRUMl"
   },
   "source": [
    "#### System prompt"
   ]
  },
  {
   "cell_type": "code",
   "execution_count": 9,
   "metadata": {
    "executionInfo": {
     "elapsed": 817,
     "status": "ok",
     "timestamp": 1718829832680,
     "user": {
      "displayName": "Harsh Tomar",
      "userId": "07306423374395310283"
     },
     "user_tz": -330
    },
    "id": "2ADvKgwEQvmw"
   },
   "outputs": [],
   "source": [
    "\n",
    "context_template=\"You are a master writer that specializes in creating long 5,000 word articles. Please use all your expertise to approach this task. Output your content in markdown format and include titles and subtitles where relevant.\"\n"
   ]
  },
  {
   "cell_type": "code",
   "execution_count": 10,
   "metadata": {
    "executionInfo": {
     "elapsed": 5,
     "status": "ok",
     "timestamp": 1718829833518,
     "user": {
      "displayName": "Harsh Tomar",
      "userId": "07306423374395310283"
     },
     "user_tz": -330
    },
    "id": "PwOhyoT1T7IM"
   },
   "outputs": [],
   "source": [
    "system_message_prompt = SystemMessagePromptTemplate.from_template(context_template)\n"
   ]
  },
  {
   "cell_type": "markdown",
   "metadata": {
    "id": "f1IOIqNqT04Z"
   },
   "source": [
    "#### Human Prompt\n"
   ]
  },
  {
   "cell_type": "code",
   "execution_count": 43,
   "metadata": {
    "executionInfo": {
     "elapsed": 1886,
     "status": "ok",
     "timestamp": 1718830444353,
     "user": {
      "displayName": "Harsh Tomar",
      "userId": "07306423374395310283"
     },
     "user_tz": -330
    },
    "id": "bvIEpkvHeBm2"
   },
   "outputs": [],
   "source": [
    "\n",
    "human_template=\"You are a master writer that specializes in creating long 5,000 word articles. Please use all your expertise to approach this task. Output your content in markdown format and include titles and subtitles where relevant. \\n\\n \\\n",
    "Please generate 15 questions . The questions should what the topic is about and allow you to flesh out each of these questions into a 500 word answer that covers all elements of the question. \\n\\n Topic: \\n\\n{topic_description} \\\n",
    "\\n\\n Once you have generated the 15 questions, think carefully on each of them and write an article that contains a Main title, subtitle for each sub topic and the 500 words (multiptle paragraphs) answer that addresses each of the questions. Don't phrase all sub headings as questions!! \\n\\n  Questions:\\n\\n Article: \\n\\n\"\n"
   ]
  },
  {
   "cell_type": "code",
   "execution_count": 44,
   "metadata": {
    "executionInfo": {
     "elapsed": 3,
     "status": "ok",
     "timestamp": 1718830444353,
     "user": {
      "displayName": "Harsh Tomar",
      "userId": "07306423374395310283"
     },
     "user_tz": -330
    },
    "id": "NRZbyik8Sfob"
   },
   "outputs": [],
   "source": [
    "\n",
    "human_message_prompt = HumanMessagePromptTemplate(\n",
    "        prompt=PromptTemplate(\n",
    "            template=human_template,\n",
    "            input_variables=[\"topic_description\"],\n",
    "        )\n",
    "    )\n",
    "\n",
    "chat_prompt_template = ChatPromptTemplate.from_messages([system_message_prompt,\n",
    "                                                         human_message_prompt])\n",
    "\n",
    "chat = ChatOpenAI(model_name=\"gpt-3.5-turbo-16k\",\n",
    "                  temperature=0.2)\n",
    "\n"
   ]
  },
  {
   "cell_type": "code",
   "execution_count": 45,
   "metadata": {
    "executionInfo": {
     "elapsed": 3,
     "status": "ok",
     "timestamp": 1718830449272,
     "user": {
      "displayName": "Harsh Tomar",
      "userId": "07306423374395310283"
     },
     "user_tz": -330
    },
    "id": "bjfAKyu4Sfrh"
   },
   "outputs": [],
   "source": [
    "chain = LLMChain(llm=chat, prompt=chat_prompt_template)\n"
   ]
  },
  {
   "cell_type": "markdown",
   "metadata": {
    "id": "WZl2G9pvXerW"
   },
   "source": [
    "## Full output"
   ]
  },
  {
   "cell_type": "code",
   "execution_count": 46,
   "metadata": {
    "executionInfo": {
     "elapsed": 4,
     "status": "ok",
     "timestamp": 1718830454596,
     "user": {
      "displayName": "Harsh Tomar",
      "userId": "07306423374395310283"
     },
     "user_tz": -330
    },
    "id": "jBiW9iDxGmIB"
   },
   "outputs": [],
   "source": [
    "TOPIC_DESCRIPTION = \"The pros and cons of regulating AI research and development\""
   ]
  },
  {
   "cell_type": "code",
   "execution_count": 48,
   "metadata": {
    "colab": {
     "base_uri": "https://localhost:8080/"
    },
    "executionInfo": {
     "elapsed": 4023,
     "status": "ok",
     "timestamp": 1718830526314,
     "user": {
      "displayName": "Harsh Tomar",
      "userId": "07306423374395310283"
     },
     "user_tz": -330
    },
    "id": "KXQjJ4W0Sf30",
    "outputId": "11227008-e08c-4cda-cbf2-a3f5a7bfab84"
   },
   "outputs": [
    {
     "name": "stdout",
     "output_type": "stream",
     "text": [
      "Total Tokens: 1210\n",
      "Prompt Tokens: 212\n",
      "Completion Tokens: 998\n",
      "Total Cost (USD): $0.004628\n",
      "Calc Total Cost (USD): $0.004628\n",
      "CPU times: user 77.9 ms, sys: 12.1 ms, total: 90 ms\n",
      "Wall time: 11.9 s\n"
     ]
    }
   ],
   "source": [
    "%%time\n",
    "from langchain.callbacks import get_openai_callback\n",
    "\n",
    "with get_openai_callback() as cb:\n",
    "    output = chain.run(TOPIC_DESCRIPTION) # chain.run has been deprecated so chain.invoke is used\n",
    "\n",
    "    print(f\"Total Tokens: {cb.total_tokens}\")\n",
    "    print(f\"Prompt Tokens: {cb.prompt_tokens}\")\n",
    "    print(f\"Completion Tokens: {cb.completion_tokens}\")\n",
    "    print(f\"Total Cost (USD): ${cb.total_cost}\")\n",
    "    print(f\"Calc Total Cost (USD): ${(cb.prompt_tokens/1000)*0.003 + (cb.completion_tokens/1000)*0.004}\")"
   ]
  },
  {
   "cell_type": "code",
   "execution_count": 49,
   "metadata": {
    "colab": {
     "base_uri": "https://localhost:8080/"
    },
    "executionInfo": {
     "elapsed": 719,
     "status": "ok",
     "timestamp": 1718830536817,
     "user": {
      "displayName": "Harsh Tomar",
      "userId": "07306423374395310283"
     },
     "user_tz": -330
    },
    "id": "mzqHOHalSf6G",
    "outputId": "562869e0-9650-464c-9445-2cc7e29010ec"
   },
   "outputs": [
    {
     "name": "stdout",
     "output_type": "stream",
     "text": [
      "# The Pros and Cons of Regulating AI Research and Development  ## Introduction  Artificial Intelligence (AI) has become\n",
      "an integral part of our lives, impacting various sectors such as healthcare, finance, and transportation. As AI\n",
      "continues to advance rapidly, there is an ongoing debate about the need for regulation in AI research and development.\n",
      "This article explores the pros and cons of regulating AI, addressing key questions and concerns surrounding this topic.\n",
      "## Pros of Regulating AI Research and Development  ### 1. Ensuring Ethical Development  Regulating AI research and\n",
      "development can help ensure ethical practices are followed. By establishing guidelines and standards, we can prevent the\n",
      "creation of AI systems that may cause harm or infringe upon human rights. Ethical considerations such as fairness,\n",
      "transparency, and accountability can be integrated into the development process, promoting responsible AI deployment.\n",
      "### 2. Mitigating Bias and Discrimination  AI systems are only as unbiased as the data they are trained on. Without\n",
      "regulation, there is a risk of perpetuating biases and discrimination present in the training data. By implementing\n",
      "regulations, we can enforce fairness and prevent AI systems from making discriminatory decisions based on race, gender,\n",
      "or other protected characteristics. This helps to build trust in AI technologies and ensures equal opportunities for\n",
      "all.  ### 3. Protecting Privacy and Data Security  AI often relies on vast amounts of data to learn and make\n",
      "predictions. Without proper regulation, there is a potential for misuse or unauthorized access to personal data. By\n",
      "implementing regulations, we can establish clear guidelines for data collection, storage, and usage, ensuring\n",
      "individuals' privacy rights are protected. This fosters trust between users and AI systems, encouraging wider adoption\n",
      "and acceptance.  ### 4. Promoting Safety and Reliability  Regulation can help ensure that AI systems are safe and\n",
      "reliable. By setting standards for testing, validation, and certification, we can minimize the risk of AI failures or\n",
      "accidents. Safety measures can be put in place to prevent AI systems from causing physical harm or damage. This is\n",
      "particularly crucial in sectors such as autonomous vehicles and healthcare, where AI decisions can have life-altering\n",
      "consequences.  ### 5. Encouraging Collaboration and Knowledge Sharing  Regulation can facilitate collaboration and\n",
      "knowledge sharing among AI researchers and developers. By establishing frameworks for sharing data, algorithms, and best\n",
      "practices, we can accelerate innovation and progress in the field. Openness and collaboration can lead to the\n",
      "development of more robust and effective AI systems, benefiting society as a whole.  ## Cons of Regulating AI Research\n",
      "and Development  ### 1. Stifling Innovation and Progress  Excessive regulation can stifle innovation and slow down the\n",
      "progress of AI research and development. The dynamic nature of AI requires flexibility and adaptability, which may be\n",
      "hindered by rigid regulatory frameworks. Striking the right balance between regulation and innovation is crucial to\n",
      "ensure that AI continues to evolve and address societal challenges effectively.  ### 2. Impeding Global Competitiveness\n",
      "Overregulation in AI research and development can put a country or region at a disadvantage in the global market. If\n",
      "regulations are too strict, companies may choose to relocate their AI research and development efforts to more lenient\n",
      "jurisdictions. This can lead to a brain drain and loss of economic opportunities, impacting a country's competitiveness\n",
      "in the AI industry.  ### 3. Difficulty in Enforcing Regulations  Enforcing regulations in the rapidly evolving field of\n",
      "AI can be challenging. The pace of technological advancements often outpaces the development of regulatory frameworks.\n",
      "This can create loopholes and make it difficult to effectively monitor and enforce compliance. Stricter regulations may\n",
      "also lead to an increase in illegal or unregulated AI development, further complicating enforcement efforts.  ### 4.\n",
      "Slowing Down AI Adoption  Excessive regulation can create barriers to AI adoption, particularly for smaller companies or\n",
      "startups with limited resources. Compliance with complex regulations can be costly and time-consuming, deterring\n",
      "organizations from investing in AI research and development. This can result in a slower pace of AI adoption,\n",
      "potentially delaying the benefits and advancements AI can bring to various industries.  ### 5. Potential for Regulatory\n",
      "Capture  Regulatory capture, where regulatory agencies are influenced or controlled by the industries they are supposed\n",
      "to regulate, is a concern in any regulated field. AI research and development should be guided by public interest rather\n",
      "than the interests of a few powerful entities. Striking the right balance between industry involvement and independent\n",
      "regulation is crucial to prevent regulatory capture and ensure fair and unbiased oversight.  ## Conclusion  The\n",
      "regulation of AI research and development is a complex and multifaceted issue. While regulation can help address ethical\n",
      "concerns, mitigate bias, and protect privacy, it must be carefully balanced with the need for innovation, global\n",
      "competitiveness, and effective enforcement. Striking the right balance is crucial to foster responsible AI development\n",
      "while reaping the benefits of this transformative technology. As AI continues to evolve, ongoing discussions and\n",
      "collaborations between policymakers, researchers, and industry stakeholders are essential to shape effective and\n",
      "inclusive regulatory frameworks.\n"
     ]
    }
   ],
   "source": [
    "print(wrap_text(output))"
   ]
  },
  {
   "cell_type": "code",
   "execution_count": 50,
   "metadata": {
    "executionInfo": {
     "elapsed": 662,
     "status": "ok",
     "timestamp": 1718830548340,
     "user": {
      "displayName": "Harsh Tomar",
      "userId": "07306423374395310283"
     },
     "user_tz": -330
    },
    "id": "5pQUakRDSf-C"
   },
   "outputs": [],
   "source": [
    "write_string_to_file(f'Article-{TOPIC_DESCRIPTION}.txt', output)"
   ]
  },
  {
   "cell_type": "code",
   "execution_count": 51,
   "metadata": {
    "colab": {
     "base_uri": "https://localhost:8080/"
    },
    "executionInfo": {
     "elapsed": 8,
     "status": "ok",
     "timestamp": 1718830551012,
     "user": {
      "displayName": "Harsh Tomar",
      "userId": "07306423374395310283"
     },
     "user_tz": -330
    },
    "id": "9xNLEPwuSgEi",
    "outputId": "04c332a9-f7b8-438e-928c-efb02404a0ee"
   },
   "outputs": [
    {
     "data": {
      "text/plain": [
       "998"
      ]
     },
     "execution_count": 51,
     "metadata": {},
     "output_type": "execute_result"
    }
   ],
   "source": [
    "num_tokens_from_string(output, \"gpt-3.5-turbo\")"
   ]
  },
  {
   "cell_type": "markdown",
   "metadata": {
    "id": "oEO7lbEJLYIF"
   },
   "source": [
    "## Generate questions"
   ]
  },
  {
   "cell_type": "markdown",
   "metadata": {
    "id": "e5ucpJmfLeRE"
   },
   "source": [
    "#### Prompts\n"
   ]
  },
  {
   "cell_type": "code",
   "execution_count": 52,
   "metadata": {
    "executionInfo": {
     "elapsed": 682,
     "status": "ok",
     "timestamp": 1718830581250,
     "user": {
      "displayName": "Harsh Tomar",
      "userId": "07306423374395310283"
     },
     "user_tz": -330
    },
    "id": "wxLg2EiXLeQ8"
   },
   "outputs": [],
   "source": [
    "context_template=\"You are a master writer that specializes in creating long 5,000 word articles. Please use all your expertise to approach this task. Output your content in markdown format and include titles and subtitles where relevant.\"\n",
    "\n",
    "system_message_prompt = SystemMessagePromptTemplate.from_template(context_template)\n",
    "\n",
    "human_template=\"Please generate 15 questions . The questions should what the topic is about and allow you to flesh out each of these questions into a 500 word answer that covers all elements of the question. \\n\\n Topic: \\n\\n{topic_description} \\\n",
    "\\n\\n  Questions:\"\n",
    "\n",
    "human_message_prompt = HumanMessagePromptTemplate(\n",
    "        prompt=PromptTemplate(\n",
    "            template=human_template,\n",
    "            input_variables=[\"topic_description\"],\n",
    "        )\n",
    "    )\n",
    "\n",
    "chat_prompt_template = ChatPromptTemplate.from_messages([system_message_prompt,\n",
    "                                                         human_message_prompt])\n",
    "\n",
    "chat_llm = ChatOpenAI(model_name=\"gpt-3.5-turbo\",\n",
    "                  temperature=0.2)\n",
    "\n",
    "question_chain = LLMChain(llm=chat_llm, prompt=chat_prompt_template)"
   ]
  },
  {
   "cell_type": "code",
   "execution_count": 22,
   "metadata": {
    "executionInfo": {
     "elapsed": 764,
     "status": "ok",
     "timestamp": 1718830144724,
     "user": {
      "displayName": "Harsh Tomar",
      "userId": "07306423374395310283"
     },
     "user_tz": -330
    },
    "id": "KmygH1reMIf4"
   },
   "outputs": [],
   "source": [
    "TOPIC_DESCRIPTION = \"The pros and cons of regulating AI research and development\""
   ]
  },
  {
   "cell_type": "code",
   "execution_count": 23,
   "metadata": {
    "colab": {
     "base_uri": "https://localhost:8080/"
    },
    "executionInfo": {
     "elapsed": 4510,
     "status": "ok",
     "timestamp": 1718830151783,
     "user": {
      "displayName": "Harsh Tomar",
      "userId": "07306423374395310283"
     },
     "user_tz": -330
    },
    "id": "M9-oD4COMIgB",
    "outputId": "c0d2787e-aaad-497c-fc18-f96eab13c617"
   },
   "outputs": [
    {
     "name": "stdout",
     "output_type": "stream",
     "text": [
      "Total Tokens: 360\n",
      "Prompt Tokens: 108\n",
      "Completion Tokens: 252\n",
      "Total Cost (USD): $0.000666\n",
      "Calc Total Cost (USD): $0.001332\n",
      "CPU times: user 41.2 ms, sys: 7.16 ms, total: 48.3 ms\n",
      "Wall time: 4.37 s\n"
     ]
    }
   ],
   "source": [
    "%%time\n",
    "from langchain.callbacks import get_openai_callback\n",
    "\n",
    "with get_openai_callback() as cb:\n",
    "    output = question_chain.run(TOPIC_DESCRIPTION)\n",
    "\n",
    "    print(f\"Total Tokens: {cb.total_tokens}\")\n",
    "    print(f\"Prompt Tokens: {cb.prompt_tokens}\")\n",
    "    print(f\"Completion Tokens: {cb.completion_tokens}\")\n",
    "    print(f\"Total Cost (USD): ${cb.total_cost}\")\n",
    "    print(f\"Calc Total Cost (USD): ${(cb.prompt_tokens/1000)*0.003 + (cb.completion_tokens/1000)*0.004}\")"
   ]
  },
  {
   "cell_type": "code",
   "execution_count": 24,
   "metadata": {
    "colab": {
     "base_uri": "https://localhost:8080/"
    },
    "executionInfo": {
     "elapsed": 599,
     "status": "ok",
     "timestamp": 1718830178171,
     "user": {
      "displayName": "Harsh Tomar",
      "userId": "07306423374395310283"
     },
     "user_tz": -330
    },
    "id": "b5oZbX7xMeIn",
    "outputId": "e140f2b5-cba7-495d-bed1-bc7232fd9be3"
   },
   "outputs": [
    {
     "name": "stdout",
     "output_type": "stream",
     "text": [
      "# 1. What are the potential benefits of regulating AI research and development? # 2. How can regulations help ensure the\n",
      "ethical use of AI technology? # 3. What are the risks associated with unregulated AI research and development? # 4. How\n",
      "can regulations impact the pace of AI innovation? # 5. What are the challenges of implementing effective regulations in\n",
      "the field of AI? # 6. How do different countries approach the regulation of AI research and development? # 7. What role\n",
      "do ethics play in the regulation of AI technology? # 8. How can regulations address concerns about AI bias and\n",
      "discrimination? # 9. What are the implications of regulating AI on job displacement and the economy? # 10. How do\n",
      "privacy concerns intersect with the regulation of AI technology? # 11. What are the arguments against strict regulations\n",
      "on AI research and development? # 12. How can regulations foster international cooperation in the field of AI? # 13.\n",
      "What are the key considerations for policymakers when designing AI regulations? # 14. How can regulations balance the\n",
      "need for innovation with the risks associated with AI technology? # 15. What are the potential long-term effects of\n",
      "regulating AI research and development on society?\n"
     ]
    }
   ],
   "source": [
    "print(wrap_text(output))"
   ]
  },
  {
   "cell_type": "code",
   "execution_count": 25,
   "metadata": {
    "executionInfo": {
     "elapsed": 817,
     "status": "ok",
     "timestamp": 1718830186402,
     "user": {
      "displayName": "Harsh Tomar",
      "userId": "07306423374395310283"
     },
     "user_tz": -330
    },
    "id": "rLjnyVGgMeIy"
   },
   "outputs": [],
   "source": [
    "write_string_to_file(f'Questions-{TOPIC_DESCRIPTION}.txt', output)"
   ]
  },
  {
   "cell_type": "code",
   "execution_count": 26,
   "metadata": {
    "colab": {
     "base_uri": "https://localhost:8080/"
    },
    "executionInfo": {
     "elapsed": 3170,
     "status": "ok",
     "timestamp": 1718830192291,
     "user": {
      "displayName": "Harsh Tomar",
      "userId": "07306423374395310283"
     },
     "user_tz": -330
    },
    "id": "vThWb4K_MeIy",
    "outputId": "729caf1d-b5ad-4fb4-d580-d261bf099256"
   },
   "outputs": [
    {
     "data": {
      "text/plain": [
       "252"
      ]
     },
     "execution_count": 26,
     "metadata": {},
     "output_type": "execute_result"
    }
   ],
   "source": [
    "num_tokens_from_string(output, \"gpt-3.5-turbo\")"
   ]
  },
  {
   "cell_type": "code",
   "execution_count": 27,
   "metadata": {
    "executionInfo": {
     "elapsed": 2,
     "status": "ok",
     "timestamp": 1718830195528,
     "user": {
      "displayName": "Harsh Tomar",
      "userId": "07306423374395310283"
     },
     "user_tz": -330
    },
    "id": "_oZr6wQzMx6q"
   },
   "outputs": [],
   "source": [
    "questions = output"
   ]
  },
  {
   "cell_type": "markdown",
   "metadata": {
    "id": "d37_YzzHMyWR"
   },
   "source": [
    "## Generate the article"
   ]
  },
  {
   "cell_type": "code",
   "execution_count": 28,
   "metadata": {
    "executionInfo": {
     "elapsed": 853,
     "status": "ok",
     "timestamp": 1718830199534,
     "user": {
      "displayName": "Harsh Tomar",
      "userId": "07306423374395310283"
     },
     "user_tz": -330
    },
    "id": "k1X05T32Mldu"
   },
   "outputs": [],
   "source": [
    "context_template=\"You are a master writer that specializes in creating long 5,000 word articles. Please use all your expertise to approach this task. Output your content in markdown format and include titles and subtitles where relevant.\"\n",
    "\n",
    "system_message_prompt = SystemMessagePromptTemplate.from_template(context_template)\n",
    "\n",
    "human_template=\"Please take this list of questions and step by step go through each of them writing 4 paragraphs for each question. Include a subtitle for the question that rephrases the question. \\n\\n QUESTIONS: \\n\\n{questions} \\\n",
    "\\n\\n  ARTICLE:\"\n",
    "\n",
    "human_message_prompt = HumanMessagePromptTemplate(\n",
    "        prompt=PromptTemplate(\n",
    "            template=human_template,\n",
    "            input_variables=[\"questions\"],\n",
    "        )\n",
    "    )\n",
    "\n",
    "chat_prompt_template = ChatPromptTemplate.from_messages([system_message_prompt,\n",
    "                                                         human_message_prompt])\n",
    "\n",
    "chat_llm = ChatOpenAI(model_name=\"gpt-3.5-turbo-16k\",\n",
    "                  temperature=0.2)\n",
    "\n",
    "question_chain = LLMChain(llm=chat_llm, prompt=chat_prompt_template)"
   ]
  },
  {
   "cell_type": "code",
   "execution_count": null,
   "metadata": {
    "id": "RNiXykdYODRh"
   },
   "outputs": [],
   "source": []
  },
  {
   "cell_type": "code",
   "execution_count": 29,
   "metadata": {
    "colab": {
     "base_uri": "https://localhost:8080/"
    },
    "executionInfo": {
     "elapsed": 14225,
     "status": "ok",
     "timestamp": 1718830227657,
     "user": {
      "displayName": "Harsh Tomar",
      "userId": "07306423374395310283"
     },
     "user_tz": -330
    },
    "id": "CszP4cXAOG34",
    "outputId": "3902e868-5197-4dc5-da94-3e44b424e8a2"
   },
   "outputs": [
    {
     "name": "stdout",
     "output_type": "stream",
     "text": [
      "Total Tokens: 1352\n",
      "Prompt Tokens: 107\n",
      "Completion Tokens: 1245\n",
      "Total Cost (USD): $0.005301000000000001\n",
      "Calc Total Cost (USD): $0.005301000000000001\n",
      "CPU times: user 91.5 ms, sys: 10.2 ms, total: 102 ms\n",
      "Wall time: 13.2 s\n"
     ]
    }
   ],
   "source": [
    "%%time\n",
    "from langchain.callbacks import get_openai_callback\n",
    "\n",
    "with get_openai_callback() as cb:\n",
    "    output = question_chain.run(TOPIC_DESCRIPTION)\n",
    "\n",
    "    print(f\"Total Tokens: {cb.total_tokens}\")\n",
    "    print(f\"Prompt Tokens: {cb.prompt_tokens}\")\n",
    "    print(f\"Completion Tokens: {cb.completion_tokens}\")\n",
    "    print(f\"Total Cost (USD): ${cb.total_cost}\")\n",
    "    print(f\"Calc Total Cost (USD): ${(cb.prompt_tokens/1000)*0.003 + (cb.completion_tokens/1000)*0.004}\")"
   ]
  },
  {
   "cell_type": "code",
   "execution_count": 30,
   "metadata": {
    "colab": {
     "base_uri": "https://localhost:8080/"
    },
    "executionInfo": {
     "elapsed": 4,
     "status": "ok",
     "timestamp": 1718830227657,
     "user": {
      "displayName": "Harsh Tomar",
      "userId": "07306423374395310283"
     },
     "user_tz": -330
    },
    "id": "cnsngM1oOG4D",
    "outputId": "9049ce96-e3aa-4bec-f5cb-b39fbcc65b04"
   },
   "outputs": [
    {
     "name": "stdout",
     "output_type": "stream",
     "text": [
      "## The Pros and Cons of Regulating AI Research and Development  ### Introduction  Artificial Intelligence (AI) has\n",
      "become one of the most transformative technologies of our time, with the potential to revolutionize various industries\n",
      "and improve our daily lives. However, as AI continues to advance at an unprecedented pace, concerns have been raised\n",
      "about the ethical implications and potential risks associated with its development. This has led to a debate on whether\n",
      "there should be regulations imposed on AI research and development. In this article, we will explore the pros and cons\n",
      "of regulating AI research and development, considering both the benefits and drawbacks of such regulations.  ### Pros of\n",
      "Regulating AI Research and Development  #### Ensuring Ethical Development  One of the main arguments in favor of\n",
      "regulating AI research and development is the need to ensure ethical practices. AI systems have the potential to make\n",
      "decisions and take actions that can have significant consequences for individuals and society as a whole. By\n",
      "implementing regulations, we can establish guidelines and standards that promote the ethical development and use of AI.\n",
      "This includes ensuring transparency, accountability, and fairness in AI algorithms and decision-making processes.\n",
      "Regulations can also address concerns related to bias, discrimination, and privacy, which are crucial aspects to\n",
      "consider when developing AI technologies.  #### Mitigating Potential Risks  Another advantage of regulating AI research\n",
      "and development is the ability to mitigate potential risks associated with the technology. AI has the potential to be\n",
      "used for malicious purposes, such as cyberattacks, surveillance, or the creation of autonomous weapons. By implementing\n",
      "regulations, we can establish safeguards and limitations to prevent the misuse of AI. This can include restrictions on\n",
      "the development of certain types of AI applications or the requirement for AI systems to meet specific safety and\n",
      "security standards. By proactively addressing these risks, we can minimize the potential harm that AI could cause.  ####\n",
      "Fostering Public Trust  Regulating AI research and development can also help foster public trust in the technology. As\n",
      "AI becomes more prevalent in our daily lives, it is essential for the public to have confidence in its reliability and\n",
      "safety. By implementing regulations, we can ensure that AI systems are thoroughly tested and meet certain standards\n",
      "before they are deployed. This can help alleviate concerns about the unknown consequences of AI and increase public\n",
      "acceptance of the technology. Additionally, regulations can provide a framework for addressing any potential issues or\n",
      "grievances that may arise from the use of AI, further enhancing public trust.  #### Promoting International Cooperation\n",
      "Regulating AI research and development can also promote international cooperation and collaboration. AI is a global\n",
      "technology that transcends borders, and its development requires a collective effort. By establishing international\n",
      "regulations, countries can work together to address common challenges and ensure a level playing field. This can help\n",
      "prevent a race to the bottom, where countries compete to develop AI without considering the ethical implications or\n",
      "potential risks. International regulations can also facilitate the sharing of best practices, knowledge, and resources,\n",
      "leading to more responsible and beneficial AI development worldwide.  ### Cons of Regulating AI Research and Development\n",
      "#### Stifling Innovation and Progress  One of the main concerns raised against regulating AI research and development is\n",
      "the potential stifling of innovation and progress. AI is a rapidly evolving field, and imposing strict regulations could\n",
      "hinder the development of new technologies and applications. Regulations may create bureaucratic hurdles and slow down\n",
      "the pace of innovation, preventing researchers and developers from exploring new ideas and pushing the boundaries of\n",
      "what AI can achieve. This could have negative consequences for industries that rely on AI advancements, such as\n",
      "healthcare, transportation, and finance, where innovation is crucial for improving efficiency and outcomes.  ####\n",
      "Difficulty in Defining and Enforcing Regulations  Another challenge of regulating AI research and development is the\n",
      "difficulty in defining and enforcing regulations. AI is a complex and multifaceted technology, making it challenging to\n",
      "create comprehensive regulations that cover all aspects of its development and use. Additionally, AI is constantly\n",
      "evolving, and regulations may quickly become outdated or insufficient to address emerging challenges. Enforcing\n",
      "regulations can also be a daunting task, as AI research and development often occur across borders and involve various\n",
      "stakeholders. This raises questions about jurisdiction, accountability, and the practicality of enforcing regulations\n",
      "effectively.  #### Slowing Down AI Adoption  Regulating AI research and development could potentially slow down the\n",
      "adoption of AI technologies. Startups and small companies, which often drive innovation in the AI field, may struggle to\n",
      "comply with complex regulations, leading to a concentration of power in the hands of larger, more established\n",
      "organizations. This could create barriers to entry for new players and limit competition, stifling the growth and\n",
      "democratization of AI. Furthermore, strict regulations may discourage investment in AI research and development, as\n",
      "companies may perceive the associated risks and compliance costs as too high. This could result in a slower pace of AI\n",
      "adoption, delaying the potential benefits that AI can bring to society.  #### Regulatory Capture and Bias  A concern\n",
      "with regulating AI research and development is the potential for regulatory capture and bias. Regulatory capture occurs\n",
      "when regulatory agencies are influenced or controlled by the industries they are supposed to regulate, leading to\n",
      "policies that favor certain stakeholders or protect vested interests. In the case of AI, this could result in\n",
      "regulations that benefit large tech companies or hinder competition. Additionally, regulations may inadvertently\n",
      "introduce biases if they are not carefully designed and implemented. Bias in AI algorithms has already been a\n",
      "significant concern, and poorly designed regulations could exacerbate this issue. Striking the right balance between\n",
      "regulation and innovation while avoiding capture and bias is a complex challenge that needs to be carefully addressed.\n",
      "### Conclusion  The debate surrounding the regulation of AI research and development is complex and multifaceted. While\n",
      "regulations can ensure ethical development, mitigate risks, foster public trust, and promote international cooperation,\n",
      "they also have the potential to stifle innovation, be difficult to define and enforce, slow down AI adoption, and be\n",
      "susceptible to regulatory capture and bias. Striking the right balance between regulation and innovation is crucial to\n",
      "harness the full potential of AI while addressing the ethical and societal challenges it presents. As AI continues to\n",
      "advance, it is essential to have ongoing discussions and collaborations among policymakers, researchers, industry\n",
      "experts, and the public to shape responsible and effective regulations that guide the development and use of AI in a way\n",
      "that benefits humanity as a whole.\n"
     ]
    }
   ],
   "source": [
    "print(wrap_text(output))"
   ]
  },
  {
   "cell_type": "code",
   "execution_count": 53,
   "metadata": {
    "executionInfo": {
     "elapsed": 730,
     "status": "ok",
     "timestamp": 1718830869835,
     "user": {
      "displayName": "Harsh Tomar",
      "userId": "07306423374395310283"
     },
     "user_tz": -330
    },
    "id": "YWxZT_qDOG4D"
   },
   "outputs": [],
   "source": [
    "write_string_to_file(f'Questions-{TOPIC_DESCRIPTION}.txt', output)"
   ]
  },
  {
   "cell_type": "code",
   "execution_count": 54,
   "metadata": {
    "colab": {
     "base_uri": "https://localhost:8080/"
    },
    "executionInfo": {
     "elapsed": 6,
     "status": "ok",
     "timestamp": 1718830870850,
     "user": {
      "displayName": "Harsh Tomar",
      "userId": "07306423374395310283"
     },
     "user_tz": -330
    },
    "id": "rC440gJxOG4D",
    "outputId": "d091edba-63b8-4200-b596-994211a6d466"
   },
   "outputs": [
    {
     "data": {
      "text/plain": [
       "998"
      ]
     },
     "execution_count": 54,
     "metadata": {},
     "output_type": "execute_result"
    }
   ],
   "source": [
    "num_tokens_from_string(output, \"gpt-3.5-turbo\")"
   ]
  },
  {
   "cell_type": "code",
   "execution_count": 55,
   "metadata": {
    "executionInfo": {
     "elapsed": 3,
     "status": "ok",
     "timestamp": 1718830871746,
     "user": {
      "displayName": "Harsh Tomar",
      "userId": "07306423374395310283"
     },
     "user_tz": -330
    },
    "id": "gx0ozGvdOG4D"
   },
   "outputs": [],
   "source": [
    "questions = output"
   ]
  },
  {
   "cell_type": "markdown",
   "metadata": {
    "id": "E6QQkFkAOG4D"
   },
   "source": [
    "## Generate the article"
   ]
  },
  {
   "cell_type": "code",
   "execution_count": 56,
   "metadata": {
    "executionInfo": {
     "elapsed": 7,
     "status": "ok",
     "timestamp": 1718830873930,
     "user": {
      "displayName": "Harsh Tomar",
      "userId": "07306423374395310283"
     },
     "user_tz": -330
    },
    "id": "hYam5qlOOG4D"
   },
   "outputs": [],
   "source": [
    "context_template=\"You are a master writer that specializes in creating long 5,000 word articles. Please use all your expertise to approach this task. Output your content in markdown format and include titles and subtitles where relevant.\"\n",
    "\n",
    "system_message_prompt = SystemMessagePromptTemplate.from_template(context_template)\n",
    "\n",
    "human_template=\"Please take this list of questions and step by step go through each of them writing 4 paragraphs for each question. Include a subtitle for the question that rephrases the question. \\n\\n QUESTIONS: \\n\\n{questions} \\\n",
    "\\n\\n  ARTICLE:\"\n",
    "\n",
    "human_message_prompt = HumanMessagePromptTemplate(\n",
    "        prompt=PromptTemplate(\n",
    "            template=human_template,\n",
    "            input_variables=[\"questions\"],\n",
    "        )\n",
    "    )\n",
    "\n",
    "chat_prompt_template = ChatPromptTemplate.from_messages([system_message_prompt,\n",
    "                                                         human_message_prompt])\n",
    "\n",
    "chat_llm = ChatOpenAI(model_name=\"gpt-3.5-turbo-16k\",\n",
    "                  temperature=0.2)\n",
    "\n",
    "article_chain = LLMChain(llm=chat_llm, prompt=chat_prompt_template)"
   ]
  },
  {
   "cell_type": "code",
   "execution_count": 35,
   "metadata": {
    "colab": {
     "base_uri": "https://localhost:8080/"
    },
    "executionInfo": {
     "elapsed": 14405,
     "status": "ok",
     "timestamp": 1718830269082,
     "user": {
      "displayName": "Harsh Tomar",
      "userId": "07306423374395310283"
     },
     "user_tz": -330
    },
    "id": "rUgKJOVZOcvp",
    "outputId": "0de0979c-72a5-4eb0-a6f0-a59173af145a"
   },
   "outputs": [
    {
     "name": "stdout",
     "output_type": "stream",
     "text": [
      "Total Tokens: 1293\n",
      "Prompt Tokens: 107\n",
      "Completion Tokens: 1186\n",
      "Total Cost (USD): $0.005065\n",
      "Calc Total Cost (USD): $0.005065\n",
      "CPU times: user 109 ms, sys: 8.84 ms, total: 118 ms\n",
      "Wall time: 14.4 s\n"
     ]
    }
   ],
   "source": [
    "%%time\n",
    "from langchain.callbacks import get_openai_callback\n",
    "\n",
    "with get_openai_callback() as cb:\n",
    "    output = article_chain.run(TOPIC_DESCRIPTION)\n",
    "\n",
    "    print(f\"Total Tokens: {cb.total_tokens}\")\n",
    "    print(f\"Prompt Tokens: {cb.prompt_tokens}\")\n",
    "    print(f\"Completion Tokens: {cb.completion_tokens}\")\n",
    "    print(f\"Total Cost (USD): ${cb.total_cost}\")\n",
    "    print(f\"Calc Total Cost (USD): ${(cb.prompt_tokens/1000)*0.003 + (cb.completion_tokens/1000)*0.004}\")"
   ]
  },
  {
   "cell_type": "code",
   "execution_count": 57,
   "metadata": {
    "colab": {
     "base_uri": "https://localhost:8080/"
    },
    "executionInfo": {
     "elapsed": 598,
     "status": "ok",
     "timestamp": 1718830879764,
     "user": {
      "displayName": "Harsh Tomar",
      "userId": "07306423374395310283"
     },
     "user_tz": -330
    },
    "id": "WPCkHAqCOcvp",
    "outputId": "de45d888-4ada-4e33-84d5-e3af35346457"
   },
   "outputs": [
    {
     "name": "stdout",
     "output_type": "stream",
     "text": [
      "# The Pros and Cons of Regulating AI Research and Development  ## Introduction  Artificial Intelligence (AI) has become\n",
      "an integral part of our lives, impacting various sectors such as healthcare, finance, and transportation. As AI\n",
      "continues to advance rapidly, there is an ongoing debate about the need for regulation in AI research and development.\n",
      "This article explores the pros and cons of regulating AI, addressing key questions and concerns surrounding this topic.\n",
      "## Pros of Regulating AI Research and Development  ### 1. Ensuring Ethical Development  Regulating AI research and\n",
      "development can help ensure ethical practices are followed. By establishing guidelines and standards, we can prevent the\n",
      "creation of AI systems that may cause harm or infringe upon human rights. Ethical considerations such as fairness,\n",
      "transparency, and accountability can be integrated into the development process, promoting responsible AI deployment.\n",
      "### 2. Mitigating Bias and Discrimination  AI systems are only as unbiased as the data they are trained on. Without\n",
      "regulation, there is a risk of perpetuating biases and discrimination present in the training data. By implementing\n",
      "regulations, we can enforce fairness and prevent AI systems from making discriminatory decisions based on race, gender,\n",
      "or other protected characteristics. This helps to build trust in AI technologies and ensures equal opportunities for\n",
      "all.  ### 3. Protecting Privacy and Data Security  AI often relies on vast amounts of data to learn and make\n",
      "predictions. Without proper regulation, there is a potential for misuse or unauthorized access to personal data. By\n",
      "implementing regulations, we can establish clear guidelines for data collection, storage, and usage, ensuring\n",
      "individuals' privacy rights are protected. This fosters trust between users and AI systems, encouraging wider adoption\n",
      "and acceptance.  ### 4. Promoting Safety and Reliability  Regulation can help ensure that AI systems are safe and\n",
      "reliable. By setting standards for testing, validation, and certification, we can minimize the risk of AI failures or\n",
      "accidents. Safety measures can be put in place to prevent AI systems from causing physical harm or damage. This is\n",
      "particularly crucial in sectors such as autonomous vehicles and healthcare, where AI decisions can have life-altering\n",
      "consequences.  ### 5. Encouraging Collaboration and Knowledge Sharing  Regulation can facilitate collaboration and\n",
      "knowledge sharing among AI researchers and developers. By establishing frameworks for sharing data, algorithms, and best\n",
      "practices, we can accelerate innovation and progress in the field. Openness and collaboration can lead to the\n",
      "development of more robust and effective AI systems, benefiting society as a whole.  ## Cons of Regulating AI Research\n",
      "and Development  ### 1. Stifling Innovation and Progress  Excessive regulation can stifle innovation and slow down the\n",
      "progress of AI research and development. The dynamic nature of AI requires flexibility and adaptability, which may be\n",
      "hindered by rigid regulatory frameworks. Striking the right balance between regulation and innovation is crucial to\n",
      "ensure that AI continues to evolve and address societal challenges effectively.  ### 2. Impeding Global Competitiveness\n",
      "Overregulation in AI research and development can put a country or region at a disadvantage in the global market. If\n",
      "regulations are too strict, companies may choose to relocate their AI research and development efforts to more lenient\n",
      "jurisdictions. This can lead to a brain drain and loss of economic opportunities, impacting a country's competitiveness\n",
      "in the AI industry.  ### 3. Difficulty in Enforcing Regulations  Enforcing regulations in the rapidly evolving field of\n",
      "AI can be challenging. The pace of technological advancements often outpaces the development of regulatory frameworks.\n",
      "This can create loopholes and make it difficult to effectively monitor and enforce compliance. Stricter regulations may\n",
      "also lead to an increase in illegal or unregulated AI development, further complicating enforcement efforts.  ### 4.\n",
      "Slowing Down AI Adoption  Excessive regulation can create barriers to AI adoption, particularly for smaller companies or\n",
      "startups with limited resources. Compliance with complex regulations can be costly and time-consuming, deterring\n",
      "organizations from investing in AI research and development. This can result in a slower pace of AI adoption,\n",
      "potentially delaying the benefits and advancements AI can bring to various industries.  ### 5. Potential for Regulatory\n",
      "Capture  Regulatory capture, where regulatory agencies are influenced or controlled by the industries they are supposed\n",
      "to regulate, is a concern in any regulated field. AI research and development should be guided by public interest rather\n",
      "than the interests of a few powerful entities. Striking the right balance between industry involvement and independent\n",
      "regulation is crucial to prevent regulatory capture and ensure fair and unbiased oversight.  ## Conclusion  The\n",
      "regulation of AI research and development is a complex and multifaceted issue. While regulation can help address ethical\n",
      "concerns, mitigate bias, and protect privacy, it must be carefully balanced with the need for innovation, global\n",
      "competitiveness, and effective enforcement. Striking the right balance is crucial to foster responsible AI development\n",
      "while reaping the benefits of this transformative technology. As AI continues to evolve, ongoing discussions and\n",
      "collaborations between policymakers, researchers, and industry stakeholders are essential to shape effective and\n",
      "inclusive regulatory frameworks.\n"
     ]
    }
   ],
   "source": [
    "print(wrap_text(output))"
   ]
  },
  {
   "cell_type": "code",
   "execution_count": 58,
   "metadata": {
    "executionInfo": {
     "elapsed": 1670,
     "status": "ok",
     "timestamp": 1718830898022,
     "user": {
      "displayName": "Harsh Tomar",
      "userId": "07306423374395310283"
     },
     "user_tz": -330
    },
    "id": "xjfi_E6ROcvq"
   },
   "outputs": [],
   "source": [
    "write_string_to_file(f'Article-{TOPIC_DESCRIPTION}.txt', output)"
   ]
  },
  {
   "cell_type": "code",
   "execution_count": 59,
   "metadata": {
    "colab": {
     "base_uri": "https://localhost:8080/"
    },
    "executionInfo": {
     "elapsed": 6,
     "status": "ok",
     "timestamp": 1718830899544,
     "user": {
      "displayName": "Harsh Tomar",
      "userId": "07306423374395310283"
     },
     "user_tz": -330
    },
    "id": "5rlya5wBOcvq",
    "outputId": "b1d3d7aa-7521-48c9-b8b7-d2152039e3bf"
   },
   "outputs": [
    {
     "data": {
      "text/plain": [
       "998"
      ]
     },
     "execution_count": 59,
     "metadata": {},
     "output_type": "execute_result"
    }
   ],
   "source": [
    "num_tokens_from_string(output, \"gpt-3.5-turbo\")"
   ]
  },
  {
   "cell_type": "code",
   "execution_count": null,
   "metadata": {
    "id": "FtDE-BAOOlwY"
   },
   "outputs": [],
   "source": []
  }
 ],
 "metadata": {
  "colab": {
   "provenance": [
    {
     "file_id": "14Zj55RO2x6d9z9WOw3hTQYmhOEn0auqT",
     "timestamp": 1718829695086
    },
    {
     "file_id": "1bU8k68V6rKgYLe1mG0WzZYn7XjAUK2Il",
     "timestamp": 1686882342729
    },
    {
     "file_id": "1BT_kRFMP27lmwAoWeIhiie0VPs0oqShz",
     "timestamp": 1686799265262
    }
   ]
  },
  "kernelspec": {
   "display_name": "Python 3",
   "name": "python3"
  },
  "language_info": {
   "name": "python"
  }
 },
 "nbformat": 4,
 "nbformat_minor": 0
}
