{
 "cells": [
  {
   "cell_type": "code",
   "execution_count": 1,
   "metadata": {
    "colab": {
     "base_uri": "https://localhost:8080/"
    },
    "executionInfo": {
     "elapsed": 18561,
     "status": "ok",
     "timestamp": 1717172848935,
     "user": {
      "displayName": "Harsh Tomar",
      "userId": "07306423374395310283"
     },
     "user_tz": -330
    },
    "id": "RRYSu48huSUW",
    "outputId": "bddf41fd-c611-4573-95e7-0e95139572ec"
   },
   "outputs": [
    {
     "name": "stdout",
     "output_type": "stream",
     "text": [
      "\u001b[2K     \u001b[90m━━━━━━━━━━━━━━━━━━━━━━━━━━━━━━━━━━━━━━━━\u001b[0m \u001b[32m973.5/973.5 kB\u001b[0m \u001b[31m8.2 MB/s\u001b[0m eta \u001b[36m0:00:00\u001b[0m\n",
      "\u001b[2K     \u001b[90m━━━━━━━━━━━━━━━━━━━━━━━━━━━━━━━━━━━━━━━━\u001b[0m \u001b[32m320.7/320.7 kB\u001b[0m \u001b[31m19.9 MB/s\u001b[0m eta \u001b[36m0:00:00\u001b[0m\n",
      "\u001b[2K     \u001b[90m━━━━━━━━━━━━━━━━━━━━━━━━━━━━━━━━━━━━━━━━\u001b[0m \u001b[32m1.1/1.1 MB\u001b[0m \u001b[31m34.1 MB/s\u001b[0m eta \u001b[36m0:00:00\u001b[0m\n",
      "\u001b[2K     \u001b[90m━━━━━━━━━━━━━━━━━━━━━━━━━━━━━━━━━━━━━━━━\u001b[0m \u001b[32m310.2/310.2 kB\u001b[0m \u001b[31m26.1 MB/s\u001b[0m eta \u001b[36m0:00:00\u001b[0m\n",
      "\u001b[2K     \u001b[90m━━━━━━━━━━━━━━━━━━━━━━━━━━━━━━━━━━━━━━━━\u001b[0m \u001b[32m124.3/124.3 kB\u001b[0m \u001b[31m8.8 MB/s\u001b[0m eta \u001b[36m0:00:00\u001b[0m\n",
      "\u001b[2K     \u001b[90m━━━━━━━━━━━━━━━━━━━━━━━━━━━━━━━━━━━━━━━━\u001b[0m \u001b[32m75.6/75.6 kB\u001b[0m \u001b[31m6.1 MB/s\u001b[0m eta \u001b[36m0:00:00\u001b[0m\n",
      "\u001b[2K     \u001b[90m━━━━━━━━━━━━━━━━━━━━━━━━━━━━━━━━━━━━━━━━\u001b[0m \u001b[32m77.9/77.9 kB\u001b[0m \u001b[31m4.9 MB/s\u001b[0m eta \u001b[36m0:00:00\u001b[0m\n",
      "\u001b[2K     \u001b[90m━━━━━━━━━━━━━━━━━━━━━━━━━━━━━━━━━━━━━━━━\u001b[0m \u001b[32m58.3/58.3 kB\u001b[0m \u001b[31m3.4 MB/s\u001b[0m eta \u001b[36m0:00:00\u001b[0m\n",
      "\u001b[2K     \u001b[90m━━━━━━━━━━━━━━━━━━━━━━━━━━━━━━━━━━━━━━━━\u001b[0m \u001b[32m53.0/53.0 kB\u001b[0m \u001b[31m4.8 MB/s\u001b[0m eta \u001b[36m0:00:00\u001b[0m\n",
      "\u001b[2K     \u001b[90m━━━━━━━━━━━━━━━━━━━━━━━━━━━━━━━━━━━━━━━━\u001b[0m \u001b[32m142.5/142.5 kB\u001b[0m \u001b[31m3.9 MB/s\u001b[0m eta \u001b[36m0:00:00\u001b[0m\n",
      "\u001b[?25h"
     ]
    }
   ],
   "source": [
    "!pip -q install langchain openai tiktoken"
   ]
  },
  {
   "cell_type": "code",
   "execution_count": null,
   "metadata": {
    "executionInfo": {
     "elapsed": 771,
     "status": "ok",
     "timestamp": 1717172849696,
     "user": {
      "displayName": "Harsh Tomar",
      "userId": "07306423374395310283"
     },
     "user_tz": -330
    },
    "id": "dNA4TsHpu6OM"
   },
   "outputs": [],
   "source": [
    "import os\n",
    "\n",
    "os.environ[\"OPENAI_API_KEY\"] = \"your-openai-api-key\""
   ]
  },
  {
   "cell_type": "code",
   "execution_count": 3,
   "metadata": {
    "colab": {
     "base_uri": "https://localhost:8080/"
    },
    "executionInfo": {
     "elapsed": 7043,
     "status": "ok",
     "timestamp": 1717172856733,
     "user": {
      "displayName": "Harsh Tomar",
      "userId": "07306423374395310283"
     },
     "user_tz": -330
    },
    "id": "J-KFB7J_u_3L",
    "outputId": "1de73e2b-5c1a-4852-897e-7e6ce5553cfd"
   },
   "outputs": [
    {
     "name": "stdout",
     "output_type": "stream",
     "text": [
      "Name: langchain\n",
      "Version: 0.2.1\n",
      "Summary: Building applications with LLMs through composability\n",
      "Home-page: https://github.com/langchain-ai/langchain\n",
      "Author: \n",
      "Author-email: \n",
      "License: MIT\n",
      "Location: /usr/local/lib/python3.10/dist-packages\n",
      "Requires: aiohttp, async-timeout, langchain-core, langchain-text-splitters, langsmith, numpy, pydantic, PyYAML, requests, SQLAlchemy, tenacity\n",
      "Required-by: \n"
     ]
    }
   ],
   "source": [
    "!pip show langchain"
   ]
  },
  {
   "cell_type": "markdown",
   "metadata": {
    "id": "EtKByJJhg-Zc"
   },
   "source": [
    "# Using LangChain with some Tools Wikipedia DuckDuckGo PythonRepl"
   ]
  },
  {
   "cell_type": "markdown",
   "metadata": {
    "id": "HqwsGJDhvAQ5"
   },
   "source": [
    "### Setting up wikipedia"
   ]
  },
  {
   "cell_type": "code",
   "execution_count": 4,
   "metadata": {
    "colab": {
     "base_uri": "https://localhost:8080/"
    },
    "executionInfo": {
     "elapsed": 11761,
     "status": "ok",
     "timestamp": 1717172868490,
     "user": {
      "displayName": "Harsh Tomar",
      "userId": "07306423374395310283"
     },
     "user_tz": -330
    },
    "id": "pNeHuQCwOLn9",
    "outputId": "aa588011-89ff-4e43-e270-8d413ced5248"
   },
   "outputs": [
    {
     "name": "stdout",
     "output_type": "stream",
     "text": [
      "  Preparing metadata (setup.py) ... \u001b[?25l\u001b[?25hdone\n",
      "  Building wheel for wikipedia (setup.py) ... \u001b[?25l\u001b[?25hdone\n"
     ]
    }
   ],
   "source": [
    "!pip -q install wikipedia"
   ]
  },
  {
   "cell_type": "code",
   "execution_count": 5,
   "metadata": {
    "colab": {
     "base_uri": "https://localhost:8080/"
    },
    "executionInfo": {
     "elapsed": 16481,
     "status": "ok",
     "timestamp": 1717172884968,
     "user": {
      "displayName": "Harsh Tomar",
      "userId": "07306423374395310283"
     },
     "user_tz": -330
    },
    "id": "XdtYhuj3cpue",
    "outputId": "48dd81e4-5982-43dc-c38e-eebef0ec0996"
   },
   "outputs": [
    {
     "name": "stdout",
     "output_type": "stream",
     "text": [
      "Collecting langchain-community\n",
      "  Downloading langchain_community-0.2.1-py3-none-any.whl (2.1 MB)\n",
      "\u001b[2K     \u001b[90m━━━━━━━━━━━━━━━━━━━━━━━━━━━━━━━━━━━━━━━━\u001b[0m \u001b[32m2.1/2.1 MB\u001b[0m \u001b[31m18.5 MB/s\u001b[0m eta \u001b[36m0:00:00\u001b[0m\n",
      "\u001b[?25hRequirement already satisfied: PyYAML>=5.3 in /usr/local/lib/python3.10/dist-packages (from langchain-community) (6.0.1)\n",
      "Requirement already satisfied: SQLAlchemy<3,>=1.4 in /usr/local/lib/python3.10/dist-packages (from langchain-community) (2.0.30)\n",
      "Requirement already satisfied: aiohttp<4.0.0,>=3.8.3 in /usr/local/lib/python3.10/dist-packages (from langchain-community) (3.9.5)\n",
      "Collecting dataclasses-json<0.7,>=0.5.7 (from langchain-community)\n",
      "  Downloading dataclasses_json-0.6.6-py3-none-any.whl (28 kB)\n",
      "Requirement already satisfied: langchain<0.3.0,>=0.2.0 in /usr/local/lib/python3.10/dist-packages (from langchain-community) (0.2.1)\n",
      "Requirement already satisfied: langchain-core<0.3.0,>=0.2.0 in /usr/local/lib/python3.10/dist-packages (from langchain-community) (0.2.3)\n",
      "Requirement already satisfied: langsmith<0.2.0,>=0.1.0 in /usr/local/lib/python3.10/dist-packages (from langchain-community) (0.1.66)\n",
      "Requirement already satisfied: numpy<2,>=1 in /usr/local/lib/python3.10/dist-packages (from langchain-community) (1.25.2)\n",
      "Requirement already satisfied: requests<3,>=2 in /usr/local/lib/python3.10/dist-packages (from langchain-community) (2.31.0)\n",
      "Requirement already satisfied: tenacity<9.0.0,>=8.1.0 in /usr/local/lib/python3.10/dist-packages (from langchain-community) (8.3.0)\n",
      "Requirement already satisfied: aiosignal>=1.1.2 in /usr/local/lib/python3.10/dist-packages (from aiohttp<4.0.0,>=3.8.3->langchain-community) (1.3.1)\n",
      "Requirement already satisfied: attrs>=17.3.0 in /usr/local/lib/python3.10/dist-packages (from aiohttp<4.0.0,>=3.8.3->langchain-community) (23.2.0)\n",
      "Requirement already satisfied: frozenlist>=1.1.1 in /usr/local/lib/python3.10/dist-packages (from aiohttp<4.0.0,>=3.8.3->langchain-community) (1.4.1)\n",
      "Requirement already satisfied: multidict<7.0,>=4.5 in /usr/local/lib/python3.10/dist-packages (from aiohttp<4.0.0,>=3.8.3->langchain-community) (6.0.5)\n",
      "Requirement already satisfied: yarl<2.0,>=1.0 in /usr/local/lib/python3.10/dist-packages (from aiohttp<4.0.0,>=3.8.3->langchain-community) (1.9.4)\n",
      "Requirement already satisfied: async-timeout<5.0,>=4.0 in /usr/local/lib/python3.10/dist-packages (from aiohttp<4.0.0,>=3.8.3->langchain-community) (4.0.3)\n",
      "Collecting marshmallow<4.0.0,>=3.18.0 (from dataclasses-json<0.7,>=0.5.7->langchain-community)\n",
      "  Downloading marshmallow-3.21.2-py3-none-any.whl (49 kB)\n",
      "\u001b[2K     \u001b[90m━━━━━━━━━━━━━━━━━━━━━━━━━━━━━━━━━━━━━━━━\u001b[0m \u001b[32m49.3/49.3 kB\u001b[0m \u001b[31m6.6 MB/s\u001b[0m eta \u001b[36m0:00:00\u001b[0m\n",
      "\u001b[?25hCollecting typing-inspect<1,>=0.4.0 (from dataclasses-json<0.7,>=0.5.7->langchain-community)\n",
      "  Downloading typing_inspect-0.9.0-py3-none-any.whl (8.8 kB)\n",
      "Requirement already satisfied: langchain-text-splitters<0.3.0,>=0.2.0 in /usr/local/lib/python3.10/dist-packages (from langchain<0.3.0,>=0.2.0->langchain-community) (0.2.0)\n",
      "Requirement already satisfied: pydantic<3,>=1 in /usr/local/lib/python3.10/dist-packages (from langchain<0.3.0,>=0.2.0->langchain-community) (2.7.1)\n",
      "Requirement already satisfied: jsonpatch<2.0,>=1.33 in /usr/local/lib/python3.10/dist-packages (from langchain-core<0.3.0,>=0.2.0->langchain-community) (1.33)\n",
      "Requirement already satisfied: packaging<24.0,>=23.2 in /usr/local/lib/python3.10/dist-packages (from langchain-core<0.3.0,>=0.2.0->langchain-community) (23.2)\n",
      "Requirement already satisfied: orjson<4.0.0,>=3.9.14 in /usr/local/lib/python3.10/dist-packages (from langsmith<0.2.0,>=0.1.0->langchain-community) (3.10.3)\n",
      "Requirement already satisfied: charset-normalizer<4,>=2 in /usr/local/lib/python3.10/dist-packages (from requests<3,>=2->langchain-community) (3.3.2)\n",
      "Requirement already satisfied: idna<4,>=2.5 in /usr/local/lib/python3.10/dist-packages (from requests<3,>=2->langchain-community) (3.7)\n",
      "Requirement already satisfied: urllib3<3,>=1.21.1 in /usr/local/lib/python3.10/dist-packages (from requests<3,>=2->langchain-community) (2.0.7)\n",
      "Requirement already satisfied: certifi>=2017.4.17 in /usr/local/lib/python3.10/dist-packages (from requests<3,>=2->langchain-community) (2024.2.2)\n",
      "Requirement already satisfied: typing-extensions>=4.6.0 in /usr/local/lib/python3.10/dist-packages (from SQLAlchemy<3,>=1.4->langchain-community) (4.11.0)\n",
      "Requirement already satisfied: greenlet!=0.4.17 in /usr/local/lib/python3.10/dist-packages (from SQLAlchemy<3,>=1.4->langchain-community) (3.0.3)\n",
      "Requirement already satisfied: jsonpointer>=1.9 in /usr/local/lib/python3.10/dist-packages (from jsonpatch<2.0,>=1.33->langchain-core<0.3.0,>=0.2.0->langchain-community) (2.4)\n",
      "Requirement already satisfied: annotated-types>=0.4.0 in /usr/local/lib/python3.10/dist-packages (from pydantic<3,>=1->langchain<0.3.0,>=0.2.0->langchain-community) (0.7.0)\n",
      "Requirement already satisfied: pydantic-core==2.18.2 in /usr/local/lib/python3.10/dist-packages (from pydantic<3,>=1->langchain<0.3.0,>=0.2.0->langchain-community) (2.18.2)\n",
      "Collecting mypy-extensions>=0.3.0 (from typing-inspect<1,>=0.4.0->dataclasses-json<0.7,>=0.5.7->langchain-community)\n",
      "  Downloading mypy_extensions-1.0.0-py3-none-any.whl (4.7 kB)\n",
      "Installing collected packages: mypy-extensions, marshmallow, typing-inspect, dataclasses-json, langchain-community\n",
      "Successfully installed dataclasses-json-0.6.6 langchain-community-0.2.1 marshmallow-3.21.2 mypy-extensions-1.0.0 typing-inspect-0.9.0\n"
     ]
    }
   ],
   "source": [
    "!pip install -U langchain-community"
   ]
  },
  {
   "cell_type": "code",
   "execution_count": 6,
   "metadata": {
    "executionInfo": {
     "elapsed": 710,
     "status": "ok",
     "timestamp": 1717172885673,
     "user": {
      "displayName": "Harsh Tomar",
      "userId": "07306423374395310283"
     },
     "user_tz": -330
    },
    "id": "GMp0VQ0gOeL9"
   },
   "outputs": [],
   "source": [
    "from langchain.utilities import WikipediaAPIWrapper"
   ]
  },
  {
   "cell_type": "code",
   "execution_count": 7,
   "metadata": {
    "executionInfo": {
     "elapsed": 4,
     "status": "ok",
     "timestamp": 1717172885674,
     "user": {
      "displayName": "Harsh Tomar",
      "userId": "07306423374395310283"
     },
     "user_tz": -330
    },
    "id": "DFP5GQVkO81u"
   },
   "outputs": [],
   "source": [
    "wikipedia = WikipediaAPIWrapper()"
   ]
  },
  {
   "cell_type": "code",
   "execution_count": 8,
   "metadata": {
    "colab": {
     "base_uri": "https://localhost:8080/",
     "height": 123
    },
    "executionInfo": {
     "elapsed": 2506,
     "status": "ok",
     "timestamp": 1717172888177,
     "user": {
      "displayName": "Harsh Tomar",
      "userId": "07306423374395310283"
     },
     "user_tz": -330
    },
    "id": "JFQbiRdHO9rk",
    "outputId": "c33e9652-3606-4528-f2ae-5e29bfffb205"
   },
   "outputs": [
    {
     "data": {
      "application/vnd.google.colaboratory.intrinsic+json": {
       "type": "string"
      },
      "text/plain": [
       "'Page: LangChain\\nSummary: LangChain is a framework designed to simplify the creation of applications using large language models (LLMs). As a language model integration framework, LangChain\\'s use-cases largely overlap with those of language models in general, including document analysis and summarization, chatbots, and code analysis.\\n\\nPage: DataStax\\nSummary: DataStax, Inc. is a real-time data for AI company based in Santa Clara, California. Its product Astra DB is a cloud database-as-a-service based on Apache Cassandra. DataStax also offers DataStax Enterprise (DSE), an on-premises database built on Apache Cassandra, and Astra Streaming, a messaging and event streaming cloud service based on Apache Pulsar. As of June 2022, the company has roughly 800 customers distributed in over 50 countries.\\n\\n\\n\\nPage: Prompt engineering\\nSummary: Prompt engineering is the process of structuring an instruction that can be interpreted and understood by a generative AI model. A prompt is natural language text describing the task that an AI should perform.\\nA prompt for a text-to-text language model can be a query such as \"what is Fermat\\'s little theorem?\", a command such as \"write a poem about leaves falling\", or a longer statement including context, instructions, and conversation history. Prompt engineering may involve phrasing a query, specifying a style, providing relevant context or assigning a role to the AI such as \"Act as a native French speaker\". A prompt may include a few examples for a model to learn from, such as asking the model to complete \"maison → house, chat → cat, chien →\" (the expected response being dog), an approach called few-shot learning.\\nWhen communicating with a text-to-image or a text-to-audio model, a typical prompt is a description of a desired output such as \"a high-quality photo of an astronaut riding a horse\" or \"Lo-fi slow BPM electro chill with organic samples\". Prompting a text-to-image model may involve adding, removing, emphasizing and re-ordering words to achieve a desired subject, style, layout, lighting, and aesthetic.\\n\\n'"
      ]
     },
     "execution_count": 8,
     "metadata": {},
     "output_type": "execute_result"
    }
   ],
   "source": [
    "wikipedia.run('Langchain')"
   ]
  },
  {
   "cell_type": "markdown",
   "metadata": {
    "id": "gsE8T9csScMN"
   },
   "source": [
    "## REPL"
   ]
  },
  {
   "cell_type": "code",
   "execution_count": 9,
   "metadata": {
    "executionInfo": {
     "elapsed": 15,
     "status": "ok",
     "timestamp": 1717172888178,
     "user": {
      "displayName": "Harsh Tomar",
      "userId": "07306423374395310283"
     },
     "user_tz": -330
    },
    "id": "cCOKsQ9tSdqM"
   },
   "outputs": [],
   "source": [
    "from langchain.utilities import PythonREPL"
   ]
  },
  {
   "cell_type": "code",
   "execution_count": 10,
   "metadata": {
    "executionInfo": {
     "elapsed": 14,
     "status": "ok",
     "timestamp": 1717172888178,
     "user": {
      "displayName": "Harsh Tomar",
      "userId": "07306423374395310283"
     },
     "user_tz": -330
    },
    "id": "-eh-rd7sSgPi"
   },
   "outputs": [],
   "source": [
    "python_repl = PythonREPL()"
   ]
  },
  {
   "cell_type": "code",
   "execution_count": 11,
   "metadata": {
    "colab": {
     "base_uri": "https://localhost:8080/",
     "height": 53
    },
    "executionInfo": {
     "elapsed": 14,
     "status": "ok",
     "timestamp": 1717172888178,
     "user": {
      "displayName": "Harsh Tomar",
      "userId": "07306423374395310283"
     },
     "user_tz": -330
    },
    "id": "zbQF6osMSjFf",
    "outputId": "7e915da5-9f7c-4ef3-ad64-7a8d029a7ad3"
   },
   "outputs": [
    {
     "name": "stderr",
     "output_type": "stream",
     "text": [
      "WARNING:langchain_community.utilities.python:Python REPL can execute arbitrary code. Use with caution.\n"
     ]
    },
    {
     "data": {
      "application/vnd.google.colaboratory.intrinsic+json": {
       "type": "string"
      },
      "text/plain": [
       "'34\\n'"
      ]
     },
     "execution_count": 11,
     "metadata": {},
     "output_type": "execute_result"
    }
   ],
   "source": [
    "python_repl.run(\"print(17*2)\")"
   ]
  },
  {
   "cell_type": "markdown",
   "metadata": {
    "id": "ypoJgxKk942d"
   },
   "source": [
    "## Duck Duck Go"
   ]
  },
  {
   "cell_type": "code",
   "execution_count": 12,
   "metadata": {
    "colab": {
     "base_uri": "https://localhost:8080/"
    },
    "executionInfo": {
     "elapsed": 7864,
     "status": "ok",
     "timestamp": 1717172896030,
     "user": {
      "displayName": "Harsh Tomar",
      "userId": "07306423374395310283"
     },
     "user_tz": -330
    },
    "id": "8sGhowPv99h8",
    "outputId": "fbdc1951-edca-48fe-9f58-72a489be8689"
   },
   "outputs": [
    {
     "name": "stdout",
     "output_type": "stream",
     "text": [
      "\u001b[?25l     \u001b[90m━━━━━━━━━━━━━━━━━━━━━━━━━━━━━━━━━━━━━━━━\u001b[0m \u001b[32m0.0/2.7 MB\u001b[0m \u001b[31m?\u001b[0m eta \u001b[36m-:--:--\u001b[0m\r\u001b[2K     \u001b[91m━━\u001b[0m\u001b[90m╺\u001b[0m\u001b[90m━━━━━━━━━━━━━━━━━━━━━━━━━━━━━━━━━━━━━\u001b[0m \u001b[32m0.1/2.7 MB\u001b[0m \u001b[31m4.1 MB/s\u001b[0m eta \u001b[36m0:00:01\u001b[0m\r\u001b[2K     \u001b[91m━━━━━━━━━━━\u001b[0m\u001b[91m╸\u001b[0m\u001b[90m━━━━━━━━━━━━━━━━━━━━━━━━━━━━\u001b[0m \u001b[32m0.8/2.7 MB\u001b[0m \u001b[31m11.4 MB/s\u001b[0m eta \u001b[36m0:00:01\u001b[0m\r\u001b[2K     \u001b[91m━━━━━━━━━━━━━━━━━━━━━━━━━━━━━━━━━━━━━━━\u001b[0m\u001b[91m╸\u001b[0m \u001b[32m2.7/2.7 MB\u001b[0m \u001b[31m27.0 MB/s\u001b[0m eta \u001b[36m0:00:01\u001b[0m\r\u001b[2K     \u001b[90m━━━━━━━━━━━━━━━━━━━━━━━━━━━━━━━━━━━━━━━━\u001b[0m \u001b[32m2.7/2.7 MB\u001b[0m \u001b[31m22.5 MB/s\u001b[0m eta \u001b[36m0:00:00\u001b[0m\n",
      "\u001b[?25h"
     ]
    }
   ],
   "source": [
    "!pip -q install duckduckgo-search"
   ]
  },
  {
   "cell_type": "code",
   "execution_count": 13,
   "metadata": {
    "executionInfo": {
     "elapsed": 453,
     "status": "ok",
     "timestamp": 1717172896476,
     "user": {
      "displayName": "Harsh Tomar",
      "userId": "07306423374395310283"
     },
     "user_tz": -330
    },
    "id": "lAcqVwv7-R77"
   },
   "outputs": [],
   "source": [
    "from langchain.tools import DuckDuckGoSearchRun"
   ]
  },
  {
   "cell_type": "code",
   "execution_count": 14,
   "metadata": {
    "executionInfo": {
     "elapsed": 3,
     "status": "ok",
     "timestamp": 1717172896476,
     "user": {
      "displayName": "Harsh Tomar",
      "userId": "07306423374395310283"
     },
     "user_tz": -330
    },
    "id": "s_fDWui9_kJE"
   },
   "outputs": [],
   "source": [
    "search = DuckDuckGoSearchRun()"
   ]
  },
  {
   "cell_type": "code",
   "execution_count": 15,
   "metadata": {
    "colab": {
     "base_uri": "https://localhost:8080/",
     "height": 122
    },
    "executionInfo": {
     "elapsed": 1194,
     "status": "ok",
     "timestamp": 1717172897667,
     "user": {
      "displayName": "Harsh Tomar",
      "userId": "07306423374395310283"
     },
     "user_tz": -330
    },
    "id": "tSP5aKky_kMd",
    "outputId": "d7883e11-284f-4a0a-cdd7-385cb66568c6"
   },
   "outputs": [
    {
     "data": {
      "application/vnd.google.colaboratory.intrinsic+json": {
       "type": "string"
      },
      "text/plain": [
       "\"Tesla Inc is a leading electric vehicle and clean energy company that trades on the NASDAQ GS. Find out the latest stock price, chart, news, key statistics, and company profile of Tesla Inc on ... The History of Tesla's Stock Price by Markets Insider Tesla launched its IPO on June 29, 2010. Trading on the NASDAQ, Tesla offered 13.3 million shares at a price of $17 per share. View Tesla, Inc. TSLA stock quote prices, financial information, real-time forecasts, and company news from CNN. 33 brokers have issued 1-year price objectives for Tesla's stock. Their TSLA share price targets range from $85.00 to $310.00. On average, they predict the company's stock price to reach $185.90 in the next twelve months. This suggests a possible upside of 4.0% from the stock's current price. View Tesla, Inc TSLA investment & stock information. Get the latest Tesla, Inc TSLA detailed stock quotes, stock data, Real-Time ECN, charts, stats and more.\""
      ]
     },
     "execution_count": 15,
     "metadata": {},
     "output_type": "execute_result"
    }
   ],
   "source": [
    "search.run(\"Tesla stock price?\")"
   ]
  },
  {
   "cell_type": "markdown",
   "metadata": {
    "id": "Mo3QlrUB3iRv"
   },
   "source": [
    "## Putting them together"
   ]
  },
  {
   "cell_type": "code",
   "execution_count": 16,
   "metadata": {
    "colab": {
     "base_uri": "https://localhost:8080/"
    },
    "executionInfo": {
     "elapsed": 933,
     "status": "ok",
     "timestamp": 1717172898592,
     "user": {
      "displayName": "Harsh Tomar",
      "userId": "07306423374395310283"
     },
     "user_tz": -330
    },
    "id": "oLqOaMQq3kpB",
    "outputId": "436d878d-dda3-42aa-ace5-064a44345e37"
   },
   "outputs": [
    {
     "name": "stderr",
     "output_type": "stream",
     "text": [
      "/usr/local/lib/python3.10/dist-packages/langchain_core/_api/deprecation.py:119: LangChainDeprecationWarning: The class `OpenAI` was deprecated in LangChain 0.0.10 and will be removed in 0.3.0. An updated version of the class exists in the langchain-openai package and should be used instead. To use it run `pip install -U langchain-openai` and import as `from langchain_openai import OpenAI`.\n",
      "  warn_deprecated(\n"
     ]
    }
   ],
   "source": [
    "from langchain import OpenAI\n",
    "\n",
    "llm = OpenAI(temperature=0)"
   ]
  },
  {
   "cell_type": "code",
   "execution_count": 17,
   "metadata": {
    "executionInfo": {
     "elapsed": 1180,
     "status": "ok",
     "timestamp": 1717172899770,
     "user": {
      "displayName": "Harsh Tomar",
      "userId": "07306423374395310283"
     },
     "user_tz": -330
    },
    "id": "_1T2Z_mZ4vHc"
   },
   "outputs": [],
   "source": [
    "from langchain.agents import Tool\n",
    "\n",
    "tools = [\n",
    "    Tool(\n",
    "        name = \"python repl\",\n",
    "        func=python_repl.run,\n",
    "        description=\"useful for when you need to use python to answer a question. You should input python code\"\n",
    "    )\n",
    "]"
   ]
  },
  {
   "cell_type": "code",
   "execution_count": 18,
   "metadata": {
    "executionInfo": {
     "elapsed": 15,
     "status": "ok",
     "timestamp": 1717172899770,
     "user": {
      "displayName": "Harsh Tomar",
      "userId": "07306423374395310283"
     },
     "user_tz": -330
    },
    "id": "zOjMuR7M366E"
   },
   "outputs": [],
   "source": [
    "\n",
    "\n",
    "wikipedia_tool = Tool(\n",
    "    name='wikipedia',\n",
    "    func= wikipedia.run,\n",
    "    description=\"Useful for when you need to look up a topic, country or person on wikipedia\"\n",
    ")\n",
    "\n",
    "duckduckgo_tool = Tool(\n",
    "    name='DuckDuckGo Search',\n",
    "    func= search.run,\n",
    "    description=\"Useful for when you need to do a search on the internet to find information that another tool can't find. be specific with your input.\"\n",
    ")\n",
    "\n"
   ]
  },
  {
   "cell_type": "code",
   "execution_count": 19,
   "metadata": {
    "executionInfo": {
     "elapsed": 15,
     "status": "ok",
     "timestamp": 1717172899771,
     "user": {
      "displayName": "Harsh Tomar",
      "userId": "07306423374395310283"
     },
     "user_tz": -330
    },
    "id": "8RGNtKnNvZ2Y"
   },
   "outputs": [],
   "source": [
    "tools.append(duckduckgo_tool)\n",
    "tools.append(wikipedia_tool)\n"
   ]
  },
  {
   "cell_type": "markdown",
   "metadata": {
    "id": "Q66NZx7UFNff"
   },
   "source": [
    "## Using the agents"
   ]
  },
  {
   "cell_type": "code",
   "execution_count": 20,
   "metadata": {
    "colab": {
     "base_uri": "https://localhost:8080/"
    },
    "executionInfo": {
     "elapsed": 15,
     "status": "ok",
     "timestamp": 1717172899771,
     "user": {
      "displayName": "Harsh Tomar",
      "userId": "07306423374395310283"
     },
     "user_tz": -330
    },
    "id": "5e4eb28c",
    "outputId": "21fe7ddf-b74e-4721-cd0d-df2fc2654bf0"
   },
   "outputs": [
    {
     "name": "stderr",
     "output_type": "stream",
     "text": [
      "/usr/local/lib/python3.10/dist-packages/langchain_core/_api/deprecation.py:119: LangChainDeprecationWarning: The function `initialize_agent` was deprecated in LangChain 0.1.0 and will be removed in 0.3.0. Use Use new agent constructor methods like create_react_agent, create_json_agent, create_structured_chat_agent, etc. instead.\n",
      "  warn_deprecated(\n"
     ]
    }
   ],
   "source": [
    "from langchain.agents import initialize_agent\n",
    "\n",
    "zero_shot_agent = initialize_agent(\n",
    "    agent=\"zero-shot-react-description\",\n",
    "    tools=tools,\n",
    "    llm=llm,\n",
    "    verbose=True,\n",
    "    max_iterations=3,\n",
    ")"
   ]
  },
  {
   "cell_type": "code",
   "execution_count": 21,
   "metadata": {
    "colab": {
     "base_uri": "https://localhost:8080/",
     "height": 541
    },
    "executionInfo": {
     "elapsed": 5526,
     "status": "ok",
     "timestamp": 1717172905283,
     "user": {
      "displayName": "Harsh Tomar",
      "userId": "07306423374395310283"
     },
     "user_tz": -330
    },
    "id": "IrFei5ys5Wgk",
    "outputId": "038f812e-edb5-43f2-a1ee-6edc8edef3ba"
   },
   "outputs": [
    {
     "name": "stderr",
     "output_type": "stream",
     "text": [
      "/usr/local/lib/python3.10/dist-packages/langchain_core/_api/deprecation.py:119: LangChainDeprecationWarning: The method `Chain.run` was deprecated in langchain 0.1.0 and will be removed in 0.3.0. Use invoke instead.\n",
      "  warn_deprecated(\n"
     ]
    },
    {
     "name": "stdout",
     "output_type": "stream",
     "text": [
      "\n",
      "\n",
      "\u001b[1m> Entering new AgentExecutor chain...\u001b[0m\n",
      "\u001b[32;1m\u001b[1;3m I should use wikipedia to look up Barak Obama's birthdate\n",
      "Action: wikipedia\n",
      "Action Input: Barak Obama\u001b[0m\n",
      "Observation: \u001b[38;5;200m\u001b[1;3mPage: Barack Obama\n",
      "Summary: Barack Hussein Obama II (born August 4, 1961) is an American politician who served as the 44th president of the United States from 2009 to 2017. A member of the Democratic Party, he was the first African-American  president in United States history. Obama previously served as a U.S. senator representing Illinois from 2005 to 2008, as an Illinois state senator from 1997 to 2004, and as a community service organizer, civil rights lawyer, and university lecturer. \n",
      "Obama was born in Honolulu, Hawaii. He graduated from Columbia University in 1983 with a Bachelor of Arts degree in political science and later worked as a community organizer in Chicago. In 1988, Obama enrolled in Harvard Law School, where he was the first black president of the Harvard Law Review. He became a civil rights attorney and an academic, teaching constitutional law at the University of Chicago Law School from 1992 to 2004. He also went into elective politics; Obama represented the 13th district in the Illinois Senate from 1997 until 2004, when he successfully ran for the U.S. Senate. In 2008, after a close primary campaign against Hillary Clinton, he was nominated by the Democratic Party for president and chose Delaware Senator Joe Biden as his running mate. Obama was elected president, defeating Republican Party nominee John McCain in the presidential election and was inaugurated on January 20, 2009. Nine months later he was named the 2009 Nobel Peace Prize laureate, a decision that drew a mixture of criticism and praise.\n",
      "Obama's first-term actions addressed the global financial crisis and included a major stimulus package to guide the economy in recovering from the Great Recession, a partial extension of George W. Bush's tax cuts, legislation to reform health care, a major financial regulation reform bill, and the end of a major U.S. military presence in Iraq. Obama also appointed Supreme Court justices Sonia Sotomayor and Elena Kagan, the former being the first Hispanic American on the Supreme Court. He ordered the counterterrorism raid which killed Osama bin Laden and downplayed Bush's counterinsurgency model, expanding air strikes and making extensive use of special forces, while encouraging greater reliance on host-government militaries. Obama also ordered military involvement in Libya in order to implement UN Security Council Resolution 1973, contributing to the overthrow of Muammar Gaddafi.\n",
      "After winning re-election by defeating Republican opponent Mitt Romney, Obama was sworn in for a second term on January 20, 2013. In his second term, Obama took steps to combat climate change, signing a major international climate agreement and an executive order to limit carbon emissions. Obama also presided over the implementation of the Affordable Care Act and other legislation passed in his first term. He negotiated a nuclear agreement with Iran and normalized relations with Cuba. The number of American soldiers in Afghanistan fell dramatically during Obama's second term, though U.S. soldiers remained in the country throughout Obama's presidency. Obama promoted inclusion for LGBT Americans, becoming the first sitting U.S. president to publicly support same-sex marriage.\n",
      "Obama left office on January 20, 2017, and continues to reside in Washington, D.C. His presidential library in Chicago began construction in 2021. Since leaving office, Obama has remained politically active, campaigning for candidates in various American elections, including his former vice president Joe Biden's successful bid for president in 2020. Outside of politics, Obama has published three books: Dreams from My Father (1995), The Audacity of Hope (2006), and A Promised Land (2020). Historians and political scientists rank him among the upper tier in historical rankings of American presidents.\n",
      "\n",
      "Page: Presidential transition of Barack Obama\n",
      "Summary: The presidential transition of Barack Obama began when he won the United States presidential election on November 4\u001b[0m\n",
      "Thought:\u001b[32;1m\u001b[1;3m I should use python repl to extract the birthdate from the summary\n",
      "Action: python repl\n",
      "Action Input: summary\u001b[0m\n",
      "Observation: \u001b[36;1m\u001b[1;3mNameError(\"name 'summary' is not defined\")\u001b[0m\n",
      "Thought:\u001b[32;1m\u001b[1;3m I should use DuckDuckGo Search to find a more specific page about Barack Obama's birthdate\n",
      "Action: DuckDuckGo Search\n",
      "Action Input: Barack Obama birthdate\u001b[0m\n",
      "Observation: \u001b[33;1m\u001b[1;3mBarack Obama—with his wife, Michelle—being sworn in as the 44th president of the United States, January 20, 2009. Key events in the life of Barack Obama. Barack Obama (born August 4, 1961, Honolulu, Hawaii, U.S.) is the 44th president of the United States (2009-17) and the first African American to hold the office. (CNN) — Here's a look at the life of Barack Obama, the 44th president of the United States. Here's a look at the life of Barack Obama, the 44th president of the United States.. Personal. Birth date: August 4, 1961 Birth place: Honolulu, Hawaii. Birth name: Barack Hussein Obama Jr ... President Barack Obama, who many anticipate will play a key role in the 2024 elections, set the blueprint for the […] The post Reflecting on President Obama's legacy for his 62nd birthday ... The Barack Obama Foundation is registered as a 501(c)(3) non-profit organization (EIN 46-4950751). The Obama Foundation Shop. Browse t-shirts, mugs, and vintage gear — all for a good cause! Shop now. DONATE TODAY. We need your help to turn hope into action—to inspire, empower, and connect people to change their world.\u001b[0m\n",
      "Thought:\u001b[32;1m\u001b[1;3m\u001b[0m\n",
      "\n",
      "\u001b[1m> Finished chain.\u001b[0m\n"
     ]
    },
    {
     "data": {
      "application/vnd.google.colaboratory.intrinsic+json": {
       "type": "string"
      },
      "text/plain": [
       "'Agent stopped due to iteration limit or time limit.'"
      ]
     },
     "execution_count": 21,
     "metadata": {},
     "output_type": "execute_result"
    }
   ],
   "source": [
    "zero_shot_agent.run(\"When was Barak Obama born?\")"
   ]
  },
  {
   "cell_type": "code",
   "execution_count": 22,
   "metadata": {
    "colab": {
     "base_uri": "https://localhost:8080/",
     "height": 645
    },
    "executionInfo": {
     "elapsed": 5500,
     "status": "ok",
     "timestamp": 1717172911394,
     "user": {
      "displayName": "Harsh Tomar",
      "userId": "07306423374395310283"
     },
     "user_tz": -330
    },
    "id": "CABxVBKL5tX7",
    "outputId": "cd764d5d-6636-4249-831a-0732c365dca5"
   },
   "outputs": [
    {
     "name": "stdout",
     "output_type": "stream",
     "text": [
      "\n",
      "\n",
      "\u001b[1m> Entering new AgentExecutor chain...\u001b[0m\n",
      "\u001b[32;1m\u001b[1;3m I should use python to do the calculation for me\n",
      "Action: python repl\n",
      "Action Input: 17*6\u001b[0m\n",
      "Observation: \u001b[36;1m\u001b[1;3m\u001b[0m\n",
      "Thought:\u001b[32;1m\u001b[1;3m I should use DuckDuckGo Search to find the answer\n",
      "Action: DuckDuckGo Search\n",
      "Action Input: \"What is 17*6?\"\u001b[0m\n",
      "Observation: \u001b[33;1m\u001b[1;3mChoose the fraction form. If the fraction doesn't include a whole number, leave \"simple,\" if it does - choose \"mixed.\" Input the top part of your fraction into the \"numerator\" field, and the bottom part into the \"denominator\" field of the fraction to decimal calculator. Input the whole number too, if you've chosen the mixed number option. Improper fraction to a mixed number, e.g. 17 6 \\frac{17}{6} 6 17 Divide the numerator by the denominator (the top number by the bottom number): 17 / 6 = 2 17 / 6 = 2 17/6 = 2 remainder 5 5 5. Take the whole number from the division - it's the whole part of the mixed number: 2 2 2. The iOS 18 release date should come in September alongside the iPhone 16 series. It will support most, or all, iOS 17-powered iPhones. Apple is reportedly planning big upgrades to AI and Siri. RCS ... Drivers should allow extra travel time and stay on the designated detour route while southbound I-17 is closed between Loop 303 and Happy Valley Road from 10 p.m. Friday to 5 a.m. Monday. The detour will follow Loop 303 west, Lake Pleasant Parkway south and Happy Valley Road east back to I-17. Put the 5 on top of the division bar, to the right of the 1. Multiply 5 by 32 and write the answer under 167. 5 * 32 = 160. Draw a line and subtract 160 from 167. 167 - 160 = 7. Since 7 is less than 32 your long division is done. You have your answer: The quotient is 15 and the remainder is 7.\u001b[0m\n",
      "Thought:\u001b[32;1m\u001b[1;3m I should use wikipedia to confirm the answer\n",
      "Action: wikipedia\n",
      "Action Input: \"17*6\"\u001b[0m\n",
      "Observation: \u001b[38;5;200m\u001b[1;3mPage: John Jeffreys (1706–1766)\n",
      "Summary: John Jeffreys (1706 – 30 January 1766) of The Priory, Brecon, and Sheen, Surrey,  was a Welsh politician who sat in the House of Commons from 1734 to 1766. He lost a fortune gambling but was awarded lucrative public positions under successive Administrations. \n",
      "Jeffreys was the eldest son of John Jeffreys, MP and his wife Elizabeth Sturt, daughter of Anthony Sturt, MP of London. His father and his uncle, Sir Jeffrey Jeffreys were wealthy tobacco merchants. He was a member of White's Club and succeeded his father in 1715 but was a gamester who soon ran through his fortune.\n",
      "Jeffreys contested Brecon at the 1727 British general election, but was unsuccessful. He was returned as Member of Parliament for Breconshire by a small majority at the 1734 British general election. He began his career in opposition, and became an adherent of  Pulteney. He was returned unopposed at the 1741 British general election. After the fall of Walpole in 1742, Pulteney  made him Joint Secretary to the Treasury, worth about £5,000 p.a. at the time. Horace Walpole described the appointment as White's contribution to the Government. Jeffreys was the only friend of Pulteney  who was not turned out of office at the end of 1744.  It was said that he was inefficient and incapable of carrying on the business of the Treasury and that almost everybody in the House of Commons wondered what public reason could be given for keeping him in post. Pelham, who was a fellow member of White's, replied that Jeffreys was a good retired inoffensive creature, and the public had no interest in his appointment, so he was not going to react to the resentment of others. However, in 1746 Pelham wanted to ensure a competent replacement for the octogenarian Secretary to the Treasury, and Jeffreys resigned from his position in May 1746, taking an anuual payment of £1,000 p.a. in compensation. \n",
      "At the 1747 British general election Jeffreys was returned unopposed as MP for Dartmouth. In due course he was appointed secretary to the Chancellor of the Exchequer in 1752 and stayed in post until 1754.  He  was returned unopposed again at the 1754 British general election and was appointed Warden of the Mint in 1754. In 1757 he was appointed deputy ranger of St James's and Hyde Parks. He was returned for Dartmouth unopposed again at the  1761 British general election and in 1761 he was given a regular secret service pension of £500 p.a. He continued to support and be financially supported by successive Governments. \n",
      "Jeffreys died unmarried on 30 January 1766.\n",
      "\n",
      "Page: James Wemyss (1726–1786)\n",
      "Summary: James Wemyss (23 February 1726 – 10 May 1786) was a Scottish naval officer and politician who sat in the House of Commons from 1763 to 1784.\n",
      "\n",
      "Page: Joseph Martin (1726–1776)\n",
      "Summary: Joseph Martin  (1726–1776) was a British banker and politician who sat in the House of Commons   from 1768 to 1776.\n",
      "Martin was the second son of John Martin MP and banker, of Overbury and Lombard Street and his wife Catherine Jackson, daughter of Joseph Jackson of Sneyd Park, Gloucestershire. He joined the family bank, later known as Martins Bank, in 1746.  In 1760 he succeeded his father as head partner of the bank. He held a large amount of Bank of England stock, and speculated in Government funds.\n",
      "At the 1768 general election, Martin  was elected Member of Parliament for Gatton on the interest of Sir George Colebrooke. He made his first speech on 10 December 1768. He was appointed Sheriff of London for 1770.\n",
      "\n",
      "After control of the Gatton seat was bought by Sir William Mayne, he moved to the family seat at Overbury Court and was returned unopposed to represent nearby Tewkesbury at the 1774 general election.\n",
      "Martin died on 30 March 1776. He had married Eleanor Torriano, daughter of Sir John Torriano of College Hill, London on 6 February 1749 and had 4 sons and 3 daughters.\u001b[0m\n",
      "Thought:\u001b[32;1m\u001b[1;3m\u001b[0m\n",
      "\n",
      "\u001b[1m> Finished chain.\u001b[0m\n"
     ]
    },
    {
     "data": {
      "application/vnd.google.colaboratory.intrinsic+json": {
       "type": "string"
      },
      "text/plain": [
       "'Agent stopped due to iteration limit or time limit.'"
      ]
     },
     "execution_count": 22,
     "metadata": {},
     "output_type": "execute_result"
    }
   ],
   "source": [
    "zero_shot_agent.run(\"What is 17*6?\")"
   ]
  },
  {
   "cell_type": "code",
   "execution_count": 23,
   "metadata": {
    "colab": {
     "base_uri": "https://localhost:8080/"
    },
    "executionInfo": {
     "elapsed": 6,
     "status": "ok",
     "timestamp": 1717172911394,
     "user": {
      "displayName": "Harsh Tomar",
      "userId": "07306423374395310283"
     },
     "user_tz": -330
    },
    "id": "mObTFFLy6Pdo",
    "outputId": "3a84ac44-15aa-4bb2-fa36-851b91c9abcd"
   },
   "outputs": [
    {
     "name": "stdout",
     "output_type": "stream",
     "text": [
      "Answer the following questions as best you can. You have access to the following tools:\n",
      "\n",
      "python repl(command: str, timeout: Optional[int] = None) -> str - useful for when you need to use python to answer a question. You should input python code\n",
      "DuckDuckGo Search(tool_input: 'Union[str, Dict[str, Any]]', verbose: 'Optional[bool]' = None, start_color: 'Optional[str]' = 'green', color: 'Optional[str]' = 'green', callbacks: 'Callbacks' = None, *, tags: 'Optional[List[str]]' = None, metadata: 'Optional[Dict[str, Any]]' = None, run_name: 'Optional[str]' = None, run_id: 'Optional[uuid.UUID]' = None, config: 'Optional[RunnableConfig]' = None, **kwargs: 'Any') -> 'Any' - Useful for when you need to do a search on the internet to find information that another tool can't find. be specific with your input.\n",
      "wikipedia(query: str) -> str - Useful for when you need to look up a topic, country or person on wikipedia\n",
      "\n",
      "Use the following format:\n",
      "\n",
      "Question: the input question you must answer\n",
      "Thought: you should always think about what to do\n",
      "Action: the action to take, should be one of [python repl, DuckDuckGo Search, wikipedia]\n",
      "Action Input: the input to the action\n",
      "Observation: the result of the action\n",
      "... (this Thought/Action/Action Input/Observation can repeat N times)\n",
      "Thought: I now know the final answer\n",
      "Final Answer: the final answer to the original input question\n",
      "\n",
      "Begin!\n",
      "\n",
      "Question: {input}\n",
      "Thought:{agent_scratchpad}\n"
     ]
    }
   ],
   "source": [
    "print(zero_shot_agent.agent.llm_chain.prompt.template)"
   ]
  },
  {
   "cell_type": "code",
   "execution_count": 24,
   "metadata": {
    "colab": {
     "base_uri": "https://localhost:8080/",
     "height": 559
    },
    "executionInfo": {
     "elapsed": 4816,
     "status": "ok",
     "timestamp": 1717172916206,
     "user": {
      "displayName": "Harsh Tomar",
      "userId": "07306423374395310283"
     },
     "user_tz": -330
    },
    "id": "9_gCVreU6ZI8",
    "outputId": "a49ce210-9a8f-4b50-e08a-4bf7beea3a0d"
   },
   "outputs": [
    {
     "name": "stdout",
     "output_type": "stream",
     "text": [
      "\n",
      "\n",
      "\u001b[1m> Entering new AgentExecutor chain...\u001b[0m\n",
      "\u001b[32;1m\u001b[1;3m I should use DuckDuckGo Search to find information about LangChain\n",
      "Action: DuckDuckGo Search\n",
      "Action Input: LangChain\u001b[0m\n",
      "Observation: \u001b[33;1m\u001b[1;3mLangChain is a robust and flexible framework that can simplify the development of AI applications. It provides a modular and composable approach, allowing technologists to combine various tools, such as language models, knowledge bases and data sources, to create complex AI systems. With LangChain, developers can leverage state-of-the-art ... LangChain bridges the gap between LLMs and real-world applications. LangChain facilitates the integration of language models with all the required components including external databases (like a vector database), logic, APIs, etc., enhancing the capabilities of LLMs' problem-solving strategies. LangChain is composed of six modules/components. LangChain is an open-source framework designed to streamline the development of applications powered by large language models. It provides a standard interface for creating chains of components, integrates with other tools, and offers end-to-end solutions for common applications. Developers can use LangChain to build applications that leverage ... Some of the AI orchestrators include: Semantic Kernel: an open-source SDK that allows you to orchestrate your existing code and more with AI. LangChain: a framework to build LLM-applications easily and gives you insights on how the application works. PromptFlow: this is a set of developer tools that helps you build an end-to-end LLM Applications. Learn about the docs refresh for LangChain v0.2. There's now versioned docs and a clearer structure — with tutorials, how-to guides, conceptual guides, and API docs. LangChain v0.2 is available to all users today (learn more on the motivation and details here ). A major highlight of this launch is our documentation refresh.\u001b[0m\n",
      "Thought:\u001b[32;1m\u001b[1;3m I should use wikipedia to get more specific information about LangChain\n",
      "Action: wikipedia\n",
      "Action Input: LangChain\u001b[0m\n",
      "Observation: \u001b[38;5;200m\u001b[1;3mPage: LangChain\n",
      "Summary: LangChain is a framework designed to simplify the creation of applications using large language models (LLMs). As a language model integration framework, LangChain's use-cases largely overlap with those of language models in general, including document analysis and summarization, chatbots, and code analysis.\n",
      "\n",
      "Page: Prompt engineering\n",
      "Summary: Prompt engineering is the process of structuring an instruction that can be interpreted and understood by a generative AI model. A prompt is natural language text describing the task that an AI should perform.\n",
      "A prompt for a text-to-text language model can be a query such as \"what is Fermat's little theorem?\", a command such as \"write a poem about leaves falling\", or a longer statement including context, instructions, and conversation history. Prompt engineering may involve phrasing a query, specifying a style, providing relevant context or assigning a role to the AI such as \"Act as a native French speaker\". A prompt may include a few examples for a model to learn from, such as asking the model to complete \"maison → house, chat → cat, chien →\" (the expected response being dog), an approach called few-shot learning.\n",
      "When communicating with a text-to-image or a text-to-audio model, a typical prompt is a description of a desired output such as \"a high-quality photo of an astronaut riding a horse\" or \"Lo-fi slow BPM electro chill with organic samples\". Prompting a text-to-image model may involve adding, removing, emphasizing and re-ordering words to achieve a desired subject, style, layout, lighting, and aesthetic.\n",
      "\n",
      "\n",
      "\n",
      "Page: DataStax\n",
      "Summary: DataStax, Inc. is a real-time data for AI company based in Santa Clara, California. Its product Astra DB is a cloud database-as-a-service based on Apache Cassandra. DataStax also offers DataStax Enterprise (DSE), an on-premises database built on Apache Cassandra, and Astra Streaming, a messaging and event streaming cloud service based on Apache Pulsar. As of June 2022, the company has roughly 800 customers distributed in over 50 countries.\n",
      "\n",
      "\u001b[0m\n",
      "Thought:\u001b[32;1m\u001b[1;3m I now know the final answer\n",
      "Final Answer: LangChain is a framework designed to simplify the creation of applications using large language models (LLMs). Prompt engineering is the process of structuring an instruction that can be interpreted and understood by a generative AI model. DataStax is a real-time data for AI company based in Santa Clara, California.\u001b[0m\n",
      "\n",
      "\u001b[1m> Finished chain.\u001b[0m\n"
     ]
    },
    {
     "data": {
      "application/vnd.google.colaboratory.intrinsic+json": {
       "type": "string"
      },
      "text/plain": [
       "'LangChain is a framework designed to simplify the creation of applications using large language models (LLMs). Prompt engineering is the process of structuring an instruction that can be interpreted and understood by a generative AI model. DataStax is a real-time data for AI company based in Santa Clara, California.'"
      ]
     },
     "execution_count": 24,
     "metadata": {},
     "output_type": "execute_result"
    }
   ],
   "source": [
    "zero_shot_agent.run(\"Tell me about LangChain\")"
   ]
  },
  {
   "cell_type": "code",
   "execution_count": 25,
   "metadata": {
    "colab": {
     "base_uri": "https://localhost:8080/",
     "height": 351
    },
    "executionInfo": {
     "elapsed": 4422,
     "status": "ok",
     "timestamp": 1717172920621,
     "user": {
      "displayName": "Harsh Tomar",
      "userId": "07306423374395310283"
     },
     "user_tz": -330
    },
    "id": "U7iD-DoidwYZ",
    "outputId": "b940b473-38b8-47c2-ced2-60296218da9c"
   },
   "outputs": [
    {
     "name": "stdout",
     "output_type": "stream",
     "text": [
      "\n",
      "\n",
      "\u001b[1m> Entering new AgentExecutor chain...\u001b[0m\n",
      "\u001b[32;1m\u001b[1;3m I should use wikipedia to look up information about Singapore\n",
      "Action: wikipedia\n",
      "Action Input: \"Singapore\"\u001b[0m\n",
      "Observation: \u001b[38;5;200m\u001b[1;3mPage: Singapore\n",
      "Summary: Singapore, officially the Republic of Singapore, is an island country and city-state in maritime Southeast Asia. It is located about one degree of latitude (137 kilometres or 85 miles) north of the equator, off the southern tip of the Malay Peninsula, bordering the Strait of Malacca to the west, the Singapore Strait to the south along with the Riau Islands in Indonesia, the South China Sea to the east, and the Straits of Johor along with the State of Johor in Malaysia to the north. The country's territory comprises one main island, 63 satellite islands and islets, and one outlying islet; the combined area of these has increased by approximately 25% since the country's independence as a result of extensive land reclamation projects. It has the second highest population density of any country in the world, although there are numerous green and recreational spaces as a result of urban planning. With a multicultural population and in recognition of the cultural identities of the major ethnic groups within the nation, Singapore has four official languages: English, Malay, Mandarin, and Tamil. English is the common language, with its exclusive use in numerous public services. Multi-racialism is enshrined in the constitution and continues to shape national policies in education, housing, and politics.\n",
      "Singapore's history dates back at least eight hundred years, having been a maritime emporium known as Temasek and subsequently a major constituent part of several successive thalassocratic empires. Its contemporary era began in 1819, when Stamford Raffles established Singapore as an entrepôt trading post of the British Empire. In 1867, the colonies in Southeast Asia were reorganised, and Singapore came under the direct control of Britain as part of the Straits Settlements. During World War II, Singapore was occupied by Japan in 1942 and returned to British control as a separate Crown colony following Japan's surrender in 1945. Singapore gained self-governance in 1959 and, in 1963, became part of the new federation of Malaysia, alongside Malaya, North Borneo, and Sarawak. Ideological differences, most notably the perceived encroachment of the egalitarian \"Malaysian Malaysia\" political ideology led by Lee Kuan Yew into the other constituent entities of Malaysia—at the perceived expense of the bumiputera and the policies of Ketuanan Melayu—eventually led to Singapore's expulsion from the federation two years later; Singapore became an independent sovereign country in 1965.\n",
      "After early years of turbulence and despite lacking natural resources and a hinterland, the nation rapidly developed to become one of the Four Asian Tigers. With its growth based on international trade and economic globalisation, it integrated itself with the world economy through free trade with minimal-to-no trade barriers or tariffs, export-oriented industrialisation, and the large accumulation of received foreign direct investments, foreign exchange reserves, and assets held by sovereign wealth funds. As a highly developed country, it has one of the highest GDP per capita (PPP) in the world. Identified as a tax haven, Singapore is the only country in Asia with a AAA sovereign credit rating from all major rating agencies. It is a major aviation, financial, and maritime shipping hub and has consistently been ranked as one of the most expensive cities to live in for expatriates and foreign workers. Singapore ranks highly in key social indicators: education, healthcare, quality of life, personal safety, infrastructure, and housing, with a home-ownership rate of 88 percent. Singaporeans enjoy one of the longest life expectancies, fastest Internet connection speeds, lowest infant mortality rates, and lowest levels of corruption in the world.\n",
      "Singapore is a unitary parliamentary republic in the  Westminster tradition of unicameral parliamentary government, and its legal system is based on common law. While the country is de jure a multi-party democr\u001b[0m\n",
      "Thought:\u001b[32;1m\u001b[1;3m I now know the final answer\n",
      "Final Answer: Singapore is a highly developed island country and city-state in Southeast Asia with a multicultural population and four official languages. It has a rich history and has rapidly developed to become one of the Four Asian Tigers. It is known for its international trade, economic globalisation, and high quality of life. It is also a major aviation, financial, and maritime shipping hub. Singapore is a unitary parliamentary republic with a legal system based on common law.\u001b[0m\n",
      "\n",
      "\u001b[1m> Finished chain.\u001b[0m\n"
     ]
    },
    {
     "data": {
      "application/vnd.google.colaboratory.intrinsic+json": {
       "type": "string"
      },
      "text/plain": [
       "'Singapore is a highly developed island country and city-state in Southeast Asia with a multicultural population and four official languages. It has a rich history and has rapidly developed to become one of the Four Asian Tigers. It is known for its international trade, economic globalisation, and high quality of life. It is also a major aviation, financial, and maritime shipping hub. Singapore is a unitary parliamentary republic with a legal system based on common law.'"
      ]
     },
     "execution_count": 25,
     "metadata": {},
     "output_type": "execute_result"
    }
   ],
   "source": [
    "zero_shot_agent.run(\"Tell me about Singapore\")"
   ]
  },
  {
   "cell_type": "code",
   "execution_count": 26,
   "metadata": {
    "colab": {
     "base_uri": "https://localhost:8080/",
     "height": 472
    },
    "executionInfo": {
     "elapsed": 4511,
     "status": "ok",
     "timestamp": 1717172925126,
     "user": {
      "displayName": "Harsh Tomar",
      "userId": "07306423374395310283"
     },
     "user_tz": -330
    },
    "id": "8IehmHWK7afJ",
    "outputId": "c676d60f-8d70-481a-997f-af57ff8ab80d"
   },
   "outputs": [
    {
     "name": "stdout",
     "output_type": "stream",
     "text": [
      "\n",
      "\n",
      "\u001b[1m> Entering new AgentExecutor chain...\u001b[0m\n",
      "\u001b[32;1m\u001b[1;3m I should use DuckDuckGo Search to find the current price of btc\n",
      "Action: DuckDuckGo Search\n",
      "Action Input: \"current price of btc\"\u001b[0m\n",
      "Observation: \u001b[33;1m\u001b[1;3mSee the current price of Bitcoin in USD and other currencies, as well as historical data, market information, and price history. Learn about Bitcoin's features, halving, and how to buy BTC on Binance. See the current price of Bitcoin in USD and other currencies, as well as historical data, market cap, volume, and more. Learn about Bitcoin's history, technology, and how to buy, sell, and earn crypto with Blockchain.com. Market Cap = Current Price x Circulating Supply ... Compare the daily prices of Bitcoin (BTC) in USD and their 24-hour price movements for the week. Date Day of the week 1 BTC to USD 24hr Changes Change % May 30, 2024 Thursday $68,589 $1,112.12 1.6%: May 29, 2024 Wednesday 17.53B. 67,107.22. 69,520.94. Day's Range. BTCUSD Chart By TradingView. The Kitco Bitcoin price index provides the latest Bitcoin price in US Dollars using an average from the world's leading exchanges. The current price of Bitcoin is $67,883.40 per BTC. With a circulating supply of 19,705,546 BTC, it means that Bitcoin has a total market cap of $1,338,520,992,008.78. The amount of Bitcoin traded has fallen by $1,048,006,349.42 in the last 24 hours, which is a 3.83% decrease. Additionally, in the last day, $27,360,293,274.38 worth of BTC has ...\u001b[0m\n",
      "Thought:\u001b[32;1m\u001b[1;3m I should use python repl to extract the current price of btc from the DuckDuckGo Search results\n",
      "Action: python repl\n",
      "Action Input: import requests\n",
      "r = requests.get('https://api.coingecko.com/api/v3/simple/price?ids=bitcoin&vs_currencies=usd')\n",
      "print(r.json()['bitcoin']['usd'])\u001b[0m\n",
      "Observation: \u001b[36;1m\u001b[1;3m66671\n",
      "\u001b[0m\n",
      "Thought:\u001b[32;1m\u001b[1;3m I should round the current price of btc to two decimal places\n",
      "Action: python repl\n",
      "Action Input: import requests\n",
      "r = requests.get('https://api.coingecko.com/api/v3/simple/price?ids=bitcoin&vs_currencies=usd')\n",
      "print(round(r.json()['bitcoin']['usd'], 2))\u001b[0m\n",
      "Observation: \u001b[36;1m\u001b[1;3m66671\n",
      "\u001b[0m\n",
      "Thought:\u001b[32;1m\u001b[1;3m\u001b[0m\n",
      "\n",
      "\u001b[1m> Finished chain.\u001b[0m\n"
     ]
    },
    {
     "data": {
      "application/vnd.google.colaboratory.intrinsic+json": {
       "type": "string"
      },
      "text/plain": [
       "'Agent stopped due to iteration limit or time limit.'"
      ]
     },
     "execution_count": 26,
     "metadata": {},
     "output_type": "execute_result"
    }
   ],
   "source": [
    "zero_shot_agent.run('what is the current price of btc')"
   ]
  },
  {
   "cell_type": "code",
   "execution_count": 27,
   "metadata": {
    "colab": {
     "base_uri": "https://localhost:8080/",
     "height": 400
    },
    "executionInfo": {
     "elapsed": 1368,
     "status": "ok",
     "timestamp": 1717172926478,
     "user": {
      "displayName": "Harsh Tomar",
      "userId": "07306423374395310283"
     },
     "user_tz": -330
    },
    "id": "CUALszCF7r3j",
    "outputId": "9dc0a268-e730-4d0f-ca08-f1f187cc4e22"
   },
   "outputs": [
    {
     "name": "stdout",
     "output_type": "stream",
     "text": [
      "\n",
      "\n",
      "\u001b[1m> Entering new AgentExecutor chain...\u001b[0m\n",
      "\u001b[32;1m\u001b[1;3m A prime number is a number that is only divisible by 1 and itself. \n",
      "Action: python repl\n",
      "Action Input:\n",
      "def is_prime(n):\n",
      "  if n <= 1:\n",
      "    return False\n",
      "  for i in range(2, n):\n",
      "    if n % i == 0:\n",
      "      return False\n",
      "  return True\n",
      "\n",
      "print(is_prime(11))\u001b[0m\n",
      "Observation: \u001b[36;1m\u001b[1;3mTrue\n",
      "\u001b[0m\n",
      "Thought:\u001b[32;1m\u001b[1;3m I now know that 11 is a prime number.\n",
      "Final Answer: Yes, 11 is a prime number.\u001b[0m\n",
      "\n",
      "\u001b[1m> Finished chain.\u001b[0m\n"
     ]
    },
    {
     "data": {
      "application/vnd.google.colaboratory.intrinsic+json": {
       "type": "string"
      },
      "text/plain": [
       "'Yes, 11 is a prime number.'"
      ]
     },
     "execution_count": 27,
     "metadata": {},
     "output_type": "execute_result"
    }
   ],
   "source": [
    "zero_shot_agent.run('Is 11 a prime number?')"
   ]
  },
  {
   "cell_type": "code",
   "execution_count": 28,
   "metadata": {
    "colab": {
     "base_uri": "https://localhost:8080/",
     "height": 680
    },
    "executionInfo": {
     "elapsed": 4393,
     "status": "ok",
     "timestamp": 1717172930864,
     "user": {
      "displayName": "Harsh Tomar",
      "userId": "07306423374395310283"
     },
     "user_tz": -330
    },
    "id": "2oKDiMWhe8Dk",
    "outputId": "19edf6dd-7bd2-4577-fd78-56c04894f689"
   },
   "outputs": [
    {
     "name": "stdout",
     "output_type": "stream",
     "text": [
      "\n",
      "\n",
      "\u001b[1m> Entering new AgentExecutor chain...\u001b[0m\n",
      "\u001b[32;1m\u001b[1;3m I should use python to write a function that checks if a number is prime\n",
      "Action: python repl\n",
      "Action Input:\n",
      "def is_prime(n):\n",
      "    if n <= 1:\n",
      "        return False\n",
      "    for i in range(2, n):\n",
      "        if n % i == 0:\n",
      "            return False\n",
      "    return True\n",
      "\n",
      "print(is_prime(11))\u001b[0m\n",
      "Observation: \u001b[36;1m\u001b[1;3mTrue\n",
      "\u001b[0m\n",
      "Thought:\u001b[32;1m\u001b[1;3m I should test the function with different numbers\n",
      "Action: python repl\n",
      "Action Input:\n",
      "print(is_prime(2))\n",
      "print(is_prime(4))\n",
      "print(is_prime(7))\n",
      "print(is_prime(9))\u001b[0m\n",
      "Observation: \u001b[36;1m\u001b[1;3mTrue\n",
      "False\n",
      "True\n",
      "False\n",
      "\u001b[0m\n",
      "Thought:\u001b[32;1m\u001b[1;3m I should use DuckDuckGo Search to find more information about prime numbers\n",
      "Action: DuckDuckGo Search\n",
      "Action Input: \"prime numbers\"\u001b[0m\n",
      "Observation: \u001b[33;1m\u001b[1;3mA prime number (or a prime) is a natural number greater than 1 that is not a product of two smaller natural numbers. A natural number greater than 1 that is not prime is called a composite number. For example, 5 is prime because the only ways of writing it as a product, 1 × 5 or 5 × 1, involve 5 itself. However, 4 is composite because it is a ... This is a list of articles about prime numbers.A prime number (or prime) is a natural number greater than 1 that has no positive divisors other than 1 and itself. By Euclid's theorem, there are an infinite number of prime numbers.Subsets of the prime numbers may be generated with various formulas for primes.The first 1000 primes are listed below, followed by lists of notable types of prime ... Learn what prime numbers are, how to identify them, and why they are important in math and real life. Find out the list of prime numbers up to 100 and how to use the Sieve of Eratosthenes to find them. Learn what a prime number is, how to identify it and why it's important in maths. Explore the list of prime numbers from 1 to 100 and the techniques to find them. The smallest prime number is 2, which is the only even prime number. 3 is the smallest odd prime number. Largest Prime Number: There exists no largest prime number as the natural numbers do not end. The largest known prime number (as of April 2023) is 2 82,589,933 − 1, which has 24,862,048 digits when written in base 10. Co-prime Numbers\u001b[0m\n",
      "Thought:\u001b[32;1m\u001b[1;3m\u001b[0m\n",
      "\n",
      "\u001b[1m> Finished chain.\u001b[0m\n"
     ]
    },
    {
     "data": {
      "application/vnd.google.colaboratory.intrinsic+json": {
       "type": "string"
      },
      "text/plain": [
       "'Agent stopped due to iteration limit or time limit.'"
      ]
     },
     "execution_count": 28,
     "metadata": {},
     "output_type": "execute_result"
    }
   ],
   "source": [
    "zero_shot_agent.run('Write a function to check if 11 a prime number and test it')"
   ]
  },
  {
   "cell_type": "code",
   "execution_count": 28,
   "metadata": {
    "executionInfo": {
     "elapsed": 6,
     "status": "ok",
     "timestamp": 1717172930864,
     "user": {
      "displayName": "Harsh Tomar",
      "userId": "07306423374395310283"
     },
     "user_tz": -330
    },
    "id": "F0CkeXQnfMxq"
   },
   "outputs": [],
   "source": []
  }
 ],
 "metadata": {
  "colab": {
   "provenance": [
    {
     "file_id": "16gWpUMOfRsvXDVPGtNwwDLV49SyxkJaD",
     "timestamp": 1717155450057
    },
    {
     "file_id": "1szinBAhBQgMlt0-P020shTGcPskx36M4",
     "timestamp": 1682598798459
    },
    {
     "file_id": "1365bJ4fyxE5FF-nBiqKfENaWKb2DT_WW",
     "timestamp": 1682593902915
    },
    {
     "file_id": "1BT_kRFMP27lmwAoWeIhiie0VPs0oqShz",
     "timestamp": 1682406002514
    }
   ]
  },
  "kernelspec": {
   "display_name": "Python 3",
   "name": "python3"
  },
  "language_info": {
   "name": "python"
  }
 },
 "nbformat": 4,
 "nbformat_minor": 0
}
