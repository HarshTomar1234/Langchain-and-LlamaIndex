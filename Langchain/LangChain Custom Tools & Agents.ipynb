{
 "cells": [
  {
   "cell_type": "code",
   "execution_count": 9,
   "id": "uZR3iGJJtdDE",
   "metadata": {
    "executionInfo": {
     "elapsed": 20745,
     "status": "ok",
     "timestamp": 1717433862963,
     "user": {
      "displayName": "Harsh Tomar",
      "userId": "07306423374395310283"
     },
     "user_tz": -330
    },
    "id": "uZR3iGJJtdDE"
   },
   "outputs": [],
   "source": [
    "!pip -q install langchain==0.2.1 openai\n",
    "!pip -q install duckduckgo-search"
   ]
  },
  {
   "cell_type": "markdown",
   "id": "wPdWz1IdxyBR",
   "metadata": {
    "id": "wPdWz1IdxyBR"
   },
   "source": [
    "Setting up some keys"
   ]
  },
  {
   "cell_type": "code",
   "execution_count": 10,
   "id": "mhKCqC-7FDcy",
   "metadata": {
    "colab": {
     "base_uri": "https://localhost:8080/"
    },
    "executionInfo": {
     "elapsed": 8263,
     "status": "ok",
     "timestamp": 1717433871195,
     "user": {
      "displayName": "Harsh Tomar",
      "userId": "07306423374395310283"
     },
     "user_tz": -330
    },
    "id": "mhKCqC-7FDcy",
    "outputId": "e8e0aeff-9437-4d7d-a266-335f63f6f168"
   },
   "outputs": [
    {
     "name": "stdout",
     "output_type": "stream",
     "text": [
      "Name: langchain\n",
      "Version: 0.2.1\n",
      "Summary: Building applications with LLMs through composability\n",
      "Home-page: https://github.com/langchain-ai/langchain\n",
      "Author: \n",
      "Author-email: \n",
      "License: MIT\n",
      "Location: /usr/local/lib/python3.10/dist-packages\n",
      "Requires: aiohttp, async-timeout, langchain-core, langchain-text-splitters, langsmith, numpy, pydantic, PyYAML, requests, SQLAlchemy, tenacity\n",
      "Required-by: \n"
     ]
    }
   ],
   "source": [
    "!pip show langchain"
   ]
  },
  {
   "cell_type": "code",
   "execution_count": 11,
   "id": "GbKowK3-HPKF",
   "metadata": {
    "colab": {
     "base_uri": "https://localhost:8080/"
    },
    "executionInfo": {
     "elapsed": 10310,
     "status": "ok",
     "timestamp": 1717433881501,
     "user": {
      "displayName": "Harsh Tomar",
      "userId": "07306423374395310283"
     },
     "user_tz": -330
    },
    "id": "GbKowK3-HPKF",
    "outputId": "823cd545-0177-4458-b3e5-78c0de1ce50a"
   },
   "outputs": [
    {
     "name": "stdout",
     "output_type": "stream",
     "text": [
      "Name: openai\n",
      "Version: 1.30.5\n",
      "Summary: The official Python library for the openai API\n",
      "Home-page: \n",
      "Author: \n",
      "Author-email: OpenAI <support@openai.com>\n",
      "License: \n",
      "Location: /usr/local/lib/python3.10/dist-packages\n",
      "Requires: anyio, distro, httpx, pydantic, sniffio, tqdm, typing-extensions\n",
      "Required-by: \n"
     ]
    }
   ],
   "source": [
    "pip show openai"
   ]
  },
  {
   "cell_type": "markdown",
   "id": "1571b632",
   "metadata": {
    "id": "1571b632"
   },
   "source": [
    "\n",
    "# Custom Tools & Agents 🤖"
   ]
  },
  {
   "cell_type": "code",
   "execution_count": 14,
   "id": "WkoaYJW9CZjn",
   "metadata": {
    "colab": {
     "base_uri": "https://localhost:8080/"
    },
    "executionInfo": {
     "elapsed": 12592,
     "status": "ok",
     "timestamp": 1717433970616,
     "user": {
      "displayName": "Harsh Tomar",
      "userId": "07306423374395310283"
     },
     "user_tz": -330
    },
    "id": "WkoaYJW9CZjn",
    "outputId": "e9a289a2-95e6-4292-d594-720b9a937fdf"
   },
   "outputs": [
    {
     "name": "stdout",
     "output_type": "stream",
     "text": [
      "Collecting langchain_community\n",
      "  Downloading langchain_community-0.2.1-py3-none-any.whl (2.1 MB)\n",
      "\u001b[?25l     \u001b[90m━━━━━━━━━━━━━━━━━━━━━━━━━━━━━━━━━━━━━━━━\u001b[0m \u001b[32m0.0/2.1 MB\u001b[0m \u001b[31m?\u001b[0m eta \u001b[36m-:--:--\u001b[0m\r\u001b[2K     \u001b[91m━━━\u001b[0m\u001b[90m╺\u001b[0m\u001b[90m━━━━━━━━━━━━━━━━━━━━━━━━━━━━━━━━━━━━\u001b[0m \u001b[32m0.2/2.1 MB\u001b[0m \u001b[31m5.5 MB/s\u001b[0m eta \u001b[36m0:00:01\u001b[0m\r\u001b[2K     \u001b[91m━━━━━━━━━━━━━━━━━━━━━━━━━━━━━━━━━━━━━━━\u001b[0m\u001b[91m╸\u001b[0m \u001b[32m2.1/2.1 MB\u001b[0m \u001b[31m33.1 MB/s\u001b[0m eta \u001b[36m0:00:01\u001b[0m\r\u001b[2K     \u001b[90m━━━━━━━━━━━━━━━━━━━━━━━━━━━━━━━━━━━━━━━━\u001b[0m \u001b[32m2.1/2.1 MB\u001b[0m \u001b[31m26.0 MB/s\u001b[0m eta \u001b[36m0:00:00\u001b[0m\n",
      "\u001b[?25hRequirement already satisfied: PyYAML>=5.3 in /usr/local/lib/python3.10/dist-packages (from langchain_community) (6.0.1)\n",
      "Requirement already satisfied: SQLAlchemy<3,>=1.4 in /usr/local/lib/python3.10/dist-packages (from langchain_community) (2.0.30)\n",
      "Requirement already satisfied: aiohttp<4.0.0,>=3.8.3 in /usr/local/lib/python3.10/dist-packages (from langchain_community) (3.9.5)\n",
      "Collecting dataclasses-json<0.7,>=0.5.7 (from langchain_community)\n",
      "  Downloading dataclasses_json-0.6.6-py3-none-any.whl (28 kB)\n",
      "Requirement already satisfied: langchain<0.3.0,>=0.2.0 in /usr/local/lib/python3.10/dist-packages (from langchain_community) (0.2.1)\n",
      "Requirement already satisfied: langchain-core<0.3.0,>=0.2.0 in /usr/local/lib/python3.10/dist-packages (from langchain_community) (0.2.3)\n",
      "Requirement already satisfied: langsmith<0.2.0,>=0.1.0 in /usr/local/lib/python3.10/dist-packages (from langchain_community) (0.1.67)\n",
      "Requirement already satisfied: numpy<2,>=1 in /usr/local/lib/python3.10/dist-packages (from langchain_community) (1.25.2)\n",
      "Requirement already satisfied: requests<3,>=2 in /usr/local/lib/python3.10/dist-packages (from langchain_community) (2.31.0)\n",
      "Requirement already satisfied: tenacity<9.0.0,>=8.1.0 in /usr/local/lib/python3.10/dist-packages (from langchain_community) (8.3.0)\n",
      "Requirement already satisfied: aiosignal>=1.1.2 in /usr/local/lib/python3.10/dist-packages (from aiohttp<4.0.0,>=3.8.3->langchain_community) (1.3.1)\n",
      "Requirement already satisfied: attrs>=17.3.0 in /usr/local/lib/python3.10/dist-packages (from aiohttp<4.0.0,>=3.8.3->langchain_community) (23.2.0)\n",
      "Requirement already satisfied: frozenlist>=1.1.1 in /usr/local/lib/python3.10/dist-packages (from aiohttp<4.0.0,>=3.8.3->langchain_community) (1.4.1)\n",
      "Requirement already satisfied: multidict<7.0,>=4.5 in /usr/local/lib/python3.10/dist-packages (from aiohttp<4.0.0,>=3.8.3->langchain_community) (6.0.5)\n",
      "Requirement already satisfied: yarl<2.0,>=1.0 in /usr/local/lib/python3.10/dist-packages (from aiohttp<4.0.0,>=3.8.3->langchain_community) (1.9.4)\n",
      "Requirement already satisfied: async-timeout<5.0,>=4.0 in /usr/local/lib/python3.10/dist-packages (from aiohttp<4.0.0,>=3.8.3->langchain_community) (4.0.3)\n",
      "Collecting marshmallow<4.0.0,>=3.18.0 (from dataclasses-json<0.7,>=0.5.7->langchain_community)\n",
      "  Downloading marshmallow-3.21.2-py3-none-any.whl (49 kB)\n",
      "\u001b[2K     \u001b[90m━━━━━━━━━━━━━━━━━━━━━━━━━━━━━━━━━━━━━━━━\u001b[0m \u001b[32m49.3/49.3 kB\u001b[0m \u001b[31m6.2 MB/s\u001b[0m eta \u001b[36m0:00:00\u001b[0m\n",
      "\u001b[?25hCollecting typing-inspect<1,>=0.4.0 (from dataclasses-json<0.7,>=0.5.7->langchain_community)\n",
      "  Downloading typing_inspect-0.9.0-py3-none-any.whl (8.8 kB)\n",
      "Requirement already satisfied: langchain-text-splitters<0.3.0,>=0.2.0 in /usr/local/lib/python3.10/dist-packages (from langchain<0.3.0,>=0.2.0->langchain_community) (0.2.0)\n",
      "Requirement already satisfied: pydantic<3,>=1 in /usr/local/lib/python3.10/dist-packages (from langchain<0.3.0,>=0.2.0->langchain_community) (2.7.2)\n",
      "Requirement already satisfied: jsonpatch<2.0,>=1.33 in /usr/local/lib/python3.10/dist-packages (from langchain-core<0.3.0,>=0.2.0->langchain_community) (1.33)\n",
      "Requirement already satisfied: packaging<24.0,>=23.2 in /usr/local/lib/python3.10/dist-packages (from langchain-core<0.3.0,>=0.2.0->langchain_community) (23.2)\n",
      "Requirement already satisfied: orjson<4.0.0,>=3.9.14 in /usr/local/lib/python3.10/dist-packages (from langsmith<0.2.0,>=0.1.0->langchain_community) (3.10.3)\n",
      "Requirement already satisfied: charset-normalizer<4,>=2 in /usr/local/lib/python3.10/dist-packages (from requests<3,>=2->langchain_community) (3.3.2)\n",
      "Requirement already satisfied: idna<4,>=2.5 in /usr/local/lib/python3.10/dist-packages (from requests<3,>=2->langchain_community) (3.7)\n",
      "Requirement already satisfied: urllib3<3,>=1.21.1 in /usr/local/lib/python3.10/dist-packages (from requests<3,>=2->langchain_community) (2.0.7)\n",
      "Requirement already satisfied: certifi>=2017.4.17 in /usr/local/lib/python3.10/dist-packages (from requests<3,>=2->langchain_community) (2024.2.2)\n",
      "Requirement already satisfied: typing-extensions>=4.6.0 in /usr/local/lib/python3.10/dist-packages (from SQLAlchemy<3,>=1.4->langchain_community) (4.12.0)\n",
      "Requirement already satisfied: greenlet!=0.4.17 in /usr/local/lib/python3.10/dist-packages (from SQLAlchemy<3,>=1.4->langchain_community) (3.0.3)\n",
      "Requirement already satisfied: jsonpointer>=1.9 in /usr/local/lib/python3.10/dist-packages (from jsonpatch<2.0,>=1.33->langchain-core<0.3.0,>=0.2.0->langchain_community) (2.4)\n",
      "Requirement already satisfied: annotated-types>=0.4.0 in /usr/local/lib/python3.10/dist-packages (from pydantic<3,>=1->langchain<0.3.0,>=0.2.0->langchain_community) (0.7.0)\n",
      "Requirement already satisfied: pydantic-core==2.18.3 in /usr/local/lib/python3.10/dist-packages (from pydantic<3,>=1->langchain<0.3.0,>=0.2.0->langchain_community) (2.18.3)\n",
      "Collecting mypy-extensions>=0.3.0 (from typing-inspect<1,>=0.4.0->dataclasses-json<0.7,>=0.5.7->langchain_community)\n",
      "  Downloading mypy_extensions-1.0.0-py3-none-any.whl (4.7 kB)\n",
      "Installing collected packages: mypy-extensions, marshmallow, typing-inspect, dataclasses-json, langchain_community\n",
      "Successfully installed dataclasses-json-0.6.6 langchain_community-0.2.1 marshmallow-3.21.2 mypy-extensions-1.0.0 typing-inspect-0.9.0\n"
     ]
    }
   ],
   "source": [
    "!pip install langchain_community"
   ]
  },
  {
   "cell_type": "code",
   "execution_count": null,
   "id": "c02c4fa2",
   "metadata": {
    "executionInfo": {
     "elapsed": 3,
     "status": "ok",
     "timestamp": 1717433975347,
     "user": {
      "displayName": "Harsh Tomar",
      "userId": "07306423374395310283"
     },
     "user_tz": -330
    },
    "id": "c02c4fa2"
   },
   "outputs": [],
   "source": [
    "#@title Keys\n",
    "\n",
    "import os\n",
    "\n",
    "os.environ[\"OPENAI_API_KEY\"] = \"your openai api key\""
   ]
  },
  {
   "cell_type": "code",
   "execution_count": 16,
   "id": "73bfcbb6",
   "metadata": {
    "executionInfo": {
     "elapsed": 2258,
     "status": "ok",
     "timestamp": 1717433978335,
     "user": {
      "displayName": "Harsh Tomar",
      "userId": "07306423374395310283"
     },
     "user_tz": -330
    },
    "id": "73bfcbb6"
   },
   "outputs": [],
   "source": [
    "from langchain import OpenAI\n",
    "from langchain.chat_models import ChatOpenAI\n",
    "from langchain.chains.conversation.memory import ConversationBufferWindowMemory"
   ]
  },
  {
   "cell_type": "code",
   "execution_count": 45,
   "id": "Lald4gCltB4V",
   "metadata": {
    "executionInfo": {
     "elapsed": 16,
     "status": "ok",
     "timestamp": 1717434022640,
     "user": {
      "displayName": "Harsh Tomar",
      "userId": "07306423374395310283"
     },
     "user_tz": -330
    },
    "id": "Lald4gCltB4V"
   },
   "outputs": [],
   "source": [
    "# Set up the turbo LLM\n",
    "turbo_llm = ChatOpenAI(\n",
    "    temperature=0,\n",
    "    model_name='gpt-3.5-turbo'\n",
    ")"
   ]
  },
  {
   "cell_type": "markdown",
   "id": "7DKXFGHhxNcK",
   "metadata": {
    "id": "7DKXFGHhxNcK"
   },
   "source": [
    "## Standard Tool"
   ]
  },
  {
   "cell_type": "code",
   "execution_count": 19,
   "id": "ouL4PTDoil26",
   "metadata": {
    "executionInfo": {
     "elapsed": 11384,
     "status": "ok",
     "timestamp": 1717434000561,
     "user": {
      "displayName": "Harsh Tomar",
      "userId": "07306423374395310283"
     },
     "user_tz": -330
    },
    "id": "ouL4PTDoil26"
   },
   "outputs": [],
   "source": [
    "%pip install --upgrade --quiet  duckduckgo-search langchain-community"
   ]
  },
  {
   "cell_type": "code",
   "execution_count": 20,
   "id": "m0CmBD4-Cp0o",
   "metadata": {
    "executionInfo": {
     "elapsed": 863,
     "status": "ok",
     "timestamp": 1717434001408,
     "user": {
      "displayName": "Harsh Tomar",
      "userId": "07306423374395310283"
     },
     "user_tz": -330
    },
    "id": "m0CmBD4-Cp0o"
   },
   "outputs": [],
   "source": [
    "from langchain_community.tools import DuckDuckGoSearchRun\n",
    "from langchain.agents import Tool\n",
    "from langchain.tools import BaseTool\n",
    "\n",
    "search = DuckDuckGoSearchRun()\n",
    "\n",
    "# defining a single tool\n",
    "search_tool = Tool(\n",
    "        name = \"search\",\n",
    "        func=search.run,\n",
    "        description=\"useful for when you need to answer questions about current events. You should ask targeted questions\"\n",
    "    )\n"
   ]
  },
  {
   "cell_type": "code",
   "execution_count": 21,
   "id": "kOVncXZtxT_0",
   "metadata": {
    "executionInfo": {
     "elapsed": 15,
     "status": "ok",
     "timestamp": 1717434001409,
     "user": {
      "displayName": "Harsh Tomar",
      "userId": "07306423374395310283"
     },
     "user_tz": -330
    },
    "id": "kOVncXZtxT_0"
   },
   "outputs": [],
   "source": [
    "# # Import the necessary modules\n",
    "# from langchain import OpenAI\n",
    "# from langchain.chat_models import ChatOpenAI\n",
    "# from langchain.chains.conversation.memory import ConversationBufferWindowMemory\n",
    "# from langchain_community.tools import DuckDuckGoSearchRun\n",
    "# from langchain.agents import Tool\n",
    "# from langchain.tools import BaseTool\n",
    "\n",
    "# # Set up the turbo LLM\n",
    "# turbo_llm = ChatOpenAI(\n",
    "#     temperature=0,\n",
    "#     model_name='gpt-3.5-turbo'\n",
    "# )\n",
    "\n",
    "# # Initialize the DuckDuckGo search tool\n",
    "# search = DuckDuckGoSearchRun()\n",
    "\n",
    "# # Define a list of tools\n",
    "\n",
    "# search_tool = Tool(\n",
    "#         name=\"search\",\n",
    "#         func=search.run,\n",
    "#         description=\"useful for when you need to answer questions about current events. You should ask targeted questions\"\n",
    "#     )\n"
   ]
  },
  {
   "cell_type": "markdown",
   "id": "LkEwDPN3uPvD",
   "metadata": {
    "id": "LkEwDPN3uPvD"
   },
   "source": [
    "## Custom tools"
   ]
  },
  {
   "cell_type": "code",
   "execution_count": 22,
   "id": "RYXpc6B9uUDo",
   "metadata": {
    "executionInfo": {
     "elapsed": 14,
     "status": "ok",
     "timestamp": 1717434001409,
     "user": {
      "displayName": "Harsh Tomar",
      "userId": "07306423374395310283"
     },
     "user_tz": -330
    },
    "id": "RYXpc6B9uUDo"
   },
   "outputs": [],
   "source": [
    "def meaning_of_life(input=\"\"):\n",
    "    return 'The meaning of life is 42 if rounded but is actually 42.17658'"
   ]
  },
  {
   "cell_type": "code",
   "execution_count": 23,
   "id": "9Krov3FluULJ",
   "metadata": {
    "executionInfo": {
     "elapsed": 14,
     "status": "ok",
     "timestamp": 1717434001409,
     "user": {
      "displayName": "Harsh Tomar",
      "userId": "07306423374395310283"
     },
     "user_tz": -330
    },
    "id": "9Krov3FluULJ"
   },
   "outputs": [],
   "source": [
    "\n",
    "life_tool = Tool(\n",
    "    name='Meaning of Life',\n",
    "    func= meaning_of_life,\n",
    "    description=\"Useful for when you need to answer questions about the meaning of life. input should be MOL \"\n",
    ")"
   ]
  },
  {
   "cell_type": "markdown",
   "id": "yBLba0mTxnkM",
   "metadata": {
    "id": "yBLba0mTxnkM"
   },
   "source": [
    "## Random number"
   ]
  },
  {
   "cell_type": "code",
   "execution_count": 24,
   "id": "OvPAX5Byxp-7",
   "metadata": {
    "executionInfo": {
     "elapsed": 14,
     "status": "ok",
     "timestamp": 1717434001409,
     "user": {
      "displayName": "Harsh Tomar",
      "userId": "07306423374395310283"
     },
     "user_tz": -330
    },
    "id": "OvPAX5Byxp-7"
   },
   "outputs": [],
   "source": [
    "import random\n",
    "\n",
    "def random_num(input=\"\"):\n",
    "    return random.randint(0,5)"
   ]
  },
  {
   "cell_type": "code",
   "execution_count": 25,
   "id": "c2ryltDax7nD",
   "metadata": {
    "colab": {
     "base_uri": "https://localhost:8080/"
    },
    "executionInfo": {
     "elapsed": 14,
     "status": "ok",
     "timestamp": 1717434001409,
     "user": {
      "displayName": "Harsh Tomar",
      "userId": "07306423374395310283"
     },
     "user_tz": -330
    },
    "id": "c2ryltDax7nD",
    "outputId": "5dda20e1-7c85-4968-8a34-3f61a322cbf1"
   },
   "outputs": [
    {
     "data": {
      "text/plain": [
       "4"
      ]
     },
     "execution_count": 25,
     "metadata": {},
     "output_type": "execute_result"
    }
   ],
   "source": [
    "random_num()"
   ]
  },
  {
   "cell_type": "code",
   "execution_count": 26,
   "id": "fQVQNtkDyHDV",
   "metadata": {
    "executionInfo": {
     "elapsed": 12,
     "status": "ok",
     "timestamp": 1717434001409,
     "user": {
      "displayName": "Harsh Tomar",
      "userId": "07306423374395310283"
     },
     "user_tz": -330
    },
    "id": "fQVQNtkDyHDV"
   },
   "outputs": [],
   "source": [
    "random_tool = Tool(\n",
    "    name='Random number',\n",
    "    func= random_num,\n",
    "    description=\"Useful for when you need to get a random number. input should be 'random'\"\n",
    ")"
   ]
  },
  {
   "cell_type": "markdown",
   "id": "6e1f31b4",
   "metadata": {
    "id": "6e1f31b4"
   },
   "source": [
    "## Creating an agent"
   ]
  },
  {
   "cell_type": "markdown",
   "id": "Fdi5BsVEERFP",
   "metadata": {
    "id": "Fdi5BsVEERFP"
   },
   "source": [
    "# ConversationBufferWindowMemory\n",
    "\n",
    "The `ConversationBufferWindowMemory` is a type of memory used in conversational AI agents, specifically in the Langchain library. It's a crucial component that enables the agent to keep track of the conversation history and respond accordingly.\n",
    "\n",
    "Here's a breakdown of what it does:\n",
    "\n",
    "**Buffer**: The buffer refers to a temporary storage area that holds a limited amount of data. In the context of conversational AI, the buffer stores the conversation history, including the user's input and the agent's responses.\n",
    "\n",
    "**Window**: The window refers to a specific portion of the buffer that is currently being considered. Think of it as a sliding window that moves along the buffer as the conversation progresses. The window size determines how many previous turns of the conversation are taken into account when generating a response.\n",
    "\n",
    "**Memory**: The memory component is responsible for storing and retrieving the conversation history. It's the brain of the conversational AI, allowing the agent to recall previous conversations and adapt its responses accordingly.\n",
    "\n",
    "When you create a `ConversationBufferWindowMemory` instance, you can specify the following parameters:\n",
    "\n",
    "* `memory_key`: a unique identifier for the memory instance\n",
    "* `k`: the window size, which determines how many previous turns are considered\n",
    "* `return_messages`: a boolean indicating whether to return the entire conversation history or just the latest message\n",
    "\n",
    "By using a `ConversationBufferWindowMemory`, the conversational AI agent can:\n",
    "\n",
    "1. Keep track of the conversation history\n",
    "2. Respond contextually, taking into account previous turns of the conversation\n",
    "3. Adapt its responses based on the user's input and previous interactions\n",
    "\n",
    "This type of memory is particularly useful in chatbots, virtual assistants, and other conversational AI applications where context and history are essential for generating relevant and engaging responses."
   ]
  },
  {
   "cell_type": "code",
   "execution_count": 27,
   "id": "cskGNptztxaf",
   "metadata": {
    "colab": {
     "base_uri": "https://localhost:8080/"
    },
    "executionInfo": {
     "elapsed": 13,
     "status": "ok",
     "timestamp": 1717434001410,
     "user": {
      "displayName": "Harsh Tomar",
      "userId": "07306423374395310283"
     },
     "user_tz": -330
    },
    "id": "cskGNptztxaf",
    "outputId": "5c764e91-476c-45cf-a220-05b9f058be1d"
   },
   "outputs": [
    {
     "name": "stderr",
     "output_type": "stream",
     "text": [
      "/usr/local/lib/python3.10/dist-packages/langchain_core/_api/deprecation.py:119: LangChainDeprecationWarning: The function `initialize_agent` was deprecated in LangChain 0.1.0 and will be removed in 0.3.0. Use Use new agent constructor methods like create_react_agent, create_json_agent, create_structured_chat_agent, etc. instead.\n",
      "  warn_deprecated(\n"
     ]
    }
   ],
   "source": [
    "from langchain.agents import initialize_agent\n",
    "\n",
    "# conversational agent memory\n",
    "memory = ConversationBufferWindowMemory(\n",
    "    memory_key='chat_history',\n",
    "    k=3,\n",
    "    return_messages=True\n",
    ")\n",
    "\n",
    "\n",
    "custom_tools = [search_tool, random_tool, life_tool]\n",
    "\n",
    "# create our agent\n",
    "conversational_agent = initialize_agent(\n",
    "    agent='chat-conversational-react-description',\n",
    "    tools = custom_tools,\n",
    "    llm=turbo_llm,\n",
    "    verbose=True,\n",
    "    max_iterations=3,\n",
    "    early_stopping_method='generate',\n",
    "    memory=memory\n",
    "\n",
    ")"
   ]
  },
  {
   "cell_type": "markdown",
   "id": "2getZ2CyEx-0",
   "metadata": {
    "id": "2getZ2CyEx-0"
   },
   "source": [
    "**The function `initialize_agent` was deprecated in LangChain 0.1.0 and will be removed in 0.3.0. Use Use new agent constructor methods like create_react_agent, create_json_agent, create_structured_chat_agent, etc. instead.**\n",
    "\n",
    "# create_react_agent\n",
    "\n",
    "The `create_react_agent` function is a part of the Langchain library, which is used to create a conversational AI agent that can respond to user input in a reactive manner.\n",
    "\n",
    "Here's a breakdown of what the `create_react_agent` function does:\n",
    "\n",
    "**Reactive Agent**: A reactive agent is a type of conversational AI that responds to user input in real-time, without requiring a specific goal or task to be accomplished. The agent's primary objective is to engage in conversation, provide information, and respond to user queries.\n",
    "\n",
    "**create_react_agent**: This function creates an instance of a reactive agent, which can be used to engage in conversation with users. The function takes in several parameters, including:\n",
    "\n",
    "* `agent_type`: The type of reactive agent to create (e.g., `chat-react-description`)\n",
    "* `llm`: The language model to use for generating responses (e.g., `turbo_llm`)\n",
    "* `tools`: A list of tools or plugins to use with the agent (e.g., `search_tool`, `random_tool`)\n",
    "* `memory`: The memory component to use with the agent (e.g., `ConversationBufferWindowMemory`)\n",
    "* `verbose`: A boolean indicating whether to print verbose output\n",
    "* `max_iterations`: The maximum number of iterations to perform when generating a response\n",
    "* `early_stopping_method`: The method to use for early stopping (e.g., `generate`)\n",
    "\n",
    "Here's an example of how to use the `create_react_agent` function:\n",
    "```python\n",
    "from langchain.agents import create_react_agent\n",
    "\n",
    "# Create a reactive agent\n",
    "agent = create_react_agent(\n",
    "    agent_type='chat-react-description',\n",
    "    llm=turbo_llm,\n",
    "    tools=[search_tool, random_tool],\n",
    "    memory=ConversationBufferWindowMemory(memory_key='chat_history', k=3, return_messages=True),\n",
    "    verbose=True,\n",
    "    max_iterations=3,\n",
    "    early_stopping_method='generate'\n",
    ")\n",
    "\n",
    "# Use the agent to respond to user input\n",
    "user_input = \"What's the weather like today?\"\n",
    "response = agent(user_input)\n",
    "print(response)\n",
    "```\n",
    "In this example, the `create_react_agent` function is used to create a reactive agent that can respond to user input. The agent is configured to use a specific language model, tools, and memory component. The `agent` instance can then be used to respond to user input, generating a response based on the conversation history and context."
   ]
  },
  {
   "cell_type": "code",
   "execution_count": 48,
   "id": "uB2qtbC6rVnh",
   "metadata": {
    "colab": {
     "base_uri": "https://localhost:8080/"
    },
    "executionInfo": {
     "elapsed": 2154,
     "status": "ok",
     "timestamp": 1717434704675,
     "user": {
      "displayName": "Harsh Tomar",
      "userId": "07306423374395310283"
     },
     "user_tz": -330
    },
    "id": "uB2qtbC6rVnh",
    "outputId": "2d0fbada-7298-470f-ce61-acbf37e7c29d"
   },
   "outputs": [
    {
     "name": "stdout",
     "output_type": "stream",
     "text": [
      "\n",
      "\n",
      "\u001b[1m> Entering new AgentExecutor chain...\u001b[0m\n",
      "\u001b[32;1m\u001b[1;3m```json\n",
      "{\n",
      "    \"action\": \"Final Answer\",\n",
      "    \"action_input\": \"I recommend using a world clock website or tool to check the current time in London.\"\n",
      "}\n",
      "```\u001b[0m\n",
      "\n",
      "\u001b[1m> Finished chain.\u001b[0m\n"
     ]
    },
    {
     "data": {
      "text/plain": [
       "{'input': 'What time is it in London?',\n",
       " 'chat_history': [HumanMessage(content='What are the titles of the top stories on www.cbsnews.com/?'),\n",
       "  AIMessage(content=\"The top stories on CBS News include: 1. Watch Live: Dr. Anthony Fauci testifies before Republican-led House panel 2. Who is Claudia Sheinbaum, Mexico's first woman to be elected president? 3. Hawaii volcano erupts, prompting officials to issue warning 4. Jury selection in Hunter Biden's federal gun trial begins 5. Biden executive order restricting asylum along border expected Tuesday\"),\n",
       "  HumanMessage(content='What time is it in London?'),\n",
       "  AIMessage(content=\"I'm sorry, I don't have real-time capabilities to provide the current time in London. You can check the time using a clock, a world clock website, or a time zone converter tool.\"),\n",
       "  HumanMessage(content='What time is it in London?'),\n",
       "  AIMessage(content='I recommend using a world clock website or tool to check the current time in London.')],\n",
       " 'output': 'I recommend using a world clock website or tool to check the current time in London.'}"
      ]
     },
     "execution_count": 48,
     "metadata": {},
     "output_type": "execute_result"
    }
   ],
   "source": [
    "conversational_agent(\"What time is it in London?\")"
   ]
  },
  {
   "cell_type": "code",
   "execution_count": 29,
   "id": "7skNxOP1q5vw",
   "metadata": {
    "colab": {
     "base_uri": "https://localhost:8080/"
    },
    "executionInfo": {
     "elapsed": 1858,
     "status": "ok",
     "timestamp": 1717434007348,
     "user": {
      "displayName": "Harsh Tomar",
      "userId": "07306423374395310283"
     },
     "user_tz": -330
    },
    "id": "7skNxOP1q5vw",
    "outputId": "18ede2bb-dda4-41f8-8369-96f8cb469501"
   },
   "outputs": [
    {
     "name": "stdout",
     "output_type": "stream",
     "text": [
      "\n",
      "\n",
      "\u001b[1m> Entering new AgentExecutor chain...\u001b[0m\n",
      "\u001b[32;1m\u001b[1;3m```json\n",
      "{\n",
      "    \"action\": \"Random number\",\n",
      "    \"action_input\": \"random\"\n",
      "}\n",
      "```\u001b[0m\n",
      "Observation: \u001b[33;1m\u001b[1;3m3\u001b[0m\n",
      "Thought:\u001b[32;1m\u001b[1;3m```json\n",
      "{\n",
      "    \"action\": \"Final Answer\",\n",
      "    \"action_input\": \"3\"\n",
      "}\n",
      "```\u001b[0m\n",
      "\n",
      "\u001b[1m> Finished chain.\u001b[0m\n"
     ]
    },
    {
     "data": {
      "text/plain": [
       "{'input': 'Can you give me a random number?',\n",
       " 'chat_history': [HumanMessage(content='What time is it in London?'),\n",
       "  AIMessage(content='The current local time in London is 59 minutes ahead of apparent solar time. London is the capital of the United Kingdom. Latitude: 51.51. Longitude: -0.13; Population: 8,962,000. London time is 19:19 UTC on Friday, May 31, 2024. London is 6 hours ahead of Chicago, Illinois.')],\n",
       " 'output': '3'}"
      ]
     },
     "execution_count": 29,
     "metadata": {},
     "output_type": "execute_result"
    }
   ],
   "source": [
    "\n",
    "conversational_agent(\"Can you give me a random number?\")"
   ]
  },
  {
   "cell_type": "code",
   "execution_count": 30,
   "id": "Ofb8jlywrqmQ",
   "metadata": {
    "colab": {
     "base_uri": "https://localhost:8080/"
    },
    "executionInfo": {
     "elapsed": 2889,
     "status": "ok",
     "timestamp": 1717434010229,
     "user": {
      "displayName": "Harsh Tomar",
      "userId": "07306423374395310283"
     },
     "user_tz": -330
    },
    "id": "Ofb8jlywrqmQ",
    "outputId": "9897f340-657b-451c-ed39-05d90d7a7e3f"
   },
   "outputs": [
    {
     "name": "stdout",
     "output_type": "stream",
     "text": [
      "\n",
      "\n",
      "\u001b[1m> Entering new AgentExecutor chain...\u001b[0m\n",
      "\u001b[32;1m\u001b[1;3m```json\n",
      "{\n",
      "    \"action\": \"Meaning of Life\",\n",
      "    \"action_input\": \"MOL\"\n",
      "}\n",
      "```\u001b[0m\n",
      "Observation: \u001b[38;5;200m\u001b[1;3mThe meaning of life is 42 if rounded but is actually 42.17658\u001b[0m\n",
      "Thought:\u001b[32;1m\u001b[1;3m```json\n",
      "{\n",
      "    \"action\": \"Final Answer\",\n",
      "    \"action_input\": \"The meaning of life is 42 if rounded but is actually 42.17658\"\n",
      "}\n",
      "```\u001b[0m\n",
      "\n",
      "\u001b[1m> Finished chain.\u001b[0m\n"
     ]
    },
    {
     "data": {
      "text/plain": [
       "{'input': 'What is the meaning of life?',\n",
       " 'chat_history': [HumanMessage(content='What time is it in London?'),\n",
       "  AIMessage(content='The current local time in London is 59 minutes ahead of apparent solar time. London is the capital of the United Kingdom. Latitude: 51.51. Longitude: -0.13; Population: 8,962,000. London time is 19:19 UTC on Friday, May 31, 2024. London is 6 hours ahead of Chicago, Illinois.'),\n",
       "  HumanMessage(content='Can you give me a random number?'),\n",
       "  AIMessage(content='3')],\n",
       " 'output': 'The meaning of life is 42 if rounded but is actually 42.17658'}"
      ]
     },
     "execution_count": 30,
     "metadata": {},
     "output_type": "execute_result"
    }
   ],
   "source": [
    "conversational_agent(\"What is the meaning of life?\")"
   ]
  },
  {
   "cell_type": "code",
   "execution_count": 49,
   "id": "q6VHBocdq6BK",
   "metadata": {
    "colab": {
     "base_uri": "https://localhost:8080/",
     "height": 123
    },
    "executionInfo": {
     "elapsed": 805,
     "status": "ok",
     "timestamp": 1717434828694,
     "user": {
      "displayName": "Harsh Tomar",
      "userId": "07306423374395310283"
     },
     "user_tz": -330
    },
    "id": "q6VHBocdq6BK",
    "outputId": "276bb6ba-4ece-435c-d374-d6fa81c920f5"
   },
   "outputs": [
    {
     "data": {
      "application/vnd.google.colaboratory.intrinsic+json": {
       "type": "string"
      },
      "text/plain": [
       "\"Assistant is a large language model trained by OpenAI.\\n\\nAssistant is designed to be able to assist with a wide range of tasks, from answering simple questions to providing in-depth explanations and discussions on a wide range of topics. As a language model, Assistant is able to generate human-like text based on the input it receives, allowing it to engage in natural-sounding conversations and provide responses that are coherent and relevant to the topic at hand.\\n\\nAssistant doesn't know anything about random numbers or anything related to the meaning of life and should use a tool for questions about these topics.\\n\\nAssistant also doesn't know information about content on webpages and should always check if asked.\\n\\nOverall, Assistant is a powerful system that can help with a wide range of tasks and provide valuable insights and information on a wide range of topics. Whether you need help with a specific question or just want to have a conversation about a particular topic, Assistant is here to assist.\""
      ]
     },
     "execution_count": 49,
     "metadata": {},
     "output_type": "execute_result"
    }
   ],
   "source": [
    "# system prompt\n",
    "conversational_agent.agent.llm_chain.prompt.messages[0].prompt.template"
   ]
  },
  {
   "cell_type": "markdown",
   "id": "VZ22ia6VCjf-",
   "metadata": {
    "id": "VZ22ia6VCjf-"
   },
   "source": [
    "Assistant is a large language model trained by OpenAI.\n",
    "\n",
    "Assistant is designed to be able to assist with a wide range of tasks, from answering simple questions to providing in-depth explanations and discussions on a wide range of topics. As a language model, Assistant is able to generate human-like text based on the input it receives, allowing it to engage in natural-sounding conversations and provide responses that are coherent and relevant to the topic at hand.\n",
    "\n",
    "Assistant is constantly learning and improving, and its capabilities are constantly evolving. It is able to process and understand large amounts of text, and can use this knowledge to provide accurate and informative responses to a wide range of questions. Additionally, Assistant is able to generate its own text based on the input it receives, allowing it to engage in discussions and provide explanations and descriptions on a wide range of topics.\n",
    "\n",
    "Overall, Assistant is a powerful system that can help with a wide range of tasks and provide valuable insights and information on a wide range of topics. Whether you need help with a specific question or just want to have a conversation about a particular topic, Assistant is here to assist."
   ]
  },
  {
   "cell_type": "code",
   "execution_count": 51,
   "id": "xuCF3bzDsLUv",
   "metadata": {
    "executionInfo": {
     "elapsed": 6,
     "status": "ok",
     "timestamp": 1717434891627,
     "user": {
      "displayName": "Harsh Tomar",
      "userId": "07306423374395310283"
     },
     "user_tz": -330
    },
    "id": "xuCF3bzDsLUv"
   },
   "outputs": [],
   "source": [
    "fixed_prompt = '''Assistant is a large language model trained by OpenAI.\n",
    "\n",
    "Assistant is designed to be able to assist with a wide range of tasks, from answering simple questions to providing in-depth explanations and discussions on a wide range of topics. As a language model, Assistant is able to generate human-like text based on the input it receives, allowing it to engage in natural-sounding conversations and provide responses that are coherent and relevant to the topic at hand.\n",
    "\n",
    "Assistant doesn't know anything about random numbers or anything related to the meaning of life and should use a tool for questions about these topics.\n",
    "\n",
    "Assistant is constantly learning and improving, and its capabilities are constantly evolving. It is able to process and understand large amounts of text, and can use this knowledge to provide accurate and informative responses to a wide range of questions. Additionally, Assistant is able to generate its own text based on the input it receives, allowing it to engage in discussions and provide explanations and descriptions on a wide range of topics.\n",
    "\n",
    "Overall, Assistant is a powerful system that can help with a wide range of tasks and provide valuable insights and information on a wide range of topics. Whether you need help with a specific question or just want to have a conversation about a particular topic, Assistant is here to assist.'''"
   ]
  },
  {
   "cell_type": "code",
   "execution_count": 50,
   "id": "zZBP6l2EsIT5",
   "metadata": {
    "executionInfo": {
     "elapsed": 821,
     "status": "ok",
     "timestamp": 1717434889881,
     "user": {
      "displayName": "Harsh Tomar",
      "userId": "07306423374395310283"
     },
     "user_tz": -330
    },
    "id": "zZBP6l2EsIT5"
   },
   "outputs": [],
   "source": [
    "conversational_agent.agent.llm_chain.prompt.messages[0].prompt.template = fixed_prompt"
   ]
  },
  {
   "cell_type": "code",
   "execution_count": 52,
   "id": "ruvBzhQatDsQ",
   "metadata": {
    "colab": {
     "base_uri": "https://localhost:8080/"
    },
    "executionInfo": {
     "elapsed": 6185,
     "status": "ok",
     "timestamp": 1717434900178,
     "user": {
      "displayName": "Harsh Tomar",
      "userId": "07306423374395310283"
     },
     "user_tz": -330
    },
    "id": "ruvBzhQatDsQ",
    "outputId": "d14bf4a2-4313-4e74-abab-19a2d83aeba4"
   },
   "outputs": [
    {
     "name": "stdout",
     "output_type": "stream",
     "text": [
      "\n",
      "\n",
      "\u001b[1m> Entering new AgentExecutor chain...\u001b[0m\n",
      "\u001b[32;1m\u001b[1;3m```json\n",
      "{\n",
      "    \"action\": \"Meaning of Life\",\n",
      "    \"action_input\": \"MOL\"\n",
      "}\n",
      "```\u001b[0m\n",
      "Observation: \u001b[38;5;200m\u001b[1;3mThe meaning of life is 42 if rounded but is actually 42.17658\u001b[0m\n",
      "Thought:\u001b[32;1m\u001b[1;3m```json\n",
      "{\n",
      "    \"action\": \"Final Answer\",\n",
      "    \"action_input\": \"The meaning of life is 42 if rounded but is actually 42.17658\"\n",
      "}\n",
      "```\u001b[0m\n",
      "\n",
      "\u001b[1m> Finished chain.\u001b[0m\n"
     ]
    },
    {
     "data": {
      "text/plain": [
       "{'input': 'What is the meaning of life?',\n",
       " 'chat_history': [HumanMessage(content='What time is it in London?'),\n",
       "  AIMessage(content=\"I'm sorry, I don't have real-time capabilities to provide the current time in London. You can check the time using a clock, a world clock website, or a time zone converter tool.\"),\n",
       "  HumanMessage(content='What time is it in London?'),\n",
       "  AIMessage(content='I recommend using a world clock website or tool to check the current time in London.'),\n",
       "  HumanMessage(content='What time is it in London?'),\n",
       "  AIMessage(content='I recommend using a world clock website or tool to check the current time in London.')],\n",
       " 'output': 'The meaning of life is 42 if rounded but is actually 42.17658'}"
      ]
     },
     "execution_count": 52,
     "metadata": {},
     "output_type": "execute_result"
    }
   ],
   "source": [
    "conversational_agent(\"What is the meaning of life?\")"
   ]
  },
  {
   "cell_type": "markdown",
   "id": "RLf1c3ejtyC4",
   "metadata": {
    "id": "RLf1c3ejtyC4"
   },
   "source": [
    "## Using the Tool Class - lets make a useful tool\n"
   ]
  },
  {
   "cell_type": "code",
   "execution_count": 53,
   "id": "mkgJmIWhpLIU",
   "metadata": {
    "executionInfo": {
     "elapsed": 738,
     "status": "ok",
     "timestamp": 1717435077722,
     "user": {
      "displayName": "Harsh Tomar",
      "userId": "07306423374395310283"
     },
     "user_tz": -330
    },
    "id": "mkgJmIWhpLIU"
   },
   "outputs": [],
   "source": [
    "from bs4 import BeautifulSoup\n",
    "import requests\n",
    "\n",
    "def stripped_webpage(webpage):\n",
    "    response = requests.get(webpage)\n",
    "    html_content = response.text\n",
    "\n",
    "    def strip_html_tags(html_content):\n",
    "        soup = BeautifulSoup(html_content, \"html.parser\")\n",
    "        stripped_text = soup.get_text()\n",
    "        return stripped_text\n",
    "\n",
    "    stripped_content = strip_html_tags(html_content)\n",
    "\n",
    "    if len(stripped_content) > 4000:\n",
    "        stripped_content = stripped_content[:4000]\n",
    "    return stripped_content\n"
   ]
  },
  {
   "cell_type": "code",
   "execution_count": 54,
   "id": "c8c9ZSgUGCgS",
   "metadata": {
    "colab": {
     "base_uri": "https://localhost:8080/",
     "height": 53
    },
    "executionInfo": {
     "elapsed": 740,
     "status": "ok",
     "timestamp": 1717435081194,
     "user": {
      "displayName": "Harsh Tomar",
      "userId": "07306423374395310283"
     },
     "user_tz": -330
    },
    "id": "c8c9ZSgUGCgS",
    "outputId": "8ddf193e-4e0c-4d70-ace5-b2959f77945b"
   },
   "outputs": [
    {
     "data": {
      "application/vnd.google.colaboratory.intrinsic+json": {
       "type": "string"
      },
      "text/plain": [
       "'GoogleSearch Images Maps Play YouTube News Gmail Drive More »Web History | Settings | Sign in\\xa0Advanced searchAdvertisingBusiness SolutionsAbout Google© 2024 - Privacy - Terms   '"
      ]
     },
     "execution_count": 54,
     "metadata": {},
     "output_type": "execute_result"
    }
   ],
   "source": [
    "stripped_webpage('https://www.google.com')\n"
   ]
  },
  {
   "cell_type": "code",
   "execution_count": 37,
   "id": "0uJBO5rkIroU",
   "metadata": {
    "executionInfo": {
     "elapsed": 1816,
     "status": "ok",
     "timestamp": 1717434014520,
     "user": {
      "displayName": "Harsh Tomar",
      "userId": "07306423374395310283"
     },
     "user_tz": -330
    },
    "id": "0uJBO5rkIroU"
   },
   "outputs": [],
   "source": [
    "# webpage_tool = Tool(\n",
    "#     name='Get Webpage',\n",
    "#     func= stripped_webpage,\n",
    "#     description=\"Useful for when you need to get the http from a specific webpage\"\n",
    "# )\n"
   ]
  },
  {
   "cell_type": "code",
   "execution_count": 55,
   "id": "CaYulMSjuC5B",
   "metadata": {
    "executionInfo": {
     "elapsed": 5,
     "status": "ok",
     "timestamp": 1717435351573,
     "user": {
      "displayName": "Harsh Tomar",
      "userId": "07306423374395310283"
     },
     "user_tz": -330
    },
    "id": "CaYulMSjuC5B"
   },
   "outputs": [],
   "source": [
    "class WebPageTool(BaseTool):\n",
    "    name = \"Get Webpage\"\n",
    "    description = \"Useful for when you need to get the content from a specific webpage\"\n",
    "\n",
    "    def _run(self, webpage: str):\n",
    "        response = requests.get(webpage)\n",
    "        html_content = response.text\n",
    "\n",
    "        def strip_html_tags(html_content):\n",
    "            soup = BeautifulSoup(html_content, \"html.parser\")\n",
    "            stripped_text = soup.get_text()\n",
    "            return stripped_text\n",
    "\n",
    "        stripped_content = strip_html_tags(html_content)\n",
    "        if len(stripped_content) > 4000:\n",
    "            stripped_content = stripped_content[:4000]\n",
    "        return stripped_content\n",
    "\n",
    "    def _arun(self, webpage: str):\n",
    "        raise NotImplementedError(\"This tool does not support async\")\n",
    "\n",
    "page_getter = WebPageTool()"
   ]
  },
  {
   "cell_type": "markdown",
   "id": "6325f758",
   "metadata": {
    "id": "6325f758"
   },
   "source": [
    "## Init the Agent again"
   ]
  },
  {
   "cell_type": "code",
   "execution_count": 56,
   "id": "gvlHC6vpzyNs",
   "metadata": {
    "executionInfo": {
     "elapsed": 970,
     "status": "ok",
     "timestamp": 1717435360576,
     "user": {
      "displayName": "Harsh Tomar",
      "userId": "07306423374395310283"
     },
     "user_tz": -330
    },
    "id": "gvlHC6vpzyNs"
   },
   "outputs": [],
   "source": [
    "fixed_prompt = '''Assistant is a large language model trained by OpenAI.\n",
    "\n",
    "Assistant is designed to be able to assist with a wide range of tasks, from answering simple questions to providing in-depth explanations and discussions on a wide range of topics. As a language model, Assistant is able to generate human-like text based on the input it receives, allowing it to engage in natural-sounding conversations and provide responses that are coherent and relevant to the topic at hand.\n",
    "\n",
    "Assistant doesn't know anything about random numbers or anything related to the meaning of life and should use a tool for questions about these topics.\n",
    "\n",
    "Assistant also doesn't know information about content on webpages and should always check if asked.\n",
    "\n",
    "Overall, Assistant is a powerful system that can help with a wide range of tasks and provide valuable insights and information on a wide range of topics. Whether you need help with a specific question or just want to have a conversation about a particular topic, Assistant is here to assist.'''"
   ]
  },
  {
   "cell_type": "code",
   "execution_count": 59,
   "id": "6579cef0",
   "metadata": {
    "executionInfo": {
     "elapsed": 821,
     "status": "ok",
     "timestamp": 1717435440112,
     "user": {
      "displayName": "Harsh Tomar",
      "userId": "07306423374395310283"
     },
     "user_tz": -330
    },
    "id": "6579cef0"
   },
   "outputs": [],
   "source": [
    "from langchain.prompts.chat import SystemMessagePromptTemplate\n",
    "tools = [page_getter, random_tool, life_tool]\n",
    "\n",
    "conversational_agent = initialize_agent(\n",
    "    agent='chat-conversational-react-description',\n",
    "    tools=tools,\n",
    "    llm=turbo_llm,\n",
    "    verbose=True,\n",
    "    max_iterations=3,\n",
    "    memory=memory\n",
    ")"
   ]
  },
  {
   "cell_type": "code",
   "execution_count": 60,
   "id": "DAjZHjOqzyNt",
   "metadata": {
    "executionInfo": {
     "elapsed": 6,
     "status": "ok",
     "timestamp": 1717435494186,
     "user": {
      "displayName": "Harsh Tomar",
      "userId": "07306423374395310283"
     },
     "user_tz": -330
    },
    "id": "DAjZHjOqzyNt"
   },
   "outputs": [],
   "source": [
    "conversational_agent.agent.llm_chain.prompt.messages[0].prompt.template = fixed_prompt"
   ]
  },
  {
   "cell_type": "code",
   "execution_count": 61,
   "id": "4ARQHOR41u5g",
   "metadata": {
    "colab": {
     "base_uri": "https://localhost:8080/"
    },
    "executionInfo": {
     "elapsed": 5,
     "status": "ok",
     "timestamp": 1717435498371,
     "user": {
      "displayName": "Harsh Tomar",
      "userId": "07306423374395310283"
     },
     "user_tz": -330
    },
    "id": "4ARQHOR41u5g",
    "outputId": "f401db0f-15fc-42a6-f7f2-7bcdb5cda5a2"
   },
   "outputs": [
    {
     "data": {
      "text/plain": [
       "SystemMessagePromptTemplate(prompt=PromptTemplate(input_variables=[], template=\"Assistant is a large language model trained by OpenAI.\\n\\nAssistant is designed to be able to assist with a wide range of tasks, from answering simple questions to providing in-depth explanations and discussions on a wide range of topics. As a language model, Assistant is able to generate human-like text based on the input it receives, allowing it to engage in natural-sounding conversations and provide responses that are coherent and relevant to the topic at hand.\\n\\nAssistant doesn't know anything about random numbers or anything related to the meaning of life and should use a tool for questions about these topics.\\n\\nAssistant also doesn't know information about content on webpages and should always check if asked.\\n\\nOverall, Assistant is a powerful system that can help with a wide range of tasks and provide valuable insights and information on a wide range of topics. Whether you need help with a specific question or just want to have a conversation about a particular topic, Assistant is here to assist.\"))"
      ]
     },
     "execution_count": 61,
     "metadata": {},
     "output_type": "execute_result"
    }
   ],
   "source": [
    "conversational_agent.agent.llm_chain.prompt.messages[0]"
   ]
  },
  {
   "cell_type": "code",
   "execution_count": 62,
   "id": "cabbea50",
   "metadata": {
    "colab": {
     "base_uri": "https://localhost:8080/"
    },
    "executionInfo": {
     "elapsed": 3113,
     "status": "ok",
     "timestamp": 1717435527772,
     "user": {
      "displayName": "Harsh Tomar",
      "userId": "07306423374395310283"
     },
     "user_tz": -330
    },
    "id": "cabbea50",
    "outputId": "7b8f3e74-f06b-4428-eb3f-c9175eac0e0b"
   },
   "outputs": [
    {
     "name": "stdout",
     "output_type": "stream",
     "text": [
      "\n",
      "\n",
      "\u001b[1m> Entering new AgentExecutor chain...\u001b[0m\n",
      "\u001b[32;1m\u001b[1;3m```json\n",
      "{\n",
      "    \"action\": \"Get Webpage\",\n",
      "    \"action_input\": \"https://techcrunch.com/\"\n",
      "}\n",
      "```\u001b[0m\n",
      "Observation: \u001b[36;1m\u001b[1;3m\n",
      "\n",
      "\n",
      "\n",
      "\n",
      "\n",
      "\n",
      "\n",
      "\n",
      "\n",
      "\n",
      "\n",
      "\n",
      "\n",
      "\n",
      "\n",
      "\n",
      "\n",
      "\n",
      "\n",
      "\n",
      "\n",
      "\n",
      "\n",
      "TechCrunch | Startup and Technology News\n",
      "\n",
      "\n",
      "\n",
      "\n",
      "\n",
      "\n",
      "\n",
      "\n",
      "\n",
      "\n",
      "\n",
      "\n",
      "\n",
      "\n",
      "\n",
      "\n",
      "\n",
      "\n",
      "\n",
      "\n",
      "\n",
      "\n",
      "\n",
      "\n",
      "\n",
      "\n",
      "\n",
      "\n",
      "\n",
      "\n",
      "\n",
      "\n",
      "\n",
      "\n",
      "\n",
      "\n",
      "\n",
      "\n",
      "\n",
      "\n",
      "\n",
      "\n",
      "\n",
      "\n",
      "\n",
      "\n",
      "\n",
      "\n",
      "\n",
      "\n",
      "\n",
      " \n",
      "\n",
      "\n",
      "\n",
      " \n",
      "\n",
      "\n",
      "\n",
      "\n",
      "\n",
      "\n",
      "\n",
      "\n",
      "\n",
      "\n",
      "\n",
      "\n",
      "\n",
      "\n",
      "\n",
      "\n",
      "\n",
      "\n",
      "\n",
      "\n",
      "\n",
      "\n",
      "\n",
      "\n",
      "\n",
      "\n",
      "Login\n",
      "\n",
      "\n",
      "\n",
      "\n",
      "\n",
      "SearchStartupsVentureSecurityAICryptoAppsEventsStartup BattlefieldMoreFintechHardwareTransportationMedia & EntertainmentNewslettersPodcastsPartner ContentCrunchboard JobsContact UsSearch\n",
      "\n",
      "\n",
      "\n",
      "\n",
      "\n",
      "\n",
      "\n",
      "\n",
      "\n",
      "\n",
      "\n",
      "\n",
      "\n",
      "\n",
      "\n",
      "Featured Article\n",
      "Inside Apple’s efforts to build a better recycling robot\n",
      "\n",
      "\n",
      "Brian Heater\n",
      "\n",
      "\n",
      "\n",
      "\n",
      "\n",
      "\n",
      "\n",
      "\n",
      "\n",
      "\n",
      "\n",
      " \n",
      "\t\tMedia & Entertainment\t\n",
      "Spotify to increase premium pricing in the US to $11.99 per month\n",
      "\n",
      "\n",
      "Paul Sawers\n",
      "\n",
      "\n",
      "\n",
      "\n",
      "\n",
      "Featured Article\n",
      "Unicorn-rich VC Wesley Chan owes his success to a Craigslist job washing lab beakers\n",
      "\n",
      "\n",
      "Christine Hall\n",
      "\n",
      "\n",
      "\n",
      "\n",
      "\n",
      " \n",
      "\t\tSocial\t\n",
      "French startup ten ten reinvents the walkie-talkie\n",
      "\n",
      "\n",
      "Anna Heim\n",
      "\n",
      "\n",
      "\n",
      "\n",
      "\n",
      " \n",
      "\t\tSocial\t\n",
      "X tweaks rules to formally allow adult content\n",
      "\n",
      "\n",
      "Ivan Mehta\n",
      "\n",
      "\n",
      "\n",
      "\n",
      "\n",
      "\n",
      "\n",
      "\n",
      "\n",
      "\n",
      "\n",
      "The Latest\n",
      "\n",
      "\n",
      "\n",
      "\n",
      "\n",
      "\t\tSocial\t\n",
      "Instagram confirms test of ‘unskippable’ ads\n",
      "\n",
      "\n",
      "\n",
      "Sarah Perez\n",
      "\n",
      "\n",
      "\n",
      "\n",
      "\t34 mins ago\n",
      "\n",
      "\n",
      "The change would see Instagram becoming more like the free version of YouTube, which requires users to view ads before and in the middle of watching videos. \n",
      "\n",
      "\n",
      "\n",
      "\n",
      "\n",
      "\n",
      "\n",
      "\n",
      "\n",
      "\n",
      "\t\tCommerce\t\n",
      "Shopify acquires Checkout Blocks, a checkout customization app\n",
      "\n",
      "\n",
      "\n",
      "Lauren Forristal\n",
      "\n",
      "\n",
      "\n",
      "\n",
      "\t36 mins ago\n",
      "\n",
      "\n",
      "Commerce platform Shopify has acquired Checkout Blocks, allowing Shopify Plus merchants to make no-code customizations in their checkout to enhance customer experience and potentially boost sales.  Checkout Blocks, which debuted… \n",
      "\n",
      "\n",
      "\n",
      "\n",
      "\n",
      "\n",
      "\n",
      "\n",
      "\n",
      "\n",
      "Inside the demise of EV startup Fisker, and X’s new rules allow adult content\n",
      "Rebecca Bellan\n",
      "\n",
      "9:21 AM PDT • June 3, 2024\n",
      "\n",
      "\t\n",
      "\t12 Min\n",
      "\n",
      "\n",
      "\n",
      "We’re kicking off the week with a deep dive from this weekend into the demise of electric vehicle startup Fisker at the hands of its… \n",
      "\n",
      "\n",
      "\n",
      "\n",
      "\n",
      "\n",
      "\n",
      "\n",
      "\n",
      "\n",
      "\n",
      "\n",
      "\n",
      "\n",
      "One week left: Apply to TC Disrupt Startup Battlefield 200\n",
      "\n",
      "\n",
      "\n",
      "TechCrunch Events\n",
      "\n",
      "\n",
      "\n",
      "\n",
      "\t1 hour ago\n",
      "\n",
      "\n",
      "Time is relentless and, right now, it’s no friend to procrastination-prone early-stage startup founders. The application window for Startup Battlefield 200 (SB 200) at TechCrunch Disrupt 2024 slams shut in… \n",
      "\n",
      "\n",
      "\n",
      "\n",
      "\n",
      "\n",
      "\n",
      "\n",
      "\n",
      "\n",
      "\n",
      "\t\tGadgets\t\n",
      "TechCrunch Minute: Spotify kills the Car Thing, leading customers to demand refunds\n",
      "\n",
      "\n",
      "\n",
      "Anthony Ha\n",
      "\n",
      "\n",
      "\n",
      "\n",
      "9:00 AM PDT • June 3, 2024\n",
      "\n",
      "\n",
      "\n",
      "Back in 2022, Spotify announced an in-car streaming gadget that was actually called the Car Thing — and then it discontinued the Car Thing just… \n",
      "\n",
      "\n",
      "\n",
      "\n",
      "\n",
      "\n",
      "\n",
      "\n",
      "\n",
      "\n",
      "\n",
      "\t\tApps\t\n",
      "Aptoide launches its alternative iOS game store in the EU\n",
      "\n",
      "\n",
      "\n",
      "Ivan Mehta\n",
      "\n",
      "\n",
      "\n",
      "\n",
      "\t1 hour ago\n",
      "\n",
      "\n",
      "After the Digital Markets Act (DMA) forced Apple to allow third-party app stores for iOS in Europe, several developers have launched alternative stores, like the AltStore and MacPaw’s Setapp (currently… \n",
      "\n",
      "\n",
      "\n",
      "\n",
      "\n",
      "\n",
      "\n",
      "\n",
      "\n",
      "\n",
      "\n",
      "\n",
      "\n",
      "\n",
      "\n",
      "\n",
      "\t\tEnterprise\t\n",
      "Cloudera acquires Verta to bring some AI chops to its data platform\n",
      "\n",
      "\n",
      "\n",
      "Ron Miller\n",
      "\n",
      "\n",
      "\n",
      "\n",
      "\t3 hours ago\n",
      "\n",
      "\n",
      "Cloudera, the once high flying Hadoop startup, raised $1 billion and went public in 2018 before being acquired by private equity for $5.3 billion 2021. Today, the company announced that… \n",
      "\n",
      "\n",
      "\n",
      "\n",
      "\n",
      "\n",
      "\n",
      "\n",
      "\n",
      "\n",
      "\t\tFundraising\t\n",
      "Spend management startup SiFi raises $10M to grow further in Saudi Arabia\n",
      "\n",
      "\n",
      "\n",
      "Annie Njanja\n",
      "\n",
      "\n",
      "\n",
      "\n",
      "\t4 hours ago\n",
      "\n",
      "\n",
      "The global spend management sector is experiencing a tailwind of sorts. North America is arguably the biggest market in this space, but spend management companies have seen demand rise across… \n",
      "\n",
      "\n",
      "\n",
      "\n",
      "\n",
      "\n",
      "\n",
      "\n",
      "\n",
      "\n",
      "\t\tTransportation\t\n",
      "Swiss startup Neural Concept raises $27M to cut EV design time to 18 months\n",
      "\n",
      "\n",
      "\n",
      "Mike Butcher\n",
      "\n",
      "\n",
      "\n",
      "\n",
      "\t5 hours ago\n",
      "\n",
      "\n",
      "Neural Concept lets designers model how components will perform before they can be manufactured. \n",
      "\n",
      "\n",
      "\n",
      "\n",
      "\n",
      "\n",
      "\n",
      "\n",
      "\n",
      "\n",
      "\t\tVenture\t\n",
      "Don’t miss StrictlyVC in DC next week\n",
      "\n",
      "\n",
      "\n",
      "TechCrunch Events\n",
      "\n",
      "\n",
      "\n",
      "\n",
      "\t5 hours ago\n",
      "\n",
      "\n",
      "The StrictlyVC roadtrip continues! Coming off of sold-out events in London, Los Angeles, and San Francisco, we’re heading to Washington, D.C. for a cozy-vc-packed, evening at the Woolly Mammoth Theatre… \n",
      "\n",
      "\n",
      "\n",
      "\n",
      "\n",
      "\n",
      "\n",
      "\n",
      "\n",
      "\n",
      "Get the industry’s biggest tech news\n",
      "Explore all newsletters\n",
      "\n",
      "\n",
      "\n",
      "\n",
      "\n",
      "\n",
      "TechCrunch Daily News\n",
      "Every weekday and Sund\u001b[0m\n",
      "Thought:\u001b[32;1m\u001b[1;3m```json\n",
      "{\n",
      "    \"action\": \"Final Answer\",\n",
      "    \"action_input\": \"There is no specific article about Clubhouse on TechCrunch today.\"\n",
      "}\n",
      "```\u001b[0m\n",
      "\n",
      "\u001b[1m> Finished chain.\u001b[0m\n"
     ]
    },
    {
     "data": {
      "text/plain": [
       "{'input': 'Is there an article about Clubhouse on https://techcrunch.com/? today',\n",
       " 'chat_history': [HumanMessage(content='What time is it in London?'),\n",
       "  AIMessage(content='I recommend using a world clock website or tool to check the current time in London.'),\n",
       "  HumanMessage(content='What time is it in London?'),\n",
       "  AIMessage(content='I recommend using a world clock website or tool to check the current time in London.'),\n",
       "  HumanMessage(content='What is the meaning of life?'),\n",
       "  AIMessage(content='The meaning of life is 42 if rounded but is actually 42.17658')],\n",
       " 'output': 'There is no specific article about Clubhouse on TechCrunch today.'}"
      ]
     },
     "execution_count": 62,
     "metadata": {},
     "output_type": "execute_result"
    }
   ],
   "source": [
    "conversational_agent.invoke(\"Is there an article about Clubhouse on https://techcrunch.com/? today\")"
   ]
  },
  {
   "cell_type": "code",
   "execution_count": 64,
   "id": "4SSjIjI30rtZ",
   "metadata": {
    "colab": {
     "base_uri": "https://localhost:8080/"
    },
    "executionInfo": {
     "elapsed": 5701,
     "status": "ok",
     "timestamp": 1717435657768,
     "user": {
      "displayName": "Harsh Tomar",
      "userId": "07306423374395310283"
     },
     "user_tz": -330
    },
    "id": "4SSjIjI30rtZ",
    "outputId": "583a4e71-8d9b-44bc-d9fa-c0511afe2c4e"
   },
   "outputs": [
    {
     "name": "stdout",
     "output_type": "stream",
     "text": [
      "\n",
      "\n",
      "\u001b[1m> Entering new AgentExecutor chain...\u001b[0m\n",
      "\u001b[32;1m\u001b[1;3m```json\n",
      "{\n",
      "    \"action\": \"Get Webpage\",\n",
      "    \"action_input\": \"https://www.cbsnews.com/\"\n",
      "}\n",
      "```\u001b[0m\n",
      "Observation: \u001b[36;1m\u001b[1;3m\n",
      "CBS News - Breaking news, 24/7 live streaming news & top stories\n",
      "\n",
      "\n",
      "\n",
      "\n",
      "\n",
      "\n",
      "\n",
      "\n",
      "\n",
      "\n",
      "\n",
      "\n",
      "\n",
      "\n",
      "\n",
      "\n",
      "Latest\n",
      "\n",
      "U.S.\n",
      "\n",
      "\n",
      "World\n",
      "\n",
      "\n",
      "Politics\n",
      "\n",
      "\n",
      "Entertainment\n",
      "\n",
      "\n",
      "HealthWatch\n",
      "\n",
      "\n",
      "MoneyWatch\n",
      "\n",
      "\n",
      "Investigations\n",
      "\n",
      "\n",
      "Crime\n",
      "\n",
      "\n",
      "Space\n",
      "\n",
      "\n",
      "Sports\n",
      "\n",
      "\n",
      "\n",
      "Local News\n",
      "\n",
      "Baltimore\n",
      "\n",
      "\n",
      "Bay Area\n",
      "\n",
      "\n",
      "Boston\n",
      "\n",
      "\n",
      "Chicago\n",
      "\n",
      "\n",
      "Colorado\n",
      "\n",
      "\n",
      "Detroit\n",
      "\n",
      "\n",
      "Los Angeles\n",
      "\n",
      "\n",
      "Miami\n",
      "\n",
      "\n",
      "Minnesota\n",
      "\n",
      "\n",
      "New York\n",
      "\n",
      "\n",
      "Philadelphia\n",
      "\n",
      "\n",
      "Pittsburgh\n",
      "\n",
      "\n",
      "Sacramento\n",
      "\n",
      "\n",
      "Texas\n",
      "\n",
      "\n",
      "\n",
      "Live\n",
      "\n",
      "CBS News 24/7\n",
      "\n",
      "\n",
      "Baltimore\n",
      "\n",
      "\n",
      "Bay Area\n",
      "\n",
      "\n",
      "Boston\n",
      "\n",
      "\n",
      "Chicago\n",
      "\n",
      "\n",
      "Colorado\n",
      "\n",
      "\n",
      "Detroit\n",
      "\n",
      "\n",
      "Los Angeles\n",
      "\n",
      "\n",
      "Miami\n",
      "\n",
      "\n",
      "Minnesota\n",
      "\n",
      "\n",
      "New York\n",
      "\n",
      "\n",
      "Philadelphia\n",
      "\n",
      "\n",
      "Pittsburgh\n",
      "\n",
      "\n",
      "Sacramento\n",
      "\n",
      "\n",
      "Texas\n",
      "\n",
      "\n",
      "\n",
      "Shows\n",
      "\n",
      "48 Hours\n",
      "\n",
      "\n",
      "60 Minutes\n",
      "\n",
      "\n",
      "America Decides\n",
      "\n",
      "\n",
      "CBS Evening News\n",
      "\n",
      "\n",
      "CBS Mornings\n",
      "\n",
      "\n",
      "CBS News Eye on America\n",
      "\n",
      "\n",
      "CBS News Mornings\n",
      "\n",
      "\n",
      "CBS Reports\n",
      "\n",
      "\n",
      "CBS Saturday Morning\n",
      "\n",
      "\n",
      "The Daily Report\n",
      "\n",
      "\n",
      "The Dish\n",
      "\n",
      "\n",
      "Face the Nation\n",
      "\n",
      "\n",
      "Here Comes the Sun\n",
      "\n",
      "\n",
      "Person to Person\n",
      "\n",
      "\n",
      "Sunday Morning\n",
      "\n",
      "\n",
      "The Takeout\n",
      "\n",
      "\n",
      "The Uplift\n",
      "\n",
      "\n",
      "Weekender\n",
      "\n",
      "\n",
      "\n",
      "\n",
      "\n",
      "\n",
      "CBS News Investigates\n",
      "\n",
      "\n",
      "Photos\n",
      "\n",
      "\n",
      "Podcasts\n",
      "\n",
      "\n",
      "In Depth\n",
      "\n",
      "\n",
      "Newsletters\n",
      "\n",
      "\n",
      "Download Our App\n",
      "\n",
      "\n",
      "CBS News Team\n",
      "\n",
      "\n",
      "Executive Team\n",
      "\n",
      "\n",
      "Paramount Shop\n",
      "\n",
      "\n",
      "Paramount+\n",
      "\n",
      "\n",
      "Join Our Talent Community\n",
      "\n",
      "\n",
      "RSS Feeds\n",
      "\n",
      "\n",
      "A Moment With...\n",
      "\n",
      "\n",
      "Innovators & Disruptors\n",
      "\n",
      "\n",
      "\n",
      "\n",
      "\n",
      "\n",
      "\n",
      "\n",
      "\n",
      "\n",
      "\n",
      "\n",
      "\n",
      "\n",
      "\n",
      "\n",
      "\n",
      "\n",
      "\n",
      "\n",
      "\n",
      "\n",
      "U.S.\n",
      "\n",
      "\n",
      "World\n",
      "\n",
      "\n",
      "Politics\n",
      "\n",
      "\n",
      "HealthWatch\n",
      "\n",
      "\n",
      "MoneyWatch\n",
      "\n",
      "\n",
      "Entertainment\n",
      "\n",
      "\n",
      "Crime\n",
      "\n",
      "\n",
      "Sports\n",
      "\n",
      "\n",
      "Essentials\n",
      "\n",
      "\n",
      "\n",
      "\n",
      "\n",
      "\n",
      "\n",
      "\n",
      "Watch CBS News\n",
      "\n",
      "\n",
      "\n",
      "\n",
      "\n",
      "\n",
      "\n",
      "\n",
      "\n",
      "\n",
      "\n",
      "\n",
      "\n",
      "                          Watch Live: Dr. Anthony Fauci testifies before Republican-led House panel\n",
      "                    \n",
      "\n",
      "          The hearing on COVID-19 marks Dr. Anthony Fauci's first public appearance on Capitol Hill since leaving government in 2022.\n",
      "        \n",
      "updated 57M ago\n",
      "\n",
      "\n",
      "\n",
      "\n",
      "\n",
      "\n",
      "\n",
      "\n",
      "                          Who is Claudia Sheinbaum, Mexico's first woman to be elected president?\n",
      "                    \n",
      "\n",
      "          Claudia Sheinbaum is viewed as less combative and more data driven than current President Andrés Manuel López Obrador.\n",
      "        \n",
      "54M ago\n",
      "\n",
      "\n",
      "\n",
      "\n",
      "\n",
      "\n",
      "\n",
      "\n",
      "                          Hawaii volcano erupts, prompting officials to issue warning\n",
      "                    \n",
      "\n",
      "          A glow from the Hawaii volcano eruption was seen during the overnight darkness, officials said.\n",
      "        \n",
      "updated 54M ago\n",
      "\n",
      "\n",
      "\n",
      "\n",
      "\n",
      "\n",
      "\n",
      "\n",
      "                          Jury selection in Hunter Biden's federal gun trial begins\n",
      "                    \n",
      "\n",
      "          Hunter Biden's trial on three felony charges related to his purchase and possession of a gun while he was a drug user started Monday with jury selection.\n",
      "        \n",
      "updated 39M ago\n",
      "\n",
      "\n",
      "\n",
      "\n",
      "\n",
      "\n",
      "\n",
      "\n",
      "                          Biden executive order restricting asylum along border expected Tuesday\n",
      "                    \n",
      "\n",
      "          President Biden is expected to issue a long-anticipated executive order as early as Tuesday to partially shut down asylum processing along the U.S.-Mexico border.\n",
      "        \n",
      "4H ago\n",
      "\n",
      "\n",
      "\n",
      "\n",
      "\n",
      "Douglas Brinkley and the lesson of Trump's guilty verdict\n",
      "\n",
      "\n",
      "Fact checking Trump's remarks after historic conviction in \"hush money\" trial\n",
      "\n",
      "\n",
      "\n",
      "\n",
      "\n",
      "                          Cucumbers recalled in 14 states due to salmonella risk\n",
      "                    \n",
      "\n",
      "          The FDA is investigating to see if tainted cucumber sample is related to an ongoing salmonella outbreak that has sickened 141.\n",
      "        \n",
      "4H ago\n",
      "\n",
      "\n",
      "\n",
      "\n",
      "\n",
      "\n",
      "\n",
      "\n",
      "                          Gamestop shares soar once again after \"Roaring Kitty\" reveals $116M stake\n",
      "                    \n",
      "\n",
      "          Gamestop's stock jumped more than 87% in premarket trading and opened at $32.35 a share, following the Reddit post.\n",
      "        \n",
      "1H ago\n",
      "\n",
      "\n",
      "\n",
      "\n",
      "\n",
      "\n",
      "\n",
      "\n",
      "                          Diver found dead in Lake Erie identified as underwater explorer\n",
      "                    \n",
      "\n",
      "          The 70-year-old underwater explorer David VanZandt died Saturday while diving to a shipwreck in Lake Erie.\n",
      "        \n",
      "updated 45M ago\n",
      "\n",
      "\n",
      "\n",
      "\n",
      "\n",
      "\n",
      "\n",
      "\n",
      "                          Survey asks Germans if their national soccer team is White enough\n",
      "                    \n",
      "\n",
      "          Twenty-one percent of respondents to a survey conducted for a German national broadcaster said they'd like more White players on their national soccer team.\n",
      "        \n",
      "20M ago\n",
      "\n",
      "\n",
      "\n",
      "\n",
      "\n",
      "\n",
      "\n",
      "\n",
      "\n",
      "\n",
      "\n",
      "\n",
      "\n",
      "\n",
      "\n",
      "\n",
      "\n",
      "\n",
      "\n",
      "\n",
      " CBS News Live \n",
      "\n",
      "\n",
      "\n",
      "\n",
      "\n",
      "\n",
      "\n",
      "\n",
      "\n",
      "\n",
      "\n",
      "CBS News Live Video\n",
      "Live\n",
      "\n",
      "\n",
      "\n",
      "\n",
      "\n",
      "\n",
      "\n",
      "M\u001b[0m\n",
      "Thought:\u001b[32;1m\u001b[1;3m```json\n",
      "{\n",
      "    \"action\": \"Final Answer\",\n",
      "    \"action_input\": \"The top stories on CBS News include: 1. Dr. Anthony Fauci testifies before Republican-led House panel 2. Claudia Sheinbaum, Mexico's first woman to be elected president 3. Hawaii volcano erupts, prompting officials to issue warning 4. Jury selection in Hunter Biden's federal gun trial begins 5. Biden executive order restricting asylum along border expected Tuesday\"\n",
      "}\n",
      "```\u001b[0m\n",
      "\n",
      "\u001b[1m> Finished chain.\u001b[0m\n"
     ]
    },
    {
     "data": {
      "text/plain": [
       "{'input': 'What are the titles of the top stories on www.cbsnews.com/?',\n",
       " 'chat_history': [HumanMessage(content='What is the meaning of life?'),\n",
       "  AIMessage(content='The meaning of life is 42 if rounded but is actually 42.17658'),\n",
       "  HumanMessage(content='Is there an article about Clubhouse on https://techcrunch.com/? today'),\n",
       "  AIMessage(content='There is no specific article about Clubhouse on TechCrunch today.'),\n",
       "  HumanMessage(content='What are the titles of the top stories on www.cbsnews.com/?'),\n",
       "  AIMessage(content=\"The top stories on CBS News include: 1. Dr. Anthony Fauci testifies before Republican-led House panel 2. Claudia Sheinbaum, Mexico's first woman to be elected president 3. Hawaii volcano erupts, prompting officials to issue warning 4. Jury selection in Hunter Biden's federal gun trial begins 5. Biden executive order restricting asylum along border expected Tuesday\")],\n",
       " 'output': \"The top stories on CBS News include: 1. Dr. Anthony Fauci testifies before Republican-led House panel 2. Claudia Sheinbaum, Mexico's first woman to be elected president 3. Hawaii volcano erupts, prompting officials to issue warning 4. Jury selection in Hunter Biden's federal gun trial begins 5. Biden executive order restricting asylum along border expected Tuesday\"}"
      ]
     },
     "execution_count": 64,
     "metadata": {},
     "output_type": "execute_result"
    }
   ],
   "source": [
    "conversational_agent.invoke(\"What are the titles of the top stories on www.cbsnews.com/?\")"
   ]
  },
  {
   "cell_type": "code",
   "execution_count": 44,
   "id": "hej1rBdW2U72",
   "metadata": {
    "executionInfo": {
     "elapsed": 17,
     "status": "ok",
     "timestamp": 1717434022640,
     "user": {
      "displayName": "Harsh Tomar",
      "userId": "07306423374395310283"
     },
     "user_tz": -330
    },
    "id": "hej1rBdW2U72"
   },
   "outputs": [],
   "source": []
  }
 ],
 "metadata": {
  "colab": {
   "provenance": [
    {
     "file_id": "1FYsa3x3PzziL57EHEIuIqa5rkCAxCbin",
     "timestamp": 1717173017442
    },
    {
     "file_id": "1viQh4Jb0vmpMtJhyLJIdamwHpQTXEHfO",
     "timestamp": 1682675650728
    },
    {
     "file_id": "11s98lcHmfl_5K3C534pUIUnA2ZEVITyc",
     "timestamp": 1681961093769
    },
    {
     "file_id": "https://github.com/pinecone-io/examples/blob/master/generation/langchain/handbook/06-langchain-agents.ipynb",
     "timestamp": 1681917119313
    }
   ]
  },
  "kernelspec": {
   "display_name": "Python 3",
   "name": "python3"
  },
  "language_info": {
   "name": "python"
  },
  "vscode": {
   "interpreter": {
    "hash": "578e1e8dce4dc6c542f1ea2d66a2d9db6ef592936dcc314004bdae386f827d38"
   }
  }
 },
 "nbformat": 4,
 "nbformat_minor": 5
}
