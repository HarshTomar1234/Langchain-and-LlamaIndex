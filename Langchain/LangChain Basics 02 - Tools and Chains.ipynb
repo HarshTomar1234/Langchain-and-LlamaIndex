{
 "cells": [
  {
   "cell_type": "markdown",
   "metadata": {
    "id": "XoJ-RGiUo-uJ"
   },
   "source": [
    "# Langchain: Tools & Chains"
   ]
  },
  {
   "cell_type": "markdown",
   "metadata": {
    "id": "SnviFMWXkyB1"
   },
   "source": [
    "In the context of LangChain, a **tool** is a **software application or library** that provides **a specific functionality or set of functionalities to perform a particular task or set of tasks**. In the context of LangChain, **tools are designed to make it easier to work with large language models and NLP tasks**.\n",
    "\n",
    "**Python REPL**: A Python Read-Eval-Print Loop (REPL) that allows you to interactively experiment with language models and NLP tasks. The REPL provides a simple way to test and explore the capabilities of LangChain.\n",
    "\n",
    "**SerpAPI**: A tool for scraping and processing web data, allowing you to extract and analyze large amounts of data from the web. SerpAPI is a powerful tool for web scraping and data extraction.\n",
    "\n",
    "**Wolfram Alpha**: A computational knowledge engine that provides a wide range of computational and mathematical functions, allowing you to perform complex calculations and simulations. Wolfram Alpha is a powerful tool for data analysis and visualization.\n",
    "\n",
    "**Transformers**: A popular open-source library for natural language processing (NLP) tasks, providing pre-trained models and a simple interface for using them.\n",
    "\n",
    "**Trainer**: A tool for training and fine-tuning language models, allowing you to customize the training process and experiment with different hyperparameters.\n",
    "\n",
    "**Tokenizer**: A library for tokenizing text data, providing a range of tokenization strategies and pre-trained models for specific languages.\n",
    "Dataset: A library for working with datasets, providing tools for loading, processing, and manipulating datasets for NLP tasks.\n",
    "\n",
    "**Model Hub**: A repository of pre-trained models, allowing you to easily access and use a wide range of language models and NLP models."
   ]
  },
  {
   "cell_type": "markdown",
   "metadata": {
    "id": "LjhyF7aTnY3U"
   },
   "source": [
    "# Chains\n",
    "\n",
    "In **LangChain**, a **chain** is an **end-to-end wrapper around multiple individual components, providing a way to accomplish a common use case by combining these components in a specific sequence**. The most commonly used type of chain is the **LLMChain**, which consists of a **PromptTemplate, a model (either an LLM or a ChatModel), and an optional output parser**.\n",
    "\n",
    "# Components of LLMChain(Generic Chain):\n",
    "\n",
    "**PromptTemplate**: This is a template that helps format input variables into a structured prompt. It provides a way to organize and structure the information before passing it to the model.\n",
    "\n",
    "**Model (LLM or ChatModel)**: The model, either a **Large Language Model (LLM) or a ChatModel**, is the core component that processes the formatted prompt and generates an output based on its training data.\n",
    "\n",
    "**Optional Output Parser**: This component is not always required. If provided, it takes the output of the LLM model and further processes it into a final format. This step can be useful for refining or structuring the model's output.\n",
    "\n",
    "# How LLMChain Works:\n",
    "\n",
    "**Input Variables**: The LLMChain takes one or more input variables, which could be anything relevant to the task at hand. In this example, it might be details about the company, such as its focus on eco-friendly water bottles.\n",
    "\n",
    "**PromptTemplate Formatting**: The input variables are passed through the PromptTemplate, which structures them into a formatted prompt. This step ensures that the information is presented in a way that the model can understand and process.\n",
    "\n",
    "**Model Processing**: The formatted prompt is then given to the model (LLM or ChatModel). The model uses its training data and algorithms to generate an output based on the input prompt.\n",
    "\n",
    "**Optional Output Parsing**: If an output parser is provided, it takes the output from the model and further refines it into a final format. This step can involve cleaning up the output, extracting specific information, or organizing it in a particular way.\n",
    "\n",
    "**Example: Generating a Company Name**:\n",
    "\n",
    "Let's say we want to create a company that produces eco-friendly water bottles.\n",
    "\n",
    "We would define a PromptTemplate that includes placeholders for input variables, such as \"{CompanyType}\", \"{Product}\", etc.\n",
    "\n",
    "Set the input variables with values relevant to our company, like \"EcoTech\" for {CompanyType} and \"Water Bottles\" for {Product}.\n",
    "\n",
    "The PromptTemplate formats these variables into a prompt, like \"Create a name for a company that produces {Product} for {CompanyType}.\" This structured prompt is then passed to the model.\n",
    "\n",
    "The model generates an output based on the prompt, perhaps suggesting names like \"EcoAqua\" or \"GreenWave Bottles.\"\n",
    "\n",
    "If an output parser is provided, it might further refine the output into a final format, such as selecting the most creative or catchy name from the model's suggestions."
   ]
  },
  {
   "cell_type": "code",
   "execution_count": 1,
   "metadata": {
    "colab": {
     "base_uri": "https://localhost:8080/"
    },
    "executionInfo": {
     "elapsed": 24013,
     "status": "ok",
     "timestamp": 1715345485699,
     "user": {
      "displayName": "Harsh Tomar",
      "userId": "07306423374395310283"
     },
     "user_tz": -330
    },
    "id": "8RSTxnoIozRN",
    "outputId": "69a8a69f-647a-4fa9-b157-cd025cbe7e3f"
   },
   "outputs": [
    {
     "name": "stdout",
     "output_type": "stream",
     "text": [
      "\u001b[2K     \u001b[90m━━━━━━━━━━━━━━━━━━━━━━━━━━━━━━━━━━━━━━━━\u001b[0m \u001b[32m76.5/76.5 kB\u001b[0m \u001b[31m805.5 kB/s\u001b[0m eta \u001b[36m0:00:00\u001b[0m\n",
      "\u001b[2K     \u001b[90m━━━━━━━━━━━━━━━━━━━━━━━━━━━━━━━━━━━━━━━━\u001b[0m \u001b[32m1.1/1.1 MB\u001b[0m \u001b[31m6.9 MB/s\u001b[0m eta \u001b[36m0:00:00\u001b[0m\n",
      "\u001b[2K     \u001b[90m━━━━━━━━━━━━━━━━━━━━━━━━━━━━━━━━━━━━━━━━\u001b[0m \u001b[32m90.0/90.0 kB\u001b[0m \u001b[31m7.8 MB/s\u001b[0m eta \u001b[36m0:00:00\u001b[0m\n",
      "\u001b[2K     \u001b[90m━━━━━━━━━━━━━━━━━━━━━━━━━━━━━━━━━━━━━━━━\u001b[0m \u001b[32m3.1/3.1 MB\u001b[0m \u001b[31m30.7 MB/s\u001b[0m eta \u001b[36m0:00:00\u001b[0m\n",
      "\u001b[2K     \u001b[90m━━━━━━━━━━━━━━━━━━━━━━━━━━━━━━━━━━━━━━━━\u001b[0m \u001b[32m49.3/49.3 kB\u001b[0m \u001b[31m3.0 MB/s\u001b[0m eta \u001b[36m0:00:00\u001b[0m\n",
      "\u001b[?25h"
     ]
    }
   ],
   "source": [
    "!pip -q install openai==0.28 langchain==0.0.208 huggingface_hub"
   ]
  },
  {
   "cell_type": "code",
   "execution_count": null,
   "metadata": {
    "executionInfo": {
     "elapsed": 892,
     "status": "ok",
     "timestamp": 1715348952464,
     "user": {
      "displayName": "Harsh Tomar",
      "userId": "07306423374395310283"
     },
     "user_tz": -330
    },
    "id": "9iIacDfgpB2M"
   },
   "outputs": [],
   "source": [
    "import os\n",
    "\n",
    "os.environ['OPENAI_API_KEY'] = 'your_key'\n",
    "os.environ['HUGGINGFACEHUB_API_TOKEN'] = 'your_token'"
   ]
  },
  {
   "cell_type": "markdown",
   "metadata": {
    "id": "ktJiR23xQz6a"
   },
   "source": [
    "In the context of LangChain, **a chain refers to a sequence of operations or tasks that are performed on a piece of text or data. Chains can be used to automate complex workflows, perform multiple tasks on a single piece of text, or to create custom workflows for specific use cases**.\n",
    "\n",
    "Here are some categories of chains with examples:\n",
    "\n",
    "# Generic Chains\n",
    "\n",
    "**Text Processing Chains**: These chains perform basic text processing tasks such as tokenization, stemming, and lemmatization.\n",
    "\n",
    "* Example: A chain that performs the following tasks:\n",
    "\n",
    "  *Tokenization* : Breaks down the text into individual words or characters.\n",
    "  Stemming: Reduces words to their base form.\n",
    "\n",
    "  *Lemmatization* : Reduces words to their base form using a dictionary.\n",
    "\n",
    "  Use case: A chatbot that needs to process and analyze user input.\n",
    "\n",
    "# Utility Chains\n",
    "\n",
    "**Data Processing Chains**: These chains perform data processing tasks such as filtering, sorting, and aggregating data.\n",
    "\n",
    "  * Example: A chain that performs the following tasks:\n",
    "\n",
    "  Filtering: Filters out data based on specific criteria.\n",
    "\n",
    "  Sorting: Sorts data based on specific criteria.\n",
    "\n",
    "  Aggregating: Aggregates data based on specific criteria.\n",
    "\n",
    "  Use case: A company that needs to process and analyze large datasets.\n",
    "\n",
    "# Asynchronous Chains\n",
    "\n",
    "**API Integration Chains**: These chains integrate with external APIs to perform tasks such as data retrieval and processing.\n",
    "  * Example: A chain that performs the following tasks:\n",
    "\n",
    "  API call: Makes an API call to retrieve data.\n",
    "\n",
    "  Data processing: Processes the retrieved data.\n",
    "\n",
    "  Data storage: Stores the processed data.\n",
    "\n",
    "  Use case: A company that needs to integrate with external APIs to retrieve and process data.\n",
    "\n",
    "\n",
    "# Machine Learning Chains:\n",
    "These chains perform machine learning tasks such as training and testing models.\n",
    "\n",
    "  * Example: A chain that performs the following tasks:\n",
    "\n",
    "  Data preparation: Prepares data for machine learning.\n",
    "\n",
    "  Model training: Trains a machine learning model.\n",
    "\n",
    "  Model testing: Tests the trained model.\n",
    "\n",
    "  Use case: A company that needs to train and test machine learning models.\n",
    "\n"
   ]
  },
  {
   "cell_type": "markdown",
   "metadata": {
    "id": "-KB9qA8bpxgJ"
   },
   "source": [
    "## Basic LLMChain - Fact Extraction"
   ]
  },
  {
   "cell_type": "code",
   "execution_count": 12,
   "metadata": {
    "executionInfo": {
     "elapsed": 2770,
     "status": "ok",
     "timestamp": 1715348974688,
     "user": {
      "displayName": "Harsh Tomar",
      "userId": "07306423374395310283"
     },
     "user_tz": -330
    },
    "id": "-lzO5PfUpwfv"
   },
   "outputs": [],
   "source": [
    "from langchain.prompts import PromptTemplate\n",
    "from langchain.llms import OpenAI\n",
    "from langchain.chains import LLMChain"
   ]
  },
  {
   "cell_type": "code",
   "execution_count": 19,
   "metadata": {
    "colab": {
     "base_uri": "https://localhost:8080/"
    },
    "executionInfo": {
     "elapsed": 733,
     "status": "ok",
     "timestamp": 1715349199878,
     "user": {
      "displayName": "Harsh Tomar",
      "userId": "07306423374395310283"
     },
     "user_tz": -330
    },
    "id": "sTiEn3tKp7mZ",
    "outputId": "36f39395-7f2d-482a-de42-95fdf3312f0d"
   },
   "outputs": [
    {
     "name": "stderr",
     "output_type": "stream",
     "text": [
      "/usr/local/lib/python3.10/dist-packages/langchain/llms/openai.py:179: UserWarning: You are trying to use a chat model. This way of initializing it is no longer supported. Instead, please use: `from langchain.chat_models import ChatOpenAI`\n",
      "  warnings.warn(\n",
      "/usr/local/lib/python3.10/dist-packages/langchain/llms/openai.py:753: UserWarning: You are trying to use a chat model. This way of initializing it is no longer supported. Instead, please use: `from langchain.chat_models import ChatOpenAI`\n",
      "  warnings.warn(\n"
     ]
    }
   ],
   "source": [
    "llm = OpenAI(model_name='gpt-3.5-turbo',\n",
    "             temperature=0,\n",
    "             max_tokens = 256)"
   ]
  },
  {
   "cell_type": "code",
   "execution_count": 20,
   "metadata": {
    "executionInfo": {
     "elapsed": 994,
     "status": "ok",
     "timestamp": 1715349203063,
     "user": {
      "displayName": "Harsh Tomar",
      "userId": "07306423374395310283"
     },
     "user_tz": -330
    },
    "id": "WCBfxD4cqXsx"
   },
   "outputs": [],
   "source": [
    "article = '''Coinbase, the second-largest crypto exchange by trading volume, released its Q4 2022 earnings on Tuesday, giving shareholders and market players alike an updated look into its financials. In response to the report, the company's shares are down modestly in early after-hours trading.In the fourth quarter of 2022, Coinbase generated $605 million in total revenue, down sharply from $2.49 billion in the year-ago quarter. Coinbase's top line was not enough to cover its expenses: The company lost $557 million in the three-month period on a GAAP basis (net income) worth -$2.46 per share, and an adjusted EBITDA deficit of $124 million.Wall Street expected Coinbase to report $581.2 million in revenue and earnings per share of -$2.44 with adjusted EBITDA of -$201.8 million driven by 8.4 million monthly transaction users (MTUs), according to data provided by Yahoo Finance.Before its Q4 earnings were released, Coinbase's stock had risen 86% year-to-date. Even with that rally, the value of Coinbase when measured on a per-share basis is still down significantly from its 52-week high of $206.79.That Coinbase beat revenue expectations is notable in that it came with declines in trading volume; Coinbase historically generated the bulk of its revenues from trading fees, making Q4 2022 notable. Consumer trading volumes fell from $26 billion in the third quarter of last year to $20 billion in Q4, while institutional volumes across the same timeframe fell from $133 billion to $125 billion.The overall crypto market capitalization fell about 64%, or $1.5 trillion during 2022, which resulted in Coinbase's total trading volumes and transaction revenues to fall 50% and 66% year-over-year, respectively, the company reported.As you would expect with declines in trading volume, trading revenue at Coinbase fell in Q4 compared to the third quarter of last year, dipping from $365.9 million to $322.1 million. (TechCrunch is comparing Coinbase's Q4 2022 results to Q3 2022 instead of Q4 2021, as the latter comparison would be less useful given how much the crypto market has changed in the last year; we're all aware that overall crypto activity has fallen from the final months of 2021.)There were bits of good news in the Coinbase report. While Coinbase's trading revenues were less than exuberant, the company's other revenues posted gains. What Coinbase calls its \"subscription and services revenue\" rose from $210.5 million in Q3 2022 to $282.8 million in Q4 of the same year, a gain of just over 34% in a single quarter.And even as the crypto industry faced a number of catastrophic events, including the Terra/LUNA and FTX collapses to name a few, there was still growth in other areas. The monthly active developers in crypto have more than doubled since 2020 to over 20,000, while major brands like Starbucks, Nike and Adidas have dived into the space alongside social media platforms like Instagram and Reddit.With big players getting into crypto, industry players are hoping this move results in greater adoption both for product use cases and trading volumes. Although there was a lot of movement from traditional retail markets and Web 2.0 businesses, trading volume for both consumer and institutional users fell quarter-over-quarter for Coinbase.Looking forward, it'll be interesting to see if these pieces pick back up and trading interest reemerges in 2023, or if platforms like Coinbase will have to keep looking elsewhere for revenue (like its subscription service) if users continue to shy away from the market.\n",
    "'''"
   ]
  },
  {
   "cell_type": "code",
   "execution_count": 21,
   "metadata": {
    "colab": {
     "base_uri": "https://localhost:8080/"
    },
    "executionInfo": {
     "elapsed": 4,
     "status": "ok",
     "timestamp": 1715349203817,
     "user": {
      "displayName": "Harsh Tomar",
      "userId": "07306423374395310283"
     },
     "user_tz": -330
    },
    "id": "eMnYNdKIjJiq",
    "outputId": "6fdb4bc9-c43b-49a0-f784-da37d07146b8"
   },
   "outputs": [
    {
     "data": {
      "text/plain": [
       "3533"
      ]
     },
     "execution_count": 21,
     "metadata": {},
     "output_type": "execute_result"
    }
   ],
   "source": [
    "len(article)"
   ]
  },
  {
   "cell_type": "code",
   "execution_count": 22,
   "metadata": {
    "executionInfo": {
     "elapsed": 5,
     "status": "ok",
     "timestamp": 1715349206735,
     "user": {
      "displayName": "Harsh Tomar",
      "userId": "07306423374395310283"
     },
     "user_tz": -330
    },
    "id": "qYPq1mrSfVTt"
   },
   "outputs": [],
   "source": [
    "fact_extraction_prompt = PromptTemplate(\n",
    "    input_variables=[\"text_input\"],\n",
    "    template=\"Extract the key facts out of this text. Don't include opinions. Give each fact a number and keep them short sentences. :\\n\\n {text_input}\"\n",
    ")"
   ]
  },
  {
   "cell_type": "code",
   "execution_count": 23,
   "metadata": {
    "colab": {
     "base_uri": "https://localhost:8080/"
    },
    "executionInfo": {
     "elapsed": 5168,
     "status": "ok",
     "timestamp": 1715349214093,
     "user": {
      "displayName": "Harsh Tomar",
      "userId": "07306423374395310283"
     },
     "user_tz": -330
    },
    "id": "RmumMw1mfweL",
    "outputId": "59e10e94-f362-495a-b22e-1422100e7ac6"
   },
   "outputs": [
    {
     "name": "stdout",
     "output_type": "stream",
     "text": [
      "1. Coinbase released its Q4 2022 earnings, showing $605 million in revenue.\n",
      "2. Coinbase's stock is down in after-hours trading after reporting a loss of $557 million in Q4.\n",
      "3. Wall Street expected Coinbase to report $581.2 million in revenue.\n",
      "4. Coinbase's trading volumes and transaction revenues fell due to a 64% decline in the overall crypto market capitalization.\n",
      "5. Coinbase's trading revenue fell from $365.9 million to $322.1 million in Q4.\n",
      "6. Coinbase's \"subscription and services revenue\" rose from $210.5 million to $282.8 million in Q4.\n",
      "7. Monthly active developers in crypto have more than doubled since 2020.\n",
      "8. Major brands like Starbucks, Nike, and Adidas have entered the crypto space.\n",
      "9. Trading volume for both consumer and institutional users fell quarter-over-quarter for Coinbase.\n"
     ]
    }
   ],
   "source": [
    "fact_extraction_chain = LLMChain(llm=llm, prompt=fact_extraction_prompt)\n",
    "\n",
    "facts = fact_extraction_chain.run(article)\n",
    "\n",
    "print(facts)"
   ]
  },
  {
   "cell_type": "code",
   "execution_count": 24,
   "metadata": {
    "colab": {
     "base_uri": "https://localhost:8080/"
    },
    "executionInfo": {
     "elapsed": 612,
     "status": "ok",
     "timestamp": 1715349312994,
     "user": {
      "displayName": "Harsh Tomar",
      "userId": "07306423374395310283"
     },
     "user_tz": -330
    },
    "id": "rByDz-oxlA6j",
    "outputId": "6299062a-2983-4939-aab5-f630373d296b"
   },
   "outputs": [
    {
     "name": "stdout",
     "output_type": "stream",
     "text": [
      "1. Coinbase released its Q4 2022 earnings, showing $605 million in revenue.\n",
      "2. Coinbase's stock is down in after-hours trading after reporting a loss of $557 million in Q4.\n",
      "3. Wall Street expected Coinbase to report $581.2 million in revenue.\n",
      "4. Coinbase's trading volumes and transaction revenues fell due to a 64% decline in the overall crypto market capitalization.\n",
      "5. Coinbase's trading revenue fell from $365.9 million to $322.1 million in Q4.\n",
      "6. Coinbase's \"subscription and services revenue\" rose from $210.5 million to $282.8 million in Q4.\n",
      "7. Monthly active developers in crypto have more than doubled since 2020.\n",
      "8. Major brands like Starbucks, Nike, and Adidas have entered the crypto space.\n",
      "9. Trading volume for both consumer and institutional users fell quarter-over-quarter for Coinbase.\n"
     ]
    }
   ],
   "source": [
    "print(facts)"
   ]
  },
  {
   "cell_type": "markdown",
   "metadata": {
    "id": "YR2JtDm0hs03"
   },
   "source": [
    "## Rewrite as a summary from the facts"
   ]
  },
  {
   "cell_type": "code",
   "execution_count": 25,
   "metadata": {
    "executionInfo": {
     "elapsed": 6,
     "status": "ok",
     "timestamp": 1715349375372,
     "user": {
      "displayName": "Harsh Tomar",
      "userId": "07306423374395310283"
     },
     "user_tz": -330
    },
    "id": "nG--CuMJh1Gi"
   },
   "outputs": [],
   "source": [
    "investor_update_prompt = PromptTemplate(\n",
    "    input_variables=[\"facts\"],\n",
    "    template=\"You are a Goldman Sachs analyst. Take the following list of facts and use them to write a short paragrah for investors. Don't leave out key info:\\n\\n {facts}\"\n",
    ")"
   ]
  },
  {
   "cell_type": "code",
   "execution_count": 26,
   "metadata": {
    "colab": {
     "base_uri": "https://localhost:8080/"
    },
    "executionInfo": {
     "elapsed": 4273,
     "status": "ok",
     "timestamp": 1715349425558,
     "user": {
      "displayName": "Harsh Tomar",
      "userId": "07306423374395310283"
     },
     "user_tz": -330
    },
    "id": "1rJu6HOoh1Gi",
    "outputId": "a604944e-d2e4-4359-e55a-97a285c8f884"
   },
   "outputs": [
    {
     "name": "stdout",
     "output_type": "stream",
     "text": [
      "Investors, Coinbase recently released its Q4 2022 earnings, reporting $605 million in revenue, slightly below Wall Street's expectations of $581.2 million. However, the company's stock is down in after-hours trading after revealing a loss of $557 million in Q4. This decline can be attributed to a 64% drop in the overall crypto market capitalization, leading to decreased trading volumes and transaction revenues for Coinbase. Despite this, the company saw growth in its \"subscription and services revenue,\" which rose from $210.5 million to $282.8 million in Q4. It is worth noting that monthly active developers in crypto have more than doubled since 2020, and major brands like Starbucks, Nike, and Adidas have entered the crypto space. While trading volume for both consumer and institutional users fell quarter-over-quarter, Coinbase continues to adapt to the evolving crypto landscape.\n"
     ]
    },
    {
     "data": {
      "text/plain": [
       "892"
      ]
     },
     "execution_count": 26,
     "metadata": {},
     "output_type": "execute_result"
    }
   ],
   "source": [
    "investor_update_chain = LLMChain(llm=llm, prompt=investor_update_prompt)\n",
    "\n",
    "investor_update = investor_update_chain.run(facts)\n",
    "\n",
    "print(investor_update)\n",
    "len(investor_update)"
   ]
  },
  {
   "cell_type": "code",
   "execution_count": null,
   "metadata": {
    "id": "uCEfXHyFi-K8"
   },
   "outputs": [],
   "source": []
  },
  {
   "cell_type": "code",
   "execution_count": 27,
   "metadata": {
    "executionInfo": {
     "elapsed": 575,
     "status": "ok",
     "timestamp": 1715349472033,
     "user": {
      "displayName": "Harsh Tomar",
      "userId": "07306423374395310283"
     },
     "user_tz": -330
    },
    "id": "mQ2TNW1emNHu"
   },
   "outputs": [],
   "source": [
    "triples_prompt = PromptTemplate(\n",
    "    input_variables=[\"facts\"],\n",
    "    template=\"Take the following list of facts and turn them into triples for a knowledge graph:\\n\\n {facts}\"\n",
    ")"
   ]
  },
  {
   "cell_type": "code",
   "execution_count": 28,
   "metadata": {
    "colab": {
     "base_uri": "https://localhost:8080/"
    },
    "executionInfo": {
     "elapsed": 4120,
     "status": "ok",
     "timestamp": 1715349480422,
     "user": {
      "displayName": "Harsh Tomar",
      "userId": "07306423374395310283"
     },
     "user_tz": -330
    },
    "id": "ZWyFFkDomNH5",
    "outputId": "fd579f40-aab4-4aa7-86a1-be646d13a902"
   },
   "outputs": [
    {
     "name": "stdout",
     "output_type": "stream",
     "text": [
      "1. (Coinbase, hasRevenue, $605 million)\n",
      "2. (Coinbase, hasStock, down)\n",
      "3. (Coinbase, expectedRevenue, $581.2 million)\n",
      "4. (Coinbase, hasDecline, 64%)\n",
      "5. (Coinbase, tradingRevenue, $322.1 million)\n",
      "6. (Coinbase, subscriptionRevenue, $282.8 million)\n",
      "7. (Crypto, hasMonthlyActiveDevelopers, doubled)\n",
      "8. (Starbucks, enteredCryptoSpace, true)\n",
      "9. (Coinbase, tradingVolume, fell)\n"
     ]
    },
    {
     "data": {
      "text/plain": [
       "369"
      ]
     },
     "execution_count": 28,
     "metadata": {},
     "output_type": "execute_result"
    }
   ],
   "source": [
    "triples_chain = LLMChain(llm=llm, prompt=triples_prompt)\n",
    "\n",
    "triples = triples_chain.run(facts)\n",
    "\n",
    "print(triples)\n",
    "len(triples)"
   ]
  },
  {
   "cell_type": "markdown",
   "metadata": {
    "id": "-FNzbLpWnRy4"
   },
   "source": [
    "## Chaining these together"
   ]
  },
  {
   "cell_type": "markdown",
   "metadata": {
    "id": "isiLm-po0EGj"
   },
   "source": [
    "In LangChain, a **Sequential chain** is a type of chain that allows you to generate text in a sequential manner, where each prompt is generated based on the previous output. Here's a breakdown of how it works:\n",
    "\n",
    "**Key characteristics:**\n",
    "\n",
    "1. **Sequential generation**: Each prompt is generated based on the previous output.\n",
    "2. **Chain-like structure**: The output of each step becomes the input for the next step.\n",
    "3. **Iterative process**: The model generates text in a sequential manner, with each step building upon the previous one.\n",
    "\n",
    "**How it works:**\n",
    "\n",
    "1. **Initial prompt**: You provide an initial prompt or input to the model.\n",
    "2. **First response**: The model generates a response to the initial prompt.\n",
    "3. **Next prompt**: The generated response becomes the input for the next prompt.\n",
    "4. **Next response**: The model generates a response to the previous response.\n",
    "5. **Repeat**: Steps 3-4 are repeated until a stopping criterion is reached (e.g., a maximum number of steps or a specific condition).\n",
    "\n",
    "**Use cases:**\n",
    "\n",
    "1. **Storytelling**: Generate a story by providing a starting prompt and then using the generated text as the input for the next prompt.\n",
    "2. **Dialogue**: Create a conversation by generating responses to previous responses.\n",
    "3. **Summarization**: Generate a summary of a text by providing the original text as the initial prompt and then using the generated summary as the input for the next prompt.\n",
    "4. **Creative writing**: Use sequential chains to generate creative writing, such as poetry or short stories.\n",
    "\n",
    "**Benefits:**\n",
    "\n",
    "1. **Coherent text generation**: Sequential chains can generate coherent and context-dependent text.\n",
    "2. **Iterative refinement**: Each step refines the previous output, allowing for more accurate and relevant text generation.\n",
    "3. **Flexibility**: Sequential chains can be used for a wide range of applications, from storytelling to summarization.\n",
    "\n",
    "By leveraging sequential chains in LangChain, you can generate text that is more coherent, context-dependent, and engaging."
   ]
  },
  {
   "cell_type": "code",
   "execution_count": 33,
   "metadata": {
    "executionInfo": {
     "elapsed": 461,
     "status": "ok",
     "timestamp": 1715350127162,
     "user": {
      "displayName": "Harsh Tomar",
      "userId": "07306423374395310283"
     },
     "user_tz": -330
    },
    "id": "XZLtU9O-nVya"
   },
   "outputs": [],
   "source": [
    "from langchain.chains import SimpleSequentialChain, SequentialChain\n",
    "\n",
    "full_chain = SimpleSequentialChain(chains=[fact_extraction_chain, investor_update_chain], verbose=False)"
   ]
  },
  {
   "cell_type": "markdown",
   "metadata": {
    "id": "u9CHhBIN0tRV"
   },
   "source": [
    "**Verbose mode**:\n",
    "\n",
    "When you set the verbose parameter to True in LangChain, the model generates more detailed and elaborate responses. This mode is useful when you want the model to provide more context, explanations, or supporting details in its responses.\n",
    "\n",
    "**Characteristics of verbose mode**:\n",
    "\n",
    "**More detailed responses**: The model generates longer and more detailed responses that provide additional context or explanations.\n",
    "\n",
    "**Increased word count**: Verbose mode typically results in longer responses with a higher word count.\n",
    "\n",
    "**More elaborate language**: The model uses more complex sentence structures and vocabulary to provide more detailed and nuanced responses."
   ]
  },
  {
   "cell_type": "code",
   "execution_count": 34,
   "metadata": {
    "executionInfo": {
     "elapsed": 8796,
     "status": "ok",
     "timestamp": 1715350138727,
     "user": {
      "displayName": "Harsh Tomar",
      "userId": "07306423374395310283"
     },
     "user_tz": -330
    },
    "id": "fomCgIYCnsQA"
   },
   "outputs": [],
   "source": [
    "response = full_chain.run(article)"
   ]
  },
  {
   "cell_type": "code",
   "execution_count": 35,
   "metadata": {
    "colab": {
     "base_uri": "https://localhost:8080/",
     "height": 105
    },
    "executionInfo": {
     "elapsed": 37,
     "status": "ok",
     "timestamp": 1715350138727,
     "user": {
      "displayName": "Harsh Tomar",
      "userId": "07306423374395310283"
     },
     "user_tz": -330
    },
    "id": "8fGYacnpoYP7",
    "outputId": "6834b729-f04f-4f1e-ad15-ca5853cf5dbc"
   },
   "outputs": [
    {
     "data": {
      "application/vnd.google.colaboratory.intrinsic+json": {
       "type": "string"
      },
      "text/plain": [
       "\"Investors, the recent release of Coinbase's Q4 2022 earnings has brought mixed results. While the company reported a strong $605 million in revenue, it also posted a net loss of $557 million, disappointing Wall Street expectations. The stock is down in after-hours trading, despite a previous 86% year-to-date increase. Consumer and institutional trading volumes fell in Q4, reflecting the overall decline in the crypto market capitalization by $1.5 trillion in 2022. However, other revenues at Coinbase increased, and the company saw a significant rise in monthly active developers in the crypto space. Major brands like Starbucks and Nike entering the crypto market indicate potential growth opportunities. It is important to note that trading revenue at Coinbase fell in Q4 compared to Q3, highlighting the need for continued monitoring of market trends and diversification strategies.\""
      ]
     },
     "execution_count": 35,
     "metadata": {},
     "output_type": "execute_result"
    }
   ],
   "source": [
    "response"
   ]
  },
  {
   "cell_type": "markdown",
   "metadata": {
    "id": "2l3HG0YUqLlF"
   },
   "source": [
    "## PAL Math Chain\n",
    "\n",
    "#### What is PAL Chain?\n",
    "\n",
    "PAL Chain, short for Program-Aided Language Models Chain, is a feature of the LangChain library. It is designed to decompose natural language problems into executable steps, generate corresponding code, and then execute this code to yield a result. This process involves a sequence of events, starting with the `**on_chain_start**` callback and ending with either `**on_chain_end**` or `**on_chain_error**`.\n",
    "\n",
    "PAL Chain requires a base language model (LLM) and a corresponding prompt to parse a user's question written in natural language.** It is particularly useful for reading complex math problems described in natural language, generating programs for solving these problems as intermediate reasoning steps, and then offloading the solution step to a runtime such as a Python interpreter**.\n",
    "\n",
    "#### Key Features of PAL Chain\n",
    "\n",
    "One of the key features of PAL Chain is its ability to perform validations on the generated code using `**PALValidation**`. It also uses an expression, typically `**print(solution())**`, to get the answer from the generated code.\n",
    "\n",
    "PAL Chain also has a memory object that gets called at the start and end of every chain. This memory object is optional and defaults to None.\n",
    "\n",
    "#### Important Considerations\n",
    "\n",
    "While PAL Chain provides some basic guardrails such as limiting available locals/globals and inspecting the generated Python AST using `PALValidation`, these measures are not a replacement for a proper sandbox. Therefore, it is advised not to use this class on untrusted inputs, with elevated permissions, or without consulting your security team about proper sandboxing.\n",
    "\n",
    "#### Examples of PAL Chain in Use\n",
    "\n",
    "An example of PAL Chain in use can be seen in a math problem scenario. Given the problem \"Marcia has two more pets than Cindy. If Cindy has four pets, how many total pets do the three have?\", PAL Chain can be used to generate and execute the necessary code to solve this problem.\n",
    "\n",
    "#### Potential Issues\n",
    "\n",
    "There have been instances where users have encountered issues with importing PAL Chain, possibly due to recent changes in the LangChain codebase or the Palchain module. In some cases, the generated code may not be valid Python code, leading to errors when trying to run the chain."
   ]
  },
  {
   "cell_type": "code",
   "execution_count": 36,
   "metadata": {
    "executionInfo": {
     "elapsed": 662,
     "status": "ok",
     "timestamp": 1715350421238,
     "user": {
      "displayName": "Harsh Tomar",
      "userId": "07306423374395310283"
     },
     "user_tz": -330
    },
    "id": "ZF-jpK_XqPK0"
   },
   "outputs": [],
   "source": [
    "from langchain.chains import PALChain"
   ]
  },
  {
   "cell_type": "code",
   "execution_count": null,
   "metadata": {
    "id": "Ggg2goAsqX2F"
   },
   "outputs": [],
   "source": [
    "llm = OpenAI(model_name='gpt-3.5-turbo',\n",
    "             temperature=0,\n",
    "             max_tokens=512)"
   ]
  },
  {
   "cell_type": "code",
   "execution_count": 43,
   "metadata": {
    "executionInfo": {
     "elapsed": 920,
     "status": "ok",
     "timestamp": 1715350603152,
     "user": {
      "displayName": "Harsh Tomar",
      "userId": "07306423374395310283"
     },
     "user_tz": -330
    },
    "id": "d7QPImg8qX9F"
   },
   "outputs": [],
   "source": [
    "pal_chain = PALChain.from_math_prompt(llm, verbose=True)"
   ]
  },
  {
   "cell_type": "code",
   "execution_count": 44,
   "metadata": {
    "executionInfo": {
     "elapsed": 5,
     "status": "ok",
     "timestamp": 1715350604889,
     "user": {
      "displayName": "Harsh Tomar",
      "userId": "07306423374395310283"
     },
     "user_tz": -330
    },
    "id": "bqHtkj5wqYCZ"
   },
   "outputs": [],
   "source": [
    "question = \"Jan has three times the number of pets as Marcia. Marcia has two more pets than Cindy. If Cindy has four pets, how many total pets do the three have?\""
   ]
  },
  {
   "cell_type": "code",
   "execution_count": 45,
   "metadata": {
    "executionInfo": {
     "elapsed": 2,
     "status": "ok",
     "timestamp": 1715350606883,
     "user": {
      "displayName": "Harsh Tomar",
      "userId": "07306423374395310283"
     },
     "user_tz": -330
    },
    "id": "2NMqJo2zrYdf"
   },
   "outputs": [],
   "source": [
    "question_02= \"The cafeteria had 23 apples. If they used 20 for lunch and bought 6 more, how many apples do they have?\""
   ]
  },
  {
   "cell_type": "code",
   "execution_count": 47,
   "metadata": {
    "colab": {
     "base_uri": "https://localhost:8080/",
     "height": 261
    },
    "executionInfo": {
     "elapsed": 4825,
     "status": "ok",
     "timestamp": 1715351051351,
     "user": {
      "displayName": "Harsh Tomar",
      "userId": "07306423374395310283"
     },
     "user_tz": -330
    },
    "id": "ZOlbkO5Kqv4k",
    "outputId": "ce9f2a07-74fa-41b2-ed46-589662b1b711"
   },
   "outputs": [
    {
     "name": "stdout",
     "output_type": "stream",
     "text": [
      "\n",
      "\n",
      "\u001b[1m> Entering new  chain...\u001b[0m\n",
      "\u001b[32;1m\u001b[1;3mdef solution():\n",
      "    \"\"\"Jan has three times the number of pets as Marcia. Marcia has two more pets than Cindy. If Cindy has four pets, how many total pets do the three have?\"\"\"\n",
      "    cindy_pets = 4\n",
      "    marcia_pets = cindy_pets + 2\n",
      "    jan_pets = 3 * marcia_pets\n",
      "    total_pets = cindy_pets + marcia_pets + jan_pets\n",
      "    result = total_pets\n",
      "    return result\u001b[0m\n",
      "\n",
      "\u001b[1m> Finished chain.\u001b[0m\n"
     ]
    },
    {
     "data": {
      "application/vnd.google.colaboratory.intrinsic+json": {
       "type": "string"
      },
      "text/plain": [
       "'28'"
      ]
     },
     "execution_count": 47,
     "metadata": {},
     "output_type": "execute_result"
    }
   ],
   "source": [
    "pal_chain.run(question)"
   ]
  },
  {
   "cell_type": "markdown",
   "metadata": {
    "id": "xidOhWp7rk_5"
   },
   "source": [
    "## API Chains - OpenMeteo - Weather information\n",
    "\n",
    "can throw errors based on API return length\n",
    "\n",
    "\n",
    "#### What is OpenMeteo?\n",
    "\n",
    "**OpenMeteo is a free, open-source platform that provides a weather forecast API** for non-commercial use. **It allows users to retrieve weather data for various applications. OpenMeteo is particularly useful for developers, as it provides a simple and user-friendly way to consume weather data in Python applications via a client Python wrapper library known as openmeteopy**.\n",
    "\n",
    "#### Key Features of OpenMeteo\n",
    "\n",
    "One of the key features of OpenMeteo is its ability to provide weather forecasts for multiple locations at once, up to 1000 locations in a single go. This makes it a powerful tool for applications that require large-scale weather data.\n",
    "\n",
    "OpenMeteo also maintains a blog where they share the latest developments around weather forecasts. This blog is hosted on Substack, a platform for independent writing, and has hundreds of readers.\n",
    "\n",
    "#### OpenMeteo on AWS\n",
    "\n",
    "OpenMeteo also has a presence on AWS Open Data, where users can contribute to the development of Open-Meteo's open data. This suggests that OpenMeteo is not just a platform for consuming weather data, but also a community-driven project where users can contribute to the improvement and expansion of the available data.\n",
    "\n",
    "#### OpenMeteo's Python Library: openmeteopy\n",
    "\n",
    "For Python developers, OpenMeteo provides a client Python wrapper library called openmeteopy. This library allows for quick and easy consumption of Open-Meteo data from Python applications. It provides a simple object model and is designed to be user-friendly, making it a valuable tool for developers working with weather data in Python.\n",
    "\n",
    "#### Conclusion\n",
    "\n",
    "In summary, OpenMeteo is a valuable resource for anyone needing to access weather data, especially for non-commercial use. Its open-source nature, coupled with its user-friendly Python library and ability to provide data for multiple locations at once, make it a versatile tool for developers and data enthusiasts alike."
   ]
  },
  {
   "cell_type": "code",
   "execution_count": 56,
   "metadata": {
    "executionInfo": {
     "elapsed": 6,
     "status": "ok",
     "timestamp": 1715351937651,
     "user": {
      "displayName": "Harsh Tomar",
      "userId": "07306423374395310283"
     },
     "user_tz": -330
    },
    "id": "8p96niVlRPh8"
   },
   "outputs": [],
   "source": [
    "from langchain import OpenAI\n",
    "from langchain.chains.api.prompt import API_RESPONSE_PROMPT\n",
    "\n",
    "from langchain.chains import APIChain\n",
    "from langchain.prompts.prompt import PromptTemplate\n"
   ]
  },
  {
   "cell_type": "code",
   "execution_count": 55,
   "metadata": {
    "colab": {
     "base_uri": "https://localhost:8080/"
    },
    "executionInfo": {
     "elapsed": 603,
     "status": "ok",
     "timestamp": 1715351935255,
     "user": {
      "displayName": "Harsh Tomar",
      "userId": "07306423374395310283"
     },
     "user_tz": -330
    },
    "id": "BsPzhnj_RUPy",
    "outputId": "e204f9dc-08e3-44ce-81c1-3af13e0b580f"
   },
   "outputs": [
    {
     "name": "stderr",
     "output_type": "stream",
     "text": [
      "/usr/local/lib/python3.10/dist-packages/langchain/llms/openai.py:179: UserWarning: You are trying to use a chat model. This way of initializing it is no longer supported. Instead, please use: `from langchain.chat_models import ChatOpenAI`\n",
      "  warnings.warn(\n",
      "/usr/local/lib/python3.10/dist-packages/langchain/llms/openai.py:753: UserWarning: You are trying to use a chat model. This way of initializing it is no longer supported. Instead, please use: `from langchain.chat_models import ChatOpenAI`\n",
      "  warnings.warn(\n"
     ]
    }
   ],
   "source": [
    "llm = OpenAI(model_name=\"gpt-3.5-turbo\",temperature=0,\n",
    "             max_tokens=100)"
   ]
  },
  {
   "cell_type": "code",
   "execution_count": 57,
   "metadata": {
    "executionInfo": {
     "elapsed": 490,
     "status": "ok",
     "timestamp": 1715351940434,
     "user": {
      "displayName": "Harsh Tomar",
      "userId": "07306423374395310283"
     },
     "user_tz": -330
    },
    "id": "THJPYYB_cD8U"
   },
   "outputs": [],
   "source": [
    "from langchain.chains.api import open_meteo_docs\n",
    "chain_new = APIChain.from_llm_and_api_docs(llm,\n",
    "                                           open_meteo_docs.OPEN_METEO_DOCS,\n",
    "                                           verbose=True)"
   ]
  },
  {
   "cell_type": "code",
   "execution_count": 60,
   "metadata": {
    "colab": {
     "base_uri": "https://localhost:8080/",
     "height": 177
    },
    "executionInfo": {
     "elapsed": 4621,
     "status": "ok",
     "timestamp": 1715352049751,
     "user": {
      "displayName": "Harsh Tomar",
      "userId": "07306423374395310283"
     },
     "user_tz": -330
    },
    "id": "mkfkkjpzcKym",
    "outputId": "c43981e7-da6a-4af7-e572-a69e0d3a2f78"
   },
   "outputs": [
    {
     "name": "stdout",
     "output_type": "stream",
     "text": [
      "\n",
      "\n",
      "\u001b[1m> Entering new  chain...\u001b[0m\n",
      "\u001b[32;1m\u001b[1;3mhttps://api.open-meteo.com/v1/forecast?latitude=8.460555&longitude=-11.779889&hourly=temperature_2m&current_weather=true&temperature_unit=celsius&timezone=Africa/Freetown\u001b[0m\n",
      "\u001b[33;1m\u001b[1;3m{\"latitude\":8.5,\"longitude\":-11.75,\"generationtime_ms\":0.0629425048828125,\"utc_offset_seconds\":0,\"timezone\":\"Africa/Freetown\",\"timezone_abbreviation\":\"GMT\",\"elevation\":170.0,\"current_weather_units\":{\"time\":\"iso8601\",\"interval\":\"seconds\",\"temperature\":\"°C\",\"windspeed\":\"km/h\",\"winddirection\":\"°\",\"is_day\":\"\",\"weathercode\":\"wmo code\"},\"current_weather\":{\"time\":\"2024-05-10T14:30\",\"interval\":900,\"temperature\":32.3,\"windspeed\":7.1,\"winddirection\":221,\"is_day\":1,\"weathercode\":2},\"hourly_units\":{\"time\":\"iso8601\",\"temperature_2m\":\"°C\"},\"hourly\":{\"time\":[\"2024-05-10T00:00\",\"2024-05-10T01:00\",\"2024-05-10T02:00\",\"2024-05-10T03:00\",\"2024-05-10T04:00\",\"2024-05-10T05:00\",\"2024-05-10T06:00\",\"2024-05-10T07:00\",\"2024-05-10T08:00\",\"2024-05-10T09:00\",\"2024-05-10T10:00\",\"2024-05-10T11:00\",\"2024-05-10T12:00\",\"2024-05-10T13:00\",\"2024-05-10T14:00\",\"2024-05-10T15:00\",\"2024-05-10T16:00\",\"2024-05-10T17:00\",\"2024-05-10T18:00\",\"2024-05-10T19:00\",\"2024-05-10T20:00\",\"2024-05-10T21:00\",\"2024-05-10T22:00\",\"2024-05-10T23:00\",\"2024-05-11T00:00\",\"2024-05-11T01:00\",\"2024-05-11T02:00\",\"2024-05-11T03:00\",\"2024-05-11T04:00\",\"2024-05-11T05:00\",\"2024-05-11T06:00\",\"2024-05-11T07:00\",\"2024-05-11T08:00\",\"2024-05-11T09:00\",\"2024-05-11T10:00\",\"2024-05-11T11:00\",\"2024-05-11T12:00\",\"2024-05-11T13:00\",\"2024-05-11T14:00\",\"2024-05-11T15:00\",\"2024-05-11T16:00\",\"2024-05-11T17:00\",\"2024-05-11T18:00\",\"2024-05-11T19:00\",\"2024-05-11T20:00\",\"2024-05-11T21:00\",\"2024-05-11T22:00\",\"2024-05-11T23:00\",\"2024-05-12T00:00\",\"2024-05-12T01:00\",\"2024-05-12T02:00\",\"2024-05-12T03:00\",\"2024-05-12T04:00\",\"2024-05-12T05:00\",\"2024-05-12T06:00\",\"2024-05-12T07:00\",\"2024-05-12T08:00\",\"2024-05-12T09:00\",\"2024-05-12T10:00\",\"2024-05-12T11:00\",\"2024-05-12T12:00\",\"2024-05-12T13:00\",\"2024-05-12T14:00\",\"2024-05-12T15:00\",\"2024-05-12T16:00\",\"2024-05-12T17:00\",\"2024-05-12T18:00\",\"2024-05-12T19:00\",\"2024-05-12T20:00\",\"2024-05-12T21:00\",\"2024-05-12T22:00\",\"2024-05-12T23:00\",\"2024-05-13T00:00\",\"2024-05-13T01:00\",\"2024-05-13T02:00\",\"2024-05-13T03:00\",\"2024-05-13T04:00\",\"2024-05-13T05:00\",\"2024-05-13T06:00\",\"2024-05-13T07:00\",\"2024-05-13T08:00\",\"2024-05-13T09:00\",\"2024-05-13T10:00\",\"2024-05-13T11:00\",\"2024-05-13T12:00\",\"2024-05-13T13:00\",\"2024-05-13T14:00\",\"2024-05-13T15:00\",\"2024-05-13T16:00\",\"2024-05-13T17:00\",\"2024-05-13T18:00\",\"2024-05-13T19:00\",\"2024-05-13T20:00\",\"2024-05-13T21:00\",\"2024-05-13T22:00\",\"2024-05-13T23:00\",\"2024-05-14T00:00\",\"2024-05-14T01:00\",\"2024-05-14T02:00\",\"2024-05-14T03:00\",\"2024-05-14T04:00\",\"2024-05-14T05:00\",\"2024-05-14T06:00\",\"2024-05-14T07:00\",\"2024-05-14T08:00\",\"2024-05-14T09:00\",\"2024-05-14T10:00\",\"2024-05-14T11:00\",\"2024-05-14T12:00\",\"2024-05-14T13:00\",\"2024-05-14T14:00\",\"2024-05-14T15:00\",\"2024-05-14T16:00\",\"2024-05-14T17:00\",\"2024-05-14T18:00\",\"2024-05-14T19:00\",\"2024-05-14T20:00\",\"2024-05-14T21:00\",\"2024-05-14T22:00\",\"2024-05-14T23:00\",\"2024-05-15T00:00\",\"2024-05-15T01:00\",\"2024-05-15T02:00\",\"2024-05-15T03:00\",\"2024-05-15T04:00\",\"2024-05-15T05:00\",\"2024-05-15T06:00\",\"2024-05-15T07:00\",\"2024-05-15T08:00\",\"2024-05-15T09:00\",\"2024-05-15T10:00\",\"2024-05-15T11:00\",\"2024-05-15T12:00\",\"2024-05-15T13:00\",\"2024-05-15T14:00\",\"2024-05-15T15:00\",\"2024-05-15T16:00\",\"2024-05-15T17:00\",\"2024-05-15T18:00\",\"2024-05-15T19:00\",\"2024-05-15T20:00\",\"2024-05-15T21:00\",\"2024-05-15T22:00\",\"2024-05-15T23:00\",\"2024-05-16T00:00\",\"2024-05-16T01:00\",\"2024-05-16T02:00\",\"2024-05-16T03:00\",\"2024-05-16T04:00\",\"2024-05-16T05:00\",\"2024-05-16T06:00\",\"2024-05-16T07:00\",\"2024-05-16T08:00\",\"2024-05-16T09:00\",\"2024-05-16T10:00\",\"2024-05-16T11:00\",\"2024-05-16T12:00\",\"2024-05-16T13:00\",\"2024-05-16T14:00\",\"2024-05-16T15:00\",\"2024-05-16T16:00\",\"2024-05-16T17:00\",\"2024-05-16T18:00\",\"2024-05-16T19:00\",\"2024-05-16T20:00\",\"2024-05-16T21:00\",\"2024-05-16T22:00\",\"2024-05-16T23:00\"],\"temperature_2m\":[26.5,26.3,26.1,25.8,25.7,25.6,25.3,25.4,26.2,27.4,28.4,29.5,30.2,31.4,32.1,32.6,32.4,32.0,31.0,29.9,28.9,27.7,27.4,27.1,27.0,26.7,26.5,26.4,26.2,26.1,26.1,26.1,26.8,27.7,28.7,29.8,31.0,32.1,32.9,33.3,33.5,32.8,30.6,28.6,27.7,27.2,26.9,26.8,26.7,26.6,26.3,26.1,26.1,26.0,26.0,26.0,26.9,27.9,28.7,29.7,30.8,31.8,32.3,32.4,32.5,29.1,28.1,27.7,27.4,27.0,26.8,26.7,26.6,26.4,26.3,26.2,26.1,26.0,26.0,26.0,26.9,27.9,29.2,30.4,31.6,32.1,32.1,31.8,31.1,30.0,29.0,28.3,27.8,27.3,27.1,27.0,26.9,26.6,26.4,26.2,25.9,25.7,25.8,26.3,27.1,28.0,28.9,29.9,30.6,31.1,31.3,31.2,30.4,29.2,28.2,27.6,27.1,26.8,26.5,26.4,26.3,26.1,25.9,25.8,25.7,25.7,25.7,26.1,26.9,27.8,28.8,30.0,31.0,31.8,32.4,32.4,31.4,29.8,28.4,27.7,27.2,26.9,26.7,26.6,26.6,26.5,26.4,26.3,26.0,25.7,25.7,26.2,27.0,27.9,29.0,30.3,31.3,31.9,32.3,32.5,32.5,32.3,31.8,30.7,29.2,28.1,27.4,27.0]}}\u001b[0m\n",
      "\n",
      "\u001b[1m> Finished chain.\u001b[0m\n"
     ]
    },
    {
     "data": {
      "application/vnd.google.colaboratory.intrinsic+json": {
       "type": "string"
      },
      "text/plain": [
       "'The current temperature in Sierra Leone, Africa is 32.3 degrees Celsius.'"
      ]
     },
     "execution_count": 60,
     "metadata": {},
     "output_type": "execute_result"
    }
   ],
   "source": [
    "chain_new.run('What is the temperature like right now in Sierra Leone, Africa in degrees Celcius?')"
   ]
  },
  {
   "cell_type": "code",
   "execution_count": 61,
   "metadata": {
    "colab": {
     "base_uri": "https://localhost:8080/",
     "height": 177
    },
    "executionInfo": {
     "elapsed": 3816,
     "status": "ok",
     "timestamp": 1715352101273,
     "user": {
      "displayName": "Harsh Tomar",
      "userId": "07306423374395310283"
     },
     "user_tz": -330
    },
    "id": "0qziCnvURUkI",
    "outputId": "224f0540-e44e-459e-c01d-6361c28c228e"
   },
   "outputs": [
    {
     "name": "stdout",
     "output_type": "stream",
     "text": [
      "\n",
      "\n",
      "\u001b[1m> Entering new  chain...\u001b[0m\n",
      "\u001b[32;1m\u001b[1;3mhttps://api.open-meteo.com/v1/forecast?latitude=1.3521&longitude=103.8198&hourly=rain&current_weather=true\u001b[0m\n",
      "\u001b[33;1m\u001b[1;3m{\"latitude\":1.375,\"longitude\":103.875,\"generationtime_ms\":0.08094310760498047,\"utc_offset_seconds\":0,\"timezone\":\"GMT\",\"timezone_abbreviation\":\"GMT\",\"elevation\":46.0,\"current_weather_units\":{\"time\":\"iso8601\",\"interval\":\"seconds\",\"temperature\":\"°C\",\"windspeed\":\"km/h\",\"winddirection\":\"°\",\"is_day\":\"\",\"weathercode\":\"wmo code\"},\"current_weather\":{\"time\":\"2024-05-10T14:30\",\"interval\":900,\"temperature\":27.9,\"windspeed\":2.2,\"winddirection\":171,\"is_day\":0,\"weathercode\":3},\"hourly_units\":{\"time\":\"iso8601\",\"rain\":\"mm\"},\"hourly\":{\"time\":[\"2024-05-10T00:00\",\"2024-05-10T01:00\",\"2024-05-10T02:00\",\"2024-05-10T03:00\",\"2024-05-10T04:00\",\"2024-05-10T05:00\",\"2024-05-10T06:00\",\"2024-05-10T07:00\",\"2024-05-10T08:00\",\"2024-05-10T09:00\",\"2024-05-10T10:00\",\"2024-05-10T11:00\",\"2024-05-10T12:00\",\"2024-05-10T13:00\",\"2024-05-10T14:00\",\"2024-05-10T15:00\",\"2024-05-10T16:00\",\"2024-05-10T17:00\",\"2024-05-10T18:00\",\"2024-05-10T19:00\",\"2024-05-10T20:00\",\"2024-05-10T21:00\",\"2024-05-10T22:00\",\"2024-05-10T23:00\",\"2024-05-11T00:00\",\"2024-05-11T01:00\",\"2024-05-11T02:00\",\"2024-05-11T03:00\",\"2024-05-11T04:00\",\"2024-05-11T05:00\",\"2024-05-11T06:00\",\"2024-05-11T07:00\",\"2024-05-11T08:00\",\"2024-05-11T09:00\",\"2024-05-11T10:00\",\"2024-05-11T11:00\",\"2024-05-11T12:00\",\"2024-05-11T13:00\",\"2024-05-11T14:00\",\"2024-05-11T15:00\",\"2024-05-11T16:00\",\"2024-05-11T17:00\",\"2024-05-11T18:00\",\"2024-05-11T19:00\",\"2024-05-11T20:00\",\"2024-05-11T21:00\",\"2024-05-11T22:00\",\"2024-05-11T23:00\",\"2024-05-12T00:00\",\"2024-05-12T01:00\",\"2024-05-12T02:00\",\"2024-05-12T03:00\",\"2024-05-12T04:00\",\"2024-05-12T05:00\",\"2024-05-12T06:00\",\"2024-05-12T07:00\",\"2024-05-12T08:00\",\"2024-05-12T09:00\",\"2024-05-12T10:00\",\"2024-05-12T11:00\",\"2024-05-12T12:00\",\"2024-05-12T13:00\",\"2024-05-12T14:00\",\"2024-05-12T15:00\",\"2024-05-12T16:00\",\"2024-05-12T17:00\",\"2024-05-12T18:00\",\"2024-05-12T19:00\",\"2024-05-12T20:00\",\"2024-05-12T21:00\",\"2024-05-12T22:00\",\"2024-05-12T23:00\",\"2024-05-13T00:00\",\"2024-05-13T01:00\",\"2024-05-13T02:00\",\"2024-05-13T03:00\",\"2024-05-13T04:00\",\"2024-05-13T05:00\",\"2024-05-13T06:00\",\"2024-05-13T07:00\",\"2024-05-13T08:00\",\"2024-05-13T09:00\",\"2024-05-13T10:00\",\"2024-05-13T11:00\",\"2024-05-13T12:00\",\"2024-05-13T13:00\",\"2024-05-13T14:00\",\"2024-05-13T15:00\",\"2024-05-13T16:00\",\"2024-05-13T17:00\",\"2024-05-13T18:00\",\"2024-05-13T19:00\",\"2024-05-13T20:00\",\"2024-05-13T21:00\",\"2024-05-13T22:00\",\"2024-05-13T23:00\",\"2024-05-14T00:00\",\"2024-05-14T01:00\",\"2024-05-14T02:00\",\"2024-05-14T03:00\",\"2024-05-14T04:00\",\"2024-05-14T05:00\",\"2024-05-14T06:00\",\"2024-05-14T07:00\",\"2024-05-14T08:00\",\"2024-05-14T09:00\",\"2024-05-14T10:00\",\"2024-05-14T11:00\",\"2024-05-14T12:00\",\"2024-05-14T13:00\",\"2024-05-14T14:00\",\"2024-05-14T15:00\",\"2024-05-14T16:00\",\"2024-05-14T17:00\",\"2024-05-14T18:00\",\"2024-05-14T19:00\",\"2024-05-14T20:00\",\"2024-05-14T21:00\",\"2024-05-14T22:00\",\"2024-05-14T23:00\",\"2024-05-15T00:00\",\"2024-05-15T01:00\",\"2024-05-15T02:00\",\"2024-05-15T03:00\",\"2024-05-15T04:00\",\"2024-05-15T05:00\",\"2024-05-15T06:00\",\"2024-05-15T07:00\",\"2024-05-15T08:00\",\"2024-05-15T09:00\",\"2024-05-15T10:00\",\"2024-05-15T11:00\",\"2024-05-15T12:00\",\"2024-05-15T13:00\",\"2024-05-15T14:00\",\"2024-05-15T15:00\",\"2024-05-15T16:00\",\"2024-05-15T17:00\",\"2024-05-15T18:00\",\"2024-05-15T19:00\",\"2024-05-15T20:00\",\"2024-05-15T21:00\",\"2024-05-15T22:00\",\"2024-05-15T23:00\",\"2024-05-16T00:00\",\"2024-05-16T01:00\",\"2024-05-16T02:00\",\"2024-05-16T03:00\",\"2024-05-16T04:00\",\"2024-05-16T05:00\",\"2024-05-16T06:00\",\"2024-05-16T07:00\",\"2024-05-16T08:00\",\"2024-05-16T09:00\",\"2024-05-16T10:00\",\"2024-05-16T11:00\",\"2024-05-16T12:00\",\"2024-05-16T13:00\",\"2024-05-16T14:00\",\"2024-05-16T15:00\",\"2024-05-16T16:00\",\"2024-05-16T17:00\",\"2024-05-16T18:00\",\"2024-05-16T19:00\",\"2024-05-16T20:00\",\"2024-05-16T21:00\",\"2024-05-16T22:00\",\"2024-05-16T23:00\"],\"rain\":[0.00,0.00,0.00,0.00,0.00,0.00,0.00,0.00,0.00,0.00,0.00,0.00,0.00,0.00,0.00,0.00,0.00,0.00,0.00,0.00,0.00,0.00,0.00,0.00,0.00,0.00,0.00,0.00,0.00,0.00,0.00,0.00,0.00,0.00,0.00,0.00,0.00,0.00,0.00,0.00,0.00,0.00,0.00,0.00,0.00,0.00,0.00,0.00,0.00,0.00,0.00,0.00,0.00,0.00,0.00,0.00,0.00,0.00,0.00,0.00,0.00,0.00,0.00,0.00,0.00,0.00,0.00,0.00,0.00,0.00,0.00,0.00,0.00,0.00,0.00,0.00,0.00,0.00,0.00,0.00,0.00,0.00,0.00,0.00,0.00,0.00,0.00,0.00,0.00,0.00,0.00,0.00,0.00,0.00,0.00,0.00,0.00,0.00,0.00,0.00,0.00,0.00,0.00,0.00,0.00,0.00,0.00,0.00,0.00,0.00,0.00,0.00,0.00,0.00,0.00,0.00,0.00,0.00,0.00,0.00,0.00,0.00,0.00,0.00,0.00,0.00,0.00,0.00,0.00,0.00,0.00,0.00,0.00,0.00,0.00,0.00,0.00,0.00,0.00,0.00,0.00,0.00,0.00,0.00,0.00,0.00,0.00,0.00,0.00,0.00,0.00,0.00,0.00,0.00,0.00,0.00,0.00,0.00,0.00,0.00,0.00,0.00,0.00,0.00,0.00,0.00,0.00,0.00]}}\u001b[0m\n",
      "\n",
      "\u001b[1m> Finished chain.\u001b[0m\n"
     ]
    },
    {
     "data": {
      "application/vnd.google.colaboratory.intrinsic+json": {
       "type": "string"
      },
      "text/plain": [
       "'Based on the API response, it is not currently raining in Singapore. The hourly rain values for the next 7 days are all 0.00 mm, indicating no precipitation is expected.'"
      ]
     },
     "execution_count": 61,
     "metadata": {},
     "output_type": "execute_result"
    }
   ],
   "source": [
    "chain_new.run('Is it raining in Singapore?')"
   ]
  },
  {
   "cell_type": "code",
   "execution_count": null,
   "metadata": {
    "id": "LcZKznlUTyJH"
   },
   "outputs": [],
   "source": [
    "# chain_new."
   ]
  },
  {
   "cell_type": "code",
   "execution_count": null,
   "metadata": {
    "id": "zN6kl7u7eK1l"
   },
   "outputs": [],
   "source": []
  }
 ],
 "metadata": {
  "colab": {
   "provenance": [
    {
     "file_id": "1zTTPYk51WvPV8GqFRO18kDe60clKW8VV",
     "timestamp": 1715345420778
    },
    {
     "file_id": "1rBQZoXzIgIYEd--f6jEC0kaNL9ndOv5Q",
     "timestamp": 1677136275226
    },
    {
     "file_id": "1ACsB89KcXbLSrg7dHZGjXlSbxwZ6VZU5",
     "timestamp": 1676847075112
    }
   ]
  },
  "kernelspec": {
   "display_name": "Python 3",
   "name": "python3"
  },
  "language_info": {
   "name": "python"
  }
 },
 "nbformat": 4,
 "nbformat_minor": 0
}
