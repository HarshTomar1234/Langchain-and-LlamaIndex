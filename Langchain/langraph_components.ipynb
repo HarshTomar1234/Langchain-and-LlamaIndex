{
  "nbformat": 4,
  "nbformat_minor": 0,
  "metadata": {
    "colab": {
      "provenance": []
    },
    "kernelspec": {
      "name": "python3",
      "display_name": "Python 3"
    },
    "language_info": {
      "name": "python"
    }
  },
  "cells": [
    {
      "cell_type": "code",
      "source": [
        "!pip install langchain_community langchain_openai"
      ],
      "metadata": {
        "colab": {
          "base_uri": "https://localhost:8080/"
        },
        "id": "-c1b5pzLDURa",
        "outputId": "31a4df40-b966-431f-ae7a-957e7291a21f"
      },
      "execution_count": 1,
      "outputs": [
        {
          "output_type": "stream",
          "name": "stdout",
          "text": [
            "Collecting langchain_community\n",
            "  Downloading langchain_community-0.3.18-py3-none-any.whl.metadata (2.4 kB)\n",
            "Collecting langchain_openai\n",
            "  Downloading langchain_openai-0.3.7-py3-none-any.whl.metadata (2.3 kB)\n",
            "Requirement already satisfied: langchain-core<1.0.0,>=0.3.37 in /usr/local/lib/python3.11/dist-packages (from langchain_community) (0.3.40)\n",
            "Requirement already satisfied: langchain<1.0.0,>=0.3.19 in /usr/local/lib/python3.11/dist-packages (from langchain_community) (0.3.19)\n",
            "Requirement already satisfied: SQLAlchemy<3,>=1.4 in /usr/local/lib/python3.11/dist-packages (from langchain_community) (2.0.38)\n",
            "Requirement already satisfied: requests<3,>=2 in /usr/local/lib/python3.11/dist-packages (from langchain_community) (2.32.3)\n",
            "Requirement already satisfied: PyYAML>=5.3 in /usr/local/lib/python3.11/dist-packages (from langchain_community) (6.0.2)\n",
            "Requirement already satisfied: aiohttp<4.0.0,>=3.8.3 in /usr/local/lib/python3.11/dist-packages (from langchain_community) (3.11.13)\n",
            "Requirement already satisfied: tenacity!=8.4.0,<10,>=8.1.0 in /usr/local/lib/python3.11/dist-packages (from langchain_community) (9.0.0)\n",
            "Collecting dataclasses-json<0.7,>=0.5.7 (from langchain_community)\n",
            "  Downloading dataclasses_json-0.6.7-py3-none-any.whl.metadata (25 kB)\n",
            "Collecting pydantic-settings<3.0.0,>=2.4.0 (from langchain_community)\n",
            "  Downloading pydantic_settings-2.8.1-py3-none-any.whl.metadata (3.5 kB)\n",
            "Requirement already satisfied: langsmith<0.4,>=0.1.125 in /usr/local/lib/python3.11/dist-packages (from langchain_community) (0.3.11)\n",
            "Collecting httpx-sse<1.0.0,>=0.4.0 (from langchain_community)\n",
            "  Downloading httpx_sse-0.4.0-py3-none-any.whl.metadata (9.0 kB)\n",
            "Requirement already satisfied: numpy<2,>=1.26.4 in /usr/local/lib/python3.11/dist-packages (from langchain_community) (1.26.4)\n",
            "Requirement already satisfied: openai<2.0.0,>=1.58.1 in /usr/local/lib/python3.11/dist-packages (from langchain_openai) (1.61.1)\n",
            "Collecting tiktoken<1,>=0.7 (from langchain_openai)\n",
            "  Downloading tiktoken-0.9.0-cp311-cp311-manylinux_2_17_x86_64.manylinux2014_x86_64.whl.metadata (6.7 kB)\n",
            "Requirement already satisfied: aiohappyeyeballs>=2.3.0 in /usr/local/lib/python3.11/dist-packages (from aiohttp<4.0.0,>=3.8.3->langchain_community) (2.4.6)\n",
            "Requirement already satisfied: aiosignal>=1.1.2 in /usr/local/lib/python3.11/dist-packages (from aiohttp<4.0.0,>=3.8.3->langchain_community) (1.3.2)\n",
            "Requirement already satisfied: attrs>=17.3.0 in /usr/local/lib/python3.11/dist-packages (from aiohttp<4.0.0,>=3.8.3->langchain_community) (25.1.0)\n",
            "Requirement already satisfied: frozenlist>=1.1.1 in /usr/local/lib/python3.11/dist-packages (from aiohttp<4.0.0,>=3.8.3->langchain_community) (1.5.0)\n",
            "Requirement already satisfied: multidict<7.0,>=4.5 in /usr/local/lib/python3.11/dist-packages (from aiohttp<4.0.0,>=3.8.3->langchain_community) (6.1.0)\n",
            "Requirement already satisfied: propcache>=0.2.0 in /usr/local/lib/python3.11/dist-packages (from aiohttp<4.0.0,>=3.8.3->langchain_community) (0.3.0)\n",
            "Requirement already satisfied: yarl<2.0,>=1.17.0 in /usr/local/lib/python3.11/dist-packages (from aiohttp<4.0.0,>=3.8.3->langchain_community) (1.18.3)\n",
            "Collecting marshmallow<4.0.0,>=3.18.0 (from dataclasses-json<0.7,>=0.5.7->langchain_community)\n",
            "  Downloading marshmallow-3.26.1-py3-none-any.whl.metadata (7.3 kB)\n",
            "Collecting typing-inspect<1,>=0.4.0 (from dataclasses-json<0.7,>=0.5.7->langchain_community)\n",
            "  Downloading typing_inspect-0.9.0-py3-none-any.whl.metadata (1.5 kB)\n",
            "Requirement already satisfied: langchain-text-splitters<1.0.0,>=0.3.6 in /usr/local/lib/python3.11/dist-packages (from langchain<1.0.0,>=0.3.19->langchain_community) (0.3.6)\n",
            "Requirement already satisfied: pydantic<3.0.0,>=2.7.4 in /usr/local/lib/python3.11/dist-packages (from langchain<1.0.0,>=0.3.19->langchain_community) (2.10.6)\n",
            "Requirement already satisfied: jsonpatch<2.0,>=1.33 in /usr/local/lib/python3.11/dist-packages (from langchain-core<1.0.0,>=0.3.37->langchain_community) (1.33)\n",
            "Requirement already satisfied: packaging<25,>=23.2 in /usr/local/lib/python3.11/dist-packages (from langchain-core<1.0.0,>=0.3.37->langchain_community) (24.2)\n",
            "Requirement already satisfied: typing-extensions>=4.7 in /usr/local/lib/python3.11/dist-packages (from langchain-core<1.0.0,>=0.3.37->langchain_community) (4.12.2)\n",
            "Requirement already satisfied: httpx<1,>=0.23.0 in /usr/local/lib/python3.11/dist-packages (from langsmith<0.4,>=0.1.125->langchain_community) (0.28.1)\n",
            "Requirement already satisfied: orjson<4.0.0,>=3.9.14 in /usr/local/lib/python3.11/dist-packages (from langsmith<0.4,>=0.1.125->langchain_community) (3.10.15)\n",
            "Requirement already satisfied: requests-toolbelt<2.0.0,>=1.0.0 in /usr/local/lib/python3.11/dist-packages (from langsmith<0.4,>=0.1.125->langchain_community) (1.0.0)\n",
            "Requirement already satisfied: zstandard<0.24.0,>=0.23.0 in /usr/local/lib/python3.11/dist-packages (from langsmith<0.4,>=0.1.125->langchain_community) (0.23.0)\n",
            "Requirement already satisfied: anyio<5,>=3.5.0 in /usr/local/lib/python3.11/dist-packages (from openai<2.0.0,>=1.58.1->langchain_openai) (3.7.1)\n",
            "Requirement already satisfied: distro<2,>=1.7.0 in /usr/local/lib/python3.11/dist-packages (from openai<2.0.0,>=1.58.1->langchain_openai) (1.9.0)\n",
            "Requirement already satisfied: jiter<1,>=0.4.0 in /usr/local/lib/python3.11/dist-packages (from openai<2.0.0,>=1.58.1->langchain_openai) (0.8.2)\n",
            "Requirement already satisfied: sniffio in /usr/local/lib/python3.11/dist-packages (from openai<2.0.0,>=1.58.1->langchain_openai) (1.3.1)\n",
            "Requirement already satisfied: tqdm>4 in /usr/local/lib/python3.11/dist-packages (from openai<2.0.0,>=1.58.1->langchain_openai) (4.67.1)\n",
            "Collecting python-dotenv>=0.21.0 (from pydantic-settings<3.0.0,>=2.4.0->langchain_community)\n",
            "  Downloading python_dotenv-1.0.1-py3-none-any.whl.metadata (23 kB)\n",
            "Requirement already satisfied: charset-normalizer<4,>=2 in /usr/local/lib/python3.11/dist-packages (from requests<3,>=2->langchain_community) (3.4.1)\n",
            "Requirement already satisfied: idna<4,>=2.5 in /usr/local/lib/python3.11/dist-packages (from requests<3,>=2->langchain_community) (3.10)\n",
            "Requirement already satisfied: urllib3<3,>=1.21.1 in /usr/local/lib/python3.11/dist-packages (from requests<3,>=2->langchain_community) (2.3.0)\n",
            "Requirement already satisfied: certifi>=2017.4.17 in /usr/local/lib/python3.11/dist-packages (from requests<3,>=2->langchain_community) (2025.1.31)\n",
            "Requirement already satisfied: greenlet!=0.4.17 in /usr/local/lib/python3.11/dist-packages (from SQLAlchemy<3,>=1.4->langchain_community) (3.1.1)\n",
            "Requirement already satisfied: regex>=2022.1.18 in /usr/local/lib/python3.11/dist-packages (from tiktoken<1,>=0.7->langchain_openai) (2024.11.6)\n",
            "Requirement already satisfied: httpcore==1.* in /usr/local/lib/python3.11/dist-packages (from httpx<1,>=0.23.0->langsmith<0.4,>=0.1.125->langchain_community) (1.0.7)\n",
            "Requirement already satisfied: h11<0.15,>=0.13 in /usr/local/lib/python3.11/dist-packages (from httpcore==1.*->httpx<1,>=0.23.0->langsmith<0.4,>=0.1.125->langchain_community) (0.14.0)\n",
            "Requirement already satisfied: jsonpointer>=1.9 in /usr/local/lib/python3.11/dist-packages (from jsonpatch<2.0,>=1.33->langchain-core<1.0.0,>=0.3.37->langchain_community) (3.0.0)\n",
            "Requirement already satisfied: annotated-types>=0.6.0 in /usr/local/lib/python3.11/dist-packages (from pydantic<3.0.0,>=2.7.4->langchain<1.0.0,>=0.3.19->langchain_community) (0.7.0)\n",
            "Requirement already satisfied: pydantic-core==2.27.2 in /usr/local/lib/python3.11/dist-packages (from pydantic<3.0.0,>=2.7.4->langchain<1.0.0,>=0.3.19->langchain_community) (2.27.2)\n",
            "Collecting mypy-extensions>=0.3.0 (from typing-inspect<1,>=0.4.0->dataclasses-json<0.7,>=0.5.7->langchain_community)\n",
            "  Downloading mypy_extensions-1.0.0-py3-none-any.whl.metadata (1.1 kB)\n",
            "Downloading langchain_community-0.3.18-py3-none-any.whl (2.5 MB)\n",
            "\u001b[2K   \u001b[90m━━━━━━━━━━━━━━━━━━━━━━━━━━━━━━━━━━━━━━━━\u001b[0m \u001b[32m2.5/2.5 MB\u001b[0m \u001b[31m14.6 MB/s\u001b[0m eta \u001b[36m0:00:00\u001b[0m\n",
            "\u001b[?25hDownloading langchain_openai-0.3.7-py3-none-any.whl (55 kB)\n",
            "\u001b[2K   \u001b[90m━━━━━━━━━━━━━━━━━━━━━━━━━━━━━━━━━━━━━━━━\u001b[0m \u001b[32m55.3/55.3 kB\u001b[0m \u001b[31m2.2 MB/s\u001b[0m eta \u001b[36m0:00:00\u001b[0m\n",
            "\u001b[?25hDownloading dataclasses_json-0.6.7-py3-none-any.whl (28 kB)\n",
            "Downloading httpx_sse-0.4.0-py3-none-any.whl (7.8 kB)\n",
            "Downloading pydantic_settings-2.8.1-py3-none-any.whl (30 kB)\n",
            "Downloading tiktoken-0.9.0-cp311-cp311-manylinux_2_17_x86_64.manylinux2014_x86_64.whl (1.2 MB)\n",
            "\u001b[2K   \u001b[90m━━━━━━━━━━━━━━━━━━━━━━━━━━━━━━━━━━━━━━━━\u001b[0m \u001b[32m1.2/1.2 MB\u001b[0m \u001b[31m18.3 MB/s\u001b[0m eta \u001b[36m0:00:00\u001b[0m\n",
            "\u001b[?25hDownloading marshmallow-3.26.1-py3-none-any.whl (50 kB)\n",
            "\u001b[2K   \u001b[90m━━━━━━━━━━━━━━━━━━━━━━━━━━━━━━━━━━━━━━━━\u001b[0m \u001b[32m50.9/50.9 kB\u001b[0m \u001b[31m2.5 MB/s\u001b[0m eta \u001b[36m0:00:00\u001b[0m\n",
            "\u001b[?25hDownloading python_dotenv-1.0.1-py3-none-any.whl (19 kB)\n",
            "Downloading typing_inspect-0.9.0-py3-none-any.whl (8.8 kB)\n",
            "Downloading mypy_extensions-1.0.0-py3-none-any.whl (4.7 kB)\n",
            "Installing collected packages: python-dotenv, mypy-extensions, marshmallow, httpx-sse, typing-inspect, tiktoken, pydantic-settings, dataclasses-json, langchain_openai, langchain_community\n",
            "Successfully installed dataclasses-json-0.6.7 httpx-sse-0.4.0 langchain_community-0.3.18 langchain_openai-0.3.7 marshmallow-3.26.1 mypy-extensions-1.0.0 pydantic-settings-2.8.1 python-dotenv-1.0.1 tiktoken-0.9.0 typing-inspect-0.9.0\n"
          ]
        }
      ]
    },
    {
      "cell_type": "code",
      "source": [
        "!pip install langgraph"
      ],
      "metadata": {
        "colab": {
          "base_uri": "https://localhost:8080/"
        },
        "id": "JM2db2kUDdt3",
        "outputId": "49be6119-bae2-4362-cc2e-67ea1128a8a5"
      },
      "execution_count": 2,
      "outputs": [
        {
          "output_type": "stream",
          "name": "stdout",
          "text": [
            "Collecting langgraph\n",
            "  Downloading langgraph-0.3.2-py3-none-any.whl.metadata (17 kB)\n",
            "Requirement already satisfied: langchain-core<0.4,>=0.1 in /usr/local/lib/python3.11/dist-packages (from langgraph) (0.3.40)\n",
            "Collecting langgraph-checkpoint<3.0.0,>=2.0.10 (from langgraph)\n",
            "  Downloading langgraph_checkpoint-2.0.16-py3-none-any.whl.metadata (4.6 kB)\n",
            "Collecting langgraph-prebuilt<0.2,>=0.1.1 (from langgraph)\n",
            "  Downloading langgraph_prebuilt-0.1.1-py3-none-any.whl.metadata (5.0 kB)\n",
            "Collecting langgraph-sdk<0.2.0,>=0.1.42 (from langgraph)\n",
            "  Downloading langgraph_sdk-0.1.53-py3-none-any.whl.metadata (1.8 kB)\n",
            "Requirement already satisfied: langsmith<0.4,>=0.1.125 in /usr/local/lib/python3.11/dist-packages (from langchain-core<0.4,>=0.1->langgraph) (0.3.11)\n",
            "Requirement already satisfied: tenacity!=8.4.0,<10.0.0,>=8.1.0 in /usr/local/lib/python3.11/dist-packages (from langchain-core<0.4,>=0.1->langgraph) (9.0.0)\n",
            "Requirement already satisfied: jsonpatch<2.0,>=1.33 in /usr/local/lib/python3.11/dist-packages (from langchain-core<0.4,>=0.1->langgraph) (1.33)\n",
            "Requirement already satisfied: PyYAML>=5.3 in /usr/local/lib/python3.11/dist-packages (from langchain-core<0.4,>=0.1->langgraph) (6.0.2)\n",
            "Requirement already satisfied: packaging<25,>=23.2 in /usr/local/lib/python3.11/dist-packages (from langchain-core<0.4,>=0.1->langgraph) (24.2)\n",
            "Requirement already satisfied: typing-extensions>=4.7 in /usr/local/lib/python3.11/dist-packages (from langchain-core<0.4,>=0.1->langgraph) (4.12.2)\n",
            "Requirement already satisfied: pydantic<3.0.0,>=2.5.2 in /usr/local/lib/python3.11/dist-packages (from langchain-core<0.4,>=0.1->langgraph) (2.10.6)\n",
            "Requirement already satisfied: msgpack<2.0.0,>=1.1.0 in /usr/local/lib/python3.11/dist-packages (from langgraph-checkpoint<3.0.0,>=2.0.10->langgraph) (1.1.0)\n",
            "Requirement already satisfied: httpx>=0.25.2 in /usr/local/lib/python3.11/dist-packages (from langgraph-sdk<0.2.0,>=0.1.42->langgraph) (0.28.1)\n",
            "Requirement already satisfied: orjson>=3.10.1 in /usr/local/lib/python3.11/dist-packages (from langgraph-sdk<0.2.0,>=0.1.42->langgraph) (3.10.15)\n",
            "Requirement already satisfied: anyio in /usr/local/lib/python3.11/dist-packages (from httpx>=0.25.2->langgraph-sdk<0.2.0,>=0.1.42->langgraph) (3.7.1)\n",
            "Requirement already satisfied: certifi in /usr/local/lib/python3.11/dist-packages (from httpx>=0.25.2->langgraph-sdk<0.2.0,>=0.1.42->langgraph) (2025.1.31)\n",
            "Requirement already satisfied: httpcore==1.* in /usr/local/lib/python3.11/dist-packages (from httpx>=0.25.2->langgraph-sdk<0.2.0,>=0.1.42->langgraph) (1.0.7)\n",
            "Requirement already satisfied: idna in /usr/local/lib/python3.11/dist-packages (from httpx>=0.25.2->langgraph-sdk<0.2.0,>=0.1.42->langgraph) (3.10)\n",
            "Requirement already satisfied: h11<0.15,>=0.13 in /usr/local/lib/python3.11/dist-packages (from httpcore==1.*->httpx>=0.25.2->langgraph-sdk<0.2.0,>=0.1.42->langgraph) (0.14.0)\n",
            "Requirement already satisfied: jsonpointer>=1.9 in /usr/local/lib/python3.11/dist-packages (from jsonpatch<2.0,>=1.33->langchain-core<0.4,>=0.1->langgraph) (3.0.0)\n",
            "Requirement already satisfied: requests<3,>=2 in /usr/local/lib/python3.11/dist-packages (from langsmith<0.4,>=0.1.125->langchain-core<0.4,>=0.1->langgraph) (2.32.3)\n",
            "Requirement already satisfied: requests-toolbelt<2.0.0,>=1.0.0 in /usr/local/lib/python3.11/dist-packages (from langsmith<0.4,>=0.1.125->langchain-core<0.4,>=0.1->langgraph) (1.0.0)\n",
            "Requirement already satisfied: zstandard<0.24.0,>=0.23.0 in /usr/local/lib/python3.11/dist-packages (from langsmith<0.4,>=0.1.125->langchain-core<0.4,>=0.1->langgraph) (0.23.0)\n",
            "Requirement already satisfied: annotated-types>=0.6.0 in /usr/local/lib/python3.11/dist-packages (from pydantic<3.0.0,>=2.5.2->langchain-core<0.4,>=0.1->langgraph) (0.7.0)\n",
            "Requirement already satisfied: pydantic-core==2.27.2 in /usr/local/lib/python3.11/dist-packages (from pydantic<3.0.0,>=2.5.2->langchain-core<0.4,>=0.1->langgraph) (2.27.2)\n",
            "Requirement already satisfied: charset-normalizer<4,>=2 in /usr/local/lib/python3.11/dist-packages (from requests<3,>=2->langsmith<0.4,>=0.1.125->langchain-core<0.4,>=0.1->langgraph) (3.4.1)\n",
            "Requirement already satisfied: urllib3<3,>=1.21.1 in /usr/local/lib/python3.11/dist-packages (from requests<3,>=2->langsmith<0.4,>=0.1.125->langchain-core<0.4,>=0.1->langgraph) (2.3.0)\n",
            "Requirement already satisfied: sniffio>=1.1 in /usr/local/lib/python3.11/dist-packages (from anyio->httpx>=0.25.2->langgraph-sdk<0.2.0,>=0.1.42->langgraph) (1.3.1)\n",
            "Downloading langgraph-0.3.2-py3-none-any.whl (130 kB)\n",
            "\u001b[2K   \u001b[90m━━━━━━━━━━━━━━━━━━━━━━━━━━━━━━━━━━━━━━━━\u001b[0m \u001b[32m130.9/130.9 kB\u001b[0m \u001b[31m4.1 MB/s\u001b[0m eta \u001b[36m0:00:00\u001b[0m\n",
            "\u001b[?25hDownloading langgraph_checkpoint-2.0.16-py3-none-any.whl (38 kB)\n",
            "Downloading langgraph_prebuilt-0.1.1-py3-none-any.whl (24 kB)\n",
            "Downloading langgraph_sdk-0.1.53-py3-none-any.whl (45 kB)\n",
            "\u001b[2K   \u001b[90m━━━━━━━━━━━━━━━━━━━━━━━━━━━━━━━━━━━━━━━━\u001b[0m \u001b[32m45.4/45.4 kB\u001b[0m \u001b[31m3.3 MB/s\u001b[0m eta \u001b[36m0:00:00\u001b[0m\n",
            "\u001b[?25hInstalling collected packages: langgraph-sdk, langgraph-checkpoint, langgraph-prebuilt, langgraph\n",
            "Successfully installed langgraph-0.3.2 langgraph-checkpoint-2.0.16 langgraph-prebuilt-0.1.1 langgraph-sdk-0.1.53\n"
          ]
        }
      ]
    },
    {
      "cell_type": "code",
      "execution_count": 3,
      "metadata": {
        "id": "0sjJl1dVC5IJ"
      },
      "outputs": [],
      "source": [
        "from langgraph.graph import StateGraph, END\n",
        "from typing import TypedDict, Annotated\n",
        "import operator\n",
        "from langchain_core.messages import AnyMessage, SystemMessage, HumanMessage, ToolMessage\n",
        "from langchain_openai import ChatOpenAI\n",
        "from langchain_community.tools.tavily_search import TavilySearchResults"
      ]
    },
    {
      "cell_type": "code",
      "source": [
        "import os\n",
        "from google.colab import userdata\n",
        "\n",
        "os.environ['OPENAI_API_KEY'] = userdata.get('OPENAI_API_KEY')\n",
        "os.environ['TAVILY_API_KEY'] = userdata.get('TAVILY_API_KEY')\n",
        "os.environ['LANGCHAIN_API_KEY'] = userdata.get('LANGCHAIN_API_KEY')\n",
        "\n",
        "\n"
      ],
      "metadata": {
        "id": "SlvFrmmnDFdQ"
      },
      "execution_count": 5,
      "outputs": []
    },
    {
      "cell_type": "code",
      "source": [
        "tool = TavilySearchResults(max_results=4) #increased number of results\n",
        "print(type(tool))\n",
        "print(tool.name)"
      ],
      "metadata": {
        "colab": {
          "base_uri": "https://localhost:8080/"
        },
        "id": "zlg_PcuLNdLh",
        "outputId": "5c53f689-736b-4221-c463-bc42c1f3a3d3"
      },
      "execution_count": 6,
      "outputs": [
        {
          "output_type": "stream",
          "name": "stdout",
          "text": [
            "<class 'langchain_community.tools.tavily_search.tool.TavilySearchResults'>\n",
            "tavily_search_results_json\n"
          ]
        }
      ]
    },
    {
      "cell_type": "code",
      "source": [
        "class AgentState(TypedDict):\n",
        "    messages: Annotated[list[AnyMessage], operator.add]"
      ],
      "metadata": {
        "id": "uTcBeuVvNfub"
      },
      "execution_count": 7,
      "outputs": []
    },
    {
      "cell_type": "markdown",
      "source": [
        "#### Note: in **take_action** below, some logic was added to cover the case that the LLM returned a non-existent tool name. Even with function calling, LLMs can still occasionally hallucinate. Note that all that is done is instructing the LLM to try again! An advantage of an agentic organization."
      ],
      "metadata": {
        "id": "l4t80CuTNf5f"
      }
    },
    {
      "cell_type": "code",
      "source": [
        "class Agent:\n",
        "\n",
        "    def __init__(self, model, tools, system=\"\"):\n",
        "        self.system = system\n",
        "        graph = StateGraph(AgentState)\n",
        "        graph.add_node(\"llm\", self.call_openai)\n",
        "        graph.add_node(\"action\", self.take_action)\n",
        "        graph.add_conditional_edges(\n",
        "            \"llm\",\n",
        "            self.exists_action,\n",
        "            {True: \"action\", False: END}\n",
        "        )\n",
        "        graph.add_edge(\"action\", \"llm\")\n",
        "        graph.set_entry_point(\"llm\")\n",
        "        self.graph = graph.compile()\n",
        "        self.tools = {t.name: t for t in tools}\n",
        "        self.model = model.bind_tools(tools)\n",
        "\n",
        "    def exists_action(self, state: AgentState):\n",
        "        result = state['messages'][-1]\n",
        "        return len(result.tool_calls) > 0\n",
        "\n",
        "    def call_openai(self, state: AgentState):\n",
        "        messages = state['messages']\n",
        "        if self.system:\n",
        "            messages = [SystemMessage(content=self.system)] + messages\n",
        "        message = self.model.invoke(messages)\n",
        "        return {'messages': [message]}\n",
        "\n",
        "    def take_action(self, state: AgentState):\n",
        "        tool_calls = state['messages'][-1].tool_calls\n",
        "        results = []\n",
        "        for t in tool_calls:\n",
        "            print(f\"Calling: {t}\")\n",
        "            if not t['name'] in self.tools:      # check for bad tool name from LLM\n",
        "                print(\"\\n ....bad tool name....\")\n",
        "                result = \"bad tool name, retry\"  # instruct LLM to retry if bad\n",
        "            else:\n",
        "                result = self.tools[t['name']].invoke(t['args'])\n",
        "            results.append(ToolMessage(tool_call_id=t['id'], name=t['name'], content=str(result)))\n",
        "        print(\"Back to the model!\")\n",
        "        return {'messages': results}"
      ],
      "metadata": {
        "id": "l5kPO4Z7Nf8j"
      },
      "execution_count": 8,
      "outputs": []
    },
    {
      "cell_type": "code",
      "source": [
        "prompt = \"\"\"You are a smart research assistant. Use the search engine to look up information. \\\n",
        "You are allowed to make multiple calls (either together or in sequence). \\\n",
        "Only look up information when you are sure of what you want. \\\n",
        "If you need to look up some information before asking a follow up question, you are allowed to do that!\n",
        "\"\"\"\n",
        "\n",
        "model = ChatOpenAI(model=\"gpt-4o\")\n",
        "abot = Agent(model, [tool], system=prompt)"
      ],
      "metadata": {
        "id": "rFNh1juPNf_7"
      },
      "execution_count": 9,
      "outputs": []
    },
    {
      "cell_type": "code",
      "source": [
        "!apt install libgraphviz-dev\n",
        "!pip install pygraphviz"
      ],
      "metadata": {
        "colab": {
          "base_uri": "https://localhost:8080/"
        },
        "id": "HWmeyZk5OU87",
        "outputId": "af7018f6-57bd-4e7c-a3fa-36c5c0843d02"
      },
      "execution_count": 15,
      "outputs": [
        {
          "output_type": "stream",
          "name": "stdout",
          "text": [
            "Reading package lists... Done\n",
            "Building dependency tree... Done\n",
            "Reading state information... Done\n",
            "The following additional packages will be installed:\n",
            "  libgail-common libgail18 libgtk2.0-0 libgtk2.0-bin libgtk2.0-common libgvc6-plugins-gtk\n",
            "  librsvg2-common libxdot4\n",
            "Suggested packages:\n",
            "  gvfs\n",
            "The following NEW packages will be installed:\n",
            "  libgail-common libgail18 libgraphviz-dev libgtk2.0-0 libgtk2.0-bin libgtk2.0-common\n",
            "  libgvc6-plugins-gtk librsvg2-common libxdot4\n",
            "0 upgraded, 9 newly installed, 0 to remove and 29 not upgraded.\n",
            "Need to get 2,434 kB of archives.\n",
            "After this operation, 7,681 kB of additional disk space will be used.\n",
            "Get:1 http://archive.ubuntu.com/ubuntu jammy-updates/main amd64 libgtk2.0-common all 2.24.33-2ubuntu2.1 [125 kB]\n",
            "Get:2 http://archive.ubuntu.com/ubuntu jammy-updates/main amd64 libgtk2.0-0 amd64 2.24.33-2ubuntu2.1 [2,038 kB]\n",
            "Get:3 http://archive.ubuntu.com/ubuntu jammy-updates/main amd64 libgail18 amd64 2.24.33-2ubuntu2.1 [15.9 kB]\n",
            "Get:4 http://archive.ubuntu.com/ubuntu jammy-updates/main amd64 libgail-common amd64 2.24.33-2ubuntu2.1 [132 kB]\n",
            "Get:5 http://archive.ubuntu.com/ubuntu jammy-updates/universe amd64 libxdot4 amd64 2.42.2-6ubuntu0.1 [16.4 kB]\n",
            "Get:6 http://archive.ubuntu.com/ubuntu jammy-updates/universe amd64 libgvc6-plugins-gtk amd64 2.42.2-6ubuntu0.1 [22.5 kB]\n",
            "Get:7 http://archive.ubuntu.com/ubuntu jammy-updates/universe amd64 libgraphviz-dev amd64 2.42.2-6ubuntu0.1 [58.5 kB]\n",
            "Get:8 http://archive.ubuntu.com/ubuntu jammy-updates/main amd64 libgtk2.0-bin amd64 2.24.33-2ubuntu2.1 [7,936 B]\n",
            "Get:9 http://archive.ubuntu.com/ubuntu jammy-updates/main amd64 librsvg2-common amd64 2.52.5+dfsg-3ubuntu0.2 [17.7 kB]\n",
            "Fetched 2,434 kB in 1s (1,785 kB/s)\n",
            "Selecting previously unselected package libgtk2.0-common.\n",
            "(Reading database ... 124947 files and directories currently installed.)\n",
            "Preparing to unpack .../0-libgtk2.0-common_2.24.33-2ubuntu2.1_all.deb ...\n",
            "Unpacking libgtk2.0-common (2.24.33-2ubuntu2.1) ...\n",
            "Selecting previously unselected package libgtk2.0-0:amd64.\n",
            "Preparing to unpack .../1-libgtk2.0-0_2.24.33-2ubuntu2.1_amd64.deb ...\n",
            "Unpacking libgtk2.0-0:amd64 (2.24.33-2ubuntu2.1) ...\n",
            "Selecting previously unselected package libgail18:amd64.\n",
            "Preparing to unpack .../2-libgail18_2.24.33-2ubuntu2.1_amd64.deb ...\n",
            "Unpacking libgail18:amd64 (2.24.33-2ubuntu2.1) ...\n",
            "Selecting previously unselected package libgail-common:amd64.\n",
            "Preparing to unpack .../3-libgail-common_2.24.33-2ubuntu2.1_amd64.deb ...\n",
            "Unpacking libgail-common:amd64 (2.24.33-2ubuntu2.1) ...\n",
            "Selecting previously unselected package libxdot4:amd64.\n",
            "Preparing to unpack .../4-libxdot4_2.42.2-6ubuntu0.1_amd64.deb ...\n",
            "Unpacking libxdot4:amd64 (2.42.2-6ubuntu0.1) ...\n",
            "Selecting previously unselected package libgvc6-plugins-gtk.\n",
            "Preparing to unpack .../5-libgvc6-plugins-gtk_2.42.2-6ubuntu0.1_amd64.deb ...\n",
            "Unpacking libgvc6-plugins-gtk (2.42.2-6ubuntu0.1) ...\n",
            "Selecting previously unselected package libgraphviz-dev:amd64.\n",
            "Preparing to unpack .../6-libgraphviz-dev_2.42.2-6ubuntu0.1_amd64.deb ...\n",
            "Unpacking libgraphviz-dev:amd64 (2.42.2-6ubuntu0.1) ...\n",
            "Selecting previously unselected package libgtk2.0-bin.\n",
            "Preparing to unpack .../7-libgtk2.0-bin_2.24.33-2ubuntu2.1_amd64.deb ...\n",
            "Unpacking libgtk2.0-bin (2.24.33-2ubuntu2.1) ...\n",
            "Selecting previously unselected package librsvg2-common:amd64.\n",
            "Preparing to unpack .../8-librsvg2-common_2.52.5+dfsg-3ubuntu0.2_amd64.deb ...\n",
            "Unpacking librsvg2-common:amd64 (2.52.5+dfsg-3ubuntu0.2) ...\n",
            "Setting up libxdot4:amd64 (2.42.2-6ubuntu0.1) ...\n",
            "Setting up librsvg2-common:amd64 (2.52.5+dfsg-3ubuntu0.2) ...\n",
            "Setting up libgtk2.0-common (2.24.33-2ubuntu2.1) ...\n",
            "Setting up libgtk2.0-0:amd64 (2.24.33-2ubuntu2.1) ...\n",
            "Setting up libgvc6-plugins-gtk (2.42.2-6ubuntu0.1) ...\n",
            "Setting up libgail18:amd64 (2.24.33-2ubuntu2.1) ...\n",
            "Setting up libgtk2.0-bin (2.24.33-2ubuntu2.1) ...\n",
            "Setting up libgail-common:amd64 (2.24.33-2ubuntu2.1) ...\n",
            "Setting up libgraphviz-dev:amd64 (2.42.2-6ubuntu0.1) ...\n",
            "Processing triggers for libc-bin (2.35-0ubuntu3.8) ...\n",
            "/sbin/ldconfig.real: /usr/local/lib/libtbbmalloc_proxy.so.2 is not a symbolic link\n",
            "\n",
            "/sbin/ldconfig.real: /usr/local/lib/libtbbbind.so.3 is not a symbolic link\n",
            "\n",
            "/sbin/ldconfig.real: /usr/local/lib/libur_adapter_level_zero.so.0 is not a symbolic link\n",
            "\n",
            "/sbin/ldconfig.real: /usr/local/lib/libtbbbind_2_5.so.3 is not a symbolic link\n",
            "\n",
            "/sbin/ldconfig.real: /usr/local/lib/libtbbmalloc.so.2 is not a symbolic link\n",
            "\n",
            "/sbin/ldconfig.real: /usr/local/lib/libur_loader.so.0 is not a symbolic link\n",
            "\n",
            "/sbin/ldconfig.real: /usr/local/lib/libumf.so.0 is not a symbolic link\n",
            "\n",
            "/sbin/ldconfig.real: /usr/local/lib/libtbbbind_2_0.so.3 is not a symbolic link\n",
            "\n",
            "/sbin/ldconfig.real: /usr/local/lib/libhwloc.so.15 is not a symbolic link\n",
            "\n",
            "/sbin/ldconfig.real: /usr/local/lib/libtcm_debug.so.1 is not a symbolic link\n",
            "\n",
            "/sbin/ldconfig.real: /usr/local/lib/libur_adapter_opencl.so.0 is not a symbolic link\n",
            "\n",
            "/sbin/ldconfig.real: /usr/local/lib/libtbb.so.12 is not a symbolic link\n",
            "\n",
            "/sbin/ldconfig.real: /usr/local/lib/libtcm.so.1 is not a symbolic link\n",
            "\n",
            "Processing triggers for man-db (2.10.2-1) ...\n",
            "Processing triggers for libgdk-pixbuf-2.0-0:amd64 (2.42.8+dfsg-1ubuntu0.3) ...\n",
            "Collecting pygraphviz\n",
            "  Using cached pygraphviz-1.14.tar.gz (106 kB)\n",
            "  Installing build dependencies ... \u001b[?25l\u001b[?25hdone\n",
            "  Getting requirements to build wheel ... \u001b[?25l\u001b[?25hdone\n",
            "  Preparing metadata (pyproject.toml) ... \u001b[?25l\u001b[?25hdone\n",
            "Building wheels for collected packages: pygraphviz\n",
            "  Building wheel for pygraphviz (pyproject.toml) ... \u001b[?25l\u001b[?25hdone\n",
            "  Created wheel for pygraphviz: filename=pygraphviz-1.14-cp311-cp311-linux_x86_64.whl size=169680 sha256=f599be088cc1b6bd4caf4beed489838f7dea7cdf7dfa4926aeee5de18c8675ed\n",
            "  Stored in directory: /root/.cache/pip/wheels/9c/5f/df/6fffd2a4353f26dbb0e3672a1baf070c124a1d74a5f9318279\n",
            "Successfully built pygraphviz\n",
            "Installing collected packages: pygraphviz\n",
            "Successfully installed pygraphviz-1.14\n"
          ]
        }
      ]
    },
    {
      "cell_type": "code",
      "source": [
        "from IPython.display import Image\n",
        "import pygraphviz\n",
        "\n",
        "Image(abot.graph.get_graph().draw_png())"
      ],
      "metadata": {
        "colab": {
          "base_uri": "https://localhost:8080/",
          "height": 382
        },
        "id": "1I-R7EpnOKJI",
        "outputId": "90dd4dfd-ec9f-41c0-ad91-bd9d7e48cc66"
      },
      "execution_count": 16,
      "outputs": [
        {
          "output_type": "execute_result",
          "data": {
            "image/png": "[encoded data removed]",
            "text/plain": [
              "<IPython.core.display.Image object>"
            ]
          },
          "metadata": {},
          "execution_count": 16
        }
      ]
    },
    {
      "cell_type": "code",
      "source": [
        "messages = [HumanMessage(content=\"Which different file system DeepSeek company used to faster inferencing of AI models explain in detailed way?\")]\n",
        "result = abot.graph.invoke({\"messages\": messages})"
      ],
      "metadata": {
        "colab": {
          "base_uri": "https://localhost:8080/"
        },
        "id": "T7RxDQkqO1u9",
        "outputId": "6228afbe-63fc-4b56-df1b-755a4413df25"
      },
      "execution_count": 24,
      "outputs": [
        {
          "output_type": "stream",
          "name": "stdout",
          "text": [
            "Calling: {'name': 'tavily_search_results_json', 'args': {'query': 'DeepSeek AI models file system for faster inferencing'}, 'id': 'call_4rcXV3GYhZlLTZfvV6HmewW6', 'type': 'tool_call'}\n",
            "Back to the model!\n"
          ]
        }
      ]
    },
    {
      "cell_type": "code",
      "source": [
        "result"
      ],
      "metadata": {
        "colab": {
          "base_uri": "https://localhost:8080/"
        },
        "id": "uaa1WKqkPSaF",
        "outputId": "0bf8e149-9751-4189-d267-a42d4e9efd72"
      },
      "execution_count": 25,
      "outputs": [
        {
          "output_type": "execute_result",
          "data": {
            "text/plain": [
              "{'messages': [HumanMessage(content='Which different file system DeepSeek company used to faster inferencing of AI models explain in detailed way?', additional_kwargs={}, response_metadata={}),\n",
              "  AIMessage(content='', additional_kwargs={'tool_calls': [{'id': 'call_4rcXV3GYhZlLTZfvV6HmewW6', 'function': {'arguments': '{\"query\":\"DeepSeek AI models file system for faster inferencing\"}', 'name': 'tavily_search_results_json'}, 'type': 'function'}], 'refusal': None}, response_metadata={'token_usage': {'completion_tokens': 28, 'prompt_tokens': 164, 'total_tokens': 192, 'completion_tokens_details': {'accepted_prediction_tokens': 0, 'audio_tokens': 0, 'reasoning_tokens': 0, 'rejected_prediction_tokens': 0}, 'prompt_tokens_details': {'audio_tokens': 0, 'cached_tokens': 0}}, 'model_name': 'gpt-4o-2024-08-06', 'system_fingerprint': 'fp_f9f4fb6dbf', 'finish_reason': 'tool_calls', 'logprobs': None}, id='run-d91621c2-3aeb-47b4-a461-8429452507c2-0', tool_calls=[{'name': 'tavily_search_results_json', 'args': {'query': 'DeepSeek AI models file system for faster inferencing'}, 'id': 'call_4rcXV3GYhZlLTZfvV6HmewW6', 'type': 'tool_call'}], usage_metadata={'input_tokens': 164, 'output_tokens': 28, 'total_tokens': 192, 'input_token_details': {'audio': 0, 'cache_read': 0}, 'output_token_details': {'audio': 0, 'reasoning': 0}}),\n",
              "  ToolMessage(content='[{\\'url\\': \\'https://www.threads.net/@theturingpost/post/DGoKEKKub2t/deepseek-shared-their-new-development-fire-flyer-file-system-3fs-a-super-fast-st\\', \\'content\\': \"DeepSeek shared their new development - Fire-Flyer File System (3FS), a super-fast storage system for handling the heavy demands of AI training and inference. DeepSeek shared their new development - Fire-Flyer File System (3FS), a super-fast storage system for handling the heavy demands of AI training and inference.It ensures fast, flexible data access, scalability, and fault tolerance using thousands of SSDs and RDMA networks.3FS can: - Organize large AI datasets - Quickly save AI training progress - Optimize AI inference - Improve dataloading, so AI models can access what they need instantly.Here\\'s how it works: How data is stored and accessed in 3SF?Files are broken into chunks and stored across multiple SSDs for load balancing.• 3FS uses CRAQ replication:- Writes go to the first node and then propagate down the chain.\"}, {\\'url\\': \\'https://jurnals.net/deepseek-unveils-3fs-file-system-revolutionizing-ai-data-management/\\', \\'content\\': \"DeepSeek\\'s 3FS, an open-source distributed file system, promises to boost AI training and inference with its blazing-fast read throughput of 6.6 TiB/s. Addressing this critical need, DeepSeek, a prominent AI technology company, has recently unveiled 3FS (Fire-Flyer File System), an open-source distributed file system designed specifically to optimize AI workflows. High Read Throughput: Boasting a read throughput of 6.6 TiB/s on a 180-node cluster, 3FS enables rapid data access, accelerating AI training and inference processes. DeepSeek\\'s 3FS file system is a significant development in the field of AI data management. A1: The key advantages of 3FS include its significantly higher read throughput, its distributed architecture which allows for scalability and parallel access, and its optimization specifically for AI training and inference processes.\"}, {\\'url\\': \\'https://blog.aitoolhouse.com/deepseek-ai-unveils-fire-flyer-file-system-3fs-a-high-performance-distributed-file-system-for-ai-workloads/\\', \\'content\\': \\'To address these challenges, DeepSeek AI has introduced Fire-Flyer File System (3FS)—a high-performance, distributed file system optimized for AI workflows. For AI inference, 3FS introduces KVCache, a high-speed caching layer that enhances real-time data access. With its high-throughput storage architecture, 3FS minimizes data transfer delays, reducing training times for large-scale AI models. By optimizing data retrieval with KVCache, 3FS improves response times in real-time AI applications, making it ideal for natural language processing, computer vision, and multimodal AI systems. DeepSeek AI’s Fire-Flyer File System (3FS) is a high-performance, AI-optimized distributed file system that addresses the storage challenges of modern AI applications. By leveraging disaggregated storage, strong consistency models, and high-speed caching mechanisms, 3FS significantly improves AI training and inference efficiency.\\'}, {\\'url\\': \\'https://www.marktechpost.com/2025/02/28/deepseek-ai-releases-fire-flyer-file-system-3fs-a-high-performance-distributed-file-system-designed-to-address-the-challenges-of-ai-training-and-inference-workload/\\', \\'content\\': \\'DeepSeek AI Releases Fire-Flyer File System (3FS): A High-Performance Distributed File System Designed to Address the Challenges of AI Training and Inference Workload - MarkTechPost DeepSeek AI Releases Fire-Flyer File System (3FS): A High-Performance Distributed File System Designed to Address the Challenges of AI Training and Inference Workload AI training and inference workloads demand not only significant compute power but also a storage solution that can manage large-scale, concurrent data access. This feature is particularly valuable in AI applications where repeated access to previously computed data, such as key and value vectors in language models, is essential to maintain performance. Functional cookies help to perform certain functionalities like sharing the content of the website on social media platforms, collect feedbacks, and other third-party features.\\'}]', name='tavily_search_results_json', tool_call_id='call_4rcXV3GYhZlLTZfvV6HmewW6'),\n",
              "  AIMessage(content='DeepSeek has developed the Fire-Flyer File System (3FS), which is a high-performance, distributed file system optimized for AI workloads. This system is specifically designed to enhance the efficiency and speed of AI model training and inference. Here’s a detailed explanation of how 3FS functions and its key features:\\n\\n1. **High Read Throughput**: 3FS is noted for its impressive read throughput of 6.6 TiB/s on a 180-node cluster. This facilitates rapid data access, thereby accelerating AI training and inference processes.\\n\\n2. **Distributed Architecture**: Being an open-source distributed file system, 3FS allows for scalability and parallel access to data, making it well-suited for large dataset handling.\\n\\n3. **KVCache**: For AI inference, 3FS introduces KVCache, a high-speed caching layer that enhances real-time data access. This mechanism optimizes data retrieval, reducing response times in real-time AI applications.\\n\\n4. **Data and Load Balancing**: Files are broken into chunks and stored across multiple SSDs. This feature ensures load balancing and efficient data distribution across the file system.\\n\\n5. **CRAQ Replication**: Writes are initially sent to the first node and then propagate down the chain. This method provides strong consistency models to ensure data integrity and reliability.\\n\\n6. **Minimized Data Transfer Delays**: The system’s high-throughput storage architecture minimizes data transfer delays, thus reducing training times for large-scale AI models.\\n\\n7. **Optimized for AI Workflows**: 3FS is specifically designed to improve data management in AI applications like natural language processing, computer vision, and multimodal AI systems.\\n\\nThe Fire-Flyer File System (3FS) represents a significant advancement in the field of AI data management, addressing the challenges of managing large-scale, concurrent data access necessary for effective AI training and inference.', additional_kwargs={'refusal': None}, response_metadata={'token_usage': {'completion_tokens': 383, 'prompt_tokens': 1085, 'total_tokens': 1468, 'completion_tokens_details': {'accepted_prediction_tokens': 0, 'audio_tokens': 0, 'reasoning_tokens': 0, 'rejected_prediction_tokens': 0}, 'prompt_tokens_details': {'audio_tokens': 0, 'cached_tokens': 0}}, 'model_name': 'gpt-4o-2024-08-06', 'system_fingerprint': 'fp_f9f4fb6dbf', 'finish_reason': 'stop', 'logprobs': None}, id='run-32c00315-39f2-43b8-af05-88e8d5fc16e8-0', usage_metadata={'input_tokens': 1085, 'output_tokens': 383, 'total_tokens': 1468, 'input_token_details': {'audio': 0, 'cache_read': 0}, 'output_token_details': {'audio': 0, 'reasoning': 0}})]}"
            ]
          },
          "metadata": {},
          "execution_count": 25
        }
      ]
    },
    {
      "cell_type": "code",
      "source": [
        "result['messages'][-1].content"
      ],
      "metadata": {
        "colab": {
          "base_uri": "https://localhost:8080/",
          "height": 123
        },
        "id": "-UKIUP50PVKR",
        "outputId": "01d49a5d-b055-4589-f314-822e81c3680f"
      },
      "execution_count": 26,
      "outputs": [
        {
          "output_type": "execute_result",
          "data": {
            "text/plain": [
              "'DeepSeek has developed the Fire-Flyer File System (3FS), which is a high-performance, distributed file system optimized for AI workloads. This system is specifically designed to enhance the efficiency and speed of AI model training and inference. Here’s a detailed explanation of how 3FS functions and its key features:\\n\\n1. **High Read Throughput**: 3FS is noted for its impressive read throughput of 6.6 TiB/s on a 180-node cluster. This facilitates rapid data access, thereby accelerating AI training and inference processes.\\n\\n2. **Distributed Architecture**: Being an open-source distributed file system, 3FS allows for scalability and parallel access to data, making it well-suited for large dataset handling.\\n\\n3. **KVCache**: For AI inference, 3FS introduces KVCache, a high-speed caching layer that enhances real-time data access. This mechanism optimizes data retrieval, reducing response times in real-time AI applications.\\n\\n4. **Data and Load Balancing**: Files are broken into chunks and stored across multiple SSDs. This feature ensures load balancing and efficient data distribution across the file system.\\n\\n5. **CRAQ Replication**: Writes are initially sent to the first node and then propagate down the chain. This method provides strong consistency models to ensure data integrity and reliability.\\n\\n6. **Minimized Data Transfer Delays**: The system’s high-throughput storage architecture minimizes data transfer delays, thus reducing training times for large-scale AI models.\\n\\n7. **Optimized for AI Workflows**: 3FS is specifically designed to improve data management in AI applications like natural language processing, computer vision, and multimodal AI systems.\\n\\nThe Fire-Flyer File System (3FS) represents a significant advancement in the field of AI data management, addressing the challenges of managing large-scale, concurrent data access necessary for effective AI training and inference.'"
            ],
            "application/vnd.google.colaboratory.intrinsic+json": {
              "type": "string"
            }
          },
          "metadata": {},
          "execution_count": 26
        }
      ]
    },
    {
      "cell_type": "code",
      "source": [
        "messages = [HumanMessage(content=\"How smolagents agent building framework in different from langraph and which one is best utilized in different scenarios?\")]\n",
        "result = abot.graph.invoke({\"messages\": messages})"
      ],
      "metadata": {
        "colab": {
          "base_uri": "https://localhost:8080/"
        },
        "id": "0cnjQoyEPz-z",
        "outputId": "71c3cffe-2890-42a1-992c-13577a04becb"
      },
      "execution_count": 27,
      "outputs": [
        {
          "output_type": "stream",
          "name": "stdout",
          "text": [
            "Calling: {'name': 'tavily_search_results_json', 'args': {'query': 'smolagents agent building framework overview'}, 'id': 'call_lPkrWu73CaScwUUZhrbJpQKh', 'type': 'tool_call'}\n",
            "Calling: {'name': 'tavily_search_results_json', 'args': {'query': 'langraph agent building framework overview'}, 'id': 'call_kIdBS15ge3kDaIbXS0Tu4a9l', 'type': 'tool_call'}\n",
            "Back to the model!\n"
          ]
        }
      ]
    },
    {
      "cell_type": "code",
      "source": [
        "result['messages'][-1].content"
      ],
      "metadata": {
        "colab": {
          "base_uri": "https://localhost:8080/",
          "height": 261
        },
        "id": "kTofuIHzQM8e",
        "outputId": "987985ac-16d2-4184-97da-c984f10ebfa7"
      },
      "execution_count": 28,
      "outputs": [
        {
          "output_type": "execute_result",
          "data": {
            "text/plain": [
              "'Here\\'s an overview of the two frameworks, SmolAgents and LangGraph, including their distinctive features and best-use scenarios:\\n\\n### SmolAgents\\n1. **Design Philosophy**: SmolAgents, developed by Hugging Face, offers a minimalist and lightweight architecture designed for building powerful AI-driven agents with ease. It\\'s known for requiring minimal code to deploy robust agents.\\n   \\n2. **Focus on Code Agents**: SmolAgents specializes in \"code agents,\" which write and execute Python code snippets to perform actions. This approach is contrasted with generating actions as JSON or text blobs.\\n\\n3. **Tool-Calling Agents**: Besides code agents, SmolAgents also supports traditional tool-calling agents, writing actions as JSON or text blocks; this flexibility allows it to suit specific scenarios and requirements.\\n\\n4. **Use Cases**: SmolAgents is well-suited for scenarios where simplicity and lightweight setup are essential, and when rapid deployment of agents with minimal infrastructure is required.\\n\\n### LangGraph\\n1. **Complexity and Flexibility**: LangGraph handles more complex workflows with graph-based orchestration, persistent state management, and multi-agent coordination, making it perfect for advanced applications requiring sophistication and control.\\n\\n2. **Stateful Graphs and Memory Management**: It provides fine-grained control over both the flow and state of agent applications. It facilitates dynamic decision-making, cyclical graphs for iterative processes, and built-in memory management.\\n\\n3. **Integration with LangChain**: It works with LangChain and LangSmith for enhanced monitoring and optimization, and can create complex agent workflows using stateful graphs.\\n\\n4. **Use Cases**: LangGraph is ideal for developers aiming to build complex, stateful, and controlled agentic applications or workflows, making it suitable for dynamic and iterative AI processes requiring persistent state and memory.\\n\\n### Conclusion\\n\\n- **SmolAgents** is best utilized when you need to deploy straightforward, lightweight agents quickly and efficiently without requiring extensive setup or control over agent states.\\n  \\n- **LangGraph** is more appropriate for applications demanding complex workflows, state management, and coordination among multiple agents, especially where monitoring and iterative processes are integral to the application\\'s functioning.'"
            ],
            "application/vnd.google.colaboratory.intrinsic+json": {
              "type": "string"
            }
          },
          "metadata": {},
          "execution_count": 28
        }
      ]
    },
    {
      "cell_type": "code",
      "source": [
        "query = \"What is the new quantum chip released by microsoft company explain its features, advantages and also how quantum computers plays crucial role in AI future advancements?\"\n",
        "messages = [HumanMessage(content=query)]\n",
        "\n",
        "model = ChatOpenAI(model=\"gpt-4o\")\n",
        "abot = Agent(model, [tool], system=prompt)\n",
        "result = abot.graph.invoke({\"messages\": messages})"
      ],
      "metadata": {
        "colab": {
          "base_uri": "https://localhost:8080/"
        },
        "id": "0CSm4KIVQV9U",
        "outputId": "cc3f8158-22b8-4cd7-96da-69243a92ddde"
      },
      "execution_count": 29,
      "outputs": [
        {
          "output_type": "stream",
          "name": "stdout",
          "text": [
            "Calling: {'name': 'tavily_search_results_json', 'args': {'query': 'Microsoft new quantum chip features advantages 2023'}, 'id': 'call_PoQgGCk7YpdHMIYpv6i79c1t', 'type': 'tool_call'}\n",
            "Back to the model!\n"
          ]
        }
      ]
    },
    {
      "cell_type": "code",
      "source": [
        "print(result['messages'][-1].content)"
      ],
      "metadata": {
        "colab": {
          "base_uri": "https://localhost:8080/"
        },
        "id": "E2EtOgAlRLXD",
        "outputId": "09efa2e1-68b8-4a40-a4d2-fac809bb1e64"
      },
      "execution_count": 30,
      "outputs": [
        {
          "output_type": "stream",
          "name": "stdout",
          "text": [
            "Microsoft recently unveiled a quantum chip named \"Majorana 1,\" which is designed to pave the way for future advancements in quantum computing. Here are some of its features and the implications for the future, especially in artificial intelligence (AI):\n",
            "\n",
            "### Features of the Majorana 1 Chip:\n",
            "1. **Topological Core Architecture:** Majorana 1 is powered by a new Topological Core architecture that offers a path to develop quantum systems capable of scaling up to a million qubits. This architecture uses a stack of indium arsenide and aluminum materials, manipulating magnetic fields to create Majorana particles.\n",
            "   \n",
            "2. **Scalability:** The chip currently hosts eight qubits but is part of Microsoft’s ambition to build scalable quantum computers that can eventually solve complex industrial and societal problems in much shorter timescales.\n",
            "\n",
            "3. **Stability and Reliability:** The chip aims to provide more stable quantum computing environments via topological qubits, which bring about more robust error correction mechanisms.\n",
            "\n",
            "4. **Partnerships and Research:** Microsoft collaborates with companies like Quantinuum and Atom Computing to achieve scientific breakthroughs and push the boundaries of what can be done with quantum computing today.\n",
            "\n",
            "### Advantages of Quantum Chips like Majorana 1:\n",
            "- **Industrial Problem Solving:** Quantum chips have the potential to solve complex problems that are currently beyond the reach of classical computers, similar to how semiconductors revolutionized computing in the past.\n",
            "  \n",
            "- **Faster Computation:** They can potentially perform calculations and run simulations at unprecedented speeds, leading to breakthroughs in various fields such as materials science, cryptography, and complex system modeling.\n",
            "\n",
            "### Quantum Computers' Role in AI:\n",
            "Quantum computers have the potential to significantly advance AI in several ways:\n",
            "\n",
            "1. **Enhanced Machine Learning:** Quantum computing can process and analyze large datasets much faster than classical computers, making machine learning models more efficient and faster to train.\n",
            "\n",
            "2. **Complex Optimization Problems:** AI often involves complex optimization problems (e.g., selecting the best model parameters), which quantum algorithms can solve more efficiently.\n",
            "\n",
            "3. **New AI Algorithms:** The unique properties of quantum mechanics can potentially lead to the development of new AI algorithms that are more powerful and efficient than current methods.\n",
            "\n",
            "4. **Simulation of Quantum Worlds:** AI can be used in conjunction with quantum computing to simulate quantum systems, leading to better understanding and new discoveries in quantum physics and beyond.\n",
            "\n",
            "Overall, Microsoft's Majorana 1 chip is a step toward a future where quantum computers could substantially enhance technological and computational capabilities, significantly impacting AI development and its applications.\n"
          ]
        }
      ]
    },
    {
      "cell_type": "code",
      "source": [],
      "metadata": {
        "id": "wdcmXQpkSbCt"
      },
      "execution_count": null,
      "outputs": []
    },
    {
      "cell_type": "code",
      "source": [],
      "metadata": {
        "id": "Ows0ZKPLSbHf"
      },
      "execution_count": null,
      "outputs": []
    },
    {
      "cell_type": "code",
      "source": [],
      "metadata": {
        "id": "od48eicMSbKa"
      },
      "execution_count": null,
      "outputs": []
    },
    {
      "cell_type": "code",
      "source": [],
      "metadata": {
        "id": "XEk9SPrBSbPm"
      },
      "execution_count": null,
      "outputs": []
    },
    {
      "cell_type": "markdown",
      "source": [
        "# Langraph"
      ],
      "metadata": {
        "id": "N5Bp2qMfSbRW"
      }
    },
    {
      "cell_type": "markdown",
      "source": [
        "\n",
        "\n",
        "---\n",
        "\n",
        "### What is LangGraph?\n",
        "\n",
        "LangGraph is an orchestration framework within the LangChain ecosystem designed for building complex, stateful, and multi-agent AI applications. Unlike simple linear chains, LangGraph lets you design workflows as directed graphs that may include cycles (loops) and branching logic. This structure helps manage the interactions between different agents (or nodes) and external tools.\n",
        "\n",
        "---\n",
        "\n",
        "### Core Components\n",
        "\n",
        "#### 1. **Nodes**\n",
        "\n",
        "- **Definition:** Nodes are the individual units of work in a LangGraph. Each node is typically a Python function that processes input, calls a language model (LLM), or executes a tool.\n",
        "- **Example Use:** A node might be a chatbot function that takes conversation history as input and generates a response using an LLM.\n",
        "- **Key Point:** Nodes can be combined and reused, making it easy to design complex workflows.\n",
        "\n",
        "#### 2. **Edges**\n",
        "\n",
        "- **Definition:** Edges connect nodes and define the flow of information through the graph.\n",
        "- **Types:**\n",
        "  - **Direct Edges:** These simply link one node to another.\n",
        "  - **Conditional Edges:** These include logic (like if-else statements) to decide which node to execute next based on the state.\n",
        "- **Key Point:** Edges determine the overall structure of the application, whether it's linear, cyclic, or branching.\n",
        "\n",
        "#### 3. **State**\n",
        "\n",
        "- **Definition:** The state is a shared data object that is passed between nodes. It typically includes the conversation history (messages) and can also store other data (like user information or facts extracted from the conversation).\n",
        "- **How It Works:** When a node returns an update (e.g., a new message), the state is updated—usually by appending new information to the existing state.\n",
        "- **Key Point:** State management is automatic and can be persisted (checkpointed) so that the graph can resume execution or “remember” past interactions.\n",
        "\n",
        "---\n",
        "\n",
        "### How LangGraph Works\n",
        "\n",
        "1. **Designing the Graph:**\n",
        "   - You start by defining the state (usually as a dictionary or a Pydantic model).\n",
        "   - Next, you add nodes (functions) that represent distinct tasks (e.g., calling an LLM, executing a search tool, etc.).\n",
        "   - Then, you connect these nodes with edges to create the desired workflow.\n",
        "   \n",
        "2. **Tool Integration:**\n",
        "   - Tools are external services or functions (like web search, database access, or human input) that your agent can call.\n",
        "   - LangGraph allows you to bind tools to an LLM, so the model learns which JSON format to use when invoking a tool.\n",
        "   \n",
        "3. **Memory & Checkpointing:**\n",
        "   - To enable multi-turn conversations, LangGraph can persist state through a checkpointing system.\n",
        "   - This means your chatbot can “remember” previous interactions, making it capable of context-aware responses.\n",
        "   - Advanced users can also integrate long-term memory solutions (like Zep) for storing and retrieving facts over many sessions.\n",
        "\n",
        "4. **Human-in-the-loop:**\n",
        "   - For tasks requiring oversight or correction, you can interrupt the graph execution (using functions like `interrupt`) to get human feedback.\n",
        "   - The human input is then used to update the state, ensuring higher reliability.\n",
        "\n",
        "5. **Time Travel:**\n",
        "   - LangGraph’s checkpointing system even allows you to “rewind” to previous states. This is useful for debugging, error recovery, or exploring alternative conversation paths.\n",
        "\n",
        "---\n",
        "\n",
        "### Use Cases\n",
        "\n",
        "- **Chatbots & Virtual Assistants:** Manage complex multi-turn conversations with memory and human oversight.\n",
        "- **Autonomous Agents:** Build agents that can autonomously choose which tool to call based on the task.\n",
        "- **Workflow Automation:** Design systems where multiple agents collaborate to execute complex business processes.\n",
        "\n",
        "---\n",
        "\n",
        "### Why Use LangGraph?\n",
        "\n",
        "- **Flexibility:** Its graph-based design supports complex workflows (including loops and conditional logic) which are hard to implement with simple chains.\n",
        "- **Built-in Persistence:** Automatic state checkpointing allows for context retention across sessions.\n",
        "- **Tool Integration:** Easily extend functionality by incorporating external tools and APIs.\n",
        "- **Human Oversight:** Supports human-in-the-loop workflows, increasing reliability and control over autonomous decisions.\n",
        "\n",
        "---\n",
        "\n"
      ],
      "metadata": {
        "id": "wq6oZN4LTC8l"
      }
    },
    {
      "cell_type": "markdown",
      "source": [
        "\n",
        "\n",
        "# Understanding LangGraph\n",
        "\n",
        "LangGraph is a library built on top of LangChain that helps developers create complex, stateful workflows for language model applications. It's essentially a framework for building stateful multi-agent systems using language models.\n",
        "\n",
        "## Core Concepts of LangGraph\n",
        "\n",
        "### State Machines and Graphs\n",
        "\n",
        "At its heart, LangGraph uses the concept of a directed graph (or state machine) to organize the flow of information in an application. This approach allows you to:\n",
        "\n",
        "1. Define distinct \"states\" your application can be in\n",
        "2. Create explicit transitions between these states\n",
        "3. Maintain memory and context throughout the execution flow\n",
        "\n",
        "This structure is particularly valuable when you need your application to make decisions about what to do next based on previous steps and current conditions.\n",
        "\n",
        "### Components of LangGraph\n",
        "\n",
        "#### 1. Nodes\n",
        "\n",
        "Nodes represent distinct processing steps in your application. Each node is a function that:\n",
        "- Takes the current state as input\n",
        "- Performs some computation (often involving an LLM)\n",
        "- Returns an updated state\n",
        "\n",
        "For example, a node might:\n",
        "- Parse user input\n",
        "- Generate a response with an LLM\n",
        "- Execute a tool or API call\n",
        "- Make a decision about the next step\n",
        "\n",
        "#### 2. Edges\n",
        "\n",
        "Edges define the possible transitions between nodes. They determine which node should execute next based on the current state.\n",
        "\n",
        "#### 3. State\n",
        "\n",
        "The state is a shared memory object that persists throughout the execution of your graph. It allows information to be passed between nodes and maintains the context of the conversation or task.\n",
        "\n",
        "## Why LangGraph is Useful for Beginners\n",
        "\n",
        "### 1. Structured Approach to Complex Applications\n",
        "\n",
        "For beginners, one of the challenges of building LLM applications is managing the complexity of multi-step processes. LangGraph provides a clear structure for breaking down complex tasks into manageable pieces.\n",
        "\n",
        "### 2. Visualization and Debugging\n",
        "\n",
        "LangGraph allows you to visualize your application flow, making it easier to understand how different components interact. This visualization is invaluable for debugging and explaining your application to others.\n",
        "\n",
        "### 3. Reusable Components\n",
        "\n",
        "The modular nature of LangGraph allows beginners to start with simple components and gradually build up complexity. You can reuse components across different applications.\n",
        "\n",
        "## Creating a Simple LangGraph Application\n",
        "\n",
        "Let me show you how to create a basic LangGraph application. I'll walk through the process step by step:\n",
        "\n",
        "```python\n",
        "# Install necessary packages\n",
        "!pip install langchain langchain-core langchain-community langgraph\n",
        "\n",
        "# Import required libraries\n",
        "from langchain_core.prompts import ChatPromptTemplate, MessagesPlaceholder\n",
        "from langchain_openai import ChatOpenAI\n",
        "from langchain_core.messages import HumanMessage, AIMessage\n",
        "from langgraph.graph import StateGraph\n",
        "import operator\n",
        "from typing import TypedDict, List, Literal\n",
        "\n",
        "# Define the state structure\n",
        "class AgentState(TypedDict):\n",
        "    messages: List\n",
        "    next_step: Literal[\"generate\", \"decide\", \"end\"]\n",
        "\n",
        "# Initialize the LLM\n",
        "llm = ChatOpenAI(temperature=0)\n",
        "\n",
        "# Define node functions\n",
        "def generate(state):\n",
        "    # Prompt for generating a response\n",
        "    prompt = ChatPromptTemplate.from_messages([\n",
        "        (\"system\", \"You are a helpful assistant.\"),\n",
        "        MessagesPlaceholder(variable_name=\"messages\")\n",
        "    ])\n",
        "    \n",
        "    # Chain the prompt with the LLM\n",
        "    chain = prompt | llm\n",
        "    \n",
        "    # Generate response\n",
        "    response = chain.invoke({\"messages\": state[\"messages\"]})\n",
        "    \n",
        "    # Update state with the new message\n",
        "    return {\n",
        "        \"messages\": state[\"messages\"] + [AIMessage(content=response.content)],\n",
        "        \"next_step\": \"decide\"\n",
        "    }\n",
        "\n",
        "def decide(state):\n",
        "    # Decide if we need more information or can end the conversation\n",
        "    last_message = state[\"messages\"][-1].content\n",
        "    \n",
        "    if \"need more information\" in last_message.lower():\n",
        "        return {\"next_step\": \"generate\"}\n",
        "    else:\n",
        "        return {\"next_step\": \"end\"}\n",
        "\n",
        "# Build the graph\n",
        "workflow = StateGraph(AgentState)\n",
        "\n",
        "# Add nodes\n",
        "workflow.add_node(\"generate\", generate)\n",
        "workflow.add_node(\"decide\", decide)\n",
        "\n",
        "# Define edges\n",
        "workflow.add_conditional_edges(\n",
        "    \"decide\",\n",
        "    lambda state: state[\"next_step\"],\n",
        "    {\n",
        "        \"generate\": \"generate\",\n",
        "        \"end\": END\n",
        "    }\n",
        ")\n",
        "\n",
        "# Set the entry point\n",
        "workflow.set_entry_point(\"generate\")\n",
        "\n",
        "# Compile the graph\n",
        "app = workflow.compile()\n",
        "\n",
        "# Test the application\n",
        "result = app.invoke({\n",
        "    \"messages\": [HumanMessage(content=\"What is LangGraph?\")],\n",
        "    \"next_step\": \"generate\"\n",
        "})\n",
        "\n",
        "# Print the conversation\n",
        "for message in result[\"messages\"]:\n",
        "    print(f\"{message.type}: {message.content}\\n\")\n",
        "```\n",
        "\n",
        "## Advanced LangGraph Features\n",
        "\n",
        "### 1. Multi-Agent Systems\n",
        "\n",
        "LangGraph excels at creating systems where multiple agents with different roles collaborate:\n",
        "\n",
        "```python\n",
        "# Define agent roles\n",
        "def researcher(state):\n",
        "    # Research relevant information\n",
        "    # ...\n",
        "\n",
        "def planner(state):\n",
        "    # Create a plan based on research\n",
        "    # ...\n",
        "\n",
        "def executor(state):\n",
        "    # Execute the plan\n",
        "    # ...\n",
        "\n",
        "# Connect them in a workflow\n",
        "workflow.add_node(\"researcher\", researcher)\n",
        "workflow.add_node(\"planner\", planner)\n",
        "workflow.add_node(\"executor\", executor)\n",
        "```\n",
        "\n",
        "### 2. Tool Use and External Integrations\n",
        "\n",
        "LangGraph can integrate with external tools and APIs:\n",
        "\n",
        "```python\n",
        "def use_calculator(state):\n",
        "    # Extract math expression from state\n",
        "    expression = extract_math_expression(state[\"messages\"])\n",
        "    \n",
        "    # Calculate result\n",
        "    result = eval(expression)\n",
        "    \n",
        "    # Update state with result\n",
        "    return {\n",
        "        \"messages\": state[\"messages\"] + [AIMessage(content=f\"The result is {result}\")],\n",
        "        \"next_step\": \"decide\"\n",
        "    }\n",
        "\n",
        "# Add tool to graph\n",
        "workflow.add_node(\"calculator\", use_calculator)\n",
        "```\n",
        "\n",
        "### 3. Human-in-the-Loop Processes\n",
        "\n",
        "LangGraph supports workflows where humans provide input at critical decision points:\n",
        "\n",
        "```python\n",
        "def get_human_feedback(state):\n",
        "    # Display current state to human\n",
        "    print(\"Current plan:\", state[\"plan\"])\n",
        "    \n",
        "    # Get feedback\n",
        "    feedback = input(\"Your feedback: \")\n",
        "    \n",
        "    # Update state with feedback\n",
        "    return {\n",
        "        \"messages\": state[\"messages\"] + [HumanMessage(content=feedback)],\n",
        "        \"next_step\": \"revise\"\n",
        "    }\n",
        "```\n",
        "\n",
        "## Real-World Applications of LangGraph\n",
        "\n",
        "1. **Conversational Agents**: Build chatbots that maintain context over long conversations and can switch between different conversation modes.\n",
        "\n",
        "2. **Research Assistants**: Create agents that can break down research tasks, search for information, synthesize findings, and present results.\n",
        "\n",
        "3. **Workflow Automation**: Automate complex business processes that require decision-making and adaptation.\n",
        "\n",
        "4. **Content Creation**: Build systems that plan, draft, edit, and refine content based on specific guidelines.\n"
      ],
      "metadata": {
        "id": "KfJo3aosSdYT"
      }
    }
  ]
}